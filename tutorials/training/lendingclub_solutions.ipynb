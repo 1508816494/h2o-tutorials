{
 "cells": [
  {
   "cell_type": "code",
   "execution_count": null,
   "metadata": {
    "collapsed": true
   },
   "outputs": [],
   "source": [
    "import h2o\n",
    "from h2o.estimators.gbm import H2OGradientBoostingEstimator\n",
    "from h2o.estimators.glm import H2OGeneralizedLinearEstimator"
   ]
  },
  {
   "cell_type": "code",
   "execution_count": null,
   "metadata": {
    "collapsed": false
   },
   "outputs": [],
   "source": [
    "# Initialize instance of H2O\n",
    "h2o.init()\n",
    "h2o.remove_all()"
   ]
  },
  {
   "cell_type": "code",
   "execution_count": null,
   "metadata": {
    "collapsed": true
   },
   "outputs": [],
   "source": [
    "# Set filepath \n",
    "# path = \"/Users/avniwadhwa/github/h2o-3/bigdata/laptop/lending-club/LoanStats3a.csv\"\n",
    "path = \"http://h2o-public-test-data.s3.amazonaws.com/bigdata/laptop/lending-club/LoanStats3a.csv\""
   ]
  },
  {
   "cell_type": "code",
   "execution_count": null,
   "metadata": {
    "collapsed": true
   },
   "outputs": [],
   "source": [
    "# Specify some column types to \"String\" that we want to munge later.\n",
    "types = {\"int_rate\":\"String\", \"revol_util\":\"String\", \"emp_length\":\"String\", \n",
    "         \"earliest_cr_line\":\"String\", \"issue_d\":\"String\", \"last_credit_pull_d\":\"Factor\", \"verification_status\":\"String\"}"
   ]
  },
  {
   "cell_type": "code",
   "execution_count": null,
   "metadata": {
    "collapsed": false
   },
   "outputs": [],
   "source": [
    "# Import the file and look at the frame.\n",
    "data = h2o.import_file(path=path, col_types= types)\n",
    "data.describe()"
   ]
  },
  {
   "cell_type": "code",
   "execution_count": null,
   "metadata": {
    "collapsed": false
   },
   "outputs": [],
   "source": [
    "# Drop all loans that are still in progess and are therefore cannot be deemed good/bad loans.\n",
    "data = data[~data[\"loan_status\"].isin([\"Current\", \"In Grace Period\", \"Late (16-30 days)\", \"Late (31-120 days)\"]), :]"
   ]
  },
  {
   "cell_type": "code",
   "execution_count": null,
   "metadata": {
    "collapsed": false
   },
   "outputs": [],
   "source": [
    "data.show()"
   ]
  },
  {
   "cell_type": "code",
   "execution_count": null,
   "metadata": {
    "collapsed": true
   },
   "outputs": [],
   "source": [
    "# Define what labels qualify a loan as \"bad\"\n",
    "data[\"bad_loan\"] = data[\"loan_status\"].isin([\"Charged Off\", \"Default\", \n",
    "                                                  \"Does not meet the credit policy.  Status:Charged Off\"])\n",
    "data [\"bad_loan\"] = data[\"bad_loan\"].asfactor()"
   ]
  },
  {
   "cell_type": "code",
   "execution_count": null,
   "metadata": {
    "collapsed": false
   },
   "outputs": [],
   "source": [
    "# munge int_rate column in place\n",
    "# strip %, trim ws, convert to double\n",
    "data [\"int_rate\"] = data[\"int_rate\"].gsub(pattern = \"%\", replacement = \"\") # strip %\n",
    "data [ \"int_rate\"] = data[\"int_rate\"].trim() # trim ws\n",
    "data [\"int_rate\"] = data[\"int_rate\"].asnumeric() #change to a numeric \n",
    "data[\"int_rate\"].show()"
   ]
  },
  {
   "cell_type": "code",
   "execution_count": null,
   "metadata": {
    "collapsed": false
   },
   "outputs": [],
   "source": [
    "# munge revol_util column in place\n",
    "# strip %, trim ws, convert to double\n",
    "data[\"revol_util\"] = data[\"revol_util\"].gsub(pattern = \"%\", replacement = \"\")\n",
    "data[\"revol_util\"] = data[\"revol_util\"].trim() \n",
    "data[\"revol_util\"] = data[\"revol_util\"].asnumeric() \n",
    "data[\"revol_util\"].show()"
   ]
  },
  {
   "cell_type": "code",
   "execution_count": null,
   "metadata": {
    "collapsed": true
   },
   "outputs": [],
   "source": [
    "# Munge emp_length column\n",
    "data [\"emp_length\"] = data[\"emp_length\"].gsub(pattern = \"([ ]*+[a-zA-Z].*)|(n/a)\", \n",
    "                                              replacement = \"\") #remove \"year\" and \"years\", also translate n/a to \"\"\n",
    "data [\"emp_length\"] = data[\"emp_length\"].trim()"
   ]
  },
  {
   "cell_type": "code",
   "execution_count": null,
   "metadata": {
    "collapsed": false
   },
   "outputs": [],
   "source": [
    "data [\"emp_length\"] = data[\"emp_length\"].gsub(pattern = \"< 1\", replacement = \"0.5\")\n",
    "data [\"emp_length\"] = data[\"emp_length\"].gsub(pattern = \"10\\\\+\", replacement = \"10\")\n",
    "data [\"emp_length\"] = data[\"emp_length\"].asnumeric()\n",
    "data[\"emp_length\"].show()"
   ]
  },
  {
   "cell_type": "code",
   "execution_count": null,
   "metadata": {
    "collapsed": true
   },
   "outputs": [],
   "source": [
    "data[\"earliest_cr_month\"] = data[\"earliest_cr_line\"].strsplit(pattern = \"-\")[0]\n",
    "data[\"earliest_cr_year\"] = data[\"earliest_cr_line\"].strsplit(pattern = \"-\")[1]\n",
    "data[\"earliest_cr_year\"] = data[\"earliest_cr_line\"].asnumeric()"
   ]
  },
  {
   "cell_type": "code",
   "execution_count": null,
   "metadata": {
    "collapsed": false
   },
   "outputs": [],
   "source": [
    "data[\"earliest_cr_year\"] = data[\"earliest_cr_line\"].strsplit(pattern = \"-\")[1].asnumeric()\n",
    "data[\"earliest_cr_year\"].show()"
   ]
  },
  {
   "cell_type": "code",
   "execution_count": null,
   "metadata": {
    "collapsed": false
   },
   "outputs": [],
   "source": [
    "data[\"issue_d_month\"] = data[\"issue_d\"].strsplit(pattern = \"-\")[0]\n",
    "data[\"issue_d_year\"] = data[\"issue_d\"].strsplit(pattern = \"-\")[1]\n",
    "data[\"issue_d_year\"] = data[\"issue_d_year\"].asnumeric()\n",
    "data[\"issue_d_year\"].show()"
   ]
  },
  {
   "cell_type": "code",
   "execution_count": null,
   "metadata": {
    "collapsed": false
   },
   "outputs": [],
   "source": [
    "data[\"credit_length\"] = data[\"issue_d_year\"] - data[\"earliest_cr_year\"]\n",
    "data[\"credit_length\"].show()"
   ]
  },
  {
   "cell_type": "code",
   "execution_count": null,
   "metadata": {
    "collapsed": false,
    "scrolled": true
   },
   "outputs": [],
   "source": [
    "data [\"verification_status\"] = data[\"verification_status\"].sub(pattern = \"VERIFIED - income source\", \n",
    "                                                               replacement = \"verified\")\n",
    "data [\"verification_status\"] = data[\"verification_status\"].sub(pattern = \"VERIFIED - income\", \n",
    "                                                               replacement = \"verified\")\n",
    "data [\"verification_status\"] = data[\"verification_status\"].asfactor()"
   ]
  },
  {
   "cell_type": "code",
   "execution_count": null,
   "metadata": {
    "collapsed": true
   },
   "outputs": [],
   "source": [
    "s = data[\"int_rate\"].runif()\n",
    "train = data[s <= 0.80]\n",
    "test  = data[s > 0.80]"
   ]
  },
  {
   "cell_type": "code",
   "execution_count": null,
   "metadata": {
    "collapsed": true
   },
   "outputs": [],
   "source": [
    "y=\"bad_loan\"\n",
    "x=[\"loan_amnt\", \"credit_length\", \"revol_util\", \n",
    "     \"home_ownership\", \"annual_inc\", \"purpose\", \"addr_state\", \"dti\",\n",
    "     \"delinq_2yrs\", \"total_acc\", \"verification_status\", \"term\"]"
   ]
  },
  {
   "cell_type": "code",
   "execution_count": null,
   "metadata": {
    "collapsed": true
   },
   "outputs": [],
   "source": [
    "from h2o.estimators.gbm import H2OGradientBoostingEstimator\n",
    "model = H2OGradientBoostingEstimator(model_id=\"BadLoanModel\",\n",
    "                                       score_each_iteration=True,\n",
    "                                       ntrees=10,\n",
    "                                       learn_rate=0.05)"
   ]
  },
  {
   "cell_type": "code",
   "execution_count": null,
   "metadata": {
    "collapsed": false
   },
   "outputs": [],
   "source": [
    "model.train(x=x, y=y, training_frame=train, validation_frame=test)"
   ]
  },
  {
   "cell_type": "code",
   "execution_count": null,
   "metadata": {
    "collapsed": false,
    "scrolled": false
   },
   "outputs": [],
   "source": [
    "model"
   ]
  }
 ],
 "metadata": {
  "kernelspec": {
   "display_name": "Python 2",
   "language": "python",
   "name": "python2"
  },
  "language_info": {
   "codemirror_mode": {
    "name": "ipython",
    "version": 2
   },
   "file_extension": ".py",
   "mimetype": "text/x-python",
   "name": "python",
   "nbconvert_exporter": "python",
   "pygments_lexer": "ipython2",
   "version": "2.7.10"
  }
 },
 "nbformat": 4,
 "nbformat_minor": 0
}
