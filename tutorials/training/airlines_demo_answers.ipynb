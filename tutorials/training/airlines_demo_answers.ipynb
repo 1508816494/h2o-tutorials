{
 "cells": [
  {
   "cell_type": "code",
   "execution_count": 6,
   "metadata": {
    "collapsed": false
   },
   "outputs": [],
   "source": [
    "#Import the appropriate libraries \n",
    "%matplotlib inline\n",
    "\n",
    "import h2o\n",
    "import pandas\n",
    "import pprint\n",
    "import operator\n",
    "import matplotlib\n",
    "from h2o.estimators.glm import H2OGeneralizedLinearEstimator\n",
    "from h2o.estimators.gbm import H2OGradientBoostingEstimator\n",
    "from h2o.estimators.random_forest import H2ORandomForestEstimator\n",
    "from h2o.estimators.deeplearning import H2ODeepLearningEstimator\n",
    "from tabulate import tabulate"
   ]
  },
  {
   "cell_type": "code",
   "execution_count": 7,
   "metadata": {
    "collapsed": false
   },
   "outputs": [
    {
     "name": "stdout",
     "output_type": "stream",
     "text": [
      "Checking whether there is an H2O instance running at http://localhost:54321..... not found.\n",
      "Attempting to start a local H2O server...\n",
      "  Java Version: java version \"1.8.0_51\"; Java(TM) SE Runtime Environment (build 1.8.0_51-b16); Java HotSpot(TM) 64-Bit Server VM (build 25.51-b03, mixed mode)\n",
      "  Starting server from /Users/avniwadhwa/anaconda/h2o_jar/h2o.jar\n",
      "  Ice root: /var/folders/64/4y6zt2l16v14j3mkwnd3cd580000gn/T/tmpbA_9F8\n",
      "  JVM stdout: /var/folders/64/4y6zt2l16v14j3mkwnd3cd580000gn/T/tmpbA_9F8/h2o_avniwadhwa_started_from_python.out\n",
      "  JVM stderr: /var/folders/64/4y6zt2l16v14j3mkwnd3cd580000gn/T/tmpbA_9F8/h2o_avniwadhwa_started_from_python.err\n",
      "  Server is running at http://127.0.0.1:54321\n",
      "Connecting to H2O server at http://127.0.0.1:54321... successful.\n"
     ]
    },
    {
     "data": {
      "text/html": [
       "<div style=\"overflow:auto\"><table style=\"width:50%\"><tr><td>H2O cluster uptime:</td>\n",
       "<td>02 secs</td></tr>\n",
       "<tr><td>H2O cluster version:</td>\n",
       "<td>3.10.0.8</td></tr>\n",
       "<tr><td>H2O cluster version age:</td>\n",
       "<td>1 month and 28 days </td></tr>\n",
       "<tr><td>H2O cluster name:</td>\n",
       "<td>H2O_from_python_avniwadhwa_lwcddv</td></tr>\n",
       "<tr><td>H2O cluster total nodes:</td>\n",
       "<td>1</td></tr>\n",
       "<tr><td>H2O cluster free memory:</td>\n",
       "<td>3.556 Gb</td></tr>\n",
       "<tr><td>H2O cluster total cores:</td>\n",
       "<td>8</td></tr>\n",
       "<tr><td>H2O cluster allowed cores:</td>\n",
       "<td>8</td></tr>\n",
       "<tr><td>H2O cluster status:</td>\n",
       "<td>accepting new members, healthy</td></tr>\n",
       "<tr><td>H2O connection url:</td>\n",
       "<td>http://127.0.0.1:54321</td></tr>\n",
       "<tr><td>H2O connection proxy:</td>\n",
       "<td>None</td></tr>\n",
       "<tr><td>Python version:</td>\n",
       "<td>2.7.12 final</td></tr></table></div>"
      ],
      "text/plain": [
       "--------------------------  ---------------------------------\n",
       "H2O cluster uptime:         02 secs\n",
       "H2O cluster version:        3.10.0.8\n",
       "H2O cluster version age:    1 month and 28 days\n",
       "H2O cluster name:           H2O_from_python_avniwadhwa_lwcddv\n",
       "H2O cluster total nodes:    1\n",
       "H2O cluster free memory:    3.556 Gb\n",
       "H2O cluster total cores:    8\n",
       "H2O cluster allowed cores:  8\n",
       "H2O cluster status:         accepting new members, healthy\n",
       "H2O connection url:         http://127.0.0.1:54321\n",
       "H2O connection proxy:\n",
       "Python version:             2.7.12 final\n",
       "--------------------------  ---------------------------------"
      ]
     },
     "metadata": {},
     "output_type": "display_data"
    }
   ],
   "source": [
    "# Task 1: Connect to a cluster\n",
    "h2o.init(strict_version_check=False)"
   ]
  },
  {
   "cell_type": "code",
   "execution_count": 8,
   "metadata": {
    "collapsed": true
   },
   "outputs": [],
   "source": [
    "# set this to True if interactive (matplotlib) plots are desired\n",
    "interactive = True\n",
    "if not interactive: matplotlib.use('Agg', warn=False)\n",
    "import matplotlib.pyplot as plt"
   ]
  },
  {
   "cell_type": "code",
   "execution_count": 9,
   "metadata": {
    "collapsed": false
   },
   "outputs": [
    {
     "name": "stdout",
     "output_type": "stream",
     "text": [
      "Import and Parse airlines data\n",
      "Parse progress: |█████████████████████████████████████████████████████████████████████████████| 100%\n",
      "Rows:43978\n",
      "Cols:31\n",
      "\n",
      "\n"
     ]
    },
    {
     "data": {
      "text/html": [
       "<table>\n",
       "<tr><th>       </th><th>Year         </th><th>Month        </th><th>DayofMonth   </th><th>DayOfWeek    </th><th>DepTime      </th><th>CRSDepTime   </th><th>ArrTime      </th><th>CRSArrTime   </th><th>UniqueCarrier  </th><th>FlightNum    </th><th>TailNum  </th><th>ActualElapsedTime  </th><th>CRSElapsedTime  </th><th>AirTime      </th><th>ArrDelay     </th><th>DepDelay     </th><th>Origin  </th><th>Dest  </th><th>Distance     </th><th>TaxiIn       </th><th>TaxiOut      </th><th>Cancelled      </th><th>CancellationCode  </th><th>Diverted        </th><th>CarrierDelay  </th><th>WeatherDelay  </th><th>NASDelay     </th><th>SecurityDelay  </th><th>LateAircraftDelay  </th><th>IsArrDelayed  </th><th>IsDepDelayed  </th></tr>\n",
       "<tr><td>type   </td><td>int          </td><td>int          </td><td>int          </td><td>int          </td><td>int          </td><td>int          </td><td>int          </td><td>int          </td><td>enum           </td><td>int          </td><td>enum     </td><td>int                </td><td>int             </td><td>int          </td><td>int          </td><td>int          </td><td>enum    </td><td>enum  </td><td>int          </td><td>int          </td><td>int          </td><td>int            </td><td>enum              </td><td>int             </td><td>int           </td><td>int           </td><td>int          </td><td>int            </td><td>int                </td><td>enum          </td><td>enum          </td></tr>\n",
       "<tr><td>mins   </td><td>1987.0       </td><td>1.0          </td><td>1.0          </td><td>1.0          </td><td>1.0          </td><td>0.0          </td><td>1.0          </td><td>0.0          </td><td>0.0            </td><td>1.0          </td><td>0.0      </td><td>16.0               </td><td>17.0            </td><td>14.0         </td><td>-63.0        </td><td>-16.0        </td><td>0.0     </td><td>0.0   </td><td>11.0         </td><td>0.0          </td><td>0.0          </td><td>0.0            </td><td>0.0               </td><td>0.0             </td><td>0.0           </td><td>0.0           </td><td>0.0          </td><td>0.0            </td><td>0.0                </td><td>0.0           </td><td>0.0           </td></tr>\n",
       "<tr><td>mean   </td><td>1997.5       </td><td>1.40909090909</td><td>14.6010732639</td><td>3.82061485288</td><td>1345.84666138</td><td>1313.22286143</td><td>1504.63413038</td><td>1485.28916731</td><td>NaN            </td><td>818.842989677</td><td>NaN      </td><td>124.814529135      </td><td>125.021562607   </td><td>114.316111091</td><td>9.31711193698</td><td>10.0073906556</td><td>NaN     </td><td>NaN   </td><td>730.182190565</td><td>5.38136805953</td><td>14.1686341847</td><td>0.0246941652645</td><td>NaN               </td><td>0.00247851198326</td><td>4.04780029106 </td><td>0.289376469271</td><td>4.85503190418</td><td>0.0170155602821</td><td>7.62006045002      </td><td>0.555755150302</td><td>0.525057983537</td></tr>\n",
       "<tr><td>maxs   </td><td>2008.0       </td><td>10.0         </td><td>31.0         </td><td>7.0          </td><td>2400.0       </td><td>2359.0       </td><td>2400.0       </td><td>2359.0       </td><td>9.0            </td><td>3949.0       </td><td>3500.0   </td><td>475.0              </td><td>437.0           </td><td>402.0        </td><td>475.0        </td><td>473.0        </td><td>131.0   </td><td>133.0 </td><td>3365.0       </td><td>128.0        </td><td>254.0        </td><td>1.0            </td><td>3.0               </td><td>1.0             </td><td>369.0         </td><td>201.0         </td><td>323.0        </td><td>14.0           </td><td>373.0              </td><td>1.0           </td><td>1.0           </td></tr>\n",
       "<tr><td>sigma  </td><td>6.34436090171</td><td>1.87471137134</td><td>9.17579042586</td><td>1.90501311913</td><td>465.340899124</td><td>476.251139993</td><td>484.347487904</td><td>492.750434123</td><td>NaN            </td><td>777.404369164</td><td>NaN      </td><td>73.9744416606      </td><td>73.40159463     </td><td>69.6363295151</td><td>29.8402219624</td><td>26.4388090429</td><td>NaN     </td><td>NaN   </td><td>578.43800823 </td><td>4.20197993986</td><td>9.9050857472 </td><td>0.155193141358 </td><td>NaN               </td><td>0.0497234872189 </td><td>16.2057299045 </td><td>4.41677989873 </td><td>18.6197762215</td><td>0.403940182102 </td><td>23.4875658741      </td><td>0.496887288343</td><td>0.499377380318</td></tr>\n",
       "<tr><td>zeros  </td><td>0            </td><td>0            </td><td>0            </td><td>0            </td><td>0            </td><td>569          </td><td>0            </td><td>569          </td><td>724            </td><td>0            </td><td>2        </td><td>0                  </td><td>0               </td><td>0            </td><td>1514         </td><td>6393         </td><td>59      </td><td>172   </td><td>0            </td><td>623          </td><td>557          </td><td>42892          </td><td>81                </td><td>43869           </td><td>7344          </td><td>8840          </td><td>7388         </td><td>8914           </td><td>7140               </td><td>19537         </td><td>20887         </td></tr>\n",
       "<tr><td>missing</td><td>0            </td><td>0            </td><td>0            </td><td>0            </td><td>1086         </td><td>0            </td><td>1195         </td><td>0            </td><td>0              </td><td>0            </td><td>32       </td><td>1195               </td><td>13              </td><td>16649        </td><td>1195         </td><td>1086         </td><td>0       </td><td>0     </td><td>35           </td><td>16026        </td><td>16024        </td><td>0              </td><td>9774              </td><td>0               </td><td>35045         </td><td>35045         </td><td>35045        </td><td>35045          </td><td>35045              </td><td>0             </td><td>0             </td></tr>\n",
       "<tr><td>0      </td><td>1987.0       </td><td>10.0         </td><td>14.0         </td><td>3.0          </td><td>741.0        </td><td>730.0        </td><td>912.0        </td><td>849.0        </td><td>PS             </td><td>1451.0       </td><td>NA       </td><td>91.0               </td><td>79.0            </td><td>nan          </td><td>23.0         </td><td>11.0         </td><td>SAN     </td><td>SFO   </td><td>447.0        </td><td>nan          </td><td>nan          </td><td>0.0            </td><td>NA                </td><td>0.0             </td><td>nan           </td><td>nan           </td><td>nan          </td><td>nan            </td><td>nan                </td><td>YES           </td><td>YES           </td></tr>\n",
       "<tr><td>1      </td><td>1987.0       </td><td>10.0         </td><td>15.0         </td><td>4.0          </td><td>729.0        </td><td>730.0        </td><td>903.0        </td><td>849.0        </td><td>PS             </td><td>1451.0       </td><td>NA       </td><td>94.0               </td><td>79.0            </td><td>nan          </td><td>14.0         </td><td>-1.0         </td><td>SAN     </td><td>SFO   </td><td>447.0        </td><td>nan          </td><td>nan          </td><td>0.0            </td><td>NA                </td><td>0.0             </td><td>nan           </td><td>nan           </td><td>nan          </td><td>nan            </td><td>nan                </td><td>YES           </td><td>NO            </td></tr>\n",
       "<tr><td>2      </td><td>1987.0       </td><td>10.0         </td><td>17.0         </td><td>6.0          </td><td>741.0        </td><td>730.0        </td><td>918.0        </td><td>849.0        </td><td>PS             </td><td>1451.0       </td><td>NA       </td><td>97.0               </td><td>79.0            </td><td>nan          </td><td>29.0         </td><td>11.0         </td><td>SAN     </td><td>SFO   </td><td>447.0        </td><td>nan          </td><td>nan          </td><td>0.0            </td><td>NA                </td><td>0.0             </td><td>nan           </td><td>nan           </td><td>nan          </td><td>nan            </td><td>nan                </td><td>YES           </td><td>YES           </td></tr>\n",
       "<tr><td>3      </td><td>1987.0       </td><td>10.0         </td><td>18.0         </td><td>7.0          </td><td>729.0        </td><td>730.0        </td><td>847.0        </td><td>849.0        </td><td>PS             </td><td>1451.0       </td><td>NA       </td><td>78.0               </td><td>79.0            </td><td>nan          </td><td>-2.0         </td><td>-1.0         </td><td>SAN     </td><td>SFO   </td><td>447.0        </td><td>nan          </td><td>nan          </td><td>0.0            </td><td>NA                </td><td>0.0             </td><td>nan           </td><td>nan           </td><td>nan          </td><td>nan            </td><td>nan                </td><td>NO            </td><td>NO            </td></tr>\n",
       "<tr><td>4      </td><td>1987.0       </td><td>10.0         </td><td>19.0         </td><td>1.0          </td><td>749.0        </td><td>730.0        </td><td>922.0        </td><td>849.0        </td><td>PS             </td><td>1451.0       </td><td>NA       </td><td>93.0               </td><td>79.0            </td><td>nan          </td><td>33.0         </td><td>19.0         </td><td>SAN     </td><td>SFO   </td><td>447.0        </td><td>nan          </td><td>nan          </td><td>0.0            </td><td>NA                </td><td>0.0             </td><td>nan           </td><td>nan           </td><td>nan          </td><td>nan            </td><td>nan                </td><td>YES           </td><td>YES           </td></tr>\n",
       "<tr><td>5      </td><td>1987.0       </td><td>10.0         </td><td>21.0         </td><td>3.0          </td><td>728.0        </td><td>730.0        </td><td>848.0        </td><td>849.0        </td><td>PS             </td><td>1451.0       </td><td>NA       </td><td>80.0               </td><td>79.0            </td><td>nan          </td><td>-1.0         </td><td>-2.0         </td><td>SAN     </td><td>SFO   </td><td>447.0        </td><td>nan          </td><td>nan          </td><td>0.0            </td><td>NA                </td><td>0.0             </td><td>nan           </td><td>nan           </td><td>nan          </td><td>nan            </td><td>nan                </td><td>NO            </td><td>NO            </td></tr>\n",
       "<tr><td>6      </td><td>1987.0       </td><td>10.0         </td><td>22.0         </td><td>4.0          </td><td>728.0        </td><td>730.0        </td><td>852.0        </td><td>849.0        </td><td>PS             </td><td>1451.0       </td><td>NA       </td><td>84.0               </td><td>79.0            </td><td>nan          </td><td>3.0          </td><td>-2.0         </td><td>SAN     </td><td>SFO   </td><td>447.0        </td><td>nan          </td><td>nan          </td><td>0.0            </td><td>NA                </td><td>0.0             </td><td>nan           </td><td>nan           </td><td>nan          </td><td>nan            </td><td>nan                </td><td>YES           </td><td>NO            </td></tr>\n",
       "<tr><td>7      </td><td>1987.0       </td><td>10.0         </td><td>23.0         </td><td>5.0          </td><td>731.0        </td><td>730.0        </td><td>902.0        </td><td>849.0        </td><td>PS             </td><td>1451.0       </td><td>NA       </td><td>91.0               </td><td>79.0            </td><td>nan          </td><td>13.0         </td><td>1.0          </td><td>SAN     </td><td>SFO   </td><td>447.0        </td><td>nan          </td><td>nan          </td><td>0.0            </td><td>NA                </td><td>0.0             </td><td>nan           </td><td>nan           </td><td>nan          </td><td>nan            </td><td>nan                </td><td>YES           </td><td>YES           </td></tr>\n",
       "<tr><td>8      </td><td>1987.0       </td><td>10.0         </td><td>24.0         </td><td>6.0          </td><td>744.0        </td><td>730.0        </td><td>908.0        </td><td>849.0        </td><td>PS             </td><td>1451.0       </td><td>NA       </td><td>84.0               </td><td>79.0            </td><td>nan          </td><td>19.0         </td><td>14.0         </td><td>SAN     </td><td>SFO   </td><td>447.0        </td><td>nan          </td><td>nan          </td><td>0.0            </td><td>NA                </td><td>0.0             </td><td>nan           </td><td>nan           </td><td>nan          </td><td>nan            </td><td>nan                </td><td>YES           </td><td>YES           </td></tr>\n",
       "<tr><td>9      </td><td>1987.0       </td><td>10.0         </td><td>25.0         </td><td>7.0          </td><td>729.0        </td><td>730.0        </td><td>851.0        </td><td>849.0        </td><td>PS             </td><td>1451.0       </td><td>NA       </td><td>82.0               </td><td>79.0            </td><td>nan          </td><td>2.0          </td><td>-1.0         </td><td>SAN     </td><td>SFO   </td><td>447.0        </td><td>nan          </td><td>nan          </td><td>0.0            </td><td>NA                </td><td>0.0             </td><td>nan           </td><td>nan           </td><td>nan          </td><td>nan            </td><td>nan                </td><td>YES           </td><td>NO            </td></tr>\n",
       "</table>"
      ]
     },
     "metadata": {},
     "output_type": "display_data"
    }
   ],
   "source": [
    "# Task 2: Load data - 1 row per flight.  Has columns showing the origin,\n",
    "# destination, departure and arrival time, carrier information, and\n",
    "# whether the flight was delayed.\n",
    "print(\"Import and Parse airlines data\")\n",
    "data = h2o.import_file(path='https://s3.amazonaws.com/h2o-airlines-unpacked/allyears2k.csv')\n",
    "data.describe()"
   ]
  },
  {
   "cell_type": "code",
   "execution_count": 10,
   "metadata": {
    "collapsed": false
   },
   "outputs": [],
   "source": [
    "# ----------\n",
    "\n",
    "# 2- Data exploration and munging. Generate scatter plots \n",
    "# of various columns and plot fitted GLM model.\n",
    "\n",
    "# Function to fit a GLM model and plot the fitted (x,y) values\n",
    "def scatter_plot(data, x, y, max_points = 1000, fit = True):\n",
    "    if(fit):\n",
    "        lr = H2OGeneralizedLinearEstimator(family = \"gaussian\")\n",
    "        lr.train(x=x, y=y, training_frame=data)\n",
    "        coeff = lr.coef()\n",
    "    df = data[[x,y]]\n",
    "    runif = df[y].runif()\n",
    "    df_subset = df[runif < float(max_points)/data.nrow]\n",
    "    df_py = h2o.as_list(df_subset)\n",
    "    \n",
    "    if(fit): h2o.remove(lr._id)\n",
    "\n",
    "    # If x variable is string, generate box-and-whisker plot\n",
    "    if(df_py[x].dtype == \"object\"):\n",
    "        if interactive: df_py.boxplot(column = y, by = x)\n",
    "    # Otherwise, generate a scatter plot\n",
    "    else:\n",
    "        if interactive: df_py.plot(x = x, y = y, kind = \"scatter\")\n",
    "    \n",
    "    if(fit):\n",
    "        x_min = min(df_py[x])\n",
    "        x_max = max(df_py[x])\n",
    "        y_min = coeff[\"Intercept\"] + coeff[x]*x_min\n",
    "        y_max = coeff[\"Intercept\"] + coeff[x]*x_max\n",
    "        plt.plot([x_min, x_max], [y_min, y_max], \"k-\")\n",
    "    if interactive: plt.show()\n"
   ]
  },
  {
   "cell_type": "code",
   "execution_count": 11,
   "metadata": {
    "collapsed": false
   },
   "outputs": [
    {
     "name": "stdout",
     "output_type": "stream",
     "text": [
      "glm Model Build progress: |███████████████████████████████████████████████████████████████████| 100%\n"
     ]
    },
    {
     "data": {
      "image/png": "[encoded data removed]",
      "text/plain": [
       "<matplotlib.figure.Figure at 0x1170dc250>"
      ]
     },
     "metadata": {},
     "output_type": "display_data"
    },
    {
     "data": {
      "image/png": "[encoded data removed]",
      "text/plain": [
       "<matplotlib.figure.Figure at 0x11721ea10>"
      ]
     },
     "metadata": {},
     "output_type": "display_data"
    }
   ],
   "source": [
    "# Task 3: Generate scatterplots for \"Distance\" and \"Airtime\" and one for \"Unique Carrier\" and the \"ArrDelay\" \n",
    "scatter_plot(data, \"Distance\", \"AirTime\", fit = True)\n",
    "scatter_plot(data, \"UniqueCarrier\", \"ArrDelay\", max_points = 5000, fit = False)"
   ]
  },
  {
   "cell_type": "code",
   "execution_count": 12,
   "metadata": {
    "collapsed": false
   },
   "outputs": [
    {
     "data": {
      "text/html": [
       "<table>\n",
       "<tr><th style=\"text-align: right;\">  Month</th><th style=\"text-align: right;\">  sum_Cancelled</th><th style=\"text-align: right;\">  nrow_Year</th></tr>\n",
       "<tr><td style=\"text-align: right;\">      1</td><td style=\"text-align: right;\">           1067</td><td style=\"text-align: right;\">      41979</td></tr>\n",
       "<tr><td style=\"text-align: right;\">     10</td><td style=\"text-align: right;\">             19</td><td style=\"text-align: right;\">       1999</td></tr>\n",
       "</table>"
      ]
     },
     "metadata": {},
     "output_type": "display_data"
    },
    {
     "name": "stdout",
     "output_type": "stream",
     "text": [
      "Rows:2\n",
      "Cols:3\n",
      "\n",
      "\n"
     ]
    },
    {
     "data": {
      "text/html": [
       "<table>\n",
       "<tr><th>       </th><th>Month        </th><th>sum_Cancelled  </th><th>nrow_Year    </th></tr>\n",
       "<tr><td>type   </td><td>int          </td><td>int            </td><td>int          </td></tr>\n",
       "<tr><td>mins   </td><td>1.0          </td><td>19.0           </td><td>1999.0       </td></tr>\n",
       "<tr><td>mean   </td><td>5.5          </td><td>543.0          </td><td>21989.0      </td></tr>\n",
       "<tr><td>maxs   </td><td>10.0         </td><td>1067.0         </td><td>41979.0      </td></tr>\n",
       "<tr><td>sigma  </td><td>6.36396103068</td><td>741.047906684  </td><td>28270.1291118</td></tr>\n",
       "<tr><td>zeros  </td><td>0            </td><td>0              </td><td>0            </td></tr>\n",
       "<tr><td>missing</td><td>0            </td><td>0              </td><td>0            </td></tr>\n",
       "<tr><td>0      </td><td>1.0          </td><td>1067.0         </td><td>41979.0      </td></tr>\n",
       "<tr><td>1      </td><td>10.0         </td><td>19.0           </td><td>1999.0       </td></tr>\n",
       "</table>"
      ]
     },
     "metadata": {},
     "output_type": "display_data"
    },
    {
     "data": {
      "text/plain": [
       "[2, 3]"
      ]
     },
     "execution_count": 12,
     "metadata": {},
     "output_type": "execute_result"
    }
   ],
   "source": [
    "# Task 4: Use the .group_by function to group flights by month \n",
    "grouped = data.group_by(\"Month\")\n",
    "bpd = grouped.count().sum(\"Cancelled\").frame\n",
    "bpd.show()\n",
    "bpd.describe()\n",
    "bpd.dim\n"
   ]
  },
  {
   "cell_type": "code",
   "execution_count": 13,
   "metadata": {
    "collapsed": true
   },
   "outputs": [],
   "source": [
    "# Task 5: Convert the \"Year,\" \"Month,\" \"DayOfWeek,\" \"Cancelled\" columns to factors\n",
    "data[\"Year\"]      = data[\"Year\"]     .asfactor()\n",
    "data[\"Month\"]     = data[\"Month\"]    .asfactor()\n",
    "data[\"DayOfWeek\"] = data[\"DayOfWeek\"].asfactor()\n",
    "data[\"Cancelled\"] = data[\"Cancelled\"].asfactor()"
   ]
  },
  {
   "cell_type": "code",
   "execution_count": 14,
   "metadata": {
    "collapsed": false
   },
   "outputs": [
    {
     "name": "stdout",
     "output_type": "stream",
     "text": [
      "Parse progress: |█████████████████████████████████████████████████████████████████████████████| 100%\n",
      "glm Model Build progress: |███████████████████████████████████████████████████████████████████| 100%\n"
     ]
    },
    {
     "data": {
      "image/png": "[encoded data removed]",
      "text/plain": [
       "<matplotlib.figure.Figure at 0x11ba1ead0>"
      ]
     },
     "metadata": {},
     "output_type": "display_data"
    }
   ],
   "source": [
    "# Calculate and plot travel time\n",
    "hour1 = data[\"CRSArrTime\"] / 100\n",
    "mins1 = data[\"CRSArrTime\"] % 100\n",
    "arrTime = hour1*60 + mins1\n",
    "\n",
    "hour2 = data[\"CRSDepTime\"] / 100\n",
    "mins2 = data[\"CRSDepTime\"] % 100\n",
    "depTime = hour2*60 + mins2\n",
    "\n",
    "\n",
    "data[\"TravelTime\"] = (arrTime-depTime > 0).ifelse((arrTime-depTime), h2o.H2OFrame([[None]] * data.nrow))\n",
    "scatter_plot(data, \"Distance\", \"TravelTime\")"
   ]
  },
  {
   "cell_type": "code",
   "execution_count": 15,
   "metadata": {
    "collapsed": false
   },
   "outputs": [
    {
     "name": "stdout",
     "output_type": "stream",
     "text": [
      "glm Model Build progress: |███████████████████████████████████████████████████████████████████| 100%\n"
     ]
    },
    {
     "data": {
      "image/png": "[encoded data removed]",
      "text/plain": [
       "<matplotlib.figure.Figure at 0x11bb49b10>"
      ]
     },
     "metadata": {},
     "output_type": "display_data"
    }
   ],
   "source": [
    "# Task 6: Impute missing travel times by the \"Origin\" and \"Dest\" columns and re-plot. \n",
    "data.impute(column = \"Distance\", by = [\"Origin\", \"Dest\"])\n",
    "scatter_plot(data, \"Distance\", \"TravelTime\")"
   ]
  },
  {
   "cell_type": "code",
   "execution_count": 16,
   "metadata": {
    "collapsed": true
   },
   "outputs": [],
   "source": [
    "# Task 7: Create a test/train split\n",
    "s = data[\"Year\"].runif()\n",
    "train = data[s <= 0.75]\n",
    "test  = data[s > 0.75]"
   ]
  },
  {
   "cell_type": "code",
   "execution_count": 17,
   "metadata": {
    "collapsed": true
   },
   "outputs": [],
   "source": [
    "# Task 8: Set response variable and your choice of predictor variables\n",
    "myY = \"IsDepDelayed\"\n",
    "myX = [\"Origin\", \"Dest\", \"Year\", \"UniqueCarrier\", \"DayOfWeek\", \"Month\", \"Distance\", \"FlightNum\"]"
   ]
  },
  {
   "cell_type": "code",
   "execution_count": 18,
   "metadata": {
    "collapsed": false
   },
   "outputs": [
    {
     "name": "stdout",
     "output_type": "stream",
     "text": [
      "glm Model Build progress: |███████████████████████████████████████████████████████████████████| 100%\n"
     ]
    }
   ],
   "source": [
    "# Task 9: Build simple GLM model\n",
    "\n",
    "data_glm = H2OGeneralizedLinearEstimator(family=\"binomial\", standardize=True)\n",
    "data_glm.train(x               =myX,\n",
    "               y               =myY,\n",
    "               training_frame  =train,\n",
    "               validation_frame=test)\n"
   ]
  },
  {
   "cell_type": "code",
   "execution_count": 19,
   "metadata": {
    "collapsed": false
   },
   "outputs": [
    {
     "name": "stdout",
     "output_type": "stream",
     "text": [
      "gbm Model Build progress: |███████████████████████████████████████████████████████████████████| 100%\n"
     ]
    }
   ],
   "source": [
    "# Task 10: Build simple GBM model\n",
    "\n",
    "data_gbm = H2OGradientBoostingEstimator(balance_classes=True,\n",
    "                                        ntrees         =10,\n",
    "                                        max_depth      =1,\n",
    "                                        distribution   =\"bernoulli\",\n",
    "                                        learn_rate     =0.1,\n",
    "                                        min_rows       =2)\n",
    "\n",
    "data_gbm.train(x               =myX,\n",
    "               y               =myY,\n",
    "               training_frame  =train,\n",
    "               validation_frame=test)"
   ]
  },
  {
   "cell_type": "code",
   "execution_count": 21,
   "metadata": {
    "collapsed": false
   },
   "outputs": [
    {
     "name": "stdout",
     "output_type": "stream",
     "text": [
      "Variable Importances:\n",
      "\n",
      "| Predictor        |   Normalized Coefficient |\n",
      "|------------------+--------------------------|\n",
      "| Year.2008        |               2.2753     |\n",
      "| Origin.MDW       |               1.59798    |\n",
      "| Origin.LIH       |               1.58654    |\n",
      "| Year.2003        |               1.5712     |\n",
      "| Year.2007        |               1.54556    |\n",
      "| Origin.HPN       |               1.49538    |\n",
      "| Dest.LYH         |               1.42463    |\n",
      "| Origin.TRI       |               1.27143    |\n",
      "| UniqueCarrier.HP |               1.27037    |\n",
      "| Origin.CHO       |               1.23073    |\n",
      "| Dest.HTS         |               1.19004    |\n",
      "| Origin.TLH       |               1.16127    |\n",
      "| Origin.GRR       |               1.11309    |\n",
      "| Origin.CAE       |               1.06025    |\n",
      "| Origin.LEX       |               1.05602    |\n",
      "| Origin.BTV       |               1.05304    |\n",
      "| Year.2001        |               1.03915    |\n",
      "| Year.2002        |               1.02649    |\n",
      "| UniqueCarrier.TW |               1.01929    |\n",
      "| Origin.SAV       |               0.972764   |\n",
      "| Origin.HNL       |               0.966528   |\n",
      "| Origin.PBI       |               0.915006   |\n",
      "| Origin.IAH       |               0.912893   |\n",
      "| Year.2004        |               0.911553   |\n",
      "| Origin.ERI       |               0.887721   |\n",
      "| Year.2006        |               0.867595   |\n",
      "| Origin.ORD       |               0.866195   |\n",
      "| Origin.MYR       |               0.859682   |\n",
      "| Origin.CRP       |               0.857515   |\n",
      "| Origin.ATL       |               0.846189   |\n",
      "| Dest.OAJ         |               0.838734   |\n",
      "| Year.1994        |               0.784191   |\n",
      "| Dest.PSP         |               0.776151   |\n",
      "| Origin.SRQ       |               0.742105   |\n",
      "| Origin.MLB       |               0.737016   |\n",
      "| Dest.CHO         |               0.703227   |\n",
      "| Origin.LYH       |               0.703227   |\n",
      "| Dest.CRP         |               0.694541   |\n",
      "| Origin.STL       |               0.66923    |\n",
      "| Origin.PSP       |               0.662829   |\n",
      "| Origin.CMH       |               0.645026   |\n",
      "| Year.1996        |               0.638244   |\n",
      "| Dest.PNS         |               0.636618   |\n",
      "| Origin.ALB       |               0.636559   |\n",
      "| Origin.ROA       |               0.634199   |\n",
      "| Dest.PBI         |               0.613548   |\n",
      "| Dest.GSO         |               0.612594   |\n",
      "| Dest.OGG         |               0.612287   |\n",
      "| Dest.FLL         |               0.60323    |\n",
      "| UniqueCarrier.CO |               0.597857   |\n",
      "| UniqueCarrier.WN |               0.593436   |\n",
      "| Year.1990        |               0.586343   |\n",
      "| Origin.CRW       |               0.585676   |\n",
      "| Origin.EYW       |               0.580562   |\n",
      "| Origin.AUS       |               0.577549   |\n",
      "| Origin.ICT       |               0.57618    |\n",
      "| Origin.FLL       |               0.571809   |\n",
      "| Dest.GEG         |               0.568057   |\n",
      "| Origin.OGG       |               0.56743    |\n",
      "| Origin.PIT       |               0.565592   |\n",
      "| Dest.ICT         |               0.56524    |\n",
      "| Origin.SYR       |               0.56042    |\n",
      "| Origin.OMA       |               0.557222   |\n",
      "| Year.2005        |               0.537538   |\n",
      "| Year.1997        |               0.531064   |\n",
      "| Origin.BOI       |               0.527361   |\n",
      "| Dest.TOL         |               0.525666   |\n",
      "| Origin.HRL       |               0.52009    |\n",
      "| Dest.TPA         |               0.515957   |\n",
      "| Dest.FAY         |               0.514475   |\n",
      "| Dest.SFO         |               0.514102   |\n",
      "| Origin.MSY       |               0.512307   |\n",
      "| Origin.LAX       |               0.505186   |\n",
      "| Origin.MCO       |               0.499877   |\n",
      "| Dest.IND         |               0.486507   |\n",
      "| Origin.ACY       |               0.480582   |\n",
      "| Origin.PHL       |               0.47142    |\n",
      "| Dest.CVG         |               0.466771   |\n",
      "| Dest.MKE         |               0.46588    |\n",
      "| Dest.LIH         |               0.436773   |\n",
      "| Origin.DAY       |               0.43596    |\n",
      "| Dest.CHS         |               0.429376   |\n",
      "| Dest.BDL         |               0.427561   |\n",
      "| Origin.DFW       |               0.424656   |\n",
      "| Dest.IAH         |               0.419206   |\n",
      "| Origin.TUS       |               0.410009   |\n",
      "| Origin.BDL       |               0.407393   |\n",
      "| Dest.DAY         |               0.397774   |\n",
      "| Origin.MIA       |               0.389916   |\n",
      "| Dest.CAE         |               0.387669   |\n",
      "| Origin.PWM       |               0.378857   |\n",
      "| Dest.KOA         |               0.377545   |\n",
      "| UniqueCarrier.PI |               0.376201   |\n",
      "| Origin.JAX       |               0.370837   |\n",
      "| Dest.JAX         |               0.369317   |\n",
      "| Origin.LGA       |               0.367855   |\n",
      "| Origin.RNO       |               0.365458   |\n",
      "| Dest.CMH         |               0.36246    |\n",
      "| Origin.BUF       |               0.36243    |\n",
      "| Origin.OKC       |               0.357752   |\n",
      "| Origin.ROC       |               0.356887   |\n",
      "| Year.1995        |               0.356522   |\n",
      "| Dest.ISP         |               0.352468   |\n",
      "| Origin.IND       |               0.345808   |\n",
      "| Origin.STX       |               0.345446   |\n",
      "| Origin.SWF       |               0.345166   |\n",
      "| Dest.CLE         |               0.341346   |\n",
      "| Origin.GSO       |               0.337924   |\n",
      "| Origin.MCI       |               0.335844   |\n",
      "| Dest.LBB         |               0.332322   |\n",
      "| Origin.SLC       |               0.327837   |\n",
      "| Dest.SAT         |               0.327032   |\n",
      "| Dest.SDF         |               0.321373   |\n",
      "| Dest.MCO         |               0.320882   |\n",
      "| Dest.STL         |               0.319735   |\n",
      "| Dest.UCA         |               0.319089   |\n",
      "| Year.1991        |               0.318473   |\n",
      "| Dest.BUR         |               0.315958   |\n",
      "| Origin.BGM       |               0.312906   |\n",
      "| Dest.TUL         |               0.296712   |\n",
      "| Origin.OAK       |               0.291523   |\n",
      "| Origin.IAD       |               0.290868   |\n",
      "| Origin.BOS       |               0.287252   |\n",
      "| Origin.CLT       |               0.286976   |\n",
      "| Origin.SAN       |               0.286188   |\n",
      "| UniqueCarrier.US |               0.284663   |\n",
      "| DayOfWeek.5      |               0.282897   |\n",
      "| Dest.MCI         |               0.279446   |\n",
      "| Dest.ONT         |               0.277901   |\n",
      "| Dest.FAT         |               0.277137   |\n",
      "| Dest.ABQ         |               0.274386   |\n",
      "| Dest.SEA         |               0.273747   |\n",
      "| Dest.BTV         |               0.262944   |\n",
      "| Dest.BGM         |               0.258073   |\n",
      "| Year.1999        |               0.247173   |\n",
      "| Year.1992        |               0.246349   |\n",
      "| Dest.AVL         |               0.244091   |\n",
      "| Origin.DEN       |               0.243695   |\n",
      "| Origin.SFO       |               0.24335    |\n",
      "| UniqueCarrier.AA |               0.240706   |\n",
      "| Dest.BUF         |               0.239121   |\n",
      "| Origin.BUR       |               0.234667   |\n",
      "| Origin.COS       |               0.230385   |\n",
      "| Month.10         |               0.228017   |\n",
      "| Year.1987        |               0.228017   |\n",
      "| Origin.SJC       |               0.226758   |\n",
      "| Origin.EGE       |               0.226168   |\n",
      "| Dest.FNT         |               0.222741   |\n",
      "| Origin.BHM       |               0.216914   |\n",
      "| Origin.BWI       |               0.216669   |\n",
      "| Dest.ALB         |               0.215931   |\n",
      "| Origin.RSW       |               0.214811   |\n",
      "| Dest.LAX         |               0.211186   |\n",
      "| Dest.ORD         |               0.210203   |\n",
      "| Dest.MIA         |               0.209      |\n",
      "| Origin.MDT       |               0.205485   |\n",
      "| Dest.PHL         |               0.202258   |\n",
      "| Origin.PDX       |               0.198895   |\n",
      "| Dest.SNA         |               0.197884   |\n",
      "| Origin.CLE       |               0.197287   |\n",
      "| Year.2000        |               0.19315    |\n",
      "| Origin.JFK       |               0.192625   |\n",
      "| Origin.TPA       |               0.190957   |\n",
      "| Dest.SBN         |               0.187979   |\n",
      "| Dest.HRL         |               0.184245   |\n",
      "| Dest.PHX         |               0.183814   |\n",
      "| Dest.SLC         |               0.17872    |\n",
      "| Dest.MSP         |               0.178444   |\n",
      "| Dest.SMF         |               0.173008   |\n",
      "| Year.1993        |               0.172187   |\n",
      "| Distance         |               0.16815    |\n",
      "| Year.1989        |               0.167095   |\n",
      "| Dest.CLT         |               0.165913   |\n",
      "| DayOfWeek.2      |               0.165407   |\n",
      "| Dest.IAD         |               0.160569   |\n",
      "| Origin.MKE       |               0.155247   |\n",
      "| Dest.PVD         |               0.154893   |\n",
      "| Dest.ROC         |               0.146185   |\n",
      "| Dest.ELP         |               0.145446   |\n",
      "| Dest.BWI         |               0.142873   |\n",
      "| DayOfWeek.4      |               0.142173   |\n",
      "| Dest.PDX         |               0.138584   |\n",
      "| Origin.PHX       |               0.133428   |\n",
      "| Origin.AVP       |               0.131362   |\n",
      "| Origin.ONT       |               0.129888   |\n",
      "| Dest.SJC         |               0.123858   |\n",
      "| DayOfWeek.6      |               0.11993    |\n",
      "| Dest.LGA         |               0.117236   |\n",
      "| Dest.EWR         |               0.113044   |\n",
      "| Dest.SAN         |               0.109906   |\n",
      "| Month.1          |               0.101957   |\n",
      "| DayOfWeek.7      |               0.0946957  |\n",
      "| Dest.RNO         |               0.0943434  |\n",
      "| Origin.SMF       |               0.0918986  |\n",
      "| Dest.DFW         |               0.0876796  |\n",
      "| UniqueCarrier.DL |               0.0861803  |\n",
      "| Origin.MHT       |               0.0828216  |\n",
      "| Origin.RDU       |               0.0754358  |\n",
      "| Year.1998        |               0.0719039  |\n",
      "| Origin.SEA       |               0.0717332  |\n",
      "| Dest.BOS         |               0.0697429  |\n",
      "| Intercept        |               0.0667109  |\n",
      "| Origin.PHF       |               0.0652849  |\n",
      "| Origin.ABQ       |               0.0652809  |\n",
      "| Origin.HOU       |               0.0642645  |\n",
      "| Dest.DCA         |               0.0611741  |\n",
      "| Origin.MEM       |               0.0578292  |\n",
      "| Dest.HOU         |               0.0525265  |\n",
      "| Origin.CVG       |               0.0461034  |\n",
      "| Origin.LIT       |               0.0443018  |\n",
      "| Dest.MSY         |               0.0442585  |\n",
      "| Dest.RSW         |               0.0437109  |\n",
      "| Dest.BNA         |               0.0385002  |\n",
      "| Origin.DAL       |               0.0352139  |\n",
      "| Origin.LAS       |               0.034738   |\n",
      "| Dest.ABE         |               0.0339269  |\n",
      "| UniqueCarrier.UA |               0.0338477  |\n",
      "| Dest.DTW         |               0.0309143  |\n",
      "| FlightNum        |               0.0305065  |\n",
      "| Dest.BHM         |               0.0303528  |\n",
      "| Origin.PVD       |               0.0299847  |\n",
      "| Origin.EWR       |               0.0298103  |\n",
      "| Origin.BNA       |               0.0292004  |\n",
      "| Origin.SJU       |               0.0285254  |\n",
      "| Dest.RDU         |               0.0272379  |\n",
      "| Origin.MSP       |               0.0265453  |\n",
      "| Dest.DAL         |               0.0248292  |\n",
      "| Dest.PIT         |               0.0169262  |\n",
      "| Dest.ILM         |               0.0153789  |\n",
      "| Origin.DCA       |               0.0124218  |\n",
      "| Dest.LAS         |               0.0124066  |\n",
      "| Year.1988        |               0.0119457  |\n",
      "| DayOfWeek.3      |               0.00982916 |\n",
      "| Dest.DEN         |               0.00787722 |\n",
      "| Dest.TUS         |               0.00684741 |\n",
      "| Dest.ROA         |               0.00476892 |\n",
      "| Dest.MHT         |               0.00472848 |\n",
      "| Origin.DTW       |               0.00221216 |\n",
      "| Origin.SAT       |               0.00125538 |\n",
      "| Dest.LIT         |               0          |\n",
      "| Dest.OKC         |               0          |\n",
      "| Dest.ORF         |               0          |\n",
      "| Dest.HPN         |               0          |\n",
      "| Dest.ORH         |               0          |\n",
      "| Origin.ANC       |               0          |\n",
      "| Dest.SRQ         |               0          |\n",
      "| Dest.MRY         |               0          |\n",
      "| Dest.SJU         |               0          |\n",
      "| Origin.SNA       |               0          |\n",
      "| Dest.DSM         |               0          |\n",
      "| Dest.HNL         |               0          |\n",
      "| Origin.SCK       |               0          |\n",
      "| Dest.PWM         |               0          |\n",
      "| Origin.ISP       |               0          |\n",
      "| Origin.RIC       |               0          |\n",
      "| Origin.LAN       |               0          |\n",
      "| Dest.AUS         |               0          |\n",
      "| Dest.GRR         |               0          |\n",
      "| Dest.SWF         |               0          |\n",
      "| Origin.KOA       |               0          |\n",
      "| Origin.UCA       |               0          |\n",
      "| Dest.JFK         |               0          |\n",
      "| Origin.AMA       |               0          |\n",
      "| Dest.ERI         |               0          |\n",
      "| Dest.ACY         |               0          |\n",
      "| Dest.GSP         |               0          |\n",
      "| Dest.OAK         |               0          |\n",
      "| Origin.MFR       |               0          |\n",
      "| Origin.CHS       |               0          |\n",
      "| Dest.SYR         |               0          |\n",
      "| Dest.JAN         |               0          |\n",
      "| Origin.DSM       |               0          |\n",
      "| Origin.STT       |               0          |\n",
      "| Dest.ELM         |               0          |\n",
      "| Dest.CHA         |               0          |\n",
      "| Origin.ABE       |               0          |\n",
      "| Origin.SBN       |               0          |\n",
      "| Origin.ORF       |               0          |\n",
      "| Dest.MDW         |               0          |\n",
      "| Dest.MDT         |               0          |\n",
      "| Origin.LBB       |               0          |\n",
      "| Origin.GNV       |               0          |\n",
      "| Dest.AMA         |               0          |\n",
      "| Dest.CAK         |               0          |\n",
      "| Dest.LEX         |               0          |\n",
      "| Origin.TUL       |               0          |\n",
      "| Dest.RIC         |               0          |\n",
      "| Origin.TYS       |               0          |\n",
      "| Origin.JAN       |               0          |\n",
      "| Dest.BOI         |               0          |\n",
      "| UniqueCarrier.PS |               0          |\n",
      "| Origin.SDF       |               0          |\n",
      "| Dest.ATL         |               0          |\n",
      "| Dest.MAF         |               0          |\n",
      "| Dest.PHF         |               0          |\n",
      "| Dest.ANC         |               0          |\n",
      "| Dest.OMA         |               0          |\n",
      "| Dest.AVP         |               0          |\n",
      "| Origin.MRY       |               0          |\n",
      "| DayOfWeek.1      |               0          |\n",
      "| Dest.STT         |               0          |\n",
      "| Dest.EYW         |               0          |\n",
      "| Origin.MAF       |               0          |\n",
      "| Origin.ELP       |               0          |\n",
      "| Dest.EUG         |               0          |\n",
      "| Origin.GEG       |               0          |\n",
      "| Dest.MYR         |               0          |\n",
      "| Dest.SCK         |               0          |\n",
      "| Origin.BIL       |               0          |\n",
      "| Dest.COS         |               0          |\n",
      "Warning: This model doesn't have variable importances\n"
     ]
    },
    {
     "data": {
      "text/plain": [
       "[(u'Year', 2488.348388671875, 1.0, 0.8448621291132427),\n",
       " (u'Origin', 456.92315673828125, 0.18362507389174645, 0.1551378708867574),\n",
       " (u'Month', 0.0, 0.0, 0.0),\n",
       " (u'DayOfWeek', 0.0, 0.0, 0.0),\n",
       " (u'UniqueCarrier', 0.0, 0.0, 0.0),\n",
       " (u'FlightNum', 0.0, 0.0, 0.0),\n",
       " (u'Dest', 0.0, 0.0, 0.0),\n",
       " (u'Distance', 0.0, 0.0, 0.0)]"
      ]
     },
     "execution_count": 21,
     "metadata": {},
     "output_type": "execute_result"
    }
   ],
   "source": [
    "# Variable importances from each algorithm\n",
    "# Calculate magnitude of normalized GLM coefficients\n",
    "from six import iteritems\n",
    "glm_varimp = data_glm.coef_norm()\n",
    "for k,v in iteritems(glm_varimp):\n",
    "    glm_varimp[k] = abs(glm_varimp[k])\n",
    "    \n",
    "# Sort in descending order by magnitude\n",
    "glm_sorted = sorted(glm_varimp.items(), key = operator.itemgetter(1), reverse = True)\n",
    "table = tabulate(glm_sorted, headers = [\"Predictor\", \"Normalized Coefficient\"], tablefmt = \"orgtbl\")\n",
    "print(\"Variable Importances:\\n\\n\" + table)\n",
    "\n",
    "data_glm.varimp()\n",
    "data_gbm.varimp()"
   ]
  },
  {
   "cell_type": "code",
   "execution_count": 23,
   "metadata": {
    "collapsed": false,
    "scrolled": true
   },
   "outputs": [
    {
     "name": "stdout",
     "output_type": "stream",
     "text": [
      "\n",
      "ModelMetricsBinomial: gbm\n",
      "** Reported on test data. **\n",
      "\n",
      "MSE: 0.235302092358\n",
      "RMSE: 0.485079470147\n",
      "LogLoss: 0.663377855491\n",
      "Mean Per-Class Error: 0.370727837185\n",
      "AUC: 0.660555546342\n",
      "Gini: 0.321111092684\n",
      "Confusion Matrix (Act/Pred) for max f1 @ threshold = 0.452153609952: \n"
     ]
    },
    {
     "data": {
      "text/html": [
       "<div style=\"overflow:auto\"><table style=\"width:50%\"><tr><td><b></b></td>\n",
       "<td><b>NO</b></td>\n",
       "<td><b>YES</b></td>\n",
       "<td><b>Error</b></td>\n",
       "<td><b>Rate</b></td></tr>\n",
       "<tr><td>NO</td>\n",
       "<td>1302.0</td>\n",
       "<td>3898.0</td>\n",
       "<td>0.7496</td>\n",
       "<td> (3898.0/5200.0)</td></tr>\n",
       "<tr><td>YES</td>\n",
       "<td>673.0</td>\n",
       "<td>5125.0</td>\n",
       "<td>0.1161</td>\n",
       "<td> (673.0/5798.0)</td></tr>\n",
       "<tr><td>Total</td>\n",
       "<td>1975.0</td>\n",
       "<td>9023.0</td>\n",
       "<td>0.4156</td>\n",
       "<td> (4571.0/10998.0)</td></tr></table></div>"
      ],
      "text/plain": [
       "       NO    YES    Error    Rate\n",
       "-----  ----  -----  -------  ----------------\n",
       "NO     1302  3898   0.7496   (3898.0/5200.0)\n",
       "YES    673   5125   0.1161   (673.0/5798.0)\n",
       "Total  1975  9023   0.4156   (4571.0/10998.0)"
      ]
     },
     "metadata": {},
     "output_type": "display_data"
    },
    {
     "name": "stdout",
     "output_type": "stream",
     "text": [
      "Maximum Metrics: Maximum metrics at their respective thresholds\n",
      "\n"
     ]
    },
    {
     "data": {
      "text/html": [
       "<div style=\"overflow:auto\"><table style=\"width:50%\"><tr><td><b>metric</b></td>\n",
       "<td><b>threshold</b></td>\n",
       "<td><b>value</b></td>\n",
       "<td><b>idx</b></td></tr>\n",
       "<tr><td>max f1</td>\n",
       "<td>0.4521536</td>\n",
       "<td>0.6915863</td>\n",
       "<td>22.0</td></tr>\n",
       "<tr><td>max f2</td>\n",
       "<td>0.4368915</td>\n",
       "<td>0.8479087</td>\n",
       "<td>23.0</td></tr>\n",
       "<tr><td>max f0point5</td>\n",
       "<td>0.5289965</td>\n",
       "<td>0.6490574</td>\n",
       "<td>13.0</td></tr>\n",
       "<tr><td>max accuracy</td>\n",
       "<td>0.5289965</td>\n",
       "<td>0.6290235</td>\n",
       "<td>13.0</td></tr>\n",
       "<tr><td>max precision</td>\n",
       "<td>0.6152128</td>\n",
       "<td>0.7765625</td>\n",
       "<td>2.0</td></tr>\n",
       "<tr><td>max recall</td>\n",
       "<td>0.4368915</td>\n",
       "<td>1.0</td>\n",
       "<td>23.0</td></tr>\n",
       "<tr><td>max specificity</td>\n",
       "<td>0.6314749</td>\n",
       "<td>0.9463462</td>\n",
       "<td>0.0</td></tr>\n",
       "<tr><td>max absolute_mcc</td>\n",
       "<td>0.5289965</td>\n",
       "<td>0.2581650</td>\n",
       "<td>13.0</td></tr>\n",
       "<tr><td>max min_per_class_accuracy</td>\n",
       "<td>0.5289965</td>\n",
       "<td>0.6246982</td>\n",
       "<td>13.0</td></tr>\n",
       "<tr><td>max mean_per_class_accuracy</td>\n",
       "<td>0.5289965</td>\n",
       "<td>0.6292722</td>\n",
       "<td>13.0</td></tr></table></div>"
      ],
      "text/plain": [
       "metric                       threshold    value     idx\n",
       "---------------------------  -----------  --------  -----\n",
       "max f1                       0.452154     0.691586  22\n",
       "max f2                       0.436892     0.847909  23\n",
       "max f0point5                 0.528996     0.649057  13\n",
       "max accuracy                 0.528996     0.629023  13\n",
       "max precision                0.615213     0.776563  2\n",
       "max recall                   0.436892     1         23\n",
       "max specificity              0.631475     0.946346  0\n",
       "max absolute_mcc             0.528996     0.258165  13\n",
       "max min_per_class_accuracy   0.528996     0.624698  13\n",
       "max mean_per_class_accuracy  0.528996     0.629272  13"
      ]
     },
     "metadata": {},
     "output_type": "display_data"
    },
    {
     "name": "stdout",
     "output_type": "stream",
     "text": [
      "Gains/Lift Table: Avg response rate: 52.72 %\n",
      "\n"
     ]
    },
    {
     "data": {
      "text/html": [
       "<div style=\"overflow:auto\"><table style=\"width:50%\"><tr><td><b></b></td>\n",
       "<td><b>group</b></td>\n",
       "<td><b>cumulative_data_fraction</b></td>\n",
       "<td><b>lower_threshold</b></td>\n",
       "<td><b>lift</b></td>\n",
       "<td><b>cumulative_lift</b></td>\n",
       "<td><b>response_rate</b></td>\n",
       "<td><b>cumulative_response_rate</b></td>\n",
       "<td><b>capture_rate</b></td>\n",
       "<td><b>cumulative_capture_rate</b></td>\n",
       "<td><b>gain</b></td>\n",
       "<td><b>cumulative_gain</b></td></tr>\n",
       "<tr><td></td>\n",
       "<td>1</td>\n",
       "<td>0.1129296</td>\n",
       "<td>0.6314749</td>\n",
       "<td>1.4707545</td>\n",
       "<td>1.4707545</td>\n",
       "<td>0.7753623</td>\n",
       "<td>0.7753623</td>\n",
       "<td>0.1660918</td>\n",
       "<td>0.1660918</td>\n",
       "<td>47.0754533</td>\n",
       "<td>47.0754533</td></tr>\n",
       "<tr><td></td>\n",
       "<td>2</td>\n",
       "<td>0.1811238</td>\n",
       "<td>0.6004795</td>\n",
       "<td>1.2898655</td>\n",
       "<td>1.4026487</td>\n",
       "<td>0.68</td>\n",
       "<td>0.7394578</td>\n",
       "<td>0.0879614</td>\n",
       "<td>0.2540531</td>\n",
       "<td>28.9865471</td>\n",
       "<td>40.2648711</td></tr>\n",
       "<tr><td></td>\n",
       "<td>3</td>\n",
       "<td>0.2546827</td>\n",
       "<td>0.5925332</td>\n",
       "<td>1.3294440</td>\n",
       "<td>1.3815053</td>\n",
       "<td>0.7008653</td>\n",
       "<td>0.7283113</td>\n",
       "<td>0.0977923</td>\n",
       "<td>0.3518455</td>\n",
       "<td>32.9443979</td>\n",
       "<td>38.1505324</td></tr>\n",
       "<tr><td></td>\n",
       "<td>4</td>\n",
       "<td>0.3347881</td>\n",
       "<td>0.5605419</td>\n",
       "<td>1.1152940</td>\n",
       "<td>1.3178084</td>\n",
       "<td>0.5879682</td>\n",
       "<td>0.6947311</td>\n",
       "<td>0.0893412</td>\n",
       "<td>0.4411866</td>\n",
       "<td>11.5293974</td>\n",
       "<td>31.7808366</td></tr>\n",
       "<tr><td></td>\n",
       "<td>5</td>\n",
       "<td>0.4236225</td>\n",
       "<td>0.5493723</td>\n",
       "<td>1.1610265</td>\n",
       "<td>1.2849309</td>\n",
       "<td>0.6120778</td>\n",
       "<td>0.6773986</td>\n",
       "<td>0.1031390</td>\n",
       "<td>0.5443256</td>\n",
       "<td>16.1026479</td>\n",
       "<td>28.4930945</td></tr>\n",
       "<tr><td></td>\n",
       "<td>6</td>\n",
       "<td>0.5024550</td>\n",
       "<td>0.5289965</td>\n",
       "<td>1.0195354</td>\n",
       "<td>1.2432918</td>\n",
       "<td>0.5374856</td>\n",
       "<td>0.6554470</td>\n",
       "<td>0.0803725</td>\n",
       "<td>0.6246982</td>\n",
       "<td>1.9535432</td>\n",
       "<td>24.3291801</td></tr>\n",
       "<tr><td></td>\n",
       "<td>7</td>\n",
       "<td>0.6391162</td>\n",
       "<td>0.4962577</td>\n",
       "<td>0.7875191</td>\n",
       "<td>1.1458346</td>\n",
       "<td>0.4151697</td>\n",
       "<td>0.6040689</td>\n",
       "<td>0.1076233</td>\n",
       "<td>0.7323215</td>\n",
       "<td>-21.2480868</td>\n",
       "<td>14.5834649</td></tr>\n",
       "<tr><td></td>\n",
       "<td>8</td>\n",
       "<td>0.7926896</td>\n",
       "<td>0.4693631</td>\n",
       "<td>0.8097317</td>\n",
       "<td>1.0807190</td>\n",
       "<td>0.4268798</td>\n",
       "<td>0.5697408</td>\n",
       "<td>0.1243532</td>\n",
       "<td>0.8566747</td>\n",
       "<td>-19.0268341</td>\n",
       "<td>8.0719032</td></tr>\n",
       "<tr><td></td>\n",
       "<td>9</td>\n",
       "<td>0.8173304</td>\n",
       "<td>0.4556774</td>\n",
       "<td>1.0079261</td>\n",
       "<td>1.0785245</td>\n",
       "<td>0.5313653</td>\n",
       "<td>0.5685838</td>\n",
       "<td>0.0248362</td>\n",
       "<td>0.8815109</td>\n",
       "<td>0.7926133</td>\n",
       "<td>7.8524475</td></tr>\n",
       "<tr><td></td>\n",
       "<td>10</td>\n",
       "<td>1.0</td>\n",
       "<td>0.4368915</td>\n",
       "<td>0.6486528</td>\n",
       "<td>1.0</td>\n",
       "<td>0.3419612</td>\n",
       "<td>0.5271868</td>\n",
       "<td>0.1184891</td>\n",
       "<td>1.0</td>\n",
       "<td>-35.1347189</td>\n",
       "<td>0.0</td></tr></table></div>"
      ],
      "text/plain": [
       "    group    cumulative_data_fraction    lower_threshold    lift      cumulative_lift    response_rate    cumulative_response_rate    capture_rate    cumulative_capture_rate    gain      cumulative_gain\n",
       "--  -------  --------------------------  -----------------  --------  -----------------  ---------------  --------------------------  --------------  -------------------------  --------  -----------------\n",
       "    1        0.11293                     0.631475           1.47075   1.47075            0.775362         0.775362                    0.166092        0.166092                   47.0755   47.0755\n",
       "    2        0.181124                    0.60048            1.28987   1.40265            0.68             0.739458                    0.0879614       0.254053                   28.9865   40.2649\n",
       "    3        0.254683                    0.592533           1.32944   1.38151            0.700865         0.728311                    0.0977923       0.351845                   32.9444   38.1505\n",
       "    4        0.334788                    0.560542           1.11529   1.31781            0.587968         0.694731                    0.0893412       0.441187                   11.5294   31.7808\n",
       "    5        0.423622                    0.549372           1.16103   1.28493            0.612078         0.677399                    0.103139        0.544326                   16.1026   28.4931\n",
       "    6        0.502455                    0.528996           1.01954   1.24329            0.537486         0.655447                    0.0803725       0.624698                   1.95354   24.3292\n",
       "    7        0.639116                    0.496258           0.787519  1.14583            0.41517          0.604069                    0.107623        0.732321                   -21.2481  14.5835\n",
       "    8        0.79269                     0.469363           0.809732  1.08072            0.42688          0.569741                    0.124353        0.856675                   -19.0268  8.0719\n",
       "    9        0.81733                     0.455677           1.00793   1.07852            0.531365         0.568584                    0.0248362       0.881511                   0.792613  7.85245\n",
       "    10       1                           0.436892           0.648653  1                  0.341961         0.527187                    0.118489        1                          -35.1347  0"
      ]
     },
     "metadata": {},
     "output_type": "display_data"
    },
    {
     "name": "stdout",
     "output_type": "stream",
     "text": [
      "\n"
     ]
    },
    {
     "data": {
      "text/plain": []
     },
     "execution_count": 23,
     "metadata": {},
     "output_type": "execute_result"
    }
   ],
   "source": [
    "# Model performance of GBM model on test data\n",
    "data_gbm.model_performance(test)"
   ]
  }
 ],
 "metadata": {
  "anaconda-cloud": {},
  "kernelspec": {
   "display_name": "Python [Root]",
   "language": "python",
   "name": "Python [Root]"
  },
  "language_info": {
   "codemirror_mode": {
    "name": "ipython",
    "version": 2
   },
   "file_extension": ".py",
   "mimetype": "text/x-python",
   "name": "python",
   "nbconvert_exporter": "python",
   "pygments_lexer": "ipython2",
   "version": "2.7.12"
  }
 },
 "nbformat": 4,
 "nbformat_minor": 0
}
