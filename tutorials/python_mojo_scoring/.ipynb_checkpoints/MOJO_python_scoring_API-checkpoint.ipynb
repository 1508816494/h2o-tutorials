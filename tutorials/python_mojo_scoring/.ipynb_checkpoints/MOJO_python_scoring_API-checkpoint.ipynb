{
 "cells": [
  {
   "cell_type": "code",
   "execution_count": 1,
   "metadata": {},
   "outputs": [
    {
     "name": "stdout",
     "output_type": "stream",
     "text": [
      "versionFromGradle='3.15.0',projectVersion='3.15.0.99999',branch='python_mojo_avkash',lastCommitHash='8b7d43626711a65fae61466913c1f34dbad4820e',gitDescribe='jenkins-master-4007-3-g8b7d436267-dirty',compiledOn='2017-08-28 15:39:44',compiledBy='avkashchauhan'\n"
     ]
    }
   ],
   "source": [
    "import h2o\n",
    "import pandas as pd\n",
    "import json"
   ]
  },
  {
   "cell_type": "code",
   "execution_count": 2,
   "metadata": {},
   "outputs": [
    {
     "name": "stdout",
     "output_type": "stream",
     "text": [
      "AGE        20\n",
      "DCAPS       2\n",
      "GLEASON     1\n",
      "RACE        2\n",
      "VOL         0\n",
      "dtype: object\n",
      "{\"AGE\":\"20\",\"DCAPS\":\"2\",\"GLEASON\":\"1\",\"RACE\":\"2\",\"VOL\":\"0\"}\n"
     ]
    }
   ],
   "source": [
    "df = pd.Series({\"AGE\":\"20\", \"RACE\":\"2\", \"DCAPS\":\"2\", \"VOL\":\"0\", \"GLEASON\":\"1\"})\n",
    "print(df)\n",
    "df_json = df.to_json()\n",
    "print(df_json)"
   ]
  },
  {
   "cell_type": "code",
   "execution_count": 3,
   "metadata": {
    "collapsed": true
   },
   "outputs": [],
   "source": [
    "result = h2o.predict_json(\"/Users/avkashchauhan/src/github.com/h2oai/h2o-tutorials/tutorials/python_mojo_scoring/\", \n",
    "             \"gbm_prostate_new.zip\",\n",
    "             df_json)"
   ]
  },
  {
   "cell_type": "code",
   "execution_count": 4,
   "metadata": {},
   "outputs": [
    {
     "name": "stdout",
     "output_type": "stream",
     "text": [
      "{\"labelIndex\":0,\"label\":\"0\",\"classProbabilities\":[0.8751848361290144,0.12481516387098562]}\n",
      "\n"
     ]
    }
   ],
   "source": [
    "\n",
    "print(result)"
   ]
  },
  {
   "cell_type": "code",
   "execution_count": null,
   "metadata": {
    "collapsed": true
   },
   "outputs": [],
   "source": []
  }
 ],
 "metadata": {
  "kernelspec": {
   "display_name": "Python 2",
   "language": "python",
   "name": "python2"
  },
  "language_info": {
   "codemirror_mode": {
    "name": "ipython",
    "version": 2
   },
   "file_extension": ".py",
   "mimetype": "text/x-python",
   "name": "python",
   "nbconvert_exporter": "python",
   "pygments_lexer": "ipython2",
   "version": "2.7.13"
  }
 },
 "nbformat": 4,
 "nbformat_minor": 2
}
