{
 "cells": [
  {
   "cell_type": "markdown",
   "metadata": {},
   "source": [
    "# Forecasting Volume Price\n",
    "\n",
    "In this example, we will be forecasting the sales for different vendors.  The data used is a public Kaggle dataset consisting of stock market data for 29 DIJA companies [DIJA Stock Data](https://www.kaggle.com/szrlee/stock-time-series-20050101-to-20171231).\n",
    "\n",
    "\n",
    "We will be using Sparkling Water to demonstrate how to add time lags on large data.\n",
    "\n",
    "Our Machine Learning Workflow is: \n",
    "\n",
    "1. Exploratory Analysis - explore and analyze the dataset\n",
    "2. Feature Engineering - add new features that we think could help improve the results\n",
    "    * time lags\n",
    "3. AutoML - run AutoML to predict Close price for tomorrow\n",
    "\n",
    "## Exploratory Analysis\n",
    "\n",
    "We begin by starting our sparkling water cluster and importing our dataset into H2O."
   ]
  },
  {
   "cell_type": "code",
   "execution_count": 1,
   "metadata": {
    "collapsed": false
   },
   "outputs": [
    {
     "name": "stdout",
     "output_type": "stream",
     "text": [
      "Connecting to H2O server at http://172.16.2.48:54327... successful.\n"
     ]
    },
    {
     "data": {
      "text/html": [
       "<div style=\"overflow:auto\"><table style=\"width:50%\"><tr><td>H2O cluster uptime:</td>\n",
       "<td>10 secs</td></tr>\n",
       "<tr><td>H2O cluster timezone:</td>\n",
       "<td>America/Los_Angeles</td></tr>\n",
       "<tr><td>H2O data parsing timezone:</td>\n",
       "<td>UTC</td></tr>\n",
       "<tr><td>H2O cluster version:</td>\n",
       "<td>3.20.0.2</td></tr>\n",
       "<tr><td>H2O cluster version age:</td>\n",
       "<td>9 days </td></tr>\n",
       "<tr><td>H2O cluster name:</td>\n",
       "<td>sparkling-water-megankurka_app-20180625132327-0000</td></tr>\n",
       "<tr><td>H2O cluster total nodes:</td>\n",
       "<td>3</td></tr>\n",
       "<tr><td>H2O cluster free memory:</td>\n",
       "<td>2.276 Gb</td></tr>\n",
       "<tr><td>H2O cluster total cores:</td>\n",
       "<td>24</td></tr>\n",
       "<tr><td>H2O cluster allowed cores:</td>\n",
       "<td>24</td></tr>\n",
       "<tr><td>H2O cluster status:</td>\n",
       "<td>accepting new members, healthy</td></tr>\n",
       "<tr><td>H2O connection url:</td>\n",
       "<td>http://172.16.2.48:54327</td></tr>\n",
       "<tr><td>H2O connection proxy:</td>\n",
       "<td>None</td></tr>\n",
       "<tr><td>H2O internal security:</td>\n",
       "<td>False</td></tr>\n",
       "<tr><td>H2O API Extensions:</td>\n",
       "<td>XGBoost, Algos, AutoML, Core V3, Core V4</td></tr>\n",
       "<tr><td>Python version:</td>\n",
       "<td>3.6.0 final</td></tr></table></div>"
      ],
      "text/plain": [
       "--------------------------  --------------------------------------------------\n",
       "H2O cluster uptime:         10 secs\n",
       "H2O cluster timezone:       America/Los_Angeles\n",
       "H2O data parsing timezone:  UTC\n",
       "H2O cluster version:        3.20.0.2\n",
       "H2O cluster version age:    9 days\n",
       "H2O cluster name:           sparkling-water-megankurka_app-20180625132327-0000\n",
       "H2O cluster total nodes:    3\n",
       "H2O cluster free memory:    2.276 Gb\n",
       "H2O cluster total cores:    24\n",
       "H2O cluster allowed cores:  24\n",
       "H2O cluster status:         accepting new members, healthy\n",
       "H2O connection url:         http://172.16.2.48:54327\n",
       "H2O connection proxy:\n",
       "H2O internal security:      False\n",
       "H2O API Extensions:         XGBoost, Algos, AutoML, Core V3, Core V4\n",
       "Python version:             3.6.0 final\n",
       "--------------------------  --------------------------------------------------"
      ]
     },
     "metadata": {},
     "output_type": "display_data"
    },
    {
     "name": "stdout",
     "output_type": "stream",
     "text": [
      "\n",
      "Sparkling Water Context:\n",
      " * H2O name: sparkling-water-megankurka_app-20180625132327-0000\n",
      " * cluster size: 3\n",
      " * list of used nodes:\n",
      "  (executorId, host, port)\n",
      "  ------------------------\n",
      "  (2,172.16.2.48,54321)\n",
      "  (1,172.16.2.48,54325)\n",
      "  (0,172.16.2.48,54323)\n",
      "  ------------------------\n",
      "\n",
      "  Open H2O Flow in browser: http://172.16.2.48:54327 (CMD + click in Mac OSX)\n",
      "\n",
      "    \n"
     ]
    }
   ],
   "source": [
    "#Initiate H2OContext on top of Spark\n",
    "from pysparkling import *\n",
    "hc = H2OContext.getOrCreate(spark)"
   ]
  },
  {
   "cell_type": "code",
   "execution_count": 2,
   "metadata": {
    "collapsed": false
   },
   "outputs": [
    {
     "name": "stdout",
     "output_type": "stream",
     "text": [
      "Parse progress: |█████████████████████████████████████████████████████████| 100%\n"
     ]
    }
   ],
   "source": [
    "import h2o\n",
    "\n",
    "# Import data\n",
    "stock_data = h2o.import_file(\"https://s3.amazonaws.com/h2o-training/events/h2o_world/TimeSeries/all_stocks_2006-01-01_to_2018-01-01.csv\")"
   ]
  },
  {
   "cell_type": "code",
   "execution_count": 3,
   "metadata": {
    "collapsed": false
   },
   "outputs": [
    {
     "data": {
      "text/html": [
       "<table>\n",
       "<thead>\n",
       "<tr><th>Date               </th><th style=\"text-align: right;\">  Open</th><th style=\"text-align: right;\">  High</th><th style=\"text-align: right;\">  Low</th><th style=\"text-align: right;\">  Close</th><th style=\"text-align: right;\">    Volume</th><th>Name  </th></tr>\n",
       "</thead>\n",
       "<tbody>\n",
       "<tr><td>2006-01-03 00:00:00</td><td style=\"text-align: right;\"> 77.76</td><td style=\"text-align: right;\"> 79.35</td><td style=\"text-align: right;\">77.24</td><td style=\"text-align: right;\">  79.11</td><td style=\"text-align: right;\">3.1172e+06</td><td>MMM   </td></tr>\n",
       "<tr><td>2006-01-04 00:00:00</td><td style=\"text-align: right;\"> 79.49</td><td style=\"text-align: right;\"> 79.49</td><td style=\"text-align: right;\">78.25</td><td style=\"text-align: right;\">  78.71</td><td style=\"text-align: right;\">2.558e+06 </td><td>MMM   </td></tr>\n",
       "<tr><td>2006-01-05 00:00:00</td><td style=\"text-align: right;\"> 78.41</td><td style=\"text-align: right;\"> 78.65</td><td style=\"text-align: right;\">77.56</td><td style=\"text-align: right;\">  77.99</td><td style=\"text-align: right;\">2.5295e+06</td><td>MMM   </td></tr>\n",
       "<tr><td>2006-01-06 00:00:00</td><td style=\"text-align: right;\"> 78.64</td><td style=\"text-align: right;\"> 78.9 </td><td style=\"text-align: right;\">77.64</td><td style=\"text-align: right;\">  78.63</td><td style=\"text-align: right;\">2.4795e+06</td><td>MMM   </td></tr>\n",
       "<tr><td>2006-01-09 00:00:00</td><td style=\"text-align: right;\"> 78.5 </td><td style=\"text-align: right;\"> 79.83</td><td style=\"text-align: right;\">78.46</td><td style=\"text-align: right;\">  79.02</td><td style=\"text-align: right;\">1.8456e+06</td><td>MMM   </td></tr>\n",
       "<tr><td>2006-01-10 00:00:00</td><td style=\"text-align: right;\"> 79   </td><td style=\"text-align: right;\"> 79.01</td><td style=\"text-align: right;\">78.08</td><td style=\"text-align: right;\">  78.53</td><td style=\"text-align: right;\">1.9199e+06</td><td>MMM   </td></tr>\n",
       "<tr><td>2006-01-11 00:00:00</td><td style=\"text-align: right;\"> 78.44</td><td style=\"text-align: right;\"> 78.66</td><td style=\"text-align: right;\">77.84</td><td style=\"text-align: right;\">  78.37</td><td style=\"text-align: right;\">1.9119e+06</td><td>MMM   </td></tr>\n",
       "<tr><td>2006-01-12 00:00:00</td><td style=\"text-align: right;\"> 78.2 </td><td style=\"text-align: right;\"> 78.23</td><td style=\"text-align: right;\">77.2 </td><td style=\"text-align: right;\">  77.7 </td><td style=\"text-align: right;\">2.1211e+06</td><td>MMM   </td></tr>\n",
       "<tr><td>2006-01-13 00:00:00</td><td style=\"text-align: right;\"> 76.95</td><td style=\"text-align: right;\"> 78.2 </td><td style=\"text-align: right;\">76.95</td><td style=\"text-align: right;\">  77.5 </td><td style=\"text-align: right;\">1.9253e+06</td><td>MMM   </td></tr>\n",
       "<tr><td>2006-01-17 00:00:00</td><td style=\"text-align: right;\"> 77.1 </td><td style=\"text-align: right;\"> 77.62</td><td style=\"text-align: right;\">77   </td><td style=\"text-align: right;\">  77.09</td><td style=\"text-align: right;\">2.0734e+06</td><td>MMM   </td></tr>\n",
       "</tbody>\n",
       "</table>"
      ]
     },
     "metadata": {},
     "output_type": "display_data"
    },
    {
     "data": {
      "text/plain": []
     },
     "execution_count": 3,
     "metadata": {},
     "output_type": "execute_result"
    }
   ],
   "source": [
    "stock_data.head()"
   ]
  },
  {
   "cell_type": "markdown",
   "metadata": {},
   "source": [
    "We can use H2O to get an understanding of our data.  We see that we have 11 years of data."
   ]
  },
  {
   "cell_type": "code",
   "execution_count": 4,
   "metadata": {
    "collapsed": false
   },
   "outputs": [
    {
     "name": "stdout",
     "output_type": "stream",
     "text": [
      "# of Companies: 31\n",
      "Time Range: 2006 to 2017\n"
     ]
    }
   ],
   "source": [
    "print(\"# of Companies: \" + str(stock_data[\"Name\"].unique().nrow))\n",
    "print(\"Time Range: \" + str(int(stock_data[\"Date\"].year().min())) + \" to \" + str(int(stock_data[\"Date\"].year().max())))"
   ]
  },
  {
   "cell_type": "markdown",
   "metadata": {},
   "source": [
    "## Feature Engineering\n",
    "\n",
    "We will add new features to our data that can help predict the Volume for a given company.  Features that tell us:\n",
    "* what was the Volume price for a company yesterday, two days ago, three days ago?  \n",
    "* what was the Close price, Open price, High price, Low price for a company yesterday?\n",
    "\n",
    "can be very predictive in forecasting.  To create these features we will use PySpark's window function."
   ]
  },
  {
   "cell_type": "code",
   "execution_count": 6,
   "metadata": {
    "collapsed": false
   },
   "outputs": [],
   "source": [
    "## Convert Stock Data to Spark DataFrame\n",
    "stock_df = hc.as_spark_frame(stock_data)"
   ]
  },
  {
   "cell_type": "code",
   "execution_count": 7,
   "metadata": {
    "collapsed": false
   },
   "outputs": [],
   "source": [
    "## Add Close from the Previous Day, Previous 2 days, Previous 3 days per Company\n",
    "from pyspark.sql.functions import lag, col\n",
    "from pyspark.sql.window import Window\n",
    "\n",
    "\n",
    "w = Window().partitionBy(col(\"Name\")).orderBy(col(\"Date\"))\n",
    "ext_stock_df = stock_df.select(\"*\", lag(\"Volume\", count = 1).over(w).alias(\"Volume_lag1\"),\n",
    "               lag(\"Volume\", count = 2).over(w).alias(\"Volume_lag2\"),\n",
    "               lag(\"Volume\", count = 3).over(w).alias(\"Volume_lag3\")).na.drop()"
   ]
  },
  {
   "cell_type": "code",
   "execution_count": 8,
   "metadata": {
    "collapsed": false
   },
   "outputs": [
    {
     "name": "stdout",
     "output_type": "stream",
     "text": [
      "+-------------------+-----+-----+-----+-----+-------+----+-----------+-----------+-----------+\n",
      "|               Date| Open| High|  Low|Close| Volume|Name|Volume_lag1|Volume_lag2|Volume_lag3|\n",
      "+-------------------+-----+-----+-----+-----+-------+----+-----------+-----------+-----------+\n",
      "|2006-01-05 16:00:00|78.64| 78.9|77.64|78.63|2479500| MMM|    2529500|    2558000|    3117200|\n",
      "|2006-01-08 16:00:00| 78.5|79.83|78.46|79.02|1845600| MMM|    2479500|    2529500|    2558000|\n",
      "|2006-01-09 16:00:00| 79.0|79.01|78.08|78.53|1919900| MMM|    1845600|    2479500|    2529500|\n",
      "|2006-01-10 16:00:00|78.44|78.66|77.84|78.37|1911900| MMM|    1919900|    1845600|    2479500|\n",
      "|2006-01-11 16:00:00| 78.2|78.23| 77.2| 77.7|2121100| MMM|    1911900|    1919900|    1845600|\n",
      "|2006-01-12 16:00:00|76.95| 78.2|76.95| 77.5|1925300| MMM|    2121100|    1911900|    1919900|\n",
      "|2006-01-16 16:00:00| 77.1|77.62| 77.0|77.09|2073400| MMM|    1925300|    2121100|    1911900|\n",
      "|2006-01-17 16:00:00| 77.0|77.28|76.52|76.99|1838400| MMM|    2073400|    1925300|    2121100|\n",
      "|2006-01-18 16:00:00|77.19|77.37| 76.7|76.91|1807100| MMM|    1838400|    2073400|    1925300|\n",
      "|2006-01-19 16:00:00|76.91|76.91|75.18|75.24|3286900| MMM|    1807100|    1838400|    2073400|\n",
      "|2006-01-22 16:00:00| 75.5|76.23|74.81| 75.7|2953500| MMM|    3286900|    1807100|    1838400|\n",
      "|2006-01-23 16:00:00|74.01| 75.6|73.72| 74.2|5511200| MMM|    2953500|    3286900|    1807100|\n",
      "|2006-01-24 16:00:00|73.25|73.83|72.75| 73.0|7475200| MMM|    5511200|    2953500|    3286900|\n",
      "|2006-01-25 16:00:00|73.22|73.43|72.02| 72.7|5027500| MMM|    7475200|    5511200|    2953500|\n",
      "|2006-01-26 16:00:00|72.45|73.25| 72.4|72.65|3813100| MMM|    5027500|    7475200|    5511200|\n",
      "|2006-01-29 16:00:00| 72.9|73.34|72.42|72.65|3463600| MMM|    3813100|    5027500|    7475200|\n",
      "|2006-01-30 16:00:00| 72.4|73.25|71.96|72.75|5317900| MMM|    3463600|    3813100|    5027500|\n",
      "|2006-01-31 16:00:00| 72.3| 73.4|72.01|73.19|3828100| MMM|    5317900|    3463600|    3813100|\n",
      "|2006-02-01 16:00:00|73.16|73.68|72.05|72.15|3207100| MMM|    3828100|    5317900|    3463600|\n",
      "|2006-02-02 16:00:00|71.75|72.09| 71.0| 71.1|3258300| MMM|    3207100|    3828100|    5317900|\n",
      "+-------------------+-----+-----+-----+-----+-------+----+-----------+-----------+-----------+\n",
      "only showing top 20 rows\n",
      "\n"
     ]
    }
   ],
   "source": [
    "ext_stock_df.show()"
   ]
  },
  {
   "cell_type": "code",
   "execution_count": 9,
   "metadata": {
    "collapsed": true
   },
   "outputs": [],
   "source": [
    "## Add Close, Open, Low, and High by Company for Previous day per Company\n",
    "\n",
    "ext_stock_df = ext_stock_df.select(\"*\", lag(\"Close\", count = 1).over(w).alias(\"Close_lag1\")).na.drop()\n",
    "ext_stock_df = ext_stock_df.select(\"*\", lag(\"Low\", count = 1).over(w).alias(\"Low_lag1\")).na.drop()\n",
    "ext_stock_df = ext_stock_df.select(\"*\", lag(\"High\", count = 1).over(w).alias(\"High_lag1\")).na.drop()\n",
    "ext_stock_df = ext_stock_df.select(\"*\", lag(\"Open\", count = 1).over(w).alias(\"Open_lag1\")).na.drop()"
   ]
  },
  {
   "cell_type": "code",
   "execution_count": 10,
   "metadata": {
    "collapsed": false
   },
   "outputs": [],
   "source": [
    "## Convert Spark DataFrame to H2O Frame\n",
    "\n",
    "ext_stock_hf = hc.as_h2o_frame(ext_stock_df, \"stockWithLagsTable\")"
   ]
  },
  {
   "cell_type": "code",
   "execution_count": 11,
   "metadata": {
    "collapsed": false
   },
   "outputs": [],
   "source": [
    "## Convert strings to categoricals\n",
    "ext_stock_hf[\"Name\"] = ext_stock_hf[\"Name\"].asfactor()"
   ]
  },
  {
   "cell_type": "markdown",
   "metadata": {},
   "source": [
    "## Model Training\n",
    "\n",
    "We will now train our random forest model with our added features to check if we see a performance lift."
   ]
  },
  {
   "cell_type": "code",
   "execution_count": 12,
   "metadata": {
    "collapsed": true
   },
   "outputs": [],
   "source": [
    "# Set Predictors\n",
    "predictors = list(set(ext_stock_hf.col_names) - set([\"Volume\", \"Open\", \"Close\", \"High\", \"Low\"]))\n",
    "response = \"Volume\""
   ]
  },
  {
   "cell_type": "code",
   "execution_count": 13,
   "metadata": {
    "collapsed": true
   },
   "outputs": [],
   "source": [
    "# Split data into training and testing by time\n",
    "\n",
    "is_test = (ext_stock_hf[\"Date\"].year() == 2017) & (ext_stock_hf[\"Date\"].month() == 12) & (ext_stock_hf[\"Date\"].day() == 29)\n",
    "\n",
    "train = ext_stock_hf[is_test == 0]\n",
    "test = ext_stock_hf[is_test == 1]"
   ]
  },
  {
   "cell_type": "code",
   "execution_count": 15,
   "metadata": {
    "collapsed": false
   },
   "outputs": [
    {
     "name": "stdout",
     "output_type": "stream",
     "text": [
      "drf Model Build progress: |███████████████████████████████████████████████| 100%\n"
     ]
    }
   ],
   "source": [
    "# Train Random Forest\n",
    "from h2o.estimators import H2ORandomForestEstimator\n",
    "drf_model = H2ORandomForestEstimator(model_id = \"drf_model.hex\",\n",
    "                                        seed = 1234, ntrees = 5\n",
    "                                       )\n",
    "drf_model.train(x = predictors, y = response, training_frame = train, validation_frame = test)"
   ]
  },
  {
   "cell_type": "code",
   "execution_count": 23,
   "metadata": {
    "collapsed": false
   },
   "outputs": [
    {
     "name": "stdout",
     "output_type": "stream",
     "text": [
      "drf prediction progress: |████████████████████████████████████████████████| 100%\n",
      "Mean Absolute Percent Error: 19%\n"
     ]
    }
   ],
   "source": [
    "preds = drf_model.predict(test)\n",
    "mape = ((test[\"Volume\"] - preds).abs()/test[\"Volume\"]).mean()[0]\n",
    "print(\"Mean Absolute Percent Error: \" + \"{0:.0f}%\".format(100*mape))"
   ]
  },
  {
   "cell_type": "markdown",
   "metadata": {},
   "source": [
    "The graph below shows the variable importance for the new random forest model.  The most important predictors are the volume lags.  We can use the partial dependency plots to see the relationship between these features and the model's prediction."
   ]
  },
  {
   "cell_type": "code",
   "execution_count": 25,
   "metadata": {
    "collapsed": false
   },
   "outputs": [
    {
     "data": {
      "image/png": "[encoded data removed]",
      "text/plain": [
       "<matplotlib.figure.Figure at 0x11861da90>"
      ]
     },
     "metadata": {},
     "output_type": "display_data"
    }
   ],
   "source": [
    "drf_model.varimp_plot()"
   ]
  },
  {
   "cell_type": "code",
   "execution_count": 36,
   "metadata": {
    "collapsed": false
   },
   "outputs": [
    {
     "name": "stdout",
     "output_type": "stream",
     "text": [
      "PartialDependencePlot progress: |█████████████████████████████████████████| 100%\n"
     ]
    },
    {
     "data": {
      "image/png": "[encoded data removed]",
      "text/plain": [
       "<matplotlib.figure.Figure at 0x119030ba8>"
      ]
     },
     "metadata": {},
     "output_type": "display_data"
    }
   ],
   "source": [
    "%matplotlib inline\n",
    "# Filter data to common volume\n",
    "max_volume = train[\"Volume\"].quantile(prob = [0.9])[0, 1]\n",
    "pdp_data = train[(train[\"Volume_lag1\"] < max_volume) & \n",
    "                 (train[\"Volume_lag2\"] < max_volume) & \n",
    "                 (train[\"Volume_lag3\"] < max_volume) ]\n",
    "# create pdp's\n",
    "pdps = drf_model.partial_plot(data = pdp_data, cols = [\"Volume_lag1\", \"Volume_lag2\", \"Volume_lag3\"])"
   ]
  },
  {
   "cell_type": "markdown",
   "metadata": {},
   "source": [
    "The partial plots show that the Close price is directly related to the stock prices from the previous day.\n",
    "\n",
    "## AutoML in Flow\n",
    "\n",
    "Now we can try running AutoML in Flow to see if we can improve the results even further."
   ]
  },
  {
   "cell_type": "code",
   "execution_count": 37,
   "metadata": {
    "collapsed": false
   },
   "outputs": [
    {
     "name": "stdout",
     "output_type": "stream",
     "text": [
      "Train ID: py_7_sid_a38c\n",
      "Test ID: py_8_sid_a38c\n"
     ]
    }
   ],
   "source": [
    "print(\"Train ID: \" + train.frame_id)\n",
    "print(\"Test ID: \" + test.frame_id)"
   ]
  },
  {
   "cell_type": "markdown",
   "metadata": {
    "collapsed": true
   },
   "source": [
    "To use AutoML select the AutoML option in the Model menu.\n",
    "\n",
    "![menu](automl_menu.png)"
   ]
  },
  {
   "cell_type": "markdown",
   "metadata": {},
   "source": [
    "Then we can provide AutoML with the training dataset, the predictors, and any columns that should be ignored.  \n",
    "![problem](automl_problem.png)"
   ]
  },
  {
   "cell_type": "markdown",
   "metadata": {},
   "source": [
    "Lastly, we will add the test data as our leaderboard data and set AutoML to run for 2 minutes.\n",
    "![params](automl_params.png)"
   ]
  },
  {
   "cell_type": "code",
   "execution_count": null,
   "metadata": {
    "collapsed": true
   },
   "outputs": [],
   "source": []
  }
 ],
 "metadata": {
  "kernelspec": {
   "display_name": "PySparkling",
   "language": "python",
   "name": "pyspark"
  },
  "language_info": {
   "codemirror_mode": {
    "name": "ipython",
    "version": 3
   },
   "file_extension": ".py",
   "mimetype": "text/x-python",
   "name": "python",
   "nbconvert_exporter": "python",
   "pygments_lexer": "ipython3",
   "version": "3.6.0"
  }
 },
 "nbformat": 4,
 "nbformat_minor": 2
}
