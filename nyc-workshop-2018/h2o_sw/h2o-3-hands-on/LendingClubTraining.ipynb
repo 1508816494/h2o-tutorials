{
 "cells": [
  {
   "cell_type": "markdown",
   "metadata": {},
   "source": [
    "## Lending Club Training\n",
    "\n",
    "In this tutorial, we will go through a workflow step by step where our goal is to determine which loans will not be fully paid off based on information we know at the time the loan was issued.  Our data is a portion of the public lending club dataset.\n",
    "\n",
    "### Workflow\n",
    "\n",
    "1. Start H2O Cluster\n",
    "2. Import data\n",
    "3. Clean data\n",
    "4. Feature Engineering\n",
    "5. Model Training\n",
    "6. Examine Performance\n",
    "7. Interpret Model\n",
    "\n",
    "### Start H2O Cluster"
   ]
  },
  {
   "cell_type": "code",
   "execution_count": 1,
   "metadata": {
    "collapsed": false
   },
   "outputs": [
    {
     "name": "stdout",
     "output_type": "stream",
     "text": [
      "Checking whether there is an H2O instance running at http://localhost:54321..... not found.\n",
      "Attempting to start a local H2O server...\n",
      "  Java Version: java version \"1.7.0_80\"; Java(TM) SE Runtime Environment (build 1.7.0_80-b15); Java HotSpot(TM) 64-Bit Server VM (build 24.80-b11, mixed mode)\n",
      "  Starting server from /Users/megankurka/anaconda3/lib/python3.6/site-packages/h2o/backend/bin/h2o.jar\n",
      "  Ice root: /var/folders/gv/w2f3zs_d33l3dt5j67k9nhhr0000gn/T/tmpqlbk2q1g\n",
      "  JVM stdout: /var/folders/gv/w2f3zs_d33l3dt5j67k9nhhr0000gn/T/tmpqlbk2q1g/h2o_megankurka_started_from_python.out\n",
      "  JVM stderr: /var/folders/gv/w2f3zs_d33l3dt5j67k9nhhr0000gn/T/tmpqlbk2q1g/h2o_megankurka_started_from_python.err\n",
      "  Server is running at http://127.0.0.1:54321\n",
      "Connecting to H2O server at http://127.0.0.1:54321... successful.\n"
     ]
    },
    {
     "data": {
      "text/html": [
       "<div style=\"overflow:auto\"><table style=\"width:50%\"><tr><td>H2O cluster uptime:</td>\n",
       "<td>04 secs</td></tr>\n",
       "<tr><td>H2O cluster timezone:</td>\n",
       "<td>America/Los_Angeles</td></tr>\n",
       "<tr><td>H2O data parsing timezone:</td>\n",
       "<td>UTC</td></tr>\n",
       "<tr><td>H2O cluster version:</td>\n",
       "<td>3.20.0.2</td></tr>\n",
       "<tr><td>H2O cluster version age:</td>\n",
       "<td>9 days </td></tr>\n",
       "<tr><td>H2O cluster name:</td>\n",
       "<td>H2O_from_python_megankurka_gjktnp</td></tr>\n",
       "<tr><td>H2O cluster total nodes:</td>\n",
       "<td>1</td></tr>\n",
       "<tr><td>H2O cluster free memory:</td>\n",
       "<td>3.556 Gb</td></tr>\n",
       "<tr><td>H2O cluster total cores:</td>\n",
       "<td>8</td></tr>\n",
       "<tr><td>H2O cluster allowed cores:</td>\n",
       "<td>8</td></tr>\n",
       "<tr><td>H2O cluster status:</td>\n",
       "<td>accepting new members, healthy</td></tr>\n",
       "<tr><td>H2O connection url:</td>\n",
       "<td>http://127.0.0.1:54321</td></tr>\n",
       "<tr><td>H2O connection proxy:</td>\n",
       "<td>None</td></tr>\n",
       "<tr><td>H2O internal security:</td>\n",
       "<td>False</td></tr>\n",
       "<tr><td>H2O API Extensions:</td>\n",
       "<td>AutoML, XGBoost, Algos, Core V3, Core V4</td></tr>\n",
       "<tr><td>Python version:</td>\n",
       "<td>3.6.0 final</td></tr></table></div>"
      ],
      "text/plain": [
       "--------------------------  ----------------------------------------\n",
       "H2O cluster uptime:         04 secs\n",
       "H2O cluster timezone:       America/Los_Angeles\n",
       "H2O data parsing timezone:  UTC\n",
       "H2O cluster version:        3.20.0.2\n",
       "H2O cluster version age:    9 days\n",
       "H2O cluster name:           H2O_from_python_megankurka_gjktnp\n",
       "H2O cluster total nodes:    1\n",
       "H2O cluster free memory:    3.556 Gb\n",
       "H2O cluster total cores:    8\n",
       "H2O cluster allowed cores:  8\n",
       "H2O cluster status:         accepting new members, healthy\n",
       "H2O connection url:         http://127.0.0.1:54321\n",
       "H2O connection proxy:\n",
       "H2O internal security:      False\n",
       "H2O API Extensions:         AutoML, XGBoost, Algos, Core V3, Core V4\n",
       "Python version:             3.6.0 final\n",
       "--------------------------  ----------------------------------------"
      ]
     },
     "metadata": {},
     "output_type": "display_data"
    }
   ],
   "source": [
    "import h2o\n",
    "h2o.init()"
   ]
  },
  {
   "cell_type": "markdown",
   "metadata": {},
   "source": [
    "### View Data"
   ]
  },
  {
   "cell_type": "code",
   "execution_count": 2,
   "metadata": {
    "collapsed": false
   },
   "outputs": [
    {
     "name": "stdout",
     "output_type": "stream",
     "text": [
      "Parse progress: |█████████████████████████████████████████████████████████| 100%\n"
     ]
    }
   ],
   "source": [
    "loans = h2o.import_file(\"https://s3.amazonaws.com/h2o-public-test-data/bigdata/laptop/lending-club/LoanStats3a.csv\",\n",
    "                        col_types = {\"int_rate\":\"string\", \n",
    "                                    \"revol_util\":\"string\", \n",
    "                                    \"emp_length\":\"string\", \n",
    "                                    \"verification_status\":\"string\"})"
   ]
  },
  {
   "cell_type": "code",
   "execution_count": 3,
   "metadata": {
    "collapsed": false
   },
   "outputs": [
    {
     "data": {
      "text/plain": [
       "[42538, 52]"
      ]
     },
     "execution_count": 3,
     "metadata": {},
     "output_type": "execute_result"
    }
   ],
   "source": [
    "loans.dim"
   ]
  },
  {
   "cell_type": "code",
   "execution_count": 4,
   "metadata": {
    "collapsed": false
   },
   "outputs": [
    {
     "data": {
      "text/html": [
       "<table>\n",
       "<thead>\n",
       "<tr><th style=\"text-align: right;\">         id</th><th style=\"text-align: right;\">  member_id</th><th style=\"text-align: right;\">  loan_amnt</th><th style=\"text-align: right;\">  funded_amnt</th><th style=\"text-align: right;\">  funded_amnt_inv</th><th>term     </th><th>int_rate  </th><th style=\"text-align: right;\">  installment</th><th>grade  </th><th>sub_grade  </th><th>emp_title                </th><th>emp_length  </th><th>home_ownership  </th><th style=\"text-align: right;\">  annual_inc</th><th>verification_status     </th><th>issue_d            </th><th>loan_status  </th><th>pymnt_plan  </th><th>url                                                                 </th><th>desc                                                                                                                                                                                                                                                                                                                                                                                                                                                                                                                                                                                                        </th><th>purpose           </th><th>title                                </th><th>zip_code  </th><th>addr_state  </th><th style=\"text-align: right;\">  dti</th><th style=\"text-align: right;\">  delinq_2yrs</th><th>earliest_cr_line   </th><th style=\"text-align: right;\">  inq_last_6mths</th><th>mths_since_last_delinq  </th><th>mths_since_last_record  </th><th style=\"text-align: right;\">  open_acc</th><th style=\"text-align: right;\">  pub_rec</th><th style=\"text-align: right;\">  revol_bal</th><th>revol_util  </th><th style=\"text-align: right;\">  total_acc</th><th>initial_list_status  </th><th style=\"text-align: right;\">  out_prncp</th><th style=\"text-align: right;\">  out_prncp_inv</th><th style=\"text-align: right;\">  total_pymnt</th><th style=\"text-align: right;\">  total_pymnt_inv</th><th style=\"text-align: right;\">  total_rec_prncp</th><th style=\"text-align: right;\">  total_rec_int</th><th style=\"text-align: right;\">  total_rec_late_fee</th><th style=\"text-align: right;\">  recoveries</th><th style=\"text-align: right;\">  collection_recovery_fee</th><th>last_pymnt_d       </th><th style=\"text-align: right;\">  last_pymnt_amnt</th><th>next_pymnt_d       </th><th>last_credit_pull_d  </th><th style=\"text-align: right;\">  collections_12_mths_ex_med</th><th>mths_since_last_major_derog  </th><th style=\"text-align: right;\">  policy_code</th></tr>\n",
       "</thead>\n",
       "<tbody>\n",
       "<tr><td style=\"text-align: right;\">1.0775e+06 </td><td style=\"text-align: right;\">1.2966e+06 </td><td style=\"text-align: right;\">       5000</td><td style=\"text-align: right;\">         5000</td><td style=\"text-align: right;\">             4975</td><td>36 months</td><td>10.65%    </td><td style=\"text-align: right;\">       162.87</td><td>B      </td><td>B2         </td><td>                         </td><td>10+ years   </td><td>RENT            </td><td style=\"text-align: right;\">       24000</td><td>VERIFIED - income       </td><td>2011-12-01 00:00:00</td><td>Fully Paid   </td><td>n           </td><td>https://www.lendingclub.com/browse/loanDetail.action?loan_id=1077501</td><td>Borrower added on 12/22/11 > I need to upgrade my business technologies.<br>                                                                                                                                                                                                                                                                                                                                                                                                                                                                                                                                </td><td>credit_card       </td><td>Computer                             </td><td>860xx     </td><td>AZ          </td><td style=\"text-align: right;\">27.65</td><td style=\"text-align: right;\">            0</td><td>1985-01-01 00:00:00</td><td style=\"text-align: right;\">               1</td><td>                        </td><td>                        </td><td style=\"text-align: right;\">         3</td><td style=\"text-align: right;\">        0</td><td style=\"text-align: right;\">      13648</td><td>83.7%       </td><td style=\"text-align: right;\">          9</td><td>f                    </td><td style=\"text-align: right;\">       0   </td><td style=\"text-align: right;\">           0   </td><td style=\"text-align: right;\">      5861.07</td><td style=\"text-align: right;\">          5831.78</td><td style=\"text-align: right;\">          5000   </td><td style=\"text-align: right;\">         861.07</td><td style=\"text-align: right;\">                0   </td><td style=\"text-align: right;\">        0   </td><td style=\"text-align: right;\">                     0   </td><td>2015-01-01 00:00:00</td><td style=\"text-align: right;\">           171.62</td><td>                   </td><td>2015-01-01 00:00:00 </td><td style=\"text-align: right;\">                           0</td><td>                             </td><td style=\"text-align: right;\">            1</td></tr>\n",
       "<tr><td style=\"text-align: right;\">1.07743e+06</td><td style=\"text-align: right;\">1.31417e+06</td><td style=\"text-align: right;\">       2500</td><td style=\"text-align: right;\">         2500</td><td style=\"text-align: right;\">             2500</td><td>60 months</td><td>15.27%    </td><td style=\"text-align: right;\">        59.83</td><td>C      </td><td>C4         </td><td>Ryder                    </td><td>< 1 year    </td><td>RENT            </td><td style=\"text-align: right;\">       30000</td><td>VERIFIED - income source</td><td>2011-12-01 00:00:00</td><td>Charged Off  </td><td>n           </td><td>https://www.lendingclub.com/browse/loanDetail.action?loan_id=1077430</td><td>Borrower added on 12/22/11 > I plan to use this money to finance the motorcycle i am looking at. I plan to have it paid off as soon as possible/when i sell my old bike. I only need this money because the deal im looking at is to good to pass up.<br><br>  Borrower added on 12/22/11 > I plan to use this money to finance the motorcycle i am looking at. I plan to have it paid off as soon as possible/when i sell my old bike.I only need this money because the deal im looking at is to good to pass up. I have finished college with an associates degree in business and its takingmeplaces<br></td><td>car               </td><td>bike                                 </td><td>309xx     </td><td>GA          </td><td style=\"text-align: right;\"> 1   </td><td style=\"text-align: right;\">            0</td><td>1999-04-01 00:00:00</td><td style=\"text-align: right;\">               5</td><td>                        </td><td>                        </td><td style=\"text-align: right;\">         3</td><td style=\"text-align: right;\">        0</td><td style=\"text-align: right;\">       1687</td><td>9.4%        </td><td style=\"text-align: right;\">          4</td><td>f                    </td><td style=\"text-align: right;\">       0   </td><td style=\"text-align: right;\">           0   </td><td style=\"text-align: right;\">      1008.71</td><td style=\"text-align: right;\">          1008.71</td><td style=\"text-align: right;\">           456.46</td><td style=\"text-align: right;\">         435.17</td><td style=\"text-align: right;\">                0   </td><td style=\"text-align: right;\">      117.08</td><td style=\"text-align: right;\">                     1.11</td><td>2013-04-01 00:00:00</td><td style=\"text-align: right;\">           119.66</td><td>                   </td><td>2013-09-01 00:00:00 </td><td style=\"text-align: right;\">                           0</td><td>                             </td><td style=\"text-align: right;\">            1</td></tr>\n",
       "<tr><td style=\"text-align: right;\">1.07718e+06</td><td style=\"text-align: right;\">1.31352e+06</td><td style=\"text-align: right;\">       2400</td><td style=\"text-align: right;\">         2400</td><td style=\"text-align: right;\">             2400</td><td>36 months</td><td>15.96%    </td><td style=\"text-align: right;\">        84.33</td><td>C      </td><td>C5         </td><td>                         </td><td>10+ years   </td><td>RENT            </td><td style=\"text-align: right;\">       12252</td><td>not verified            </td><td>2011-12-01 00:00:00</td><td>Fully Paid   </td><td>n           </td><td>https://www.lendingclub.com/browse/loanDetail.action?loan_id=1077175</td><td>                                                                                                                                                                                                                                                                                                                                                                                                                                                                                                                                                                                                            </td><td>small_business    </td><td>real estate business                 </td><td>606xx     </td><td>IL          </td><td style=\"text-align: right;\"> 8.72</td><td style=\"text-align: right;\">            0</td><td>2001-11-01 00:00:00</td><td style=\"text-align: right;\">               2</td><td>                        </td><td>                        </td><td style=\"text-align: right;\">         2</td><td style=\"text-align: right;\">        0</td><td style=\"text-align: right;\">       2956</td><td>98.5%       </td><td style=\"text-align: right;\">         10</td><td>f                    </td><td style=\"text-align: right;\">       0   </td><td style=\"text-align: right;\">           0   </td><td style=\"text-align: right;\">      3003.65</td><td style=\"text-align: right;\">          3003.65</td><td style=\"text-align: right;\">          2400   </td><td style=\"text-align: right;\">         603.65</td><td style=\"text-align: right;\">                0   </td><td style=\"text-align: right;\">        0   </td><td style=\"text-align: right;\">                     0   </td><td>2014-06-01 00:00:00</td><td style=\"text-align: right;\">           649.91</td><td>                   </td><td>2015-06-01 00:00:00 </td><td style=\"text-align: right;\">                           0</td><td>                             </td><td style=\"text-align: right;\">            1</td></tr>\n",
       "<tr><td style=\"text-align: right;\">1.07686e+06</td><td style=\"text-align: right;\">1.27718e+06</td><td style=\"text-align: right;\">      10000</td><td style=\"text-align: right;\">        10000</td><td style=\"text-align: right;\">            10000</td><td>36 months</td><td>13.49%    </td><td style=\"text-align: right;\">       339.31</td><td>C      </td><td>C1         </td><td>AIR RESOURCES BOARD      </td><td>10+ years   </td><td>RENT            </td><td style=\"text-align: right;\">       49200</td><td>VERIFIED - income source</td><td>2011-12-01 00:00:00</td><td>Fully Paid   </td><td>n           </td><td>https://www.lendingclub.com/browse/loanDetail.action?loan_id=1076863</td><td>Borrower added on 12/21/11 > to pay for property tax (borrow from friend, need to pay back) & central A/C need to be replace. I'm very sorry to let my loan expired last time.<br>                                                                                                                                                                                                                                                                                                                                                                                                                          </td><td>other             </td><td>personel                             </td><td>917xx     </td><td>CA          </td><td style=\"text-align: right;\">20   </td><td style=\"text-align: right;\">            0</td><td>1996-02-01 00:00:00</td><td style=\"text-align: right;\">               1</td><td>35                      </td><td>                        </td><td style=\"text-align: right;\">        10</td><td style=\"text-align: right;\">        0</td><td style=\"text-align: right;\">       5598</td><td>21%         </td><td style=\"text-align: right;\">         37</td><td>f                    </td><td style=\"text-align: right;\">       0   </td><td style=\"text-align: right;\">           0   </td><td style=\"text-align: right;\">     12226.3 </td><td style=\"text-align: right;\">         12226.3 </td><td style=\"text-align: right;\">         10000   </td><td style=\"text-align: right;\">        2209.33</td><td style=\"text-align: right;\">               16.97</td><td style=\"text-align: right;\">        0   </td><td style=\"text-align: right;\">                     0   </td><td>2015-01-01 00:00:00</td><td style=\"text-align: right;\">           357.48</td><td>                   </td><td>2015-01-01 00:00:00 </td><td style=\"text-align: right;\">                           0</td><td>                             </td><td style=\"text-align: right;\">            1</td></tr>\n",
       "<tr><td style=\"text-align: right;\">1.07536e+06</td><td style=\"text-align: right;\">1.31175e+06</td><td style=\"text-align: right;\">       3000</td><td style=\"text-align: right;\">         3000</td><td style=\"text-align: right;\">             3000</td><td>60 months</td><td>12.69%    </td><td style=\"text-align: right;\">        67.79</td><td>B      </td><td>B5         </td><td>University Medical Group </td><td>1 year      </td><td>RENT            </td><td style=\"text-align: right;\">       80000</td><td>VERIFIED - income source</td><td>2011-12-01 00:00:00</td><td>Current      </td><td>n           </td><td>https://www.lendingclub.com/browse/loanDetail.action?loan_id=1075358</td><td>Borrower added on 12/21/11 > I plan on combining three large interest bills together and freeing up some extra each month to pay toward other bills.  I've always been a good payor but have found myself needing to make adjustments to my budget due to a medical scare. My job is very stable, I love it.<br>                                                                                                                                                                                                                                                                                            </td><td>other             </td><td>Personal                             </td><td>972xx     </td><td>OR          </td><td style=\"text-align: right;\">17.94</td><td style=\"text-align: right;\">            0</td><td>1996-01-01 00:00:00</td><td style=\"text-align: right;\">               0</td><td>38                      </td><td>                        </td><td style=\"text-align: right;\">        15</td><td style=\"text-align: right;\">        0</td><td style=\"text-align: right;\">      27783</td><td>53.9%       </td><td style=\"text-align: right;\">         38</td><td>f                    </td><td style=\"text-align: right;\">    1168.04</td><td style=\"text-align: right;\">        1168.04</td><td style=\"text-align: right;\">      2767.64</td><td style=\"text-align: right;\">          2767.64</td><td style=\"text-align: right;\">          1831.96</td><td style=\"text-align: right;\">         935.68</td><td style=\"text-align: right;\">                0   </td><td style=\"text-align: right;\">        0   </td><td style=\"text-align: right;\">                     0   </td><td>2015-06-01 00:00:00</td><td style=\"text-align: right;\">            67.79</td><td>2015-07-01 00:00:00</td><td>2015-06-01 00:00:00 </td><td style=\"text-align: right;\">                           0</td><td>                             </td><td style=\"text-align: right;\">            1</td></tr>\n",
       "<tr><td style=\"text-align: right;\">1.07527e+06</td><td style=\"text-align: right;\">1.31144e+06</td><td style=\"text-align: right;\">       5000</td><td style=\"text-align: right;\">         5000</td><td style=\"text-align: right;\">             5000</td><td>36 months</td><td>7.90%     </td><td style=\"text-align: right;\">       156.46</td><td>A      </td><td>A4         </td><td>Veolia Transportaton     </td><td>3 years     </td><td>RENT            </td><td style=\"text-align: right;\">       36000</td><td>VERIFIED - income source</td><td>2011-12-01 00:00:00</td><td>Fully Paid   </td><td>n           </td><td>https://www.lendingclub.com/browse/loanDetail.action?loan_id=1075269</td><td>                                                                                                                                                                                                                                                                                                                                                                                                                                                                                                                                                                                                            </td><td>wedding           </td><td>My wedding loan I promise to pay back</td><td>852xx     </td><td>AZ          </td><td style=\"text-align: right;\">11.2 </td><td style=\"text-align: right;\">            0</td><td>2004-11-01 00:00:00</td><td style=\"text-align: right;\">               3</td><td>                        </td><td>                        </td><td style=\"text-align: right;\">         9</td><td style=\"text-align: right;\">        0</td><td style=\"text-align: right;\">       7963</td><td>28.3%       </td><td style=\"text-align: right;\">         12</td><td>f                    </td><td style=\"text-align: right;\">       0   </td><td style=\"text-align: right;\">           0   </td><td style=\"text-align: right;\">      5631.38</td><td style=\"text-align: right;\">          5631.38</td><td style=\"text-align: right;\">          5000   </td><td style=\"text-align: right;\">         631.38</td><td style=\"text-align: right;\">                0   </td><td style=\"text-align: right;\">        0   </td><td style=\"text-align: right;\">                     0   </td><td>2015-01-01 00:00:00</td><td style=\"text-align: right;\">           161.03</td><td>                   </td><td>2015-06-01 00:00:00 </td><td style=\"text-align: right;\">                           0</td><td>                             </td><td style=\"text-align: right;\">            1</td></tr>\n",
       "<tr><td style=\"text-align: right;\">1.06964e+06</td><td style=\"text-align: right;\">1.30474e+06</td><td style=\"text-align: right;\">       7000</td><td style=\"text-align: right;\">         7000</td><td style=\"text-align: right;\">             7000</td><td>60 months</td><td>15.96%    </td><td style=\"text-align: right;\">       170.08</td><td>C      </td><td>C5         </td><td>Southern Star Photography</td><td>8 years     </td><td>RENT            </td><td style=\"text-align: right;\">       47004</td><td>not verified            </td><td>2011-12-01 00:00:00</td><td>Current      </td><td>n           </td><td>https://www.lendingclub.com/browse/loanDetail.action?loan_id=1069639</td><td>Borrower added on 12/18/11 > I am planning on using the funds to pay off two retail credit cards with 24.99% interest rates, as well as a major bank credit card with a 18.99% rate.  I pay all my bills on time, looking for a lower combined payment and lower monthly payment.<br>                                                                                                                                                                                                                                                                                                                       </td><td>debt_consolidation</td><td>Loan                                 </td><td>280xx     </td><td>NC          </td><td style=\"text-align: right;\">23.51</td><td style=\"text-align: right;\">            0</td><td>2005-07-01 00:00:00</td><td style=\"text-align: right;\">               1</td><td>                        </td><td>                        </td><td style=\"text-align: right;\">         7</td><td style=\"text-align: right;\">        0</td><td style=\"text-align: right;\">      17726</td><td>85.6%       </td><td style=\"text-align: right;\">         11</td><td>f                    </td><td style=\"text-align: right;\">    2853.21</td><td style=\"text-align: right;\">        2853.21</td><td style=\"text-align: right;\">      6946.28</td><td style=\"text-align: right;\">          6946.28</td><td style=\"text-align: right;\">          4146.8 </td><td style=\"text-align: right;\">        2799.48</td><td style=\"text-align: right;\">                0   </td><td style=\"text-align: right;\">        0   </td><td style=\"text-align: right;\">                     0   </td><td>2015-06-01 00:00:00</td><td style=\"text-align: right;\">           170.08</td><td>2015-08-01 00:00:00</td><td>2015-06-01 00:00:00 </td><td style=\"text-align: right;\">                           0</td><td>                             </td><td style=\"text-align: right;\">            1</td></tr>\n",
       "<tr><td style=\"text-align: right;\">1.07205e+06</td><td style=\"text-align: right;\">1.28869e+06</td><td style=\"text-align: right;\">       3000</td><td style=\"text-align: right;\">         3000</td><td style=\"text-align: right;\">             3000</td><td>36 months</td><td>18.64%    </td><td style=\"text-align: right;\">       109.43</td><td>E      </td><td>E1         </td><td>MKC Accounting           </td><td>9 years     </td><td>RENT            </td><td style=\"text-align: right;\">       48000</td><td>VERIFIED - income source</td><td>2011-12-01 00:00:00</td><td>Fully Paid   </td><td>n           </td><td>https://www.lendingclub.com/browse/loanDetail.action?loan_id=1072053</td><td>Borrower added on 12/16/11 > Downpayment for a car.<br>                                                                                                                                                                                                                                                                                                                                                                                                                                                                                                                                                     </td><td>car               </td><td>Car Downpayment                      </td><td>900xx     </td><td>CA          </td><td style=\"text-align: right;\"> 5.35</td><td style=\"text-align: right;\">            0</td><td>2007-01-01 00:00:00</td><td style=\"text-align: right;\">               2</td><td>                        </td><td>                        </td><td style=\"text-align: right;\">         4</td><td style=\"text-align: right;\">        0</td><td style=\"text-align: right;\">       8221</td><td>87.5%       </td><td style=\"text-align: right;\">          4</td><td>f                    </td><td style=\"text-align: right;\">       0   </td><td style=\"text-align: right;\">           0   </td><td style=\"text-align: right;\">      3938.14</td><td style=\"text-align: right;\">          3938.14</td><td style=\"text-align: right;\">          3000   </td><td style=\"text-align: right;\">         938.14</td><td style=\"text-align: right;\">                0   </td><td style=\"text-align: right;\">        0   </td><td style=\"text-align: right;\">                     0   </td><td>2015-01-01 00:00:00</td><td style=\"text-align: right;\">           111.34</td><td>                   </td><td>2014-12-01 00:00:00 </td><td style=\"text-align: right;\">                           0</td><td>                             </td><td style=\"text-align: right;\">            1</td></tr>\n",
       "<tr><td style=\"text-align: right;\">1.0718e+06 </td><td style=\"text-align: right;\">1.30696e+06</td><td style=\"text-align: right;\">       5600</td><td style=\"text-align: right;\">         5600</td><td style=\"text-align: right;\">             5600</td><td>60 months</td><td>21.28%    </td><td style=\"text-align: right;\">       152.39</td><td>F      </td><td>F2         </td><td>                         </td><td>4 years     </td><td>OWN             </td><td style=\"text-align: right;\">       40000</td><td>VERIFIED - income source</td><td>2011-12-01 00:00:00</td><td>Charged Off  </td><td>n           </td><td>https://www.lendingclub.com/browse/loanDetail.action?loan_id=1071795</td><td>Borrower added on 12/21/11 > I own a small home-based judgment collection business. I have 5 years experience collecting debts. I am now going from a home office to a small office. I also plan to buy a small debt portfolio (eg. $10K for $1M of debt) <br>My score is not A+ because I own my home and have no mortgage.<br>                                                                                                                                                                                                                                                                            </td><td>small_business    </td><td>Expand Business & Buy Debt Portfolio </td><td>958xx     </td><td>CA          </td><td style=\"text-align: right;\"> 5.55</td><td style=\"text-align: right;\">            0</td><td>2004-04-01 00:00:00</td><td style=\"text-align: right;\">               2</td><td>                        </td><td>                        </td><td style=\"text-align: right;\">        11</td><td style=\"text-align: right;\">        0</td><td style=\"text-align: right;\">       5210</td><td>32.6%       </td><td style=\"text-align: right;\">         13</td><td>f                    </td><td style=\"text-align: right;\">       0   </td><td style=\"text-align: right;\">           0   </td><td style=\"text-align: right;\">       646.02</td><td style=\"text-align: right;\">           646.02</td><td style=\"text-align: right;\">           162.02</td><td style=\"text-align: right;\">         294.94</td><td style=\"text-align: right;\">                0   </td><td style=\"text-align: right;\">      189.06</td><td style=\"text-align: right;\">                     2.09</td><td>2012-04-01 00:00:00</td><td style=\"text-align: right;\">           152.39</td><td>                   </td><td>2012-08-01 00:00:00 </td><td style=\"text-align: right;\">                           0</td><td>                             </td><td style=\"text-align: right;\">            1</td></tr>\n",
       "<tr><td style=\"text-align: right;\">1.07157e+06</td><td style=\"text-align: right;\">1.30672e+06</td><td style=\"text-align: right;\">       5375</td><td style=\"text-align: right;\">         5375</td><td style=\"text-align: right;\">             5350</td><td>60 months</td><td>12.69%    </td><td style=\"text-align: right;\">       121.45</td><td>B      </td><td>B5         </td><td>Starbucks                </td><td>< 1 year    </td><td>RENT            </td><td style=\"text-align: right;\">       15000</td><td>VERIFIED - income       </td><td>2011-12-01 00:00:00</td><td>Charged Off  </td><td>n           </td><td>https://www.lendingclub.com/browse/loanDetail.action?loan_id=1071570</td><td>Borrower added on 12/16/11 > I'm trying to build up my credit history. I live with my brother and have no car payment or credit cards. I am in community college and work full time. Im going to use the money to make some repairs around the house and get some maintenance done on my car.<br><br>  Borrower added on 12/20/11 > $1000 down only $4375 to go. Thanks to everyone that invested so far, looking forward to surprising my brother with the fixes around the house.<br>                                                                                                                     </td><td>other             </td><td>Building my credit history.          </td><td>774xx     </td><td>TX          </td><td style=\"text-align: right;\">18.08</td><td style=\"text-align: right;\">            0</td><td>2004-09-01 00:00:00</td><td style=\"text-align: right;\">               0</td><td>                        </td><td>                        </td><td style=\"text-align: right;\">         2</td><td style=\"text-align: right;\">        0</td><td style=\"text-align: right;\">       9279</td><td>36.5%       </td><td style=\"text-align: right;\">          3</td><td>f                    </td><td style=\"text-align: right;\">       0   </td><td style=\"text-align: right;\">           0   </td><td style=\"text-align: right;\">      1476.19</td><td style=\"text-align: right;\">          1469.34</td><td style=\"text-align: right;\">           673.48</td><td style=\"text-align: right;\">         533.42</td><td style=\"text-align: right;\">                0   </td><td style=\"text-align: right;\">      269.29</td><td style=\"text-align: right;\">                     2.52</td><td>2012-11-01 00:00:00</td><td style=\"text-align: right;\">           121.45</td><td>                   </td><td>2013-03-01 00:00:00 </td><td style=\"text-align: right;\">                           0</td><td>                             </td><td style=\"text-align: right;\">            1</td></tr>\n",
       "</tbody>\n",
       "</table>"
      ]
     },
     "metadata": {},
     "output_type": "display_data"
    },
    {
     "data": {
      "text/plain": []
     },
     "execution_count": 4,
     "metadata": {},
     "output_type": "execute_result"
    }
   ],
   "source": [
    "loans.head()"
   ]
  },
  {
   "cell_type": "markdown",
   "metadata": {},
   "source": [
    "### Filter Loans\n",
    "\n",
    "Now we will filter out loans that are ongoing.  These are loans with loan status like \"Current\" and \"In Grace Period\"."
   ]
  },
  {
   "cell_type": "code",
   "execution_count": 5,
   "metadata": {
    "collapsed": false
   },
   "outputs": [
    {
     "data": {
      "text/html": [
       "<table>\n",
       "<thead>\n",
       "<tr><th>loan_status                                             </th><th style=\"text-align: right;\">  Count</th></tr>\n",
       "</thead>\n",
       "<tbody>\n",
       "<tr><td>Charged Off                                             </td><td style=\"text-align: right;\">   5435</td></tr>\n",
       "<tr><td>Current                                                 </td><td style=\"text-align: right;\">   3351</td></tr>\n",
       "<tr><td>Default                                                 </td><td style=\"text-align: right;\">      7</td></tr>\n",
       "<tr><td>Does not meet the credit policy.  Status:Charged Off    </td><td style=\"text-align: right;\">    761</td></tr>\n",
       "<tr><td>Does not meet the credit policy.  Status:Current        </td><td style=\"text-align: right;\">     53</td></tr>\n",
       "<tr><td>Does not meet the credit policy.  Status:Fully Paid     </td><td style=\"text-align: right;\">   1933</td></tr>\n",
       "<tr><td>Does not meet the credit policy.  Status:In Grace Period</td><td style=\"text-align: right;\">      2</td></tr>\n",
       "<tr><td>Fully Paid                                              </td><td style=\"text-align: right;\">  30843</td></tr>\n",
       "<tr><td>In Grace Period                                         </td><td style=\"text-align: right;\">     60</td></tr>\n",
       "<tr><td>Late (16-30 days)                                       </td><td style=\"text-align: right;\">     16</td></tr>\n",
       "</tbody>\n",
       "</table>"
      ]
     },
     "metadata": {},
     "output_type": "display_data"
    },
    {
     "data": {
      "text/plain": []
     },
     "execution_count": 5,
     "metadata": {},
     "output_type": "execute_result"
    }
   ],
   "source": [
    "loans[\"loan_status\"].table()"
   ]
  },
  {
   "cell_type": "code",
   "execution_count": 6,
   "metadata": {
    "collapsed": true
   },
   "outputs": [],
   "source": [
    "ongoing_status = [\"Current\", \"In Grace Period\", \"Late (16-30 days)\", \"Late (31-120 days)\"]\n",
    "loans = loans[~loans[\"loan_status\"].isin(ongoing_status)]"
   ]
  },
  {
   "cell_type": "markdown",
   "metadata": {},
   "source": [
    "### Create Response Column\n",
    "\n",
    "Our response column will be called: `bad_loan`.  The `bad_loan` column will be positive if the loan was not completely paid off."
   ]
  },
  {
   "cell_type": "code",
   "execution_count": 7,
   "metadata": {
    "collapsed": false
   },
   "outputs": [],
   "source": [
    "loans[\"bad_loan\"] = ~(loans[\"loan_status\"] == \"Fully Paid\")\n",
    "loans[\"bad_loan\"] = loans[\"bad_loan\"].asfactor() # convert to enum/factor"
   ]
  },
  {
   "cell_type": "code",
   "execution_count": 8,
   "metadata": {
    "collapsed": false
   },
   "outputs": [
    {
     "data": {
      "text/html": [
       "<table>\n",
       "<thead>\n",
       "<tr><th style=\"text-align: right;\">  bad_loan</th><th style=\"text-align: right;\">  Count</th><th style=\"text-align: right;\">  Percentage</th></tr>\n",
       "</thead>\n",
       "<tbody>\n",
       "<tr><td style=\"text-align: right;\">         0</td><td style=\"text-align: right;\">  30843</td><td style=\"text-align: right;\">          79</td></tr>\n",
       "<tr><td style=\"text-align: right;\">         1</td><td style=\"text-align: right;\">   8194</td><td style=\"text-align: right;\">          21</td></tr>\n",
       "</tbody>\n",
       "</table>"
      ]
     },
     "metadata": {},
     "output_type": "display_data"
    },
    {
     "data": {
      "text/plain": []
     },
     "execution_count": 8,
     "metadata": {},
     "output_type": "execute_result"
    }
   ],
   "source": [
    "bad_loan_dist = loans[\"bad_loan\"].table()\n",
    "bad_loan_dist[\"Percentage\"] = (100*bad_loan_dist[\"Count\"]/loans.nrow).round()\n",
    "bad_loan_dist"
   ]
  },
  {
   "cell_type": "markdown",
   "metadata": {},
   "source": [
    "A bad loan only occurs in about a quarter of the data.\n",
    "\n",
    "\n",
    "### Data Cleaning\n",
    "\n",
    "We have multiple columns that are numeric but are being treated as string because of their syntax.  In this section, we will convert these to numeric.  Our machine learning models will have a greater ability to understand numeric features than strings."
   ]
  },
  {
   "cell_type": "code",
   "execution_count": 9,
   "metadata": {
    "collapsed": false
   },
   "outputs": [
    {
     "data": {
      "text/html": [
       "<table>\n",
       "<thead>\n",
       "<tr><th>int_rate  </th><th>revol_util  </th><th>emp_length  </th></tr>\n",
       "</thead>\n",
       "<tbody>\n",
       "<tr><td>10.65%    </td><td>83.7%       </td><td>10+ years   </td></tr>\n",
       "<tr><td>15.27%    </td><td>9.4%        </td><td>< 1 year    </td></tr>\n",
       "<tr><td>15.96%    </td><td>98.5%       </td><td>10+ years   </td></tr>\n",
       "<tr><td>13.49%    </td><td>21%         </td><td>10+ years   </td></tr>\n",
       "<tr><td>7.90%     </td><td>28.3%       </td><td>3 years     </td></tr>\n",
       "<tr><td>18.64%    </td><td>87.5%       </td><td>9 years     </td></tr>\n",
       "<tr><td>21.28%    </td><td>32.6%       </td><td>4 years     </td></tr>\n",
       "<tr><td>12.69%    </td><td>36.5%       </td><td>< 1 year    </td></tr>\n",
       "<tr><td>14.65%    </td><td>20.6%       </td><td>5 years     </td></tr>\n",
       "<tr><td>12.69%    </td><td>67.1%       </td><td>10+ years   </td></tr>\n",
       "</tbody>\n",
       "</table>"
      ]
     },
     "metadata": {},
     "output_type": "display_data"
    },
    {
     "data": {
      "text/plain": []
     },
     "execution_count": 9,
     "metadata": {},
     "output_type": "execute_result"
    }
   ],
   "source": [
    "loans[[\"int_rate\", \"revol_util\", \"emp_length\"]].head()"
   ]
  },
  {
   "cell_type": "code",
   "execution_count": 10,
   "metadata": {
    "collapsed": true
   },
   "outputs": [],
   "source": [
    "# Convert int_rate to numeric\n",
    "loans[\"int_rate\"] = loans[\"int_rate\"].gsub(pattern = \"%\", replacement = \"\") # strip %\n",
    "loans[\"int_rate\"] = loans[\"int_rate\"].trim() # trim ws\n",
    "loans[\"int_rate\"] = loans[\"int_rate\"].asnumeric() #change to a numeric "
   ]
  },
  {
   "cell_type": "code",
   "execution_count": 11,
   "metadata": {
    "collapsed": false
   },
   "outputs": [
    {
     "data": {
      "text/html": [
       "<table>\n",
       "<thead>\n",
       "<tr><th style=\"text-align: right;\">  int_rate</th></tr>\n",
       "</thead>\n",
       "<tbody>\n",
       "<tr><td style=\"text-align: right;\">     10.65</td></tr>\n",
       "<tr><td style=\"text-align: right;\">     15.27</td></tr>\n",
       "<tr><td style=\"text-align: right;\">     15.96</td></tr>\n",
       "<tr><td style=\"text-align: right;\">     13.49</td></tr>\n",
       "<tr><td style=\"text-align: right;\">      7.9 </td></tr>\n",
       "<tr><td style=\"text-align: right;\">     18.64</td></tr>\n",
       "<tr><td style=\"text-align: right;\">     21.28</td></tr>\n",
       "<tr><td style=\"text-align: right;\">     12.69</td></tr>\n",
       "<tr><td style=\"text-align: right;\">     14.65</td></tr>\n",
       "<tr><td style=\"text-align: right;\">     12.69</td></tr>\n",
       "</tbody>\n",
       "</table>"
      ]
     },
     "metadata": {},
     "output_type": "display_data"
    },
    {
     "data": {
      "text/plain": []
     },
     "execution_count": 11,
     "metadata": {},
     "output_type": "execute_result"
    }
   ],
   "source": [
    "loans[\"int_rate\"].head()"
   ]
  },
  {
   "cell_type": "markdown",
   "metadata": {},
   "source": [
    "Now that we have converted interest rate to numeric, we can use the `hist` function to see the distribution of interest rate for good loans and bad loans."
   ]
  },
  {
   "cell_type": "code",
   "execution_count": 12,
   "metadata": {
    "collapsed": false
   },
   "outputs": [
    {
     "name": "stdout",
     "output_type": "stream",
     "text": [
      "Bad Loans\n"
     ]
    },
    {
     "data": {
      "image/png": "[encoded data removed]",
      "text/plain": [
       "<matplotlib.figure.Figure at 0x10ae0c4a8>"
      ]
     },
     "metadata": {},
     "output_type": "display_data"
    },
    {
     "name": "stdout",
     "output_type": "stream",
     "text": [
      "Good Loans\n"
     ]
    },
    {
     "data": {
      "image/png": "[encoded data removed]",
      "text/plain": [
       "<matplotlib.figure.Figure at 0x11bc254a8>"
      ]
     },
     "metadata": {},
     "output_type": "display_data"
    }
   ],
   "source": [
    "%matplotlib inline\n",
    "\n",
    "print(\"Bad Loans\")\n",
    "loans[loans[\"bad_loan\"] == \"1\", \"int_rate\"].hist()\n",
    "\n",
    "print(\"Good Loans\")\n",
    "loans[loans[\"bad_loan\"] == \"0\", \"int_rate\"].hist()"
   ]
  },
  {
   "cell_type": "markdown",
   "metadata": {},
   "source": [
    " The distribution of interest rate is very different for good loans.  This may be a helpful predictor in our model."
   ]
  },
  {
   "cell_type": "code",
   "execution_count": 13,
   "metadata": {
    "collapsed": false
   },
   "outputs": [],
   "source": [
    "# Convert revol_util to numeric\n",
    "loans[\"revol_util\"] = loans[\"revol_util\"].gsub(pattern = \"%\", replacement = \"\") # strip %\n",
    "loans[\"revol_util\"] = loans[\"revol_util\"].trim() # trim ws\n",
    "loans[\"revol_util\"] = loans[\"revol_util\"].asnumeric() #change to a numeric "
   ]
  },
  {
   "cell_type": "code",
   "execution_count": 14,
   "metadata": {
    "collapsed": true
   },
   "outputs": [],
   "source": [
    "# Convert emp_length to numeric\n",
    "# Use gsub to remove \" year\" and \" years\" also translate n/a to \"\" \n",
    "loans[\"emp_length\"] = loans[\"emp_length\"].gsub(pattern = \"([ ]*+[a-zA-Z].*)|(n/a)\", replacement = \"\") \n",
    "\n",
    "# Use trim to remove any trailing spaces \n",
    "loans[\"emp_length\"] = loans[\"emp_length\"].trim()\n",
    "\n",
    "# Convert emp_length to numeric \n",
    "# Use sub to convert < 1 to 0 years and do the same for 10 + to 10\n",
    "# Hint: Be mindful of spaces between characters\n",
    "loans[\"emp_length\"] = loans[\"emp_length\"].gsub(pattern = \"< 1\", replacement = \"0\")\n",
    "loans[\"emp_length\"] = loans[\"emp_length\"].gsub(pattern = \"10\\\\+\", replacement = \"10\")\n",
    "loans[\"emp_length\"] = loans[\"emp_length\"].asnumeric()"
   ]
  },
  {
   "cell_type": "code",
   "execution_count": 15,
   "metadata": {
    "collapsed": false
   },
   "outputs": [
    {
     "data": {
      "text/html": [
       "<table>\n",
       "<thead>\n",
       "<tr><th style=\"text-align: right;\">  int_rate</th><th style=\"text-align: right;\">  revol_util</th><th style=\"text-align: right;\">  emp_length</th></tr>\n",
       "</thead>\n",
       "<tbody>\n",
       "<tr><td style=\"text-align: right;\">     10.65</td><td style=\"text-align: right;\">        83.7</td><td style=\"text-align: right;\">          10</td></tr>\n",
       "<tr><td style=\"text-align: right;\">     15.27</td><td style=\"text-align: right;\">         9.4</td><td style=\"text-align: right;\">           0</td></tr>\n",
       "<tr><td style=\"text-align: right;\">     15.96</td><td style=\"text-align: right;\">        98.5</td><td style=\"text-align: right;\">          10</td></tr>\n",
       "<tr><td style=\"text-align: right;\">     13.49</td><td style=\"text-align: right;\">        21  </td><td style=\"text-align: right;\">          10</td></tr>\n",
       "<tr><td style=\"text-align: right;\">      7.9 </td><td style=\"text-align: right;\">        28.3</td><td style=\"text-align: right;\">           3</td></tr>\n",
       "<tr><td style=\"text-align: right;\">     18.64</td><td style=\"text-align: right;\">        87.5</td><td style=\"text-align: right;\">           9</td></tr>\n",
       "<tr><td style=\"text-align: right;\">     21.28</td><td style=\"text-align: right;\">        32.6</td><td style=\"text-align: right;\">           4</td></tr>\n",
       "<tr><td style=\"text-align: right;\">     12.69</td><td style=\"text-align: right;\">        36.5</td><td style=\"text-align: right;\">           0</td></tr>\n",
       "<tr><td style=\"text-align: right;\">     14.65</td><td style=\"text-align: right;\">        20.6</td><td style=\"text-align: right;\">           5</td></tr>\n",
       "<tr><td style=\"text-align: right;\">     12.69</td><td style=\"text-align: right;\">        67.1</td><td style=\"text-align: right;\">          10</td></tr>\n",
       "</tbody>\n",
       "</table>"
      ]
     },
     "metadata": {},
     "output_type": "display_data"
    },
    {
     "data": {
      "text/plain": []
     },
     "execution_count": 15,
     "metadata": {},
     "output_type": "execute_result"
    }
   ],
   "source": [
    "loans[[\"int_rate\", \"revol_util\", \"emp_length\"]].head()"
   ]
  },
  {
   "cell_type": "markdown",
   "metadata": {},
   "source": [
    "We can also clean up the verification status column. There are multiple values that mean verified: `VERIFIED - income` and `VERIFIED - income source`.  We will replace these values with `verified`."
   ]
  },
  {
   "cell_type": "code",
   "execution_count": 16,
   "metadata": {
    "collapsed": false
   },
   "outputs": [
    {
     "data": {
      "text/html": [
       "<table>\n",
       "<thead>\n",
       "<tr><th>verification_status     </th></tr>\n",
       "</thead>\n",
       "<tbody>\n",
       "<tr><td>VERIFIED - income       </td></tr>\n",
       "<tr><td>VERIFIED - income source</td></tr>\n",
       "<tr><td>not verified            </td></tr>\n",
       "<tr><td>VERIFIED - income source</td></tr>\n",
       "<tr><td>VERIFIED - income source</td></tr>\n",
       "<tr><td>VERIFIED - income source</td></tr>\n",
       "<tr><td>VERIFIED - income source</td></tr>\n",
       "<tr><td>VERIFIED - income       </td></tr>\n",
       "<tr><td>not verified            </td></tr>\n",
       "<tr><td>VERIFIED - income source</td></tr>\n",
       "</tbody>\n",
       "</table>"
      ]
     },
     "metadata": {},
     "output_type": "display_data"
    },
    {
     "data": {
      "text/plain": []
     },
     "execution_count": 16,
     "metadata": {},
     "output_type": "execute_result"
    }
   ],
   "source": [
    "loans[\"verification_status\"].head()"
   ]
  },
  {
   "cell_type": "code",
   "execution_count": 17,
   "metadata": {
    "collapsed": true
   },
   "outputs": [],
   "source": [
    "loans[\"verification_status\"] = loans[\"verification_status\"].sub(pattern = \"VERIFIED - income source\", \n",
    "                                                                replacement = \"verified\")\n",
    "loans[\"verification_status\"] = loans[\"verification_status\"].sub(pattern = \"VERIFIED - income\", \n",
    "                                                               replacement = \"verified\")\n",
    "loans[\"verification_status\"] = loans[\"verification_status\"].asfactor()"
   ]
  },
  {
   "cell_type": "code",
   "execution_count": 18,
   "metadata": {
    "collapsed": false
   },
   "outputs": [
    {
     "data": {
      "text/html": [
       "<table>\n",
       "<thead>\n",
       "<tr><th>verification_status  </th><th style=\"text-align: right;\">  Count</th></tr>\n",
       "</thead>\n",
       "<tbody>\n",
       "<tr><td>not verified         </td><td style=\"text-align: right;\">  17965</td></tr>\n",
       "<tr><td>verified             </td><td style=\"text-align: right;\">  21069</td></tr>\n",
       "</tbody>\n",
       "</table>"
      ]
     },
     "metadata": {},
     "output_type": "display_data"
    },
    {
     "data": {
      "text/plain": []
     },
     "execution_count": 18,
     "metadata": {},
     "output_type": "execute_result"
    }
   ],
   "source": [
    "loans[\"verification_status\"].table()"
   ]
  },
  {
   "cell_type": "markdown",
   "metadata": {},
   "source": [
    "### Feature Engineering\n",
    "\n",
    "Now that we have cleaned our data, we can add some new columns to our dataset that may help improve the performance of our supervised learning models.\n",
    "\n",
    "The new columns we will create are: \n",
    "* credit_length: the time from their earliest credit line to when they were issued the loan\n",
    "* expansion of issue date: extract year and month from the issue date\n",
    "* word embeddings from the loan description\n",
    "\n",
    "#### Credit Length\n",
    "\n",
    "We can extract the credit length by subtracting the year they had their earliest credit line from the year when they issued the loan."
   ]
  },
  {
   "cell_type": "code",
   "execution_count": 19,
   "metadata": {
    "collapsed": false
   },
   "outputs": [
    {
     "data": {
      "text/html": [
       "<table>\n",
       "<thead>\n",
       "<tr><th style=\"text-align: right;\">  credit_length</th></tr>\n",
       "</thead>\n",
       "<tbody>\n",
       "<tr><td style=\"text-align: right;\">             26</td></tr>\n",
       "<tr><td style=\"text-align: right;\">             12</td></tr>\n",
       "<tr><td style=\"text-align: right;\">             10</td></tr>\n",
       "<tr><td style=\"text-align: right;\">             15</td></tr>\n",
       "<tr><td style=\"text-align: right;\">              7</td></tr>\n",
       "<tr><td style=\"text-align: right;\">              4</td></tr>\n",
       "<tr><td style=\"text-align: right;\">              7</td></tr>\n",
       "<tr><td style=\"text-align: right;\">              7</td></tr>\n",
       "<tr><td style=\"text-align: right;\">             13</td></tr>\n",
       "<tr><td style=\"text-align: right;\">             22</td></tr>\n",
       "</tbody>\n",
       "</table>"
      ]
     },
     "metadata": {},
     "output_type": "display_data"
    },
    {
     "data": {
      "text/plain": []
     },
     "execution_count": 19,
     "metadata": {},
     "output_type": "execute_result"
    }
   ],
   "source": [
    "loans[\"credit_length\"] = loans[\"issue_d\"].year() - loans[\"earliest_cr_line\"].year()\n",
    "loans[\"credit_length\"].head()"
   ]
  },
  {
   "cell_type": "markdown",
   "metadata": {},
   "source": [
    "#### Issue Date Expansion\n",
    "\n",
    "We can extract the year and month from the issue date.  We may find that the month or the year when the loan was issued can impact the probability of a bad loan."
   ]
  },
  {
   "cell_type": "code",
   "execution_count": 20,
   "metadata": {
    "collapsed": true
   },
   "outputs": [],
   "source": [
    "loans[\"issue_d_year\"] = loans[\"issue_d\"].year()\n",
    "loans[\"issue_d_month\"] = loans[\"issue_d\"].month().asfactor()  # we will treat month as a enum/factor since its cyclical"
   ]
  },
  {
   "cell_type": "code",
   "execution_count": 21,
   "metadata": {
    "collapsed": false
   },
   "outputs": [
    {
     "data": {
      "text/html": [
       "<table>\n",
       "<thead>\n",
       "<tr><th style=\"text-align: right;\">  issue_d_year</th><th style=\"text-align: right;\">  issue_d_month</th></tr>\n",
       "</thead>\n",
       "<tbody>\n",
       "<tr><td style=\"text-align: right;\">          2011</td><td style=\"text-align: right;\">             12</td></tr>\n",
       "<tr><td style=\"text-align: right;\">          2011</td><td style=\"text-align: right;\">             12</td></tr>\n",
       "<tr><td style=\"text-align: right;\">          2011</td><td style=\"text-align: right;\">             12</td></tr>\n",
       "<tr><td style=\"text-align: right;\">          2011</td><td style=\"text-align: right;\">             12</td></tr>\n",
       "<tr><td style=\"text-align: right;\">          2011</td><td style=\"text-align: right;\">             12</td></tr>\n",
       "<tr><td style=\"text-align: right;\">          2011</td><td style=\"text-align: right;\">             12</td></tr>\n",
       "<tr><td style=\"text-align: right;\">          2011</td><td style=\"text-align: right;\">             12</td></tr>\n",
       "<tr><td style=\"text-align: right;\">          2011</td><td style=\"text-align: right;\">             12</td></tr>\n",
       "<tr><td style=\"text-align: right;\">          2011</td><td style=\"text-align: right;\">             12</td></tr>\n",
       "<tr><td style=\"text-align: right;\">          2011</td><td style=\"text-align: right;\">             12</td></tr>\n",
       "</tbody>\n",
       "</table>"
      ]
     },
     "metadata": {},
     "output_type": "display_data"
    },
    {
     "data": {
      "text/plain": []
     },
     "execution_count": 21,
     "metadata": {},
     "output_type": "execute_result"
    }
   ],
   "source": [
    "loans[[\"issue_d_year\", \"issue_d_month\"]].head()"
   ]
  },
  {
   "cell_type": "markdown",
   "metadata": {},
   "source": [
    "#### Word Embeddings\n",
    "\n",
    "One of the columns in our dataset is a description of why the loan was requested. The first few descriptions in the dataset are shown below."
   ]
  },
  {
   "cell_type": "code",
   "execution_count": 22,
   "metadata": {
    "collapsed": false
   },
   "outputs": [
    {
     "data": {
      "text/html": [
       "<table>\n",
       "<thead>\n",
       "<tr><th>desc                                                                                                                                                                                                                                                                                                                                                                                                                                                                                                                                                                                                        </th></tr>\n",
       "</thead>\n",
       "<tbody>\n",
       "<tr><td>Borrower added on 12/22/11 > I need to upgrade my business technologies.<br>                                                                                                                                                                                                                                                                                                                                                                                                                                                                                                                                </td></tr>\n",
       "<tr><td>Borrower added on 12/22/11 > I plan to use this money to finance the motorcycle i am looking at. I plan to have it paid off as soon as possible/when i sell my old bike. I only need this money because the deal im looking at is to good to pass up.<br><br>  Borrower added on 12/22/11 > I plan to use this money to finance the motorcycle i am looking at. I plan to have it paid off as soon as possible/when i sell my old bike.I only need this money because the deal im looking at is to good to pass up. I have finished college with an associates degree in business and its takingmeplaces<br></td></tr>\n",
       "<tr><td>                                                                                                                                                                                                                                                                                                                                                                                                                                                                                                                                                                                                            </td></tr>\n",
       "<tr><td>Borrower added on 12/21/11 > to pay for property tax (borrow from friend, need to pay back) & central A/C need to be replace. I'm very sorry to let my loan expired last time.<br>                                                                                                                                                                                                                                                                                                                                                                                                                          </td></tr>\n",
       "<tr><td>                                                                                                                                                                                                                                                                                                                                                                                                                                                                                                                                                                                                            </td></tr>\n",
       "<tr><td>Borrower added on 12/16/11 > Downpayment for a car.<br>                                                                                                                                                                                                                                                                                                                                                                                                                                                                                                                                                     </td></tr>\n",
       "<tr><td>Borrower added on 12/21/11 > I own a small home-based judgment collection business. I have 5 years experience collecting debts. I am now going from a home office to a small office. I also plan to buy a small debt portfolio (eg. $10K for $1M of debt) <br>My score is not A+ because I own my home and have no mortgage.<br>                                                                                                                                                                                                                                                                            </td></tr>\n",
       "<tr><td>Borrower added on 12/16/11 > I'm trying to build up my credit history. I live with my brother and have no car payment or credit cards. I am in community college and work full time. Im going to use the money to make some repairs around the house and get some maintenance done on my car.<br><br>  Borrower added on 12/20/11 > $1000 down only $4375 to go. Thanks to everyone that invested so far, looking forward to surprising my brother with the fixes around the house.<br>                                                                                                                     </td></tr>\n",
       "<tr><td>Borrower added on 12/15/11 > I had recived a loan from Citi Financial about a year ago, I was paying 29.99 intrest, so the refinance is to cut that rate since cleaning up my credit I have been paying everything on time as shown on my credit report<br>                                                                                                                                                                                                                                                                                                                                                 </td></tr>\n",
       "<tr><td>                                                                                                                                                                                                                                                                                                                                                                                                                                                                                                                                                                                                            </td></tr>\n",
       "</tbody>\n",
       "</table>"
      ]
     },
     "metadata": {},
     "output_type": "display_data"
    },
    {
     "data": {
      "text/plain": []
     },
     "execution_count": 22,
     "metadata": {},
     "output_type": "execute_result"
    }
   ],
   "source": [
    "loans[\"desc\"].head()"
   ]
  },
  {
   "cell_type": "markdown",
   "metadata": {},
   "source": [
    "This information may be important to the model but supervised learning algorithms have a hard time understanding text.  Instead we will convert these strings to a numeric vector using the Word2Vec algorithm."
   ]
  },
  {
   "cell_type": "code",
   "execution_count": 23,
   "metadata": {
    "collapsed": true
   },
   "outputs": [],
   "source": [
    "STOP_WORDS = [\"ax\",\"i\",\"you\",\"edu\",\"s\",\"t\",\"m\",\"subject\",\"can\",\"lines\",\"re\",\"what\",\n",
    "               \"there\",\"all\",\"we\",\"one\",\"the\",\"a\",\"an\",\"of\",\"or\",\"in\",\"for\",\"by\",\"on\",\n",
    "               \"but\",\"is\",\"in\",\"a\",\"not\",\"with\",\"as\",\"was\",\"if\",\"they\",\"are\",\"this\",\"and\",\"it\",\"have\",\n",
    "               \"from\",\"at\",\"my\",\"be\",\"by\",\"not\",\"that\",\"to\",\"from\",\"com\",\"org\",\"like\",\"likes\",\"so\"]"
   ]
  },
  {
   "cell_type": "code",
   "execution_count": 24,
   "metadata": {
    "collapsed": true
   },
   "outputs": [],
   "source": [
    "def tokenize(sentences, stop_word = STOP_WORDS):\n",
    "    tokenized = sentences.tokenize(\"\\\\W+\")\n",
    "    tokenized_lower = tokenized.tolower()\n",
    "    tokenized_filtered = tokenized_lower[(tokenized_lower.nchar() >= 2) | (tokenized_lower.isna()),:]\n",
    "    tokenized_words = tokenized_filtered[tokenized_filtered.grep(\"[0-9]\",invert=True,output_logical=True),:]\n",
    "    tokenized_words = tokenized_words[(tokenized_words.isna()) | (~ tokenized_words.isin(STOP_WORDS)),:]\n",
    "    return tokenized_words"
   ]
  },
  {
   "cell_type": "code",
   "execution_count": 25,
   "metadata": {
    "collapsed": false
   },
   "outputs": [],
   "source": [
    "# Break loan description into sequence of words\n",
    "words = tokenize(loans[\"desc\"].ascharacter())"
   ]
  },
  {
   "cell_type": "code",
   "execution_count": 26,
   "metadata": {
    "collapsed": false
   },
   "outputs": [
    {
     "name": "stdout",
     "output_type": "stream",
     "text": [
      "word2vec Model Build progress: |██████████████████████████████████████████| 100%\n"
     ]
    }
   ],
   "source": [
    "# Train Word2Vec Model\n",
    "from h2o.estimators.word2vec import H2OWord2vecEstimator\n",
    "\n",
    "w2v_model = H2OWord2vecEstimator(vec_size = 100, model_id = \"w2v.hex\")\n",
    "w2v_model.train(training_frame=words)"
   ]
  },
  {
   "cell_type": "code",
   "execution_count": 27,
   "metadata": {
    "collapsed": false
   },
   "outputs": [
    {
     "data": {
      "text/plain": [
       "OrderedDict([('vehicle', 0.7436315417289734),\n",
       "             ('camry', 0.7247335910797119),\n",
       "             ('acura', 0.7171982526779175),\n",
       "             ('truck', 0.7085858583450317),\n",
       "             ('auto', 0.6995251774787903)])"
      ]
     },
     "execution_count": 27,
     "metadata": {},
     "output_type": "execute_result"
    }
   ],
   "source": [
    "# Sanity check - find synonyms for the word 'car'\n",
    "w2v_model.find_synonyms(\"car\", count = 5)"
   ]
  },
  {
   "cell_type": "code",
   "execution_count": 28,
   "metadata": {
    "collapsed": true
   },
   "outputs": [],
   "source": [
    "# Calculate a vector for each description\n",
    "desc_vecs = w2v_model.transform(words, aggregate_method = \"AVERAGE\")"
   ]
  },
  {
   "cell_type": "code",
   "execution_count": 29,
   "metadata": {
    "collapsed": false
   },
   "outputs": [
    {
     "data": {
      "text/html": [
       "<table>\n",
       "<thead>\n",
       "<tr><th style=\"text-align: right;\">         C1</th><th style=\"text-align: right;\">         C2</th><th style=\"text-align: right;\">          C3</th><th style=\"text-align: right;\">         C4</th><th style=\"text-align: right;\">          C5</th><th style=\"text-align: right;\">         C6</th><th style=\"text-align: right;\">          C7</th><th style=\"text-align: right;\">         C8</th><th style=\"text-align: right;\">         C9</th><th style=\"text-align: right;\">        C10</th><th style=\"text-align: right;\">        C11</th><th style=\"text-align: right;\">         C12</th><th style=\"text-align: right;\">         C13</th><th style=\"text-align: right;\">        C14</th><th style=\"text-align: right;\">          C15</th><th style=\"text-align: right;\">         C16</th><th style=\"text-align: right;\">       C17</th><th style=\"text-align: right;\">       C18</th><th style=\"text-align: right;\">         C19</th><th style=\"text-align: right;\">       C20</th><th style=\"text-align: right;\">        C21</th><th style=\"text-align: right;\">        C22</th><th style=\"text-align: right;\">        C23</th><th style=\"text-align: right;\">        C24</th><th style=\"text-align: right;\">        C25</th><th style=\"text-align: right;\">       C26</th><th style=\"text-align: right;\">         C27</th><th style=\"text-align: right;\">         C28</th><th style=\"text-align: right;\">        C29</th><th style=\"text-align: right;\">         C30</th><th style=\"text-align: right;\">        C31</th><th style=\"text-align: right;\">       C32</th><th style=\"text-align: right;\">        C33</th><th style=\"text-align: right;\">        C34</th><th style=\"text-align: right;\">         C35</th><th style=\"text-align: right;\">        C36</th><th style=\"text-align: right;\">         C37</th><th style=\"text-align: right;\">        C38</th><th style=\"text-align: right;\">         C39</th><th style=\"text-align: right;\">       C40</th><th style=\"text-align: right;\">        C41</th><th style=\"text-align: right;\">        C42</th><th style=\"text-align: right;\">         C43</th><th style=\"text-align: right;\">        C44</th><th style=\"text-align: right;\">        C45</th><th style=\"text-align: right;\">         C46</th><th style=\"text-align: right;\">        C47</th><th style=\"text-align: right;\">        C48</th><th style=\"text-align: right;\">        C49</th><th style=\"text-align: right;\">        C50</th><th style=\"text-align: right;\">        C51</th><th style=\"text-align: right;\">        C52</th><th style=\"text-align: right;\">        C53</th><th style=\"text-align: right;\">          C54</th><th style=\"text-align: right;\">        C55</th><th style=\"text-align: right;\">         C56</th><th style=\"text-align: right;\">          C57</th><th style=\"text-align: right;\">        C58</th><th style=\"text-align: right;\">         C59</th><th style=\"text-align: right;\">         C60</th><th style=\"text-align: right;\">         C61</th><th style=\"text-align: right;\">         C62</th><th style=\"text-align: right;\">       C63</th><th style=\"text-align: right;\">         C64</th><th style=\"text-align: right;\">        C65</th><th style=\"text-align: right;\">       C66</th><th style=\"text-align: right;\">        C67</th><th style=\"text-align: right;\">        C68</th><th style=\"text-align: right;\">         C69</th><th style=\"text-align: right;\">        C70</th><th style=\"text-align: right;\">        C71</th><th style=\"text-align: right;\">        C72</th><th style=\"text-align: right;\">        C73</th><th style=\"text-align: right;\">        C74</th><th style=\"text-align: right;\">        C75</th><th style=\"text-align: right;\">        C76</th><th style=\"text-align: right;\">        C77</th><th style=\"text-align: right;\">        C78</th><th style=\"text-align: right;\">        C79</th><th style=\"text-align: right;\">         C80</th><th style=\"text-align: right;\">         C81</th><th style=\"text-align: right;\">        C82</th><th style=\"text-align: right;\">        C83</th><th style=\"text-align: right;\">        C84</th><th style=\"text-align: right;\">          C85</th><th style=\"text-align: right;\">        C86</th><th style=\"text-align: right;\">        C87</th><th style=\"text-align: right;\">         C88</th><th style=\"text-align: right;\">        C89</th><th style=\"text-align: right;\">        C90</th><th style=\"text-align: right;\">        C91</th><th style=\"text-align: right;\">        C92</th><th style=\"text-align: right;\">        C93</th><th style=\"text-align: right;\">        C94</th><th style=\"text-align: right;\">        C95</th><th style=\"text-align: right;\">         C96</th><th style=\"text-align: right;\">        C97</th><th style=\"text-align: right;\">       C98</th><th style=\"text-align: right;\">         C99</th><th style=\"text-align: right;\">         C100</th></tr>\n",
       "</thead>\n",
       "<tbody>\n",
       "<tr><td style=\"text-align: right;\">  0.219579 </td><td style=\"text-align: right;\"> -0.0182579</td><td style=\"text-align: right;\"> -0.0651318 </td><td style=\"text-align: right;\">  0.127918 </td><td style=\"text-align: right;\"> -0.160757  </td><td style=\"text-align: right;\">  0.165492 </td><td style=\"text-align: right;\">  0.0474318 </td><td style=\"text-align: right;\">  0.186726 </td><td style=\"text-align: right;\">  0.242802 </td><td style=\"text-align: right;\">  0.0788802</td><td style=\"text-align: right;\">  0.0799586</td><td style=\"text-align: right;\"> -0.111627  </td><td style=\"text-align: right;\">  0.171879  </td><td style=\"text-align: right;\"> -0.133513 </td><td style=\"text-align: right;\"> -0.0840154  </td><td style=\"text-align: right;\"> -0.00686684</td><td style=\"text-align: right;\">  0.151248</td><td style=\"text-align: right;\"> -0.15744 </td><td style=\"text-align: right;\">  0.105696  </td><td style=\"text-align: right;\">  0.201966</td><td style=\"text-align: right;\">  0.14432  </td><td style=\"text-align: right;\">  0.123103 </td><td style=\"text-align: right;\"> -0.0963787</td><td style=\"text-align: right;\">  0.135431 </td><td style=\"text-align: right;\"> -0.0658537</td><td style=\"text-align: right;\"> -0.277919</td><td style=\"text-align: right;\"> -0.00919608</td><td style=\"text-align: right;\"> -0.00300025</td><td style=\"text-align: right;\"> -0.128328 </td><td style=\"text-align: right;\"> -0.11564   </td><td style=\"text-align: right;\"> -0.217225 </td><td style=\"text-align: right;\"> -0.124803</td><td style=\"text-align: right;\">  0.209658 </td><td style=\"text-align: right;\"> -0.0267551</td><td style=\"text-align: right;\"> -0.0428688 </td><td style=\"text-align: right;\">  0.0196882</td><td style=\"text-align: right;\"> -0.0210005 </td><td style=\"text-align: right;\"> -0.0209223</td><td style=\"text-align: right;\"> -0.205928  </td><td style=\"text-align: right;\"> -0.23756 </td><td style=\"text-align: right;\"> -0.244681 </td><td style=\"text-align: right;\"> -0.113509 </td><td style=\"text-align: right;\"> -0.00140601</td><td style=\"text-align: right;\">  0.100382 </td><td style=\"text-align: right;\"> -0.0847207</td><td style=\"text-align: right;\">  0.105809  </td><td style=\"text-align: right;\"> -0.134147 </td><td style=\"text-align: right;\"> -0.0495691</td><td style=\"text-align: right;\"> -0.0364819</td><td style=\"text-align: right;\"> -0.139689 </td><td style=\"text-align: right;\">  0.0604594</td><td style=\"text-align: right;\">  0.142052 </td><td style=\"text-align: right;\"> -0.0590889</td><td style=\"text-align: right;\"> -0.0863103  </td><td style=\"text-align: right;\">  0.053561 </td><td style=\"text-align: right;\"> -0.00936609</td><td style=\"text-align: right;\">  0.127969   </td><td style=\"text-align: right;\"> -0.107859 </td><td style=\"text-align: right;\">  0.137737  </td><td style=\"text-align: right;\">  0.0600279 </td><td style=\"text-align: right;\"> -0.0880836 </td><td style=\"text-align: right;\">  0.0152644 </td><td style=\"text-align: right;\">  0.216871</td><td style=\"text-align: right;\"> -0.0537412 </td><td style=\"text-align: right;\">  0.176084 </td><td style=\"text-align: right;\"> -0.232648</td><td style=\"text-align: right;\">  0.16517  </td><td style=\"text-align: right;\">  0.0608401</td><td style=\"text-align: right;\"> -0.0434617 </td><td style=\"text-align: right;\"> -0.0803455</td><td style=\"text-align: right;\">  0.111562 </td><td style=\"text-align: right;\"> -0.0472921</td><td style=\"text-align: right;\">  0.0477407</td><td style=\"text-align: right;\">  0.0147955</td><td style=\"text-align: right;\">  0.0559677</td><td style=\"text-align: right;\"> -0.0431447</td><td style=\"text-align: right;\">  0.204797 </td><td style=\"text-align: right;\">  0.0218323</td><td style=\"text-align: right;\">  0.103986 </td><td style=\"text-align: right;\"> -0.0400357 </td><td style=\"text-align: right;\">  0.0792371 </td><td style=\"text-align: right;\">  0.0913291</td><td style=\"text-align: right;\"> -0.107492 </td><td style=\"text-align: right;\">  0.154665 </td><td style=\"text-align: right;\">  0.0369325  </td><td style=\"text-align: right;\"> -0.088459 </td><td style=\"text-align: right;\">  0.0330421</td><td style=\"text-align: right;\">  0.0390492 </td><td style=\"text-align: right;\">  0.0920786</td><td style=\"text-align: right;\">  0.0606467</td><td style=\"text-align: right;\"> -0.200378 </td><td style=\"text-align: right;\">  0.196112 </td><td style=\"text-align: right;\">  0.0947981</td><td style=\"text-align: right;\"> -0.0419733</td><td style=\"text-align: right;\">  0.211015 </td><td style=\"text-align: right;\">  0.0828449 </td><td style=\"text-align: right;\"> -0.150306 </td><td style=\"text-align: right;\">  0.201757</td><td style=\"text-align: right;\"> -0.0607909 </td><td style=\"text-align: right;\">  0.000540954</td></tr>\n",
       "<tr><td style=\"text-align: right;\">  0.160618 </td><td style=\"text-align: right;\"> -0.116949 </td><td style=\"text-align: right;\"> -0.00724568</td><td style=\"text-align: right;\">  0.177886 </td><td style=\"text-align: right;\">  0.0154665 </td><td style=\"text-align: right;\">  0.126157 </td><td style=\"text-align: right;\">  0.0330864 </td><td style=\"text-align: right;\">  0.259576 </td><td style=\"text-align: right;\">  0.0564311</td><td style=\"text-align: right;\">  0.0111283</td><td style=\"text-align: right;\">  0.0915782</td><td style=\"text-align: right;\">  0.0126363 </td><td style=\"text-align: right;\">  0.083695  </td><td style=\"text-align: right;\"> -0.210437 </td><td style=\"text-align: right;\"> -0.0637255  </td><td style=\"text-align: right;\"> -0.0723347 </td><td style=\"text-align: right;\">  0.157075</td><td style=\"text-align: right;\"> -0.229984</td><td style=\"text-align: right;\">  0.00846327</td><td style=\"text-align: right;\">  0.208062</td><td style=\"text-align: right;\">  0.182776 </td><td style=\"text-align: right;\">  0.071502 </td><td style=\"text-align: right;\"> -0.163883 </td><td style=\"text-align: right;\">  0.147834 </td><td style=\"text-align: right;\">  0.050649 </td><td style=\"text-align: right;\"> -0.302751</td><td style=\"text-align: right;\"> -0.0174146 </td><td style=\"text-align: right;\"> -0.0991441 </td><td style=\"text-align: right;\"> -0.173167 </td><td style=\"text-align: right;\">  0.00162035</td><td style=\"text-align: right;\"> -0.0461252</td><td style=\"text-align: right;\"> -0.219792</td><td style=\"text-align: right;\">  0.126607 </td><td style=\"text-align: right;\">  0.0131277</td><td style=\"text-align: right;\">  0.0492991 </td><td style=\"text-align: right;\"> -0.0586741</td><td style=\"text-align: right;\"> -0.0422796 </td><td style=\"text-align: right;\"> -0.0686575</td><td style=\"text-align: right;\"> -0.00269458</td><td style=\"text-align: right;\"> -0.167753</td><td style=\"text-align: right;\"> -0.105546 </td><td style=\"text-align: right;\">  0.0571958</td><td style=\"text-align: right;\"> -0.0956853 </td><td style=\"text-align: right;\">  0.0434386</td><td style=\"text-align: right;\"> -0.103111 </td><td style=\"text-align: right;\">  0.0782708 </td><td style=\"text-align: right;\"> -0.0777794</td><td style=\"text-align: right;\">  0.0188088</td><td style=\"text-align: right;\">  0.15872  </td><td style=\"text-align: right;\"> -0.0169571</td><td style=\"text-align: right;\">  0.124127 </td><td style=\"text-align: right;\">  0.0942203</td><td style=\"text-align: right;\"> -0.0629132</td><td style=\"text-align: right;\"> -0.005943   </td><td style=\"text-align: right;\">  0.17896  </td><td style=\"text-align: right;\">  0.0760611 </td><td style=\"text-align: right;\"> -0.000137542</td><td style=\"text-align: right;\"> -0.143809 </td><td style=\"text-align: right;\"> -0.0585363 </td><td style=\"text-align: right;\">  0.0587851 </td><td style=\"text-align: right;\"> -0.0103578 </td><td style=\"text-align: right;\"> -0.0281382 </td><td style=\"text-align: right;\">  0.171116</td><td style=\"text-align: right;\">  0.0443756 </td><td style=\"text-align: right;\">  0.0103316</td><td style=\"text-align: right;\"> -0.178407</td><td style=\"text-align: right;\">  0.141541 </td><td style=\"text-align: right;\">  0.0518825</td><td style=\"text-align: right;\"> -0.0337413 </td><td style=\"text-align: right;\"> -0.0592929</td><td style=\"text-align: right;\">  0.0624237</td><td style=\"text-align: right;\"> -0.0502917</td><td style=\"text-align: right;\">  0.051358 </td><td style=\"text-align: right;\"> -0.0287553</td><td style=\"text-align: right;\">  0.104455 </td><td style=\"text-align: right;\"> -0.0828017</td><td style=\"text-align: right;\"> -0.0508842</td><td style=\"text-align: right;\"> -0.0832532</td><td style=\"text-align: right;\">  0.132126 </td><td style=\"text-align: right;\">  0.00482003</td><td style=\"text-align: right;\">  0.0775268 </td><td style=\"text-align: right;\"> -0.0190549</td><td style=\"text-align: right;\"> -0.0983539</td><td style=\"text-align: right;\">  0.0434618</td><td style=\"text-align: right;\"> -0.0175818  </td><td style=\"text-align: right;\"> -0.150859 </td><td style=\"text-align: right;\">  0.0714041</td><td style=\"text-align: right;\">  0.0806384 </td><td style=\"text-align: right;\"> -0.0101279</td><td style=\"text-align: right;\">  0.106989 </td><td style=\"text-align: right;\"> -0.14261  </td><td style=\"text-align: right;\">  0.0170738</td><td style=\"text-align: right;\">  0.124874 </td><td style=\"text-align: right;\"> -0.0396304</td><td style=\"text-align: right;\">  0.153026 </td><td style=\"text-align: right;\">  0.00863221</td><td style=\"text-align: right;\"> -0.101764 </td><td style=\"text-align: right;\">  0.169566</td><td style=\"text-align: right;\"> -0.0042867 </td><td style=\"text-align: right;\">  0.050679   </td></tr>\n",
       "<tr><td style=\"text-align: right;\">nan        </td><td style=\"text-align: right;\">nan        </td><td style=\"text-align: right;\">nan         </td><td style=\"text-align: right;\">nan        </td><td style=\"text-align: right;\">nan         </td><td style=\"text-align: right;\">nan        </td><td style=\"text-align: right;\">nan         </td><td style=\"text-align: right;\">nan        </td><td style=\"text-align: right;\">nan        </td><td style=\"text-align: right;\">nan        </td><td style=\"text-align: right;\">nan        </td><td style=\"text-align: right;\">nan         </td><td style=\"text-align: right;\">nan         </td><td style=\"text-align: right;\">nan        </td><td style=\"text-align: right;\">nan          </td><td style=\"text-align: right;\">nan         </td><td style=\"text-align: right;\">nan       </td><td style=\"text-align: right;\">nan       </td><td style=\"text-align: right;\">nan         </td><td style=\"text-align: right;\">nan       </td><td style=\"text-align: right;\">nan        </td><td style=\"text-align: right;\">nan        </td><td style=\"text-align: right;\">nan        </td><td style=\"text-align: right;\">nan        </td><td style=\"text-align: right;\">nan        </td><td style=\"text-align: right;\">nan       </td><td style=\"text-align: right;\">nan         </td><td style=\"text-align: right;\">nan         </td><td style=\"text-align: right;\">nan        </td><td style=\"text-align: right;\">nan         </td><td style=\"text-align: right;\">nan        </td><td style=\"text-align: right;\">nan       </td><td style=\"text-align: right;\">nan        </td><td style=\"text-align: right;\">nan        </td><td style=\"text-align: right;\">nan         </td><td style=\"text-align: right;\">nan        </td><td style=\"text-align: right;\">nan         </td><td style=\"text-align: right;\">nan        </td><td style=\"text-align: right;\">nan         </td><td style=\"text-align: right;\">nan       </td><td style=\"text-align: right;\">nan        </td><td style=\"text-align: right;\">nan        </td><td style=\"text-align: right;\">nan         </td><td style=\"text-align: right;\">nan        </td><td style=\"text-align: right;\">nan        </td><td style=\"text-align: right;\">nan         </td><td style=\"text-align: right;\">nan        </td><td style=\"text-align: right;\">nan        </td><td style=\"text-align: right;\">nan        </td><td style=\"text-align: right;\">nan        </td><td style=\"text-align: right;\">nan        </td><td style=\"text-align: right;\">nan        </td><td style=\"text-align: right;\">nan        </td><td style=\"text-align: right;\">nan          </td><td style=\"text-align: right;\">nan        </td><td style=\"text-align: right;\">nan         </td><td style=\"text-align: right;\">nan          </td><td style=\"text-align: right;\">nan        </td><td style=\"text-align: right;\">nan         </td><td style=\"text-align: right;\">nan         </td><td style=\"text-align: right;\">nan         </td><td style=\"text-align: right;\">nan         </td><td style=\"text-align: right;\">nan       </td><td style=\"text-align: right;\">nan         </td><td style=\"text-align: right;\">nan        </td><td style=\"text-align: right;\">nan       </td><td style=\"text-align: right;\">nan        </td><td style=\"text-align: right;\">nan        </td><td style=\"text-align: right;\">nan         </td><td style=\"text-align: right;\">nan        </td><td style=\"text-align: right;\">nan        </td><td style=\"text-align: right;\">nan        </td><td style=\"text-align: right;\">nan        </td><td style=\"text-align: right;\">nan        </td><td style=\"text-align: right;\">nan        </td><td style=\"text-align: right;\">nan        </td><td style=\"text-align: right;\">nan        </td><td style=\"text-align: right;\">nan        </td><td style=\"text-align: right;\">nan        </td><td style=\"text-align: right;\">nan         </td><td style=\"text-align: right;\">nan         </td><td style=\"text-align: right;\">nan        </td><td style=\"text-align: right;\">nan        </td><td style=\"text-align: right;\">nan        </td><td style=\"text-align: right;\">nan          </td><td style=\"text-align: right;\">nan        </td><td style=\"text-align: right;\">nan        </td><td style=\"text-align: right;\">nan         </td><td style=\"text-align: right;\">nan        </td><td style=\"text-align: right;\">nan        </td><td style=\"text-align: right;\">nan        </td><td style=\"text-align: right;\">nan        </td><td style=\"text-align: right;\">nan        </td><td style=\"text-align: right;\">nan        </td><td style=\"text-align: right;\">nan        </td><td style=\"text-align: right;\">nan         </td><td style=\"text-align: right;\">nan        </td><td style=\"text-align: right;\">nan       </td><td style=\"text-align: right;\">nan         </td><td style=\"text-align: right;\">nan          </td></tr>\n",
       "<tr><td style=\"text-align: right;\">  0.132202 </td><td style=\"text-align: right;\"> -0.0898602</td><td style=\"text-align: right;\">  0.0636998 </td><td style=\"text-align: right;\">  0.199851 </td><td style=\"text-align: right;\"> -0.0231559 </td><td style=\"text-align: right;\">  0.124841 </td><td style=\"text-align: right;\"> -0.0198195 </td><td style=\"text-align: right;\">  0.296767 </td><td style=\"text-align: right;\">  0.0829555</td><td style=\"text-align: right;\">  0.066031 </td><td style=\"text-align: right;\">  0.0248947</td><td style=\"text-align: right;\"> -0.0665659 </td><td style=\"text-align: right;\">  0.100051  </td><td style=\"text-align: right;\"> -0.169384 </td><td style=\"text-align: right;\">  0.0750488  </td><td style=\"text-align: right;\">  0.0152745 </td><td style=\"text-align: right;\">  0.13038 </td><td style=\"text-align: right;\"> -0.201162</td><td style=\"text-align: right;\">  0.0931185 </td><td style=\"text-align: right;\">  0.168077</td><td style=\"text-align: right;\">  0.14443  </td><td style=\"text-align: right;\">  0.0843445</td><td style=\"text-align: right;\"> -0.149299 </td><td style=\"text-align: right;\">  0.101319 </td><td style=\"text-align: right;\">  0.0618041</td><td style=\"text-align: right;\"> -0.314606</td><td style=\"text-align: right;\">  0.0573488 </td><td style=\"text-align: right;\"> -0.05192   </td><td style=\"text-align: right;\"> -0.159302 </td><td style=\"text-align: right;\"> -0.0742716 </td><td style=\"text-align: right;\"> -0.12767  </td><td style=\"text-align: right;\"> -0.108772</td><td style=\"text-align: right;\">  0.106921 </td><td style=\"text-align: right;\">  0.0658748</td><td style=\"text-align: right;\">  0.00283313</td><td style=\"text-align: right;\">  0.0203713</td><td style=\"text-align: right;\"> -0.0879444 </td><td style=\"text-align: right;\">  0.028758 </td><td style=\"text-align: right;\"> -0.0827695 </td><td style=\"text-align: right;\"> -0.189037</td><td style=\"text-align: right;\"> -0.0496001</td><td style=\"text-align: right;\"> -0.0325817</td><td style=\"text-align: right;\"> -0.133867  </td><td style=\"text-align: right;\"> -0.0502972</td><td style=\"text-align: right;\"> -0.0789258</td><td style=\"text-align: right;\">  0.132653  </td><td style=\"text-align: right;\"> -0.037951 </td><td style=\"text-align: right;\">  0.035298 </td><td style=\"text-align: right;\">  0.0852146</td><td style=\"text-align: right;\"> -0.130925 </td><td style=\"text-align: right;\">  0.129377 </td><td style=\"text-align: right;\"> -0.0140532</td><td style=\"text-align: right;\"> -0.0280203</td><td style=\"text-align: right;\"> -0.00286971 </td><td style=\"text-align: right;\">  0.117919 </td><td style=\"text-align: right;\">  0.0157199 </td><td style=\"text-align: right;\"> -0.049051   </td><td style=\"text-align: right;\"> -0.0293336</td><td style=\"text-align: right;\"> -0.0423266 </td><td style=\"text-align: right;\">  0.0573959 </td><td style=\"text-align: right;\"> -0.0214621 </td><td style=\"text-align: right;\">  0.0381934 </td><td style=\"text-align: right;\">  0.202   </td><td style=\"text-align: right;\"> -0.0365403 </td><td style=\"text-align: right;\">  0.118643 </td><td style=\"text-align: right;\"> -0.153729</td><td style=\"text-align: right;\">  0.0999307</td><td style=\"text-align: right;\"> -0.0113484</td><td style=\"text-align: right;\"> -0.063666  </td><td style=\"text-align: right;\">  0.0358155</td><td style=\"text-align: right;\">  0.196255 </td><td style=\"text-align: right;\"> -0.117769 </td><td style=\"text-align: right;\">  0.074069 </td><td style=\"text-align: right;\"> -0.0456526</td><td style=\"text-align: right;\">  0.174732 </td><td style=\"text-align: right;\"> -0.0450584</td><td style=\"text-align: right;\"> -0.0365694</td><td style=\"text-align: right;\"> -0.124797 </td><td style=\"text-align: right;\">  0.111324 </td><td style=\"text-align: right;\"> -0.0293727 </td><td style=\"text-align: right;\">  0.135304  </td><td style=\"text-align: right;\"> -0.0384466</td><td style=\"text-align: right;\"> -0.0902934</td><td style=\"text-align: right;\">  0.0541071</td><td style=\"text-align: right;\"> -0.0310671  </td><td style=\"text-align: right;\"> -0.150822 </td><td style=\"text-align: right;\">  0.0580556</td><td style=\"text-align: right;\">  0.068351  </td><td style=\"text-align: right;\"> -0.053438 </td><td style=\"text-align: right;\">  0.16776  </td><td style=\"text-align: right;\"> -0.107015 </td><td style=\"text-align: right;\">  0.0890955</td><td style=\"text-align: right;\">  0.168431 </td><td style=\"text-align: right;\"> -0.101909 </td><td style=\"text-align: right;\">  0.0777477</td><td style=\"text-align: right;\">  0.0434774 </td><td style=\"text-align: right;\"> -0.135128 </td><td style=\"text-align: right;\">  0.161125</td><td style=\"text-align: right;\">  0.0265532 </td><td style=\"text-align: right;\">  0.0818787  </td></tr>\n",
       "<tr><td style=\"text-align: right;\">nan        </td><td style=\"text-align: right;\">nan        </td><td style=\"text-align: right;\">nan         </td><td style=\"text-align: right;\">nan        </td><td style=\"text-align: right;\">nan         </td><td style=\"text-align: right;\">nan        </td><td style=\"text-align: right;\">nan         </td><td style=\"text-align: right;\">nan        </td><td style=\"text-align: right;\">nan        </td><td style=\"text-align: right;\">nan        </td><td style=\"text-align: right;\">nan        </td><td style=\"text-align: right;\">nan         </td><td style=\"text-align: right;\">nan         </td><td style=\"text-align: right;\">nan        </td><td style=\"text-align: right;\">nan          </td><td style=\"text-align: right;\">nan         </td><td style=\"text-align: right;\">nan       </td><td style=\"text-align: right;\">nan       </td><td style=\"text-align: right;\">nan         </td><td style=\"text-align: right;\">nan       </td><td style=\"text-align: right;\">nan        </td><td style=\"text-align: right;\">nan        </td><td style=\"text-align: right;\">nan        </td><td style=\"text-align: right;\">nan        </td><td style=\"text-align: right;\">nan        </td><td style=\"text-align: right;\">nan       </td><td style=\"text-align: right;\">nan         </td><td style=\"text-align: right;\">nan         </td><td style=\"text-align: right;\">nan        </td><td style=\"text-align: right;\">nan         </td><td style=\"text-align: right;\">nan        </td><td style=\"text-align: right;\">nan       </td><td style=\"text-align: right;\">nan        </td><td style=\"text-align: right;\">nan        </td><td style=\"text-align: right;\">nan         </td><td style=\"text-align: right;\">nan        </td><td style=\"text-align: right;\">nan         </td><td style=\"text-align: right;\">nan        </td><td style=\"text-align: right;\">nan         </td><td style=\"text-align: right;\">nan       </td><td style=\"text-align: right;\">nan        </td><td style=\"text-align: right;\">nan        </td><td style=\"text-align: right;\">nan         </td><td style=\"text-align: right;\">nan        </td><td style=\"text-align: right;\">nan        </td><td style=\"text-align: right;\">nan         </td><td style=\"text-align: right;\">nan        </td><td style=\"text-align: right;\">nan        </td><td style=\"text-align: right;\">nan        </td><td style=\"text-align: right;\">nan        </td><td style=\"text-align: right;\">nan        </td><td style=\"text-align: right;\">nan        </td><td style=\"text-align: right;\">nan        </td><td style=\"text-align: right;\">nan          </td><td style=\"text-align: right;\">nan        </td><td style=\"text-align: right;\">nan         </td><td style=\"text-align: right;\">nan          </td><td style=\"text-align: right;\">nan        </td><td style=\"text-align: right;\">nan         </td><td style=\"text-align: right;\">nan         </td><td style=\"text-align: right;\">nan         </td><td style=\"text-align: right;\">nan         </td><td style=\"text-align: right;\">nan       </td><td style=\"text-align: right;\">nan         </td><td style=\"text-align: right;\">nan        </td><td style=\"text-align: right;\">nan       </td><td style=\"text-align: right;\">nan        </td><td style=\"text-align: right;\">nan        </td><td style=\"text-align: right;\">nan         </td><td style=\"text-align: right;\">nan        </td><td style=\"text-align: right;\">nan        </td><td style=\"text-align: right;\">nan        </td><td style=\"text-align: right;\">nan        </td><td style=\"text-align: right;\">nan        </td><td style=\"text-align: right;\">nan        </td><td style=\"text-align: right;\">nan        </td><td style=\"text-align: right;\">nan        </td><td style=\"text-align: right;\">nan        </td><td style=\"text-align: right;\">nan        </td><td style=\"text-align: right;\">nan         </td><td style=\"text-align: right;\">nan         </td><td style=\"text-align: right;\">nan        </td><td style=\"text-align: right;\">nan        </td><td style=\"text-align: right;\">nan        </td><td style=\"text-align: right;\">nan          </td><td style=\"text-align: right;\">nan        </td><td style=\"text-align: right;\">nan        </td><td style=\"text-align: right;\">nan         </td><td style=\"text-align: right;\">nan        </td><td style=\"text-align: right;\">nan        </td><td style=\"text-align: right;\">nan        </td><td style=\"text-align: right;\">nan        </td><td style=\"text-align: right;\">nan        </td><td style=\"text-align: right;\">nan        </td><td style=\"text-align: right;\">nan        </td><td style=\"text-align: right;\">nan         </td><td style=\"text-align: right;\">nan        </td><td style=\"text-align: right;\">nan       </td><td style=\"text-align: right;\">nan         </td><td style=\"text-align: right;\">nan          </td></tr>\n",
       "<tr><td style=\"text-align: right;\">  0.226779 </td><td style=\"text-align: right;\"> -0.0751759</td><td style=\"text-align: right;\">  0.0159349 </td><td style=\"text-align: right;\">  0.154012 </td><td style=\"text-align: right;\"> -0.172996  </td><td style=\"text-align: right;\">  0.186778 </td><td style=\"text-align: right;\">  0.00716626</td><td style=\"text-align: right;\">  0.278885 </td><td style=\"text-align: right;\">  0.177769 </td><td style=\"text-align: right;\">  0.128688 </td><td style=\"text-align: right;\"> -0.0130939</td><td style=\"text-align: right;\">  0.0187362 </td><td style=\"text-align: right;\">  0.197374  </td><td style=\"text-align: right;\"> -0.222117 </td><td style=\"text-align: right;\"> -0.0861553  </td><td style=\"text-align: right;\"> -0.0442217 </td><td style=\"text-align: right;\">  0.333641</td><td style=\"text-align: right;\"> -0.369466</td><td style=\"text-align: right;\"> -0.0659746 </td><td style=\"text-align: right;\">  0.3191  </td><td style=\"text-align: right;\">  0.0494738</td><td style=\"text-align: right;\">  0.0468464</td><td style=\"text-align: right;\"> -0.083398 </td><td style=\"text-align: right;\">  0.0904945</td><td style=\"text-align: right;\"> -0.143433 </td><td style=\"text-align: right;\"> -0.333257</td><td style=\"text-align: right;\">  0.0580206 </td><td style=\"text-align: right;\"> -0.0477091 </td><td style=\"text-align: right;\"> -0.209179 </td><td style=\"text-align: right;\">  0.0178755 </td><td style=\"text-align: right;\"> -0.141296 </td><td style=\"text-align: right;\"> -0.139612</td><td style=\"text-align: right;\">  0.283566 </td><td style=\"text-align: right;\"> -0.11465  </td><td style=\"text-align: right;\"> -0.148134  </td><td style=\"text-align: right;\">  0.1145   </td><td style=\"text-align: right;\"> -0.0315616 </td><td style=\"text-align: right;\">  0.0206239</td><td style=\"text-align: right;\"> -0.113249  </td><td style=\"text-align: right;\"> -0.183268</td><td style=\"text-align: right;\"> -0.0162143</td><td style=\"text-align: right;\"> -0.0261831</td><td style=\"text-align: right;\">  0.0196862 </td><td style=\"text-align: right;\">  0.0126923</td><td style=\"text-align: right;\"> -0.0804929</td><td style=\"text-align: right;\">  0.210828  </td><td style=\"text-align: right;\">  0.0151104</td><td style=\"text-align: right;\"> -0.0132845</td><td style=\"text-align: right;\">  0.180312 </td><td style=\"text-align: right;\"> -0.0842969</td><td style=\"text-align: right;\">  0.0213716</td><td style=\"text-align: right;\">  0.229939 </td><td style=\"text-align: right;\"> -0.0469105</td><td style=\"text-align: right;\">  0.0235832  </td><td style=\"text-align: right;\">  0.125679 </td><td style=\"text-align: right;\">  0.169351  </td><td style=\"text-align: right;\"> -0.0574695  </td><td style=\"text-align: right;\"> -0.134431 </td><td style=\"text-align: right;\"> -0.00322874</td><td style=\"text-align: right;\">  0.116293  </td><td style=\"text-align: right;\"> -0.164574  </td><td style=\"text-align: right;\"> -0.115283  </td><td style=\"text-align: right;\">  0.246909</td><td style=\"text-align: right;\"> -0.00632474</td><td style=\"text-align: right;\">  0.112923 </td><td style=\"text-align: right;\"> -0.136504</td><td style=\"text-align: right;\">  0.162241 </td><td style=\"text-align: right;\">  0.0732845</td><td style=\"text-align: right;\">  0.10873   </td><td style=\"text-align: right;\"> -0.0159134</td><td style=\"text-align: right;\">  0.100136 </td><td style=\"text-align: right;\"> -0.129085 </td><td style=\"text-align: right;\">  0.128133 </td><td style=\"text-align: right;\">  0.0710691</td><td style=\"text-align: right;\">  0.0531234</td><td style=\"text-align: right;\">  0.11981  </td><td style=\"text-align: right;\">  0.0270055</td><td style=\"text-align: right;\"> -0.26958  </td><td style=\"text-align: right;\">  0.0676647</td><td style=\"text-align: right;\">  0.0232476 </td><td style=\"text-align: right;\">  0.0698321 </td><td style=\"text-align: right;\">  0.104092 </td><td style=\"text-align: right;\"> -0.205762 </td><td style=\"text-align: right;\">  0.161012 </td><td style=\"text-align: right;\"> -0.15656    </td><td style=\"text-align: right;\"> -0.125615 </td><td style=\"text-align: right;\">  0.138173 </td><td style=\"text-align: right;\"> -0.00763414</td><td style=\"text-align: right;\">  0.0374398</td><td style=\"text-align: right;\">  0.153724 </td><td style=\"text-align: right;\"> -0.054616 </td><td style=\"text-align: right;\">  0.237898 </td><td style=\"text-align: right;\">  0.113535 </td><td style=\"text-align: right;\"> -0.0923482</td><td style=\"text-align: right;\">  0.108767 </td><td style=\"text-align: right;\">  0.0856093 </td><td style=\"text-align: right;\"> -0.271257 </td><td style=\"text-align: right;\">  0.236885</td><td style=\"text-align: right;\">  0.0516511 </td><td style=\"text-align: right;\">  0.111953   </td></tr>\n",
       "<tr><td style=\"text-align: right;\">  0.204577 </td><td style=\"text-align: right;\"> -0.0512028</td><td style=\"text-align: right;\">  0.0235413 </td><td style=\"text-align: right;\">  0.0733753</td><td style=\"text-align: right;\">  0.0100112 </td><td style=\"text-align: right;\">  0.0881876</td><td style=\"text-align: right;\">  0.190533  </td><td style=\"text-align: right;\">  0.0515967</td><td style=\"text-align: right;\">  0.0958674</td><td style=\"text-align: right;\"> -0.0025423</td><td style=\"text-align: right;\">  0.012655 </td><td style=\"text-align: right;\"> -0.0304091 </td><td style=\"text-align: right;\">  0.00895082</td><td style=\"text-align: right;\"> -0.0857436</td><td style=\"text-align: right;\"> -0.0669215  </td><td style=\"text-align: right;\">  0.0538313 </td><td style=\"text-align: right;\">  0.138548</td><td style=\"text-align: right;\"> -0.175002</td><td style=\"text-align: right;\"> -0.0334914 </td><td style=\"text-align: right;\">  0.153517</td><td style=\"text-align: right;\">  0.148585 </td><td style=\"text-align: right;\">  0.123594 </td><td style=\"text-align: right;\"> -0.127052 </td><td style=\"text-align: right;\">  0.137849 </td><td style=\"text-align: right;\">  0.0225498</td><td style=\"text-align: right;\"> -0.391391</td><td style=\"text-align: right;\"> -0.0204464 </td><td style=\"text-align: right;\"> -0.0644571 </td><td style=\"text-align: right;\"> -0.120324 </td><td style=\"text-align: right;\"> -0.0807685 </td><td style=\"text-align: right;\"> -0.0797756</td><td style=\"text-align: right;\"> -0.149774</td><td style=\"text-align: right;\">  0.17891  </td><td style=\"text-align: right;\">  0.0087922</td><td style=\"text-align: right;\">  0.044621  </td><td style=\"text-align: right;\"> -0.0201688</td><td style=\"text-align: right;\"> -0.00776626</td><td style=\"text-align: right;\"> -0.0867079</td><td style=\"text-align: right;\"> -0.0892117 </td><td style=\"text-align: right;\"> -0.110606</td><td style=\"text-align: right;\"> -0.107502 </td><td style=\"text-align: right;\"> -0.0335943</td><td style=\"text-align: right;\">  0.00440671</td><td style=\"text-align: right;\">  0.0175027</td><td style=\"text-align: right;\"> -0.0775641</td><td style=\"text-align: right;\">  0.00787881</td><td style=\"text-align: right;\"> -0.151787 </td><td style=\"text-align: right;\">  0.0242884</td><td style=\"text-align: right;\">  0.0339162</td><td style=\"text-align: right;\"> -0.0673106</td><td style=\"text-align: right;\">  0.159961 </td><td style=\"text-align: right;\">  0.154681 </td><td style=\"text-align: right;\"> -0.0881236</td><td style=\"text-align: right;\">  0.0504093  </td><td style=\"text-align: right;\">  0.0251199</td><td style=\"text-align: right;\">  0.0873458 </td><td style=\"text-align: right;\"> -0.00698531 </td><td style=\"text-align: right;\"> -0.0330307</td><td style=\"text-align: right;\"> -0.0363426 </td><td style=\"text-align: right;\">  0.00710796</td><td style=\"text-align: right;\">  0.0240818 </td><td style=\"text-align: right;\">  0.0111996 </td><td style=\"text-align: right;\">  0.280086</td><td style=\"text-align: right;\"> -0.0358004 </td><td style=\"text-align: right;\">  0.0916816</td><td style=\"text-align: right;\"> -0.226524</td><td style=\"text-align: right;\">  0.103401 </td><td style=\"text-align: right;\">  0.079413 </td><td style=\"text-align: right;\"> -0.088079  </td><td style=\"text-align: right;\"> -0.0641888</td><td style=\"text-align: right;\">  0.0496428</td><td style=\"text-align: right;\"> -0.0899352</td><td style=\"text-align: right;\"> -0.0040851</td><td style=\"text-align: right;\"> -0.0430439</td><td style=\"text-align: right;\">  0.209434 </td><td style=\"text-align: right;\"> -0.043767 </td><td style=\"text-align: right;\">  0.0618891</td><td style=\"text-align: right;\"> -0.0695099</td><td style=\"text-align: right;\">  0.200825 </td><td style=\"text-align: right;\">  0.0323079 </td><td style=\"text-align: right;\">  0.0562058 </td><td style=\"text-align: right;\">  0.111043 </td><td style=\"text-align: right;\"> -0.111882 </td><td style=\"text-align: right;\">  0.061343 </td><td style=\"text-align: right;\"> -0.000269871</td><td style=\"text-align: right;\"> -0.108167 </td><td style=\"text-align: right;\">  0.0872101</td><td style=\"text-align: right;\">  0.0677076 </td><td style=\"text-align: right;\">  0.0666516</td><td style=\"text-align: right;\">  0.0554768</td><td style=\"text-align: right;\"> -0.110281 </td><td style=\"text-align: right;\">  0.0667488</td><td style=\"text-align: right;\">  0.0368807</td><td style=\"text-align: right;\"> -0.152052 </td><td style=\"text-align: right;\">  0.124974 </td><td style=\"text-align: right;\"> -0.100044  </td><td style=\"text-align: right;\"> -0.103691 </td><td style=\"text-align: right;\">  0.159638</td><td style=\"text-align: right;\">  0.00614418</td><td style=\"text-align: right;\"> -0.0318143  </td></tr>\n",
       "<tr><td style=\"text-align: right;\">  0.167354 </td><td style=\"text-align: right;\"> -0.102489 </td><td style=\"text-align: right;\">  0.0646362 </td><td style=\"text-align: right;\">  0.142451 </td><td style=\"text-align: right;\"> -0.00124813</td><td style=\"text-align: right;\">  0.108941 </td><td style=\"text-align: right;\">  0.0302759 </td><td style=\"text-align: right;\">  0.232485 </td><td style=\"text-align: right;\">  0.0866   </td><td style=\"text-align: right;\">  0.0168154</td><td style=\"text-align: right;\">  0.0820999</td><td style=\"text-align: right;\">  0.0287282 </td><td style=\"text-align: right;\">  0.0107014 </td><td style=\"text-align: right;\"> -0.0693695</td><td style=\"text-align: right;\"> -0.000833302</td><td style=\"text-align: right;\">  0.0467872 </td><td style=\"text-align: right;\">  0.201425</td><td style=\"text-align: right;\"> -0.236723</td><td style=\"text-align: right;\">  0.0112378 </td><td style=\"text-align: right;\">  0.190084</td><td style=\"text-align: right;\">  0.090102 </td><td style=\"text-align: right;\">  0.0520546</td><td style=\"text-align: right;\"> -0.127434 </td><td style=\"text-align: right;\">  0.149636 </td><td style=\"text-align: right;\">  0.0450522</td><td style=\"text-align: right;\"> -0.28029 </td><td style=\"text-align: right;\"> -0.0443319 </td><td style=\"text-align: right;\"> -0.0804827 </td><td style=\"text-align: right;\"> -0.134699 </td><td style=\"text-align: right;\"> -0.0403978 </td><td style=\"text-align: right;\"> -0.0799656</td><td style=\"text-align: right;\"> -0.187738</td><td style=\"text-align: right;\">  0.112682 </td><td style=\"text-align: right;\">  0.0336883</td><td style=\"text-align: right;\"> -0.0430853 </td><td style=\"text-align: right;\"> -0.0606046</td><td style=\"text-align: right;\">  0.01718   </td><td style=\"text-align: right;\"> -0.0622147</td><td style=\"text-align: right;\"> -0.0476069 </td><td style=\"text-align: right;\"> -0.194195</td><td style=\"text-align: right;\"> -0.0543848</td><td style=\"text-align: right;\"> -0.0315216</td><td style=\"text-align: right;\"> -0.0662588 </td><td style=\"text-align: right;\">  0.0237846</td><td style=\"text-align: right;\"> -0.120154 </td><td style=\"text-align: right;\">  0.0730745 </td><td style=\"text-align: right;\"> -0.0850838</td><td style=\"text-align: right;\">  0.0247787</td><td style=\"text-align: right;\">  0.149948 </td><td style=\"text-align: right;\"> -0.102275 </td><td style=\"text-align: right;\">  0.177994 </td><td style=\"text-align: right;\">  0.113022 </td><td style=\"text-align: right;\">  0.0327672</td><td style=\"text-align: right;\"> -0.000190093</td><td style=\"text-align: right;\">  0.116189 </td><td style=\"text-align: right;\">  0.0864379 </td><td style=\"text-align: right;\">  0.094811   </td><td style=\"text-align: right;\"> -0.0303108</td><td style=\"text-align: right;\"> -0.0439532 </td><td style=\"text-align: right;\">  0.142257  </td><td style=\"text-align: right;\"> -0.00231508</td><td style=\"text-align: right;\"> -0.0432203 </td><td style=\"text-align: right;\">  0.247548</td><td style=\"text-align: right;\">  0.0410648 </td><td style=\"text-align: right;\">  0.0170134</td><td style=\"text-align: right;\"> -0.168788</td><td style=\"text-align: right;\">  0.157887 </td><td style=\"text-align: right;\">  0.0461494</td><td style=\"text-align: right;\">  0.0151973 </td><td style=\"text-align: right;\"> -0.0362607</td><td style=\"text-align: right;\">  0.105026 </td><td style=\"text-align: right;\"> -0.0867004</td><td style=\"text-align: right;\">  0.0681524</td><td style=\"text-align: right;\"> -0.0392336</td><td style=\"text-align: right;\">  0.122673 </td><td style=\"text-align: right;\"> -0.10294  </td><td style=\"text-align: right;\"> -0.0512908</td><td style=\"text-align: right;\"> -0.121919 </td><td style=\"text-align: right;\">  0.146892 </td><td style=\"text-align: right;\">  0.0476932 </td><td style=\"text-align: right;\">  0.034378  </td><td style=\"text-align: right;\">  0.0516864</td><td style=\"text-align: right;\"> -0.0942872</td><td style=\"text-align: right;\">  0.105839 </td><td style=\"text-align: right;\"> -0.0570726  </td><td style=\"text-align: right;\"> -0.0952724</td><td style=\"text-align: right;\">  0.0218737</td><td style=\"text-align: right;\">  0.106255  </td><td style=\"text-align: right;\">  0.0157033</td><td style=\"text-align: right;\">  0.114901 </td><td style=\"text-align: right;\"> -0.0886576</td><td style=\"text-align: right;\">  0.0783167</td><td style=\"text-align: right;\">  0.114423 </td><td style=\"text-align: right;\"> -0.071374 </td><td style=\"text-align: right;\">  0.118218 </td><td style=\"text-align: right;\"> -0.0412142 </td><td style=\"text-align: right;\"> -0.138679 </td><td style=\"text-align: right;\">  0.142873</td><td style=\"text-align: right;\">  0.0822155 </td><td style=\"text-align: right;\">  0.0794935  </td></tr>\n",
       "<tr><td style=\"text-align: right;\">  0.0858598</td><td style=\"text-align: right;\"> -0.0198916</td><td style=\"text-align: right;\">  0.0160869 </td><td style=\"text-align: right;\">  0.0825888</td><td style=\"text-align: right;\"> -0.0148314 </td><td style=\"text-align: right;\">  0.112691 </td><td style=\"text-align: right;\">  0.0376535 </td><td style=\"text-align: right;\">  0.230098 </td><td style=\"text-align: right;\">  0.0238849</td><td style=\"text-align: right;\">  0.0420342</td><td style=\"text-align: right;\">  0.11575  </td><td style=\"text-align: right;\">  0.00619586</td><td style=\"text-align: right;\"> -0.0732126 </td><td style=\"text-align: right;\"> -0.202756 </td><td style=\"text-align: right;\"> -0.020362   </td><td style=\"text-align: right;\"> -0.0327341 </td><td style=\"text-align: right;\">  0.101621</td><td style=\"text-align: right;\"> -0.252672</td><td style=\"text-align: right;\">  0.136415  </td><td style=\"text-align: right;\">  0.176148</td><td style=\"text-align: right;\">  0.205503 </td><td style=\"text-align: right;\">  0.0212376</td><td style=\"text-align: right;\"> -0.131359 </td><td style=\"text-align: right;\">  0.0787921</td><td style=\"text-align: right;\">  0.092722 </td><td style=\"text-align: right;\"> -0.344663</td><td style=\"text-align: right;\">  0.0383399 </td><td style=\"text-align: right;\"> -0.116494  </td><td style=\"text-align: right;\"> -0.0987961</td><td style=\"text-align: right;\"> -0.0402682 </td><td style=\"text-align: right;\"> -0.0181129</td><td style=\"text-align: right;\"> -0.116397</td><td style=\"text-align: right;\">  0.0494377</td><td style=\"text-align: right;\"> -0.0126375</td><td style=\"text-align: right;\"> -0.0545305 </td><td style=\"text-align: right;\"> -0.0736026</td><td style=\"text-align: right;\"> -0.0214762 </td><td style=\"text-align: right;\"> -0.0522816</td><td style=\"text-align: right;\"> -0.0784949 </td><td style=\"text-align: right;\"> -0.146865</td><td style=\"text-align: right;\">  0.0252624</td><td style=\"text-align: right;\">  0.0209064</td><td style=\"text-align: right;\"> -0.0888102 </td><td style=\"text-align: right;\">  0.032433 </td><td style=\"text-align: right;\"> -0.0194236</td><td style=\"text-align: right;\">  0.0554026 </td><td style=\"text-align: right;\"> -0.0344466</td><td style=\"text-align: right;\">  0.161149 </td><td style=\"text-align: right;\">  0.162385 </td><td style=\"text-align: right;\"> -0.164793 </td><td style=\"text-align: right;\">  0.146551 </td><td style=\"text-align: right;\">  0.0783268</td><td style=\"text-align: right;\"> -0.0850457</td><td style=\"text-align: right;\">  0.112497   </td><td style=\"text-align: right;\">  0.147612 </td><td style=\"text-align: right;\">  0.0700556 </td><td style=\"text-align: right;\">  0.0430285  </td><td style=\"text-align: right;\">  0.0138701</td><td style=\"text-align: right;\"> -0.0553628 </td><td style=\"text-align: right;\">  0.011588  </td><td style=\"text-align: right;\">  0.0303165 </td><td style=\"text-align: right;\"> -0.00356544</td><td style=\"text-align: right;\">  0.261875</td><td style=\"text-align: right;\">  0.0647352 </td><td style=\"text-align: right;\">  0.0658047</td><td style=\"text-align: right;\"> -0.241903</td><td style=\"text-align: right;\">  0.101911 </td><td style=\"text-align: right;\"> -0.0352963</td><td style=\"text-align: right;\">  0.00377913</td><td style=\"text-align: right;\">  0.0239915</td><td style=\"text-align: right;\">  0.162785 </td><td style=\"text-align: right;\"> -0.0894407</td><td style=\"text-align: right;\">  0.0621122</td><td style=\"text-align: right;\"> -0.125166 </td><td style=\"text-align: right;\">  0.166298 </td><td style=\"text-align: right;\"> -0.125896 </td><td style=\"text-align: right;\"> -0.0916553</td><td style=\"text-align: right;\"> -0.125723 </td><td style=\"text-align: right;\">  0.261579 </td><td style=\"text-align: right;\">  0.0541189 </td><td style=\"text-align: right;\"> -0.00874491</td><td style=\"text-align: right;\">  0.048203 </td><td style=\"text-align: right;\"> -0.110729 </td><td style=\"text-align: right;\">  0.0240276</td><td style=\"text-align: right;\"> -0.0472974  </td><td style=\"text-align: right;\"> -0.076968 </td><td style=\"text-align: right;\">  0.0640706</td><td style=\"text-align: right;\">  0.33184   </td><td style=\"text-align: right;\">  0.0346304</td><td style=\"text-align: right;\">  0.143864 </td><td style=\"text-align: right;\"> -0.134117 </td><td style=\"text-align: right;\">  0.167679 </td><td style=\"text-align: right;\">  0.0456864</td><td style=\"text-align: right;\"> -0.0514302</td><td style=\"text-align: right;\">  0.0633346</td><td style=\"text-align: right;\"> -0.0126461 </td><td style=\"text-align: right;\"> -0.0717109</td><td style=\"text-align: right;\">  0.121494</td><td style=\"text-align: right;\">  0.112542  </td><td style=\"text-align: right;\">  0.056675   </td></tr>\n",
       "<tr><td style=\"text-align: right;\">nan        </td><td style=\"text-align: right;\">nan        </td><td style=\"text-align: right;\">nan         </td><td style=\"text-align: right;\">nan        </td><td style=\"text-align: right;\">nan         </td><td style=\"text-align: right;\">nan        </td><td style=\"text-align: right;\">nan         </td><td style=\"text-align: right;\">nan        </td><td style=\"text-align: right;\">nan        </td><td style=\"text-align: right;\">nan        </td><td style=\"text-align: right;\">nan        </td><td style=\"text-align: right;\">nan         </td><td style=\"text-align: right;\">nan         </td><td style=\"text-align: right;\">nan        </td><td style=\"text-align: right;\">nan          </td><td style=\"text-align: right;\">nan         </td><td style=\"text-align: right;\">nan       </td><td style=\"text-align: right;\">nan       </td><td style=\"text-align: right;\">nan         </td><td style=\"text-align: right;\">nan       </td><td style=\"text-align: right;\">nan        </td><td style=\"text-align: right;\">nan        </td><td style=\"text-align: right;\">nan        </td><td style=\"text-align: right;\">nan        </td><td style=\"text-align: right;\">nan        </td><td style=\"text-align: right;\">nan       </td><td style=\"text-align: right;\">nan         </td><td style=\"text-align: right;\">nan         </td><td style=\"text-align: right;\">nan        </td><td style=\"text-align: right;\">nan         </td><td style=\"text-align: right;\">nan        </td><td style=\"text-align: right;\">nan       </td><td style=\"text-align: right;\">nan        </td><td style=\"text-align: right;\">nan        </td><td style=\"text-align: right;\">nan         </td><td style=\"text-align: right;\">nan        </td><td style=\"text-align: right;\">nan         </td><td style=\"text-align: right;\">nan        </td><td style=\"text-align: right;\">nan         </td><td style=\"text-align: right;\">nan       </td><td style=\"text-align: right;\">nan        </td><td style=\"text-align: right;\">nan        </td><td style=\"text-align: right;\">nan         </td><td style=\"text-align: right;\">nan        </td><td style=\"text-align: right;\">nan        </td><td style=\"text-align: right;\">nan         </td><td style=\"text-align: right;\">nan        </td><td style=\"text-align: right;\">nan        </td><td style=\"text-align: right;\">nan        </td><td style=\"text-align: right;\">nan        </td><td style=\"text-align: right;\">nan        </td><td style=\"text-align: right;\">nan        </td><td style=\"text-align: right;\">nan        </td><td style=\"text-align: right;\">nan          </td><td style=\"text-align: right;\">nan        </td><td style=\"text-align: right;\">nan         </td><td style=\"text-align: right;\">nan          </td><td style=\"text-align: right;\">nan        </td><td style=\"text-align: right;\">nan         </td><td style=\"text-align: right;\">nan         </td><td style=\"text-align: right;\">nan         </td><td style=\"text-align: right;\">nan         </td><td style=\"text-align: right;\">nan       </td><td style=\"text-align: right;\">nan         </td><td style=\"text-align: right;\">nan        </td><td style=\"text-align: right;\">nan       </td><td style=\"text-align: right;\">nan        </td><td style=\"text-align: right;\">nan        </td><td style=\"text-align: right;\">nan         </td><td style=\"text-align: right;\">nan        </td><td style=\"text-align: right;\">nan        </td><td style=\"text-align: right;\">nan        </td><td style=\"text-align: right;\">nan        </td><td style=\"text-align: right;\">nan        </td><td style=\"text-align: right;\">nan        </td><td style=\"text-align: right;\">nan        </td><td style=\"text-align: right;\">nan        </td><td style=\"text-align: right;\">nan        </td><td style=\"text-align: right;\">nan        </td><td style=\"text-align: right;\">nan         </td><td style=\"text-align: right;\">nan         </td><td style=\"text-align: right;\">nan        </td><td style=\"text-align: right;\">nan        </td><td style=\"text-align: right;\">nan        </td><td style=\"text-align: right;\">nan          </td><td style=\"text-align: right;\">nan        </td><td style=\"text-align: right;\">nan        </td><td style=\"text-align: right;\">nan         </td><td style=\"text-align: right;\">nan        </td><td style=\"text-align: right;\">nan        </td><td style=\"text-align: right;\">nan        </td><td style=\"text-align: right;\">nan        </td><td style=\"text-align: right;\">nan        </td><td style=\"text-align: right;\">nan        </td><td style=\"text-align: right;\">nan        </td><td style=\"text-align: right;\">nan         </td><td style=\"text-align: right;\">nan        </td><td style=\"text-align: right;\">nan       </td><td style=\"text-align: right;\">nan         </td><td style=\"text-align: right;\">nan          </td></tr>\n",
       "</tbody>\n",
       "</table>"
      ]
     },
     "metadata": {},
     "output_type": "display_data"
    },
    {
     "data": {
      "text/plain": []
     },
     "execution_count": 29,
     "metadata": {},
     "output_type": "execute_result"
    }
   ],
   "source": [
    "desc_vecs.head()"
   ]
  },
  {
   "cell_type": "code",
   "execution_count": 30,
   "metadata": {
    "collapsed": true
   },
   "outputs": [],
   "source": [
    "# Add aggregated word embeddings \n",
    "loans = loans.cbind(desc_vecs)"
   ]
  },
  {
   "cell_type": "markdown",
   "metadata": {},
   "source": [
    "### Model Training\n",
    "\n",
    "Now that we have cleaned our data and added new columns, we will train a model to predict the  "
   ]
  },
  {
   "cell_type": "code",
   "execution_count": 31,
   "metadata": {
    "collapsed": true
   },
   "outputs": [],
   "source": [
    "train, test = loans.split_frame(seed = 1234, ratios = [0.75], destination_frames=[\"train.hex\", \"test.hex\"])"
   ]
  },
  {
   "cell_type": "code",
   "execution_count": 32,
   "metadata": {
    "collapsed": false
   },
   "outputs": [
    {
     "name": "stdout",
     "output_type": "stream",
     "text": [
      "gbm Model Build progress: |███████████████████████████████████████████████| 100%\n"
     ]
    }
   ],
   "source": [
    "from h2o.estimators import H2OGradientBoostingEstimator\n",
    "\n",
    "cols_to_remove = [\"initial_list_status\", \"out_prncp\", \"out_prncp_inv\", \"total_pymnt\", \"total_pymnt_inv\", \"total_rec_prncp\", \n",
    "                  \"total_rec_int\", \"total_rec_late_fee\", \"recoveries\", \"collection_recovery_fee\", \"last_pymnt_d\", \n",
    "                  \"last_pymnt_amnt\", \"next_pymnt_d\", \"last_credit_pull_d\", \"collections_12_mths_ex_med\" , \n",
    "                  \"mths_since_last_major_derog\", \"policy_code\", \"loan_status\", \"funded_amnt\", \"funded_amnt_inv\",\n",
    "                  \"mths_since_last_delinq\", \"mths_since_last_record\", \"id\", \"member_id\", \"desc\", \"zip_code\"]\n",
    "predictors = list(set(loans.col_names) - set(cols_to_remove))\n",
    "\n",
    "gbm_model = H2OGradientBoostingEstimator(stopping_metric = \"logloss\", stopping_rounds = 5, # early stopping\n",
    "                                         score_tree_interval = 5, ntrees = 500,\n",
    "                                         model_id = \"gbm.hex\")\n",
    "gbm_model.train(x = predictors, y = \"bad_loan\", training_frame = train, validation_frame = test)"
   ]
  },
  {
   "cell_type": "markdown",
   "metadata": {},
   "source": [
    "The plot below shows the performance of the model as more trees are built.  This graph can help us see if our model is overfitting.  Our early stopping kicked in at 100 trees.  This is where the model was no longer improving performance on the test data."
   ]
  },
  {
   "cell_type": "code",
   "execution_count": 33,
   "metadata": {
    "collapsed": false
   },
   "outputs": [
    {
     "data": {
      "image/png": "[encoded data removed]",
      "text/plain": [
       "<matplotlib.figure.Figure at 0x1212d9dd8>"
      ]
     },
     "metadata": {},
     "output_type": "display_data"
    }
   ],
   "source": [
    "%matplotlib inline\n",
    "gbm_model.plot()"
   ]
  },
  {
   "cell_type": "markdown",
   "metadata": {},
   "source": [
    "The ROC curve of the training and testing data are shown below.  The area under the ROC curve is much higher for the training data than the testing data indicating that the model may be beginning to memorize the training data."
   ]
  },
  {
   "cell_type": "code",
   "execution_count": 34,
   "metadata": {
    "collapsed": false
   },
   "outputs": [
    {
     "name": "stdout",
     "output_type": "stream",
     "text": [
      "Training Data\n"
     ]
    },
    {
     "data": {
      "image/png": "[encoded data removed]",
      "text/plain": [
       "<matplotlib.figure.Figure at 0x125a642e8>"
      ]
     },
     "metadata": {},
     "output_type": "display_data"
    },
    {
     "name": "stdout",
     "output_type": "stream",
     "text": [
      "Testing Data\n"
     ]
    },
    {
     "data": {
      "image/png": "[encoded data removed]",
      "text/plain": [
       "<matplotlib.figure.Figure at 0x125a64208>"
      ]
     },
     "metadata": {},
     "output_type": "display_data"
    }
   ],
   "source": [
    "print(\"Training Data\")\n",
    "gbm_model.model_performance(train = True).plot()\n",
    "print(\"Testing Data\")\n",
    "gbm_model.model_performance(valid = True).plot()"
   ]
  },
  {
   "cell_type": "markdown",
   "metadata": {},
   "source": [
    "The variable importance plow shows us which variables are most important to predicting `bad_loan`.  We can use partial dependency plots to learn more about how these variables effect the prediction."
   ]
  },
  {
   "cell_type": "code",
   "execution_count": 35,
   "metadata": {
    "collapsed": false
   },
   "outputs": [
    {
     "data": {
      "image/png": "[encoded data removed]",
      "text/plain": [
       "<matplotlib.figure.Figure at 0x11e7d0e80>"
      ]
     },
     "metadata": {},
     "output_type": "display_data"
    }
   ],
   "source": [
    "gbm_model.varimp_plot()"
   ]
  },
  {
   "cell_type": "markdown",
   "metadata": {},
   "source": [
    "The partial dependency plot of the `inq_last_6mths` predictor shows us that as the number of inquires in the last 6 months increase, the likelihood of the loan defaulting increases."
   ]
  },
  {
   "cell_type": "code",
   "execution_count": 36,
   "metadata": {
    "collapsed": false
   },
   "outputs": [
    {
     "name": "stdout",
     "output_type": "stream",
     "text": [
      "PartialDependencePlot progress: |█████████████████████████████████████████| 100%\n"
     ]
    },
    {
     "data": {
      "image/png": "[encoded data removed]",
      "text/plain": [
       "<matplotlib.figure.Figure at 0x1250ecf28>"
      ]
     },
     "metadata": {},
     "output_type": "display_data"
    }
   ],
   "source": [
    "pdp = gbm_model.partial_plot(cols = [\"inq_last_6mths\"], data = train)"
   ]
  },
  {
   "cell_type": "code",
   "execution_count": 37,
   "metadata": {
    "collapsed": false
   },
   "outputs": [
    {
     "name": "stdout",
     "output_type": "stream",
     "text": [
      "H2O session _sid_8353 closed.\n"
     ]
    }
   ],
   "source": [
    "h2o.cluster().shutdown()"
   ]
  },
  {
   "cell_type": "code",
   "execution_count": null,
   "metadata": {
    "collapsed": true
   },
   "outputs": [],
   "source": []
  }
 ],
 "metadata": {
  "kernelspec": {
   "display_name": "Python 3",
   "language": "python",
   "name": "python3"
  },
  "language_info": {
   "codemirror_mode": {
    "name": "ipython",
    "version": 3
   },
   "file_extension": ".py",
   "mimetype": "text/x-python",
   "name": "python",
   "nbconvert_exporter": "python",
   "pygments_lexer": "ipython3",
   "version": "3.6.0"
  }
 },
 "nbformat": 4,
 "nbformat_minor": 2
}
