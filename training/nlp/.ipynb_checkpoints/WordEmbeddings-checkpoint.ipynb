{
 "cells": [
  {
   "cell_type": "markdown",
   "metadata": {},
   "source": [
    "## Predicting Good Amazon Reviews\n",
    "\n",
    "For this demo, we will be using the [Amazon Fine Food Reviews Data](https://www.kaggle.com/snap/amazon-fine-food-reviews).  The Amazon Fine Food Reviews dataset consists of 568,454 food reviews Amazon users left up to October 2012.\n",
    "\n",
    "This script is based off of the [Craigslist Word2Vec Demo](https://github.com/h2oai/h2o-3/blob/master/h2o-py/demos/word2vec_craigslistjobtitles.ipynb).\n",
    "\n",
    "Our Machine Learning Workflow is: \n",
    "\n",
    "1. Import data into H2O\n",
    "2. Exploratory Analysis\n",
    "3. Tokenize Text\n",
    "4. Train Word2Vec Model\n",
    "5. Analyze Word Embeddings\n",
    "6. Train Positive Review Model with Original Data\n",
    "7. Train Positive Review Model with Word Embeddings\n",
    "8. Run AutoML\n",
    "9. View AutoML in Flow\n",
    "\n",
    "# Step 1 (of 9).  Import data into H2O\n",
    "\n",
    "We will begin by importing our review data into our H2O cluster."
   ]
  },
  {
   "cell_type": "code",
   "execution_count": 1,
   "metadata": {
    "collapsed": true
   },
   "outputs": [],
   "source": [
    "import h2o"
   ]
  },
  {
   "cell_type": "code",
   "execution_count": 2,
   "metadata": {
    "collapsed": false
   },
   "outputs": [
    {
     "name": "stdout",
     "output_type": "stream",
     "text": [
      "Checking whether there is an H2O instance running at http://localhost:54321..... not found.\n",
      "Attempting to start a local H2O server...\n",
      "  Java Version: java version \"1.8.0_91\"; Java(TM) SE Runtime Environment (build 1.8.0_91-b14); Java HotSpot(TM) 64-Bit Server VM (build 25.91-b14, mixed mode)\n",
      "  Starting server from /Users/megankurka/anaconda3/lib/python3.6/site-packages/h2o/backend/bin/h2o.jar\n",
      "  Ice root: /var/folders/gv/w2f3zs_d33l3dt5j67k9nhhr0000gn/T/tmpk_80u1da\n",
      "  JVM stdout: /var/folders/gv/w2f3zs_d33l3dt5j67k9nhhr0000gn/T/tmpk_80u1da/h2o_megankurka_started_from_python.out\n",
      "  JVM stderr: /var/folders/gv/w2f3zs_d33l3dt5j67k9nhhr0000gn/T/tmpk_80u1da/h2o_megankurka_started_from_python.err\n",
      "  Server is running at http://127.0.0.1:54321\n",
      "Connecting to H2O server at http://127.0.0.1:54321... successful.\n"
     ]
    },
    {
     "data": {
      "text/html": [
       "<div style=\"overflow:auto\"><table style=\"width:50%\"><tr><td>H2O cluster uptime:</td>\n",
       "<td>04 secs</td></tr>\n",
       "<tr><td>H2O cluster timezone:</td>\n",
       "<td>America/Los_Angeles</td></tr>\n",
       "<tr><td>H2O data parsing timezone:</td>\n",
       "<td>UTC</td></tr>\n",
       "<tr><td>H2O cluster version:</td>\n",
       "<td>3.20.0.2</td></tr>\n",
       "<tr><td>H2O cluster version age:</td>\n",
       "<td>27 days </td></tr>\n",
       "<tr><td>H2O cluster name:</td>\n",
       "<td>H2O_from_python_megankurka_8d36i8</td></tr>\n",
       "<tr><td>H2O cluster total nodes:</td>\n",
       "<td>1</td></tr>\n",
       "<tr><td>H2O cluster free memory:</td>\n",
       "<td>3.556 Gb</td></tr>\n",
       "<tr><td>H2O cluster total cores:</td>\n",
       "<td>8</td></tr>\n",
       "<tr><td>H2O cluster allowed cores:</td>\n",
       "<td>8</td></tr>\n",
       "<tr><td>H2O cluster status:</td>\n",
       "<td>accepting new members, healthy</td></tr>\n",
       "<tr><td>H2O connection url:</td>\n",
       "<td>http://127.0.0.1:54321</td></tr>\n",
       "<tr><td>H2O connection proxy:</td>\n",
       "<td>None</td></tr>\n",
       "<tr><td>H2O internal security:</td>\n",
       "<td>False</td></tr>\n",
       "<tr><td>H2O API Extensions:</td>\n",
       "<td>XGBoost, Algos, AutoML, Core V3, Core V4</td></tr>\n",
       "<tr><td>Python version:</td>\n",
       "<td>3.6.0 final</td></tr></table></div>"
      ],
      "text/plain": [
       "--------------------------  ----------------------------------------\n",
       "H2O cluster uptime:         04 secs\n",
       "H2O cluster timezone:       America/Los_Angeles\n",
       "H2O data parsing timezone:  UTC\n",
       "H2O cluster version:        3.20.0.2\n",
       "H2O cluster version age:    27 days\n",
       "H2O cluster name:           H2O_from_python_megankurka_8d36i8\n",
       "H2O cluster total nodes:    1\n",
       "H2O cluster free memory:    3.556 Gb\n",
       "H2O cluster total cores:    8\n",
       "H2O cluster allowed cores:  8\n",
       "H2O cluster status:         accepting new members, healthy\n",
       "H2O connection url:         http://127.0.0.1:54321\n",
       "H2O connection proxy:\n",
       "H2O internal security:      False\n",
       "H2O API Extensions:         XGBoost, Algos, AutoML, Core V3, Core V4\n",
       "Python version:             3.6.0 final\n",
       "--------------------------  ----------------------------------------"
      ]
     },
     "metadata": {},
     "output_type": "display_data"
    }
   ],
   "source": [
    "h2o.init(max_mem_size=\"4G\")"
   ]
  },
  {
   "cell_type": "code",
   "execution_count": 3,
   "metadata": {
    "collapsed": false
   },
   "outputs": [
    {
     "name": "stdout",
     "output_type": "stream",
     "text": [
      "Parse progress: |█████████████████████████████████████████████████████████| 100%\n"
     ]
    }
   ],
   "source": [
    "# \"https://s3.amazonaws.com/tomk/h2o-world/megan/AmazonReviews.csv\"\n",
    "data_path = \"/Users/megankurka/AmazonReviews.csv\"\n",
    "\n",
    "\n",
    "# Load data into H2O\n",
    "reviews = h2o.import_file(data_path)"
   ]
  },
  {
   "cell_type": "markdown",
   "metadata": {},
   "source": [
    "# Step 2 (of 9).  Exploratory Analysis\n",
    "\n",
    "We will start our analysis by exploring the dataset and creating our target column.  In this case, we would like to predict whether or not a reviewer liked the product."
   ]
  },
  {
   "cell_type": "code",
   "execution_count": 4,
   "metadata": {
    "collapsed": false
   },
   "outputs": [
    {
     "name": "stdout",
     "output_type": "stream",
     "text": [
      "[100000, 10]\n"
     ]
    }
   ],
   "source": [
    "print(reviews.dim)"
   ]
  },
  {
   "cell_type": "code",
   "execution_count": 5,
   "metadata": {
    "collapsed": false
   },
   "outputs": [
    {
     "data": {
      "text/html": [
       "<table>\n",
       "<thead>\n",
       "<tr><th>ProductId  </th><th>UserId        </th><th>Summary                               </th><th style=\"text-align: right;\">  Score</th><th style=\"text-align: right;\">  HelpfulnessDenominator</th><th style=\"text-align: right;\">    Id</th><th>ProfileName                                      </th><th style=\"text-align: right;\">  HelpfulnessNumerator</th><th style=\"text-align: right;\">       Time</th><th>Text                                                                                                                                                                                                                                                                                                                                                                                                                                                                                                                                                                                                                                                                                                                                                                                                                                                                                                                                                                                                                                                                                                                                                                                                                                                                                                                                                                                                                                                                                                                                                                                                                                                                                                                                                                                                                                                                                                                                                                                                                                                                                                                                                                                                                                                                                                                                                                                                                                                                                                                                                                                                                                                                                                                                                                                                                                                                                                                                                                                                                                                                                                                                                                                                                                                                </th></tr>\n",
       "</thead>\n",
       "<tbody>\n",
       "<tr><td>B00141QYSQ </td><td>A1YS02UZZGRDCT</td><td>Do Not Buy                            </td><td style=\"text-align: right;\">      1</td><td style=\"text-align: right;\">                       2</td><td style=\"text-align: right;\"> 41471</td><td>Evan Eberhardt                                   </td><td style=\"text-align: right;\">                     2</td><td style=\"text-align: right;\">1.34836e+09</td><td>These are made in China (do not buy ANY pet food from China).  Dogswell has been using propylene glycol to soften their treats (what are they thinkng?).  Do not purchase or support this company in any way until they clean up their act.  And for whatever reason Amazon doesn't allow returns of this item, so I had to toss mine out.  Bad business all around on this one.                                                                                                                                                                                                                                                                                                                                                                                                                                                                                                                                                                                                                                                                                                                                                                                                                                                                                                                                                                                                                                                                                                                                                                                                                                                                                                                                                                                                                                                                                                                                                                                                                                                                                                                                                                                                                                                                                                                                                                                                                                                                                                                                                                                                                                                                                                                                                                                                                                                                                                                                                                                                                                                                                                                                                                                                                                                                                    </td></tr>\n",
       "<tr><td>B0089SPEO2 </td><td>A3JOYNYL458QHP</td><td>Less lemon and less zing              </td><td style=\"text-align: right;\">      3</td><td style=\"text-align: right;\">                       0</td><td style=\"text-align: right;\"> 28582</td><td>coleridge                                        </td><td style=\"text-align: right;\">                     0</td><td style=\"text-align: right;\">1.32391e+09</td><td>Everything is ok, except it just isn't as good as it is in the bags.  Just considerably more bland -- less lemon and less zing.  Boring.                                                                                                                                                                                                                                                                                                                                                                                                                                                                                                                                                                                                                                                                                                                                                                                                                                                                                                                                                                                                                                                                                                                                                                                                                                                                                                                                                                                                                                                                                                                                                                                                                                                                                                                                                                                                                                                                                                                                                                                                                                                                                                                                                                                                                                                                                                                                                                                                                                                                                                                                                                                                                                                                                                                                                                                                                                                                                                                                                                                                                                                                                                                            </td></tr>\n",
       "<tr><td>B001PMCDK2 </td><td>A14TTMM0Z03Y2W</td><td>my cat goes crazy for these!          </td><td style=\"text-align: right;\">      5</td><td style=\"text-align: right;\">                       0</td><td style=\"text-align: right;\">389965</td><td>Lindsay S. Bradford                              </td><td style=\"text-align: right;\">                     0</td><td style=\"text-align: right;\">1.3106e+09 </td><td>Best cat treat ever. There isn't anything comparable to the love my cat has for these treats, he snubs away any other kind now.<br />I know he likes to manipulate me with his cattiness but these treats are my way of manipulating him to come sit on my lap and have some chill time. :)                                                                                                                                                                                                                                                                                                                                                                                                                                                                                                                                                                                                                                                                                                                                                                                                                                                                                                                                                                                                                                                                                                                                                                                                                                                                                                                                                                                                                                                                                                                                                                                                                                                                                                                                                                                                                                                                                                                                                                                                                                                                                                                                                                                                                                                                                                                                                                                                                                                                                                                                                                                                                                                                                                                                                                                                                                                                                                                                                                         </td></tr>\n",
       "<tr><td>B002Q8JOSI </td><td>A17UQD2RSSQH5X</td><td>My dogs tell me these treats are YUMMY</td><td style=\"text-align: right;\">      5</td><td style=\"text-align: right;\">                       1</td><td style=\"text-align: right;\">212536</td><td>in the dark                                      </td><td style=\"text-align: right;\">                     1</td><td style=\"text-align: right;\">1.31613e+09</td><td>My two Corgis were thoroughly spoiled by my late husband (I spent a year and a half dieting them down a combined total of 25 pounds!)<br /><br />They are accustomed to the finest of fare, and they absolutely love the Wellness brand of treats.                                                                                                                                                                                                                                                                                                                                                                                                                                                                                                                                                                                                                                                                                                                                                                                                                                                                                                                                                                                                                                                                                                                                                                                                                                                                                                                                                                                                                                                                                                                                                                                                                                                                                                                                                                                                                                                                                                                                                                                                                                                                                                                                                                                                                                                                                                                                                                                                                                                                                                                                                                                                                                                                                                                                                                                                                                                                                                                                                                                                                  </td></tr>\n",
       "<tr><td>B00176G870 </td><td>A2F2MZW8EOGH5J</td><td>Yummy to the tummy                    </td><td style=\"text-align: right;\">      5</td><td style=\"text-align: right;\">                       0</td><td style=\"text-align: right;\">115971</td><td>daemoncycler \"\"When you arrive at a fork in th...</td><td style=\"text-align: right;\">                     0</td><td style=\"text-align: right;\">1.33479e+09</td><td>We used to have drive down to the specialty pet food store for this product.  So glad we discovered Amazon.  As far as I can tell it is no more expensive & in some cases less - Prime membership is awesome.  Loving Pets treats are some of the best according to my dog.  They do not develop that nasty smell like some dog treats do.                                                                                                                                                                                                                                                                                                                                                                                                                                                                                                                                                                                                                                                                                                                                                                                                                                                                                                                                                                                                                                                                                                                                                                                                                                                                                                                                                                                                                                                                                                                                                                                                                                                                                                                                                                                                                                                                                                                                                                                                                                                                                                                                                                                                                                                                                                                                                                                                                                                                                                                                                                                                                                                                                                                                                                                                                                                                                                                          </td></tr>\n",
       "<tr><td>B001CHFUGY </td><td>A2M8VROSDPU4JT</td><td>Very good coffee                      </td><td style=\"text-align: right;\">      5</td><td style=\"text-align: right;\">                       1</td><td style=\"text-align: right;\">434484</td><td>Officefan \"\"Officefankt\"\"                        </td><td style=\"text-align: right;\">                     1</td><td style=\"text-align: right;\">1.27725e+09</td><td>I really liked this coffee, it was just as good as everyone claimed it was.  Strong, bold and flavorful!  I would recommend!                                                                                                                                                                                                                                                                                                                                                                                                                                                                                                                                                                                                                                                                                                                                                                                                                                                                                                                                                                                                                                                                                                                                                                                                                                                                                                                                                                                                                                                                                                                                                                                                                                                                                                                                                                                                                                                                                                                                                                                                                                                                                                                                                                                                                                                                                                                                                                                                                                                                                                                                                                                                                                                                                                                                                                                                                                                                                                                                                                                                                                                                                                                                        </td></tr>\n",
       "<tr><td>B0041CIR62 </td><td>A16I6WJUEBJ1C3</td><td>okay but not as healthy as it appears </td><td style=\"text-align: right;\">      2</td><td style=\"text-align: right;\">                       1</td><td style=\"text-align: right;\">138997</td><td>doctorsirena \"\"doctorsirena\"\"                    </td><td style=\"text-align: right;\">                     1</td><td style=\"text-align: right;\">1.34369e+09</td><td>I am always looking for healthier, whole grain versions of foods I enjoy.  Unfortunately, these Peacock brand noodles are yet another food masquerading as healthy.  The product title in big letters on the front says \"\"Brown Rice Vermicelli\"\", making the consumer think \"\"this is made with brown rice, so it should be a healthy choice\"\".  But the first indication that it is not is when looking at the fiber content on the nutrition facts - only 0.6g per 2oz serving.  Then onto the ingredients list to see why so low... contains brown rice, sago starch and water.  The sago starch comes from palms and must not have much (if any) fiber.<br /><br />The Annie Chun's Maifun Brown Rice Noodles (sold on Amazon and in my local healthy grocer) has become one of my staples and is my frame of reference when comparing to the Peacock brand.  The Annie Chun's product is made with 100% whole grain, with ingredients brown rice flour and water.  Per 2oz serving, it has 4g fiber and pretty much the same calories and other nutrients as the Peacock brand.<br /><br />If you do try this Peacock brand noodles and have not used rice noodles before, you will need to seek guidance elsewhere on preparation.  As others have pointed out, the Peacock package gives almost no directions on how to prepare the product, aside from a brief mention in the recipes (in the header text it does say that they are \"\"easy-to-cook\"\" but does not say how).  It also contains a very strange recipe for rice noodles: Aglio Olio style - this is an Italian recipe for noodles with olive oil/garlic/sprinkled with grated cheese that I think would not be very tasty.  The second recipe appears to be for a soup with veggie strips.  Neither recipe gives amounts or much direction.  In comparison, the Annie Chun's package gives clear, specific directions on rice noodle preparation and two recipes.<br /><br />I use rice noodles = maifun = rice sticks = sometimes called vermicelli for making the Vietnamese salad \"\"bun tofu\"\", to serve with stir-fried veggies or in lettuce rolls.  They can also be used in spring rolls/egg rolls.  When cooking with thin rice noodles, be careful not to oversoak/overcook/overmix or they tend to disintegrate.  Asian rice noodle vermicelli (maifun) are not the same as Italian vermicelli and are not readily interchangeable.  If making an Italian recipe, the best results would be expected from Italian pasta and not maifun.<br /><br />A few final notes...  Both Peacock and Annie Chun's brown rice noodles are gluten free.  The Peacock is made in Singapore and the Annie Chun's in Thailand.  The Peacock noodles do taste fine (kind of bland), but so do the Annie Chun's.  At this time, they are both approximately the same price.  Peacock come in an plastic bag with some noodle crushage upon shipping; Annie Chun's are perfect upon removal from their cellophane bag in a box.  Overall, I highly recommend the Annie Chun's Maifun as a healthier option over the Peacock brand.  On a related note, the Annie Chun's soba and brown rice pad thai noodles are also excellent.<br /><br />Rating for this product: 2.5 stars rounded down to 2 stars.</td></tr>\n",
       "<tr><td>B001R3BQFW </td><td>AM50E42AFUVNL </td><td>Taste great.                          </td><td style=\"text-align: right;\">      5</td><td style=\"text-align: right;\">                       0</td><td style=\"text-align: right;\">126555</td><td>T. Higley \"\"Tina\"\"                               </td><td style=\"text-align: right;\">                     0</td><td style=\"text-align: right;\">1.32356e+09</td><td>I have tried many different drink mix, this is the best tasting by far. It does not have the after taste of the sweetener and I really like it, it is pretty strong, so I use a big water bottle (20 oz) for one tube, it still a little stronger than I like, but it is just my taste.                                                                                                                                                                                                                                                                                                                                                                                                                                                                                                                                                                                                                                                                                                                                                                                                                                                                                                                                                                                                                                                                                                                                                                                                                                                                                                                                                                                                                                                                                                                                                                                                                                                                                                                                                                                                                                                                                                                                                                                                                                                                                                                                                                                                                                                                                                                                                                                                                                                                                                                                                                                                                                                                                                                                                                                                                                                                                                                                                                             </td></tr>\n",
       "<tr><td>B005HGAV8I </td><td>A2I5KDNOESGJ1H</td><td>variety galore                        </td><td style=\"text-align: right;\">      5</td><td style=\"text-align: right;\">                       1</td><td style=\"text-align: right;\">438837</td><td>TJ                                               </td><td style=\"text-align: right;\">                     1</td><td style=\"text-align: right;\">1.33402e+09</td><td>This is my favorite item to order for my Keurig. There are so many flavors, my finicky palate never gets bored!  The only downside is there are probably 5-6 decaf varieties.  I don't drink decaf (I REQUIRE copious amounts of caffeine), so they sit on the shelf...                                                                                                                                                                                                                                                                                                                                                                                                                                                                                                                                                                                                                                                                                                                                                                                                                                                                                                                                                                                                                                                                                                                                                                                                                                                                                                                                                                                                                                                                                                                                                                                                                                                                                                                                                                                                                                                                                                                                                                                                                                                                                                                                                                                                                                                                                                                                                                                                                                                                                                                                                                                                                                                                                                                                                                                                                                                                                                                                                                                             </td></tr>\n",
       "<tr><td>B000GFYRHQ </td><td>A3A7YUR6FS6ZCI</td><td>Bigelow Earl Grey Green Tea           </td><td style=\"text-align: right;\">      5</td><td style=\"text-align: right;\">                       0</td><td style=\"text-align: right;\">245379</td><td>Tea Lover                                        </td><td style=\"text-align: right;\">                     0</td><td style=\"text-align: right;\">1.17841e+09</td><td>Tastes like Earl Grey, but it's green tea so it's healthier.                                                                                                                                                                                                                                                                                                                                                                                                                                                                                                                                                                                                                                                                                                                                                                                                                                                                                                                                                                                                                                                                                                                                                                                                                                                                                                                                                                                                                                                                                                                                                                                                                                                                                                                                                                                                                                                                                                                                                                                                                                                                                                                                                                                                                                                                                                                                                                                                                                                                                                                                                                                                                                                                                                                                                                                                                                                                                                                                                                                                                                                                                                                                                                                                        </td></tr>\n",
       "</tbody>\n",
       "</table>"
      ]
     },
     "metadata": {},
     "output_type": "display_data"
    },
    {
     "data": {
      "text/plain": []
     },
     "execution_count": 5,
     "metadata": {},
     "output_type": "execute_result"
    }
   ],
   "source": [
    "reviews.head()"
   ]
  },
  {
   "cell_type": "code",
   "execution_count": 6,
   "metadata": {
    "collapsed": false
   },
   "outputs": [
    {
     "data": {
      "image/png": "[encoded data removed]",
      "text/plain": [
       "<matplotlib.figure.Figure at 0x11881c470>"
      ]
     },
     "metadata": {},
     "output_type": "display_data"
    }
   ],
   "source": [
    "reviews[\"Score\"].hist()"
   ]
  },
  {
   "cell_type": "code",
   "execution_count": 7,
   "metadata": {
    "collapsed": false
   },
   "outputs": [
    {
     "data": {
      "text/html": [
       "<table>\n",
       "<thead>\n",
       "<tr><th>Summary      </th><th style=\"text-align: right;\">  Count</th></tr>\n",
       "</thead>\n",
       "<tbody>\n",
       "<tr><td>Delicious    </td><td style=\"text-align: right;\">    426</td></tr>\n",
       "<tr><td>Delicious!   </td><td style=\"text-align: right;\">    417</td></tr>\n",
       "<tr><td>Yummy!       </td><td style=\"text-align: right;\">    284</td></tr>\n",
       "<tr><td>Yummy        </td><td style=\"text-align: right;\">    222</td></tr>\n",
       "<tr><td>Great product</td><td style=\"text-align: right;\">    204</td></tr>\n",
       "<tr><td>Yum!         </td><td style=\"text-align: right;\">    193</td></tr>\n",
       "<tr><td>Excellent    </td><td style=\"text-align: right;\">    183</td></tr>\n",
       "<tr><td>Great Product</td><td style=\"text-align: right;\">    155</td></tr>\n",
       "<tr><td>Love it!     </td><td style=\"text-align: right;\">    154</td></tr>\n",
       "<tr><td>Great        </td><td style=\"text-align: right;\">    138</td></tr>\n",
       "</tbody>\n",
       "</table>"
      ]
     },
     "metadata": {},
     "output_type": "display_data"
    },
    {
     "data": {
      "text/plain": []
     },
     "execution_count": 7,
     "metadata": {},
     "output_type": "execute_result"
    }
   ],
   "source": [
    "summary_freq = reviews[\"Summary\"].table()\n",
    "summary_freq = summary_freq.sort(\"Count\", ascending = [False])\n",
    "summary_freq.head()"
   ]
  },
  {
   "cell_type": "code",
   "execution_count": 8,
   "metadata": {
    "collapsed": true
   },
   "outputs": [],
   "source": [
    "#' Add Target Column: \"PositiveReview\"\n",
    "reviews[\"PositiveReview\"] = (reviews[\"Score\"] >= 4).ifelse(\"1\", \"0\")"
   ]
  },
  {
   "cell_type": "code",
   "execution_count": 9,
   "metadata": {
    "collapsed": false
   },
   "outputs": [
    {
     "data": {
      "text/html": [
       "<table>\n",
       "<thead>\n",
       "<tr><th style=\"text-align: right;\">  PositiveReview</th><th style=\"text-align: right;\">  Count</th></tr>\n",
       "</thead>\n",
       "<tbody>\n",
       "<tr><td style=\"text-align: right;\">               0</td><td style=\"text-align: right;\">  21791</td></tr>\n",
       "<tr><td style=\"text-align: right;\">               1</td><td style=\"text-align: right;\">  78209</td></tr>\n",
       "</tbody>\n",
       "</table>"
      ]
     },
     "metadata": {},
     "output_type": "display_data"
    },
    {
     "data": {
      "text/plain": []
     },
     "execution_count": 9,
     "metadata": {},
     "output_type": "execute_result"
    }
   ],
   "source": [
    "reviews[\"PositiveReview\"].table()"
   ]
  },
  {
   "cell_type": "markdown",
   "metadata": {},
   "source": [
    "# Step 3 (of 9).  Tokenize Words\n",
    "\n",
    "\n",
    "We will tokenize the words in the review column. We will do this by creating a function called `tokenize`.  This will split the reviews into words and remove any stop words, small words, or words with numbers in them."
   ]
  },
  {
   "cell_type": "code",
   "execution_count": 10,
   "metadata": {
    "collapsed": false
   },
   "outputs": [
    {
     "data": {
      "text/plain": [
       "['all',\n",
       " 'just',\n",
       " 'being',\n",
       " 'over',\n",
       " 'both',\n",
       " 'through',\n",
       " 'yourselves',\n",
       " 'its',\n",
       " 'before',\n",
       " 'o',\n",
       " 'hadn',\n",
       " 'herself',\n",
       " 'll',\n",
       " 'had',\n",
       " 'should',\n",
       " 'to',\n",
       " 'only',\n",
       " 'won',\n",
       " 'under',\n",
       " 'ours',\n",
       " 'has',\n",
       " 'do',\n",
       " 'them',\n",
       " 'his',\n",
       " 'very',\n",
       " 'they',\n",
       " 'not',\n",
       " 'during',\n",
       " 'now',\n",
       " 'him',\n",
       " 'nor',\n",
       " 'd',\n",
       " 'did',\n",
       " 'didn',\n",
       " 'this',\n",
       " 'she',\n",
       " 'each',\n",
       " 'further',\n",
       " 'where',\n",
       " 'few',\n",
       " 'because',\n",
       " 'doing',\n",
       " 'some',\n",
       " 'hasn',\n",
       " 'are',\n",
       " 'our',\n",
       " 'ourselves',\n",
       " 'out',\n",
       " 'what',\n",
       " 'for',\n",
       " 'while',\n",
       " 're',\n",
       " 'does',\n",
       " 'above',\n",
       " 'between',\n",
       " 'mustn',\n",
       " 't',\n",
       " 'be',\n",
       " 'we',\n",
       " 'who',\n",
       " 'were',\n",
       " 'here',\n",
       " 'shouldn',\n",
       " 'hers',\n",
       " 'by',\n",
       " 'on',\n",
       " 'about',\n",
       " 'couldn',\n",
       " 'of',\n",
       " 'against',\n",
       " 's',\n",
       " 'isn',\n",
       " 'or',\n",
       " 'own',\n",
       " 'into',\n",
       " 'yourself',\n",
       " 'down',\n",
       " 'mightn',\n",
       " 'wasn',\n",
       " 'your',\n",
       " 'from',\n",
       " 'her',\n",
       " 'their',\n",
       " 'aren',\n",
       " 'there',\n",
       " 'been',\n",
       " 'whom',\n",
       " 'too',\n",
       " 'wouldn',\n",
       " 'themselves',\n",
       " 'weren',\n",
       " 'was',\n",
       " 'until',\n",
       " 'more',\n",
       " 'himself',\n",
       " 'that',\n",
       " 'but',\n",
       " 'don',\n",
       " 'with',\n",
       " 'than',\n",
       " 'those',\n",
       " 'he',\n",
       " 'me',\n",
       " 'myself',\n",
       " 'ma',\n",
       " 'these',\n",
       " 'up',\n",
       " 'will',\n",
       " 'below',\n",
       " 'ain',\n",
       " 'can',\n",
       " 'theirs',\n",
       " 'my',\n",
       " 'and',\n",
       " 've',\n",
       " 'then',\n",
       " 'is',\n",
       " 'am',\n",
       " 'it',\n",
       " 'doesn',\n",
       " 'an',\n",
       " 'as',\n",
       " 'itself',\n",
       " 'at',\n",
       " 'have',\n",
       " 'in',\n",
       " 'any',\n",
       " 'if',\n",
       " 'again',\n",
       " 'no',\n",
       " 'when',\n",
       " 'same',\n",
       " 'how',\n",
       " 'other',\n",
       " 'which',\n",
       " 'you',\n",
       " 'shan',\n",
       " 'needn',\n",
       " 'haven',\n",
       " 'after',\n",
       " 'most',\n",
       " 'such',\n",
       " 'why',\n",
       " 'a',\n",
       " 'off',\n",
       " 'i',\n",
       " 'm',\n",
       " 'yours',\n",
       " 'so',\n",
       " 'y',\n",
       " 'the',\n",
       " 'having',\n",
       " 'once']"
      ]
     },
     "execution_count": 10,
     "metadata": {},
     "output_type": "execute_result"
    }
   ],
   "source": [
    "# Set Stop Words\n",
    "# The STOP WORDS we are importing are from the nltk package\n",
    "import pandas as pd\n",
    "\n",
    "# \"https://raw.githubusercontent.com/h2oai/h2o-tutorials/master/h2o-world-2017/nlp/stopwords.csv\"\n",
    "\n",
    "data_path = \"/Users/megankurka/stopwords.csv\"\n",
    "STOP_WORDS = pd.read_csv(data_path, header=0)\n",
    "STOP_WORDS = list(STOP_WORDS['STOP_WORD'])\n",
    "\n",
    "STOP_WORDS"
   ]
  },
  {
   "cell_type": "code",
   "execution_count": 11,
   "metadata": {
    "collapsed": true
   },
   "outputs": [],
   "source": [
    "def tokenize(sentences, stop_word = STOP_WORDS):\n",
    "    tokenized = sentences.tokenize(\"\\\\W+\")\n",
    "    tokenized_lower = tokenized.tolower()\n",
    "    tokenized_filtered = tokenized_lower[(tokenized_lower.nchar() >= 2) | (tokenized_lower.isna()),:]\n",
    "    tokenized_words = tokenized_filtered[tokenized_filtered.grep(\"[0-9]\",invert=True,output_logical=True),:]\n",
    "    tokenized_words = tokenized_words[(tokenized_words.isna()) | (~ tokenized_words.isin(STOP_WORDS)),:]\n",
    "    return tokenized_words"
   ]
  },
  {
   "cell_type": "code",
   "execution_count": 12,
   "metadata": {
    "collapsed": true
   },
   "outputs": [],
   "source": [
    "# Break reviews into sequence of words\n",
    "words = tokenize(reviews[\"Text\"])"
   ]
  },
  {
   "cell_type": "code",
   "execution_count": 13,
   "metadata": {
    "collapsed": false
   },
   "outputs": [
    {
     "data": {
      "text/html": [
       "<table>\n",
       "<thead>\n",
       "<tr><th>C1       </th></tr>\n",
       "</thead>\n",
       "<tbody>\n",
       "<tr><td>made     </td></tr>\n",
       "<tr><td>china    </td></tr>\n",
       "<tr><td>buy      </td></tr>\n",
       "<tr><td>pet      </td></tr>\n",
       "<tr><td>food     </td></tr>\n",
       "<tr><td>china    </td></tr>\n",
       "<tr><td>dogswell </td></tr>\n",
       "<tr><td>using    </td></tr>\n",
       "<tr><td>propylene</td></tr>\n",
       "<tr><td>glycol   </td></tr>\n",
       "</tbody>\n",
       "</table>"
      ]
     },
     "metadata": {},
     "output_type": "display_data"
    },
    {
     "data": {
      "text/plain": []
     },
     "execution_count": 13,
     "metadata": {},
     "output_type": "execute_result"
    }
   ],
   "source": [
    "words.head()"
   ]
  },
  {
   "cell_type": "markdown",
   "metadata": {},
   "source": [
    "# Step 4 (of 9).  Train Word2Vec Model\n",
    "\n",
    "Now that we've tokenized our words, we can train a word2vec model. We will start by creating word embeddings of length 2.  We will use these to understand the word embedding since they can be easily visualized. "
   ]
  },
  {
   "cell_type": "code",
   "execution_count": 14,
   "metadata": {
    "collapsed": false
   },
   "outputs": [
    {
     "name": "stdout",
     "output_type": "stream",
     "text": [
      "word2vec Model Build progress: |██████████████████████████████████████████| 100%\n"
     ]
    }
   ],
   "source": [
    "# Train Word2Vec Model for vec size = 2\n",
    "from h2o.estimators.word2vec import H2OWord2vecEstimator\n",
    "\n",
    "w2v_len2_model = H2OWord2vecEstimator(vec_size = 2, model_id = \"w2v_len2.hex\")\n",
    "w2v_len2_model.train(training_frame=words)"
   ]
  },
  {
   "cell_type": "markdown",
   "metadata": {},
   "source": [
    "# Step 5 (of 9).  Analyze Word Embeddings\n",
    "\n",
    "We have created word embeddings for each word in our corpus, now we want to understand what they mean and how to interpret them.  The word embeddings for the first few words are shown below."
   ]
  },
  {
   "cell_type": "code",
   "execution_count": 15,
   "metadata": {
    "collapsed": false
   },
   "outputs": [
    {
     "data": {
      "text/html": [
       "<table>\n",
       "<thead>\n",
       "<tr><th>Word     </th><th style=\"text-align: right;\">      C1</th><th style=\"text-align: right;\">       C2</th></tr>\n",
       "</thead>\n",
       "<tbody>\n",
       "<tr><td>made     </td><td style=\"text-align: right;\">0.557763</td><td style=\"text-align: right;\">-0.159271</td></tr>\n",
       "<tr><td>china    </td><td style=\"text-align: right;\">0.426116</td><td style=\"text-align: right;\">-0.671018</td></tr>\n",
       "<tr><td>buy      </td><td style=\"text-align: right;\">0.516405</td><td style=\"text-align: right;\">-0.509285</td></tr>\n",
       "<tr><td>pet      </td><td style=\"text-align: right;\">0.131741</td><td style=\"text-align: right;\">-1.25829 </td></tr>\n",
       "<tr><td>food     </td><td style=\"text-align: right;\">0.353882</td><td style=\"text-align: right;\">-0.824678</td></tr>\n",
       "<tr><td>china    </td><td style=\"text-align: right;\">0.426116</td><td style=\"text-align: right;\">-0.671018</td></tr>\n",
       "<tr><td>dogswell </td><td style=\"text-align: right;\">0.229262</td><td style=\"text-align: right;\">-1.1138  </td></tr>\n",
       "<tr><td>using    </td><td style=\"text-align: right;\">0.582038</td><td style=\"text-align: right;\">-0.14487 </td></tr>\n",
       "<tr><td>propylene</td><td style=\"text-align: right;\">0.662663</td><td style=\"text-align: right;\"> 0.782169</td></tr>\n",
       "<tr><td>glycol   </td><td style=\"text-align: right;\">0.556084</td><td style=\"text-align: right;\"> 0.700476</td></tr>\n",
       "</tbody>\n",
       "</table>"
      ]
     },
     "metadata": {},
     "output_type": "display_data"
    },
    {
     "data": {
      "text/plain": []
     },
     "execution_count": 15,
     "metadata": {},
     "output_type": "execute_result"
    }
   ],
   "source": [
    "sample_embeddings = words.head()\n",
    "sample_embeddings.col_names = [\"Word\"]\n",
    "sample_embeddings = sample_embeddings.cbind(w2v_len2_model.transform(sample_embeddings, aggregate_method=\"None\"))\n",
    "\n",
    "sample_embeddings"
   ]
  },
  {
   "cell_type": "markdown",
   "metadata": {},
   "source": [
    "We will plot the word embeddings to see which words are related to one another."
   ]
  },
  {
   "cell_type": "code",
   "execution_count": 16,
   "metadata": {
    "collapsed": false
   },
   "outputs": [
    {
     "data": {
      "text/html": [
       "<table>\n",
       "<thead>\n",
       "<tr><th>Word   </th><th style=\"text-align: right;\">  Count</th><th style=\"text-align: right;\">      C1</th><th style=\"text-align: right;\">         C2</th></tr>\n",
       "</thead>\n",
       "<tbody>\n",
       "<tr><td>aa     </td><td style=\"text-align: right;\">     26</td><td style=\"text-align: right;\">0.865752</td><td style=\"text-align: right;\"> 0.263875  </td></tr>\n",
       "<tr><td>aaa    </td><td style=\"text-align: right;\">      9</td><td style=\"text-align: right;\">0.452651</td><td style=\"text-align: right;\">-0.409016  </td></tr>\n",
       "<tr><td>aaaaa  </td><td style=\"text-align: right;\">      5</td><td style=\"text-align: right;\">0.550566</td><td style=\"text-align: right;\">-0.489035  </td></tr>\n",
       "<tr><td>aaah   </td><td style=\"text-align: right;\">      6</td><td style=\"text-align: right;\">0.870186</td><td style=\"text-align: right;\"> 0.15274   </td></tr>\n",
       "<tr><td>aacute </td><td style=\"text-align: right;\">     12</td><td style=\"text-align: right;\">0.326803</td><td style=\"text-align: right;\"> 0.284855  </td></tr>\n",
       "<tr><td>aafco  </td><td style=\"text-align: right;\">      8</td><td style=\"text-align: right;\">0.432263</td><td style=\"text-align: right;\">-0.518921  </td></tr>\n",
       "<tr><td>aah    </td><td style=\"text-align: right;\">      5</td><td style=\"text-align: right;\">0.740127</td><td style=\"text-align: right;\">-0.00975084</td></tr>\n",
       "<tr><td>ab     </td><td style=\"text-align: right;\">     11</td><td style=\"text-align: right;\">0.827431</td><td style=\"text-align: right;\"> 0.499357  </td></tr>\n",
       "<tr><td>aback  </td><td style=\"text-align: right;\">     16</td><td style=\"text-align: right;\">0.678003</td><td style=\"text-align: right;\">-0.131446  </td></tr>\n",
       "<tr><td>abandon</td><td style=\"text-align: right;\">     11</td><td style=\"text-align: right;\">0.763714</td><td style=\"text-align: right;\">-0.198855  </td></tr>\n",
       "</tbody>\n",
       "</table>"
      ]
     },
     "metadata": {},
     "output_type": "display_data"
    },
    {
     "data": {
      "text/plain": []
     },
     "execution_count": 16,
     "metadata": {},
     "output_type": "execute_result"
    }
   ],
   "source": [
    "unique_words = words.asfactor().table()\n",
    "unique_words.col_names = [\"Word\", \"Count\"]\n",
    "\n",
    "word_embeddings = w2v_len2_model.transform(unique_words[\"Word\"].ascharacter(), aggregate_method=\"None\")\n",
    "word_embeddings = unique_words.cbind(word_embeddings)\n",
    "word_embeddings = word_embeddings[~word_embeddings[\"C1\"].isna()]\n",
    "word_embeddings.head()"
   ]
  },
  {
   "cell_type": "code",
   "execution_count": 17,
   "metadata": {
    "collapsed": false
   },
   "outputs": [],
   "source": [
    "# Filter Word Embeddings to selected words\n",
    "\n",
    "selected_words = [\"coffee\", \"espresso\", \"starbucks\", \"sweet\", \"salty\", \"savory\", \"email\", \"support\", \"answered\", \n",
    "                  \"unhappy\", \"waited\", \"returned\", \"tasty\", \"yummy\", \"moldy\", \"expired\", \"salmonella\", \"best\", \n",
    "                  \"amazing\", \"abdominal\", \"folic\", \"zinc\"]\n",
    "\n",
    "filtered_embeddings = filtered_embeddings[filtered_embeddings[\"Word\"].isin(selected_words)]\n",
    "plot_data = filtered_embeddings.as_data_frame(use_pandas = True)"
   ]
  },
  {
   "cell_type": "code",
   "execution_count": 18,
   "metadata": {
    "collapsed": false
   },
   "outputs": [
    {
     "data": {
      "image/png": "[encoded data removed]",
      "text/plain": [
       "<matplotlib.figure.Figure at 0x11882a940>"
      ]
     },
     "metadata": {},
     "output_type": "display_data"
    }
   ],
   "source": [
    "# Plot Word Embeddings\n",
    "\n",
    "%matplotlib inline\n",
    "import matplotlib.pyplot as plt\n",
    "\n",
    "fig, ax = plt.subplots(figsize=(20, 10))\n",
    "ax.scatter(plot_data[\"C1\"], plot_data[\"C2\"])\n",
    "\n",
    "for i, txt in enumerate(plot_data[\"Word\"]):\n",
    "    ax.annotate(txt, (plot_data[\"C1\"].iloc[i], plot_data[\"C2\"].iloc[i]))"
   ]
  },
  {
   "cell_type": "markdown",
   "metadata": {},
   "source": [
    "We will train a more complex word2vec model with length 100 - this will be able to catch further nuances in the text."
   ]
  },
  {
   "cell_type": "code",
   "execution_count": 19,
   "metadata": {
    "collapsed": false
   },
   "outputs": [
    {
     "name": "stdout",
     "output_type": "stream",
     "text": [
      "word2vec Model Build progress: |██████████████████████████████████████████| 100%\n"
     ]
    }
   ],
   "source": [
    "# Train Word2Vec Model for vec size = 100\n",
    "w2v_model = H2OWord2vecEstimator(vec_size = 100, model_id = \"w2v_len2.hex\")\n",
    "w2v_model.train(training_frame=words)"
   ]
  },
  {
   "cell_type": "markdown",
   "metadata": {},
   "source": [
    "One way to interpret the word embeddings is to use them to find synonyms. The `find_synonyms` function finds the words that have the smallest cosine distance in word embeddings.  We assume that if the word embeddings are similar, the two words are synonyms."
   ]
  },
  {
   "cell_type": "code",
   "execution_count": 20,
   "metadata": {
    "collapsed": false
   },
   "outputs": [
    {
     "data": {
      "text/plain": [
       "OrderedDict([('coffees', 0.7915419340133667),\n",
       "             ('coffe', 0.7723404765129089),\n",
       "             ('espresso', 0.772047221660614),\n",
       "             ('starbucks', 0.7659801840782166),\n",
       "             ('expresso', 0.7440021634101868)])"
      ]
     },
     "execution_count": 20,
     "metadata": {},
     "output_type": "execute_result"
    }
   ],
   "source": [
    "# Sanity check - find synonyms for the word 'coffee'\n",
    "w2v_model.find_synonyms(\"coffee\", count = 5)"
   ]
  },
  {
   "cell_type": "code",
   "execution_count": 21,
   "metadata": {
    "collapsed": false
   },
   "outputs": [
    {
     "data": {
      "text/plain": [
       "OrderedDict([('rancid', 0.7220293283462524),\n",
       "             ('moldy', 0.6784560084342957),\n",
       "             ('inedible', 0.6382525563240051),\n",
       "             ('unedible', 0.6382219195365906),\n",
       "             ('expired', 0.6199800372123718)])"
      ]
     },
     "execution_count": 21,
     "metadata": {},
     "output_type": "execute_result"
    }
   ],
   "source": [
    "# Sanity check - find synonyms for the word 'stale'\n",
    "w2v_model.find_synonyms(\"stale\", count = 5)"
   ]
  },
  {
   "cell_type": "markdown",
   "metadata": {},
   "source": [
    "We will cluster the word embeddings to identify segments of similar words. "
   ]
  },
  {
   "cell_type": "code",
   "execution_count": 22,
   "metadata": {
    "collapsed": false
   },
   "outputs": [],
   "source": [
    "word_embeddings = w2v_model.transform(unique_words[\"Word\"].ascharacter(), aggregate_method=\"None\")\n",
    "word_embeddings = unique_words.cbind(word_embeddings)\n",
    "word_embeddings = word_embeddings[~word_embeddings[\"C1\"].isna()]"
   ]
  },
  {
   "cell_type": "code",
   "execution_count": 23,
   "metadata": {
    "collapsed": false
   },
   "outputs": [
    {
     "name": "stdout",
     "output_type": "stream",
     "text": [
      "kmeans Model Build progress: |████████████████████████████████████████████| 100%\n"
     ]
    }
   ],
   "source": [
    "from h2o.estimators import H2OKMeansEstimator\n",
    "\n",
    "kmeans = H2OKMeansEstimator(model_id = \"word_segments.hex\",\n",
    "                            estimate_k = True, k = 100, # Max number of clusters\n",
    "                            seed = 1234)\n",
    "\n",
    "x = list(set(word_embeddings.col_names) - set([\"Word\", \"Count\"]))\n",
    "kmeans.train(x = x, training_frame = word_embeddings)"
   ]
  },
  {
   "cell_type": "code",
   "execution_count": 24,
   "metadata": {
    "collapsed": false
   },
   "outputs": [
    {
     "name": "stdout",
     "output_type": "stream",
     "text": [
      "Centroid Statistics: \n"
     ]
    },
    {
     "data": {
      "text/html": [
       "<div style=\"overflow:auto\"><table style=\"width:50%\"><tr><td><b></b></td>\n",
       "<td><b>centroid</b></td>\n",
       "<td><b>size</b></td>\n",
       "<td><b>within_cluster_sum_of_squares</b></td></tr>\n",
       "<tr><td></td>\n",
       "<td>1.0</td>\n",
       "<td>11457.0</td>\n",
       "<td>1037401.8690988</td></tr>\n",
       "<tr><td></td>\n",
       "<td>2.0</td>\n",
       "<td>7622.0</td>\n",
       "<td>816544.2253536</td></tr></table></div>"
      ],
      "text/plain": [
       "    centroid    size    within_cluster_sum_of_squares\n",
       "--  ----------  ------  -------------------------------\n",
       "    1           11457   1.0374e+06\n",
       "    2           7622    816544"
      ]
     },
     "metadata": {},
     "output_type": "display_data"
    },
    {
     "data": {
      "text/plain": []
     },
     "execution_count": 24,
     "metadata": {},
     "output_type": "execute_result"
    }
   ],
   "source": [
    "# Clusters\n",
    "kmeans.centroid_stats()"
   ]
  },
  {
   "cell_type": "code",
   "execution_count": 25,
   "metadata": {
    "collapsed": false
   },
   "outputs": [
    {
     "name": "stdout",
     "output_type": "stream",
     "text": [
      "kmeans prediction progress: |█████████████████████████████████████████████| 100%\n"
     ]
    },
    {
     "data": {
      "text/html": [
       "<table>\n",
       "<thead>\n",
       "<tr><th>Word   </th><th style=\"text-align: right;\">  predict</th></tr>\n",
       "</thead>\n",
       "<tbody>\n",
       "<tr><td>aa     </td><td style=\"text-align: right;\">        1</td></tr>\n",
       "<tr><td>aaa    </td><td style=\"text-align: right;\">        0</td></tr>\n",
       "<tr><td>aaaaa  </td><td style=\"text-align: right;\">        0</td></tr>\n",
       "<tr><td>aaah   </td><td style=\"text-align: right;\">        1</td></tr>\n",
       "<tr><td>aacute </td><td style=\"text-align: right;\">        1</td></tr>\n",
       "<tr><td>aafco  </td><td style=\"text-align: right;\">        0</td></tr>\n",
       "<tr><td>aah    </td><td style=\"text-align: right;\">        1</td></tr>\n",
       "<tr><td>ab     </td><td style=\"text-align: right;\">        1</td></tr>\n",
       "<tr><td>aback  </td><td style=\"text-align: right;\">        1</td></tr>\n",
       "<tr><td>abandon</td><td style=\"text-align: right;\">        0</td></tr>\n",
       "</tbody>\n",
       "</table>"
      ]
     },
     "metadata": {},
     "output_type": "display_data"
    },
    {
     "data": {
      "text/plain": []
     },
     "execution_count": 25,
     "metadata": {},
     "output_type": "execute_result"
    }
   ],
   "source": [
    "word_clusters = word_embeddings.cbind(kmeans.predict(word_embeddings))\n",
    "word_clusters[[\"Word\", \"predict\"]].head()"
   ]
  },
  {
   "cell_type": "code",
   "execution_count": 26,
   "metadata": {
    "collapsed": false
   },
   "outputs": [],
   "source": [
    "selected_clusters = word_clusters[word_clusters[\"Word\"].isin(selected_words)]"
   ]
  },
  {
   "cell_type": "code",
   "execution_count": 27,
   "metadata": {
    "collapsed": false
   },
   "outputs": [
    {
     "name": "stdout",
     "output_type": "stream",
     "text": [
      "Cluster 0\n"
     ]
    },
    {
     "data": {
      "text/html": [
       "<table>\n",
       "<thead>\n",
       "<tr><th>Word      </th></tr>\n",
       "</thead>\n",
       "<tbody>\n",
       "<tr><td>abdominal </td></tr>\n",
       "<tr><td>answered  </td></tr>\n",
       "<tr><td>coffee    </td></tr>\n",
       "<tr><td>email     </td></tr>\n",
       "<tr><td>expired   </td></tr>\n",
       "<tr><td>moldy     </td></tr>\n",
       "<tr><td>returned  </td></tr>\n",
       "<tr><td>salmonella</td></tr>\n",
       "<tr><td>support   </td></tr>\n",
       "<tr><td>unhappy   </td></tr>\n",
       "</tbody>\n",
       "</table>"
      ]
     },
     "metadata": {},
     "output_type": "display_data"
    },
    {
     "name": "stdout",
     "output_type": "stream",
     "text": [
      "\n"
     ]
    }
   ],
   "source": [
    "print(\"Cluster 0\")\n",
    "print(selected_clusters[selected_clusters[\"predict\"] == 0, \"Word\"])"
   ]
  },
  {
   "cell_type": "code",
   "execution_count": 28,
   "metadata": {
    "collapsed": false
   },
   "outputs": [
    {
     "name": "stdout",
     "output_type": "stream",
     "text": [
      "Cluster 1\n"
     ]
    },
    {
     "data": {
      "text/html": [
       "<table>\n",
       "<thead>\n",
       "<tr><th>Word     </th></tr>\n",
       "</thead>\n",
       "<tbody>\n",
       "<tr><td>amazing  </td></tr>\n",
       "<tr><td>best     </td></tr>\n",
       "<tr><td>espresso </td></tr>\n",
       "<tr><td>folic    </td></tr>\n",
       "<tr><td>salty    </td></tr>\n",
       "<tr><td>savory   </td></tr>\n",
       "<tr><td>starbucks</td></tr>\n",
       "<tr><td>sweet    </td></tr>\n",
       "<tr><td>tasty    </td></tr>\n",
       "<tr><td>yummy    </td></tr>\n",
       "</tbody>\n",
       "</table>"
      ]
     },
     "metadata": {},
     "output_type": "display_data"
    },
    {
     "name": "stdout",
     "output_type": "stream",
     "text": [
      "\n"
     ]
    }
   ],
   "source": [
    "print(\"Cluster 1\")\n",
    "print(selected_clusters[selected_clusters[\"predict\"] == 1, \"Word\"])"
   ]
  },
  {
   "cell_type": "markdown",
   "metadata": {},
   "source": [
    "# Step 6 (of 9).  Train Model with Original Data\n",
    "\n",
    "Now that we have analyzed our word embeddings, we will turn to our supervised learning task to predict whether someone liked the review.  We will first train a model on our original data - not our word embeddings to see what our accuracy is. We will use this model as a baseline model."
   ]
  },
  {
   "cell_type": "code",
   "execution_count": 30,
   "metadata": {
    "collapsed": true
   },
   "outputs": [],
   "source": [
    "# Find the 80th quantile of time in the dataset\n",
    "time_split = reviews[\"Time\"].quantile(prob = [0.8])[1]\n",
    "reviews[\"Train\"] = (reviews[\"Time\"] < time_split).ifelse(\"Yes\", \"No\")"
   ]
  },
  {
   "cell_type": "code",
   "execution_count": 31,
   "metadata": {
    "collapsed": true
   },
   "outputs": [],
   "source": [
    "train = reviews[reviews[\"Train\"] == \"Yes\"]\n",
    "test = reviews[reviews[\"Train\"] == \"No\"]"
   ]
  },
  {
   "cell_type": "code",
   "execution_count": 32,
   "metadata": {
    "collapsed": false
   },
   "outputs": [
    {
     "name": "stdout",
     "output_type": "stream",
     "text": [
      "gbm Model Build progress: |███████████████████████████████████████████████| 100%\n"
     ]
    }
   ],
   "source": [
    "from h2o.estimators import H2OGradientBoostingEstimator\n",
    "\n",
    "predictors = ['ProductId', 'UserId', 'HelpfulnessNumerator', 'HelpfulnessDenominator', 'Time']\n",
    "response = 'PositiveReview'\n",
    "\n",
    "gbm_baseline = H2OGradientBoostingEstimator(stopping_metric = \"AUC\", stopping_tolerance = 0.001,\n",
    "                                            stopping_rounds = 5, score_tree_interval = 10,\n",
    "                                            model_id = \"gbm_baseline.hex\"\n",
    "                                           )\n",
    "gbm_baseline.train(x = predictors, y = response, \n",
    "                   training_frame = train, validation_frame = test\n",
    "                  )"
   ]
  },
  {
   "cell_type": "code",
   "execution_count": 33,
   "metadata": {
    "collapsed": false
   },
   "outputs": [
    {
     "name": "stdout",
     "output_type": "stream",
     "text": [
      "AUC on Validation Data: 0.616\n"
     ]
    }
   ],
   "source": [
    "print(\"AUC on Validation Data: \" + str(round(gbm_baseline.auc(valid = True), 3)))"
   ]
  },
  {
   "cell_type": "markdown",
   "metadata": {},
   "source": [
    "We can see that there is a big room for improvement.  Our error is 22%.  To improve our model, we will train word embeddings for the review."
   ]
  },
  {
   "cell_type": "code",
   "execution_count": 34,
   "metadata": {
    "collapsed": false
   },
   "outputs": [
    {
     "name": "stdout",
     "output_type": "stream",
     "text": [
      "Confusion Matrix (Act/Pred) for max f1 @ threshold = 0.45931625811239496: \n"
     ]
    },
    {
     "data": {
      "text/html": [
       "<div style=\"overflow:auto\"><table style=\"width:50%\"><tr><td><b></b></td>\n",
       "<td><b>0</b></td>\n",
       "<td><b>1</b></td>\n",
       "<td><b>Error</b></td>\n",
       "<td><b>Rate</b></td></tr>\n",
       "<tr><td>0</td>\n",
       "<td>384.0</td>\n",
       "<td>4276.0</td>\n",
       "<td>0.9176</td>\n",
       "<td> (4276.0/4660.0)</td></tr>\n",
       "<tr><td>1</td>\n",
       "<td>128.0</td>\n",
       "<td>15220.0</td>\n",
       "<td>0.0083</td>\n",
       "<td> (128.0/15348.0)</td></tr>\n",
       "<tr><td>Total</td>\n",
       "<td>512.0</td>\n",
       "<td>19496.0</td>\n",
       "<td>0.2201</td>\n",
       "<td> (4404.0/20008.0)</td></tr></table></div>"
      ],
      "text/plain": [
       "       0    1      Error    Rate\n",
       "-----  ---  -----  -------  ----------------\n",
       "0      384  4276   0.9176   (4276.0/4660.0)\n",
       "1      128  15220  0.0083   (128.0/15348.0)\n",
       "Total  512  19496  0.2201   (4404.0/20008.0)"
      ]
     },
     "metadata": {},
     "output_type": "display_data"
    },
    {
     "data": {
      "text/plain": []
     },
     "execution_count": 34,
     "metadata": {},
     "output_type": "execute_result"
    }
   ],
   "source": [
    "gbm_baseline.confusion_matrix(valid = True)"
   ]
  },
  {
   "cell_type": "markdown",
   "metadata": {},
   "source": [
    "The variable importance plot below shows us that the most important variable is `HelpfulnessNumerator`.  Looking at the partial dependency plot for that variable, we see that the more people who find the review helpful, the more likely it is a good review."
   ]
  },
  {
   "cell_type": "code",
   "execution_count": 35,
   "metadata": {
    "collapsed": false
   },
   "outputs": [
    {
     "data": {
      "image/png": "[encoded data removed]",
      "text/plain": [
       "<matplotlib.figure.Figure at 0x124d69860>"
      ]
     },
     "metadata": {},
     "output_type": "display_data"
    }
   ],
   "source": [
    "gbm_baseline.varimp_plot()"
   ]
  },
  {
   "cell_type": "code",
   "execution_count": 36,
   "metadata": {
    "collapsed": false,
    "scrolled": false
   },
   "outputs": [
    {
     "name": "stdout",
     "output_type": "stream",
     "text": [
      "PartialDependencePlot progress: |█████████████████████████████████████████| 100%\n"
     ]
    },
    {
     "data": {
      "image/png": "[encoded data removed]",
      "text/plain": [
       "<matplotlib.figure.Figure at 0x1244d80f0>"
      ]
     },
     "metadata": {},
     "output_type": "display_data"
    }
   ],
   "source": [
    "%matplotlib inline  \n",
    "pdp_helpfulness = gbm_baseline.partial_plot(train, cols = [\"HelpfulnessNumerator\"])"
   ]
  },
  {
   "cell_type": "markdown",
   "metadata": {},
   "source": [
    "We begin by aggregating the words for each review using the `transform` function.  This will give us one aggregated word embedding for each review."
   ]
  },
  {
   "cell_type": "markdown",
   "metadata": {},
   "source": [
    "# Step 7 (of 9).  Train Model with Word Embeddings\n",
    "\n",
    "We will train a GBM model with the same parameters as our baseline gbm.  This time, however, we will add the aggregated word embeddings as predictors. "
   ]
  },
  {
   "cell_type": "code",
   "execution_count": 37,
   "metadata": {
    "collapsed": true
   },
   "outputs": [],
   "source": [
    "# Calculate a vector for each review\n",
    "review_vecs = w2v_model.transform(words, aggregate_method = \"AVERAGE\")"
   ]
  },
  {
   "cell_type": "code",
   "execution_count": 38,
   "metadata": {
    "collapsed": false,
    "scrolled": true
   },
   "outputs": [
    {
     "data": {
      "text/html": [
       "<table>\n",
       "<thead>\n",
       "<tr><th style=\"text-align: right;\">        C1</th><th style=\"text-align: right;\">         C2</th><th style=\"text-align: right;\">         C3</th><th style=\"text-align: right;\">       C4</th><th style=\"text-align: right;\">         C5</th><th style=\"text-align: right;\">       C6</th><th style=\"text-align: right;\">         C7</th><th style=\"text-align: right;\">          C8</th><th style=\"text-align: right;\">        C9</th><th style=\"text-align: right;\">        C10</th><th style=\"text-align: right;\">        C11</th><th style=\"text-align: right;\">       C12</th><th style=\"text-align: right;\">        C13</th><th style=\"text-align: right;\">       C14</th><th style=\"text-align: right;\">       C15</th><th style=\"text-align: right;\">        C16</th><th style=\"text-align: right;\">       C17</th><th style=\"text-align: right;\">        C18</th><th style=\"text-align: right;\">        C19</th><th style=\"text-align: right;\">       C20</th><th style=\"text-align: right;\">       C21</th><th style=\"text-align: right;\">         C22</th><th style=\"text-align: right;\">       C23</th><th style=\"text-align: right;\">       C24</th><th style=\"text-align: right;\">      C25</th><th style=\"text-align: right;\">       C26</th><th style=\"text-align: right;\">       C27</th><th style=\"text-align: right;\">       C28</th><th style=\"text-align: right;\">      C29</th><th style=\"text-align: right;\">      C30</th><th style=\"text-align: right;\">        C31</th><th style=\"text-align: right;\">        C32</th><th style=\"text-align: right;\">       C33</th><th style=\"text-align: right;\">        C34</th><th style=\"text-align: right;\">       C35</th><th style=\"text-align: right;\">        C36</th><th style=\"text-align: right;\">         C37</th><th style=\"text-align: right;\">       C38</th><th style=\"text-align: right;\">       C39</th><th style=\"text-align: right;\">       C40</th><th style=\"text-align: right;\">       C41</th><th style=\"text-align: right;\">       C42</th><th style=\"text-align: right;\">        C43</th><th style=\"text-align: right;\">      C44</th><th style=\"text-align: right;\">      C45</th><th style=\"text-align: right;\">       C46</th><th style=\"text-align: right;\">       C47</th><th style=\"text-align: right;\">       C48</th><th style=\"text-align: right;\">         C49</th><th style=\"text-align: right;\">       C50</th><th style=\"text-align: right;\">       C51</th><th style=\"text-align: right;\">        C52</th><th style=\"text-align: right;\">        C53</th><th style=\"text-align: right;\">       C54</th><th style=\"text-align: right;\">       C55</th><th style=\"text-align: right;\">      C56</th><th style=\"text-align: right;\">      C57</th><th style=\"text-align: right;\">      C58</th><th style=\"text-align: right;\">       C59</th><th style=\"text-align: right;\">         C60</th><th style=\"text-align: right;\">       C61</th><th style=\"text-align: right;\">       C62</th><th style=\"text-align: right;\">        C63</th><th style=\"text-align: right;\">        C64</th><th style=\"text-align: right;\">        C65</th><th style=\"text-align: right;\">       C66</th><th style=\"text-align: right;\">       C67</th><th style=\"text-align: right;\">        C68</th><th style=\"text-align: right;\">       C69</th><th style=\"text-align: right;\">       C70</th><th style=\"text-align: right;\">        C71</th><th style=\"text-align: right;\">       C72</th><th style=\"text-align: right;\">       C73</th><th style=\"text-align: right;\">        C74</th><th style=\"text-align: right;\">      C75</th><th style=\"text-align: right;\">       C76</th><th style=\"text-align: right;\">       C77</th><th style=\"text-align: right;\">     C78</th><th style=\"text-align: right;\">         C79</th><th style=\"text-align: right;\">       C80</th><th style=\"text-align: right;\">        C81</th><th style=\"text-align: right;\">       C82</th><th style=\"text-align: right;\">        C83</th><th style=\"text-align: right;\">       C84</th><th style=\"text-align: right;\">        C85</th><th style=\"text-align: right;\">      C86</th><th style=\"text-align: right;\">       C87</th><th style=\"text-align: right;\">      C88</th><th style=\"text-align: right;\">        C89</th><th style=\"text-align: right;\">       C90</th><th style=\"text-align: right;\">         C91</th><th style=\"text-align: right;\">       C92</th><th style=\"text-align: right;\">       C93</th><th style=\"text-align: right;\">       C94</th><th style=\"text-align: right;\">        C95</th><th style=\"text-align: right;\">         C96</th><th style=\"text-align: right;\">       C97</th><th style=\"text-align: right;\">       C98</th><th style=\"text-align: right;\">       C99</th><th style=\"text-align: right;\">       C100</th></tr>\n",
       "</thead>\n",
       "<tbody>\n",
       "<tr><td style=\"text-align: right;\">-0.017455 </td><td style=\"text-align: right;\"> 0.0370143 </td><td style=\"text-align: right;\">-0.116418  </td><td style=\"text-align: right;\">0.0846786</td><td style=\"text-align: right;\"> 0.0352508 </td><td style=\"text-align: right;\">0.0253808</td><td style=\"text-align: right;\"> 0.0787922 </td><td style=\"text-align: right;\"> 0.033417   </td><td style=\"text-align: right;\">-0.046054 </td><td style=\"text-align: right;\">-0.0236444 </td><td style=\"text-align: right;\"> 0.178662  </td><td style=\"text-align: right;\"> 0.059247 </td><td style=\"text-align: right;\"> 0.0642416 </td><td style=\"text-align: right;\">-0.0447395</td><td style=\"text-align: right;\"> 0.0460346</td><td style=\"text-align: right;\">0.0188664  </td><td style=\"text-align: right;\"> 0.0860251</td><td style=\"text-align: right;\">-0.1368    </td><td style=\"text-align: right;\"> 0.138217  </td><td style=\"text-align: right;\"> 0.100135 </td><td style=\"text-align: right;\">-0.0118216</td><td style=\"text-align: right;\"> 0.123218   </td><td style=\"text-align: right;\">-0.154146 </td><td style=\"text-align: right;\">-0.241888 </td><td style=\"text-align: right;\">0.0235131</td><td style=\"text-align: right;\">-0.0282299</td><td style=\"text-align: right;\">-0.0634587</td><td style=\"text-align: right;\">-0.0159647</td><td style=\"text-align: right;\">0.161148 </td><td style=\"text-align: right;\">0.204075 </td><td style=\"text-align: right;\">-0.00468378</td><td style=\"text-align: right;\"> 0.0175647 </td><td style=\"text-align: right;\">-0.110381 </td><td style=\"text-align: right;\">-0.0197751 </td><td style=\"text-align: right;\">-0.067915 </td><td style=\"text-align: right;\"> 0.0210738 </td><td style=\"text-align: right;\">-0.0662463  </td><td style=\"text-align: right;\"> 0.162768 </td><td style=\"text-align: right;\">-0.181326 </td><td style=\"text-align: right;\">-0.0682669</td><td style=\"text-align: right;\"> 0.0490475</td><td style=\"text-align: right;\"> 0.0193642</td><td style=\"text-align: right;\">-0.0574458 </td><td style=\"text-align: right;\">0.0542337</td><td style=\"text-align: right;\">0.275444 </td><td style=\"text-align: right;\">-0.0148193</td><td style=\"text-align: right;\"> 0.0413262</td><td style=\"text-align: right;\"> 0.0101305</td><td style=\"text-align: right;\"> 0.0949822  </td><td style=\"text-align: right;\"> 0.0377716</td><td style=\"text-align: right;\">-0.143547 </td><td style=\"text-align: right;\"> 0.0425374 </td><td style=\"text-align: right;\"> 0.0162555 </td><td style=\"text-align: right;\">-0.0502682</td><td style=\"text-align: right;\"> 0.173954 </td><td style=\"text-align: right;\">0.081185 </td><td style=\"text-align: right;\">0.140026 </td><td style=\"text-align: right;\">0.0627378</td><td style=\"text-align: right;\">-0.110746 </td><td style=\"text-align: right;\">-0.000652358</td><td style=\"text-align: right;\">-0.148557 </td><td style=\"text-align: right;\">-0.0128091</td><td style=\"text-align: right;\"> 0.00512418</td><td style=\"text-align: right;\"> 0.00694661</td><td style=\"text-align: right;\">-0.0842912 </td><td style=\"text-align: right;\">-0.023646 </td><td style=\"text-align: right;\">-0.0360537</td><td style=\"text-align: right;\">-0.184402  </td><td style=\"text-align: right;\">-0.123018 </td><td style=\"text-align: right;\">-0.110265 </td><td style=\"text-align: right;\"> 0.171632  </td><td style=\"text-align: right;\">-0.069737 </td><td style=\"text-align: right;\">-0.129018 </td><td style=\"text-align: right;\">-0.00953244</td><td style=\"text-align: right;\">0.0973049</td><td style=\"text-align: right;\">-0.0164643</td><td style=\"text-align: right;\"> 0.0637263</td><td style=\"text-align: right;\">0.267009</td><td style=\"text-align: right;\"> 0.0820073  </td><td style=\"text-align: right;\">-0.154257 </td><td style=\"text-align: right;\">-0.103683  </td><td style=\"text-align: right;\">-0.108504 </td><td style=\"text-align: right;\"> 0.207824  </td><td style=\"text-align: right;\">-0.0565265</td><td style=\"text-align: right;\">-0.0166495 </td><td style=\"text-align: right;\">-0.213609</td><td style=\"text-align: right;\">-0.0259051</td><td style=\"text-align: right;\">0.129822 </td><td style=\"text-align: right;\"> 0.148507  </td><td style=\"text-align: right;\"> 0.0245439</td><td style=\"text-align: right;\">-0.0322744  </td><td style=\"text-align: right;\"> 0.106394 </td><td style=\"text-align: right;\">-0.174323 </td><td style=\"text-align: right;\">-0.0224745</td><td style=\"text-align: right;\">-0.107219  </td><td style=\"text-align: right;\"> 0.0363467  </td><td style=\"text-align: right;\">-0.071751 </td><td style=\"text-align: right;\"> 0.0506664</td><td style=\"text-align: right;\"> 0.114363 </td><td style=\"text-align: right;\"> 0.10541   </td></tr>\n",
       "<tr><td style=\"text-align: right;\">-0.344656 </td><td style=\"text-align: right;\">-0.0628392 </td><td style=\"text-align: right;\"> 0.0275945 </td><td style=\"text-align: right;\">0.116792 </td><td style=\"text-align: right;\">-0.0666608 </td><td style=\"text-align: right;\">0.10325  </td><td style=\"text-align: right;\">-0.00355736</td><td style=\"text-align: right;\">-0.0970583  </td><td style=\"text-align: right;\">-0.14951  </td><td style=\"text-align: right;\">-0.0665363 </td><td style=\"text-align: right;\">-0.120706  </td><td style=\"text-align: right;\">-0.0462075</td><td style=\"text-align: right;\"> 0.0439941 </td><td style=\"text-align: right;\"> 0.0409296</td><td style=\"text-align: right;\">-0.01938  </td><td style=\"text-align: right;\">0.0855257  </td><td style=\"text-align: right;\"> 0.132661 </td><td style=\"text-align: right;\"> 0.0334805 </td><td style=\"text-align: right;\"> 0.0264357 </td><td style=\"text-align: right;\"> 0.0828521</td><td style=\"text-align: right;\"> 0.0337521</td><td style=\"text-align: right;\">-0.0405419  </td><td style=\"text-align: right;\">-0.119236 </td><td style=\"text-align: right;\"> 0.0352964</td><td style=\"text-align: right;\">0.250281 </td><td style=\"text-align: right;\">-0.0796028</td><td style=\"text-align: right;\">-0.0443308</td><td style=\"text-align: right;\">-0.0293132</td><td style=\"text-align: right;\">0.152551 </td><td style=\"text-align: right;\">0.0414102</td><td style=\"text-align: right;\">-0.0229643 </td><td style=\"text-align: right;\">-0.0827077 </td><td style=\"text-align: right;\">-0.140738 </td><td style=\"text-align: right;\"> 0.101594  </td><td style=\"text-align: right;\"> 0.0502324</td><td style=\"text-align: right;\">-0.00213543</td><td style=\"text-align: right;\">-0.000327587</td><td style=\"text-align: right;\"> 0.0695114</td><td style=\"text-align: right;\">-0.136626 </td><td style=\"text-align: right;\"> 0.062754 </td><td style=\"text-align: right;\">-0.0303291</td><td style=\"text-align: right;\">-0.119611 </td><td style=\"text-align: right;\">-0.0626807 </td><td style=\"text-align: right;\">0.101434 </td><td style=\"text-align: right;\">0.217802 </td><td style=\"text-align: right;\"> 0.0977225</td><td style=\"text-align: right;\"> 0.0631805</td><td style=\"text-align: right;\">-0.179349 </td><td style=\"text-align: right;\"> 0.0864827  </td><td style=\"text-align: right;\"> 0.0086373</td><td style=\"text-align: right;\"> 0.0489257</td><td style=\"text-align: right;\"> 0.0177656 </td><td style=\"text-align: right;\">-0.164351  </td><td style=\"text-align: right;\">-0.0297137</td><td style=\"text-align: right;\">-0.0479456</td><td style=\"text-align: right;\">0.141296 </td><td style=\"text-align: right;\">0.160488 </td><td style=\"text-align: right;\">0.0548394</td><td style=\"text-align: right;\"> 0.0283238</td><td style=\"text-align: right;\"> 0.038486   </td><td style=\"text-align: right;\">-0.065565 </td><td style=\"text-align: right;\"> 0.0584393</td><td style=\"text-align: right;\"> 0.0824738 </td><td style=\"text-align: right;\">-0.0609178 </td><td style=\"text-align: right;\">-0.0550175 </td><td style=\"text-align: right;\"> 0.0989043</td><td style=\"text-align: right;\"> 0.112668 </td><td style=\"text-align: right;\">-0.00970097</td><td style=\"text-align: right;\">-0.0852772</td><td style=\"text-align: right;\"> 0.0570994</td><td style=\"text-align: right;\">-0.0203184 </td><td style=\"text-align: right;\"> 0.0127896</td><td style=\"text-align: right;\">-0.067173 </td><td style=\"text-align: right;\"> 0.168848  </td><td style=\"text-align: right;\">0.102638 </td><td style=\"text-align: right;\"> 0.115203 </td><td style=\"text-align: right;\">-0.0251614</td><td style=\"text-align: right;\">0.24466 </td><td style=\"text-align: right;\">-0.0718244  </td><td style=\"text-align: right;\">-0.0214067</td><td style=\"text-align: right;\">-0.0377938 </td><td style=\"text-align: right;\">-0.301259 </td><td style=\"text-align: right;\">-0.0105845 </td><td style=\"text-align: right;\">-0.0546288</td><td style=\"text-align: right;\">-0.0139395 </td><td style=\"text-align: right;\">-0.135894</td><td style=\"text-align: right;\">-0.194861 </td><td style=\"text-align: right;\">0.10942  </td><td style=\"text-align: right;\">-0.00762941</td><td style=\"text-align: right;\">-0.0670913</td><td style=\"text-align: right;\">-0.067524   </td><td style=\"text-align: right;\"> 0.0799481</td><td style=\"text-align: right;\">-0.114976 </td><td style=\"text-align: right;\"> 0.100382 </td><td style=\"text-align: right;\">-0.00659496</td><td style=\"text-align: right;\"> 0.0450649  </td><td style=\"text-align: right;\">-0.0935208</td><td style=\"text-align: right;\"> 0.0415459</td><td style=\"text-align: right;\">-0.0388071</td><td style=\"text-align: right;\"> 0.068869  </td></tr>\n",
       "<tr><td style=\"text-align: right;\">-0.0465992</td><td style=\"text-align: right;\"> 0.0626589 </td><td style=\"text-align: right;\">-0.00933622</td><td style=\"text-align: right;\">0.122184 </td><td style=\"text-align: right;\">-0.0435727 </td><td style=\"text-align: right;\">0.0188754</td><td style=\"text-align: right;\"> 0.0673707 </td><td style=\"text-align: right;\">-0.158062   </td><td style=\"text-align: right;\">-0.0649038</td><td style=\"text-align: right;\">-0.00162143</td><td style=\"text-align: right;\"> 0.0744381 </td><td style=\"text-align: right;\"> 0.0260265</td><td style=\"text-align: right;\">-0.00416901</td><td style=\"text-align: right;\"> 0.119075 </td><td style=\"text-align: right;\"> 0.0603793</td><td style=\"text-align: right;\">0.0041342  </td><td style=\"text-align: right;\">-0.0105021</td><td style=\"text-align: right;\"> 0.00315968</td><td style=\"text-align: right;\"> 0.245564  </td><td style=\"text-align: right;\"> 0.0408314</td><td style=\"text-align: right;\"> 0.147218 </td><td style=\"text-align: right;\"> 0.0475916  </td><td style=\"text-align: right;\"> 0.0176862</td><td style=\"text-align: right;\">-0.0951771</td><td style=\"text-align: right;\">0.0611599</td><td style=\"text-align: right;\">-0.0600134</td><td style=\"text-align: right;\">-0.079736 </td><td style=\"text-align: right;\">-0.058171 </td><td style=\"text-align: right;\">0.245274 </td><td style=\"text-align: right;\">0.125187 </td><td style=\"text-align: right;\">-0.0470805 </td><td style=\"text-align: right;\">-0.0170497 </td><td style=\"text-align: right;\">-0.0723432</td><td style=\"text-align: right;\">-0.0250673 </td><td style=\"text-align: right;\">-0.0249236</td><td style=\"text-align: right;\"> 0.0656451 </td><td style=\"text-align: right;\">-0.0307367  </td><td style=\"text-align: right;\"> 0.16922  </td><td style=\"text-align: right;\">-0.160306 </td><td style=\"text-align: right;\">-0.0869181</td><td style=\"text-align: right;\"> 0.01983  </td><td style=\"text-align: right;\"> 0.0128525</td><td style=\"text-align: right;\"> 0.0137689 </td><td style=\"text-align: right;\">0.168663 </td><td style=\"text-align: right;\">0.315017 </td><td style=\"text-align: right;\">-0.0384535</td><td style=\"text-align: right;\"> 0.0157696</td><td style=\"text-align: right;\">-0.0563526</td><td style=\"text-align: right;\"> 0.0662383  </td><td style=\"text-align: right;\">-0.0239536</td><td style=\"text-align: right;\">-0.0913882</td><td style=\"text-align: right;\">-0.00112683</td><td style=\"text-align: right;\">-0.0389518 </td><td style=\"text-align: right;\">-0.0399848</td><td style=\"text-align: right;\"> 0.0547016</td><td style=\"text-align: right;\">0.148731 </td><td style=\"text-align: right;\">0.101898 </td><td style=\"text-align: right;\">0.165225 </td><td style=\"text-align: right;\"> 0.0700933</td><td style=\"text-align: right;\">-0.120316   </td><td style=\"text-align: right;\">-0.0580222</td><td style=\"text-align: right;\"> 0.0904524</td><td style=\"text-align: right;\">-0.0594323 </td><td style=\"text-align: right;\"> 0.120781  </td><td style=\"text-align: right;\"> 0.00920552</td><td style=\"text-align: right;\"> 0.0808125</td><td style=\"text-align: right;\"> 0.0226235</td><td style=\"text-align: right;\"> 0.0129015 </td><td style=\"text-align: right;\"> 0.0154472</td><td style=\"text-align: right;\"> 0.0444054</td><td style=\"text-align: right;\">-0.011663  </td><td style=\"text-align: right;\"> 0.0108632</td><td style=\"text-align: right;\">-0.147247 </td><td style=\"text-align: right;\"> 0.0267297 </td><td style=\"text-align: right;\">0.162336 </td><td style=\"text-align: right;\"> 0.0150579</td><td style=\"text-align: right;\">-0.0919381</td><td style=\"text-align: right;\">0.214126</td><td style=\"text-align: right;\"> 0.000608828</td><td style=\"text-align: right;\"> 0.0714267</td><td style=\"text-align: right;\">-0.0769895 </td><td style=\"text-align: right;\"> 0.0720553</td><td style=\"text-align: right;\"> 0.0534305 </td><td style=\"text-align: right;\">-0.0409229</td><td style=\"text-align: right;\">-0.0248387 </td><td style=\"text-align: right;\">-0.26825 </td><td style=\"text-align: right;\">-0.123233 </td><td style=\"text-align: right;\">0.154821 </td><td style=\"text-align: right;\"> 0.0497829 </td><td style=\"text-align: right;\">-0.0221749</td><td style=\"text-align: right;\">-0.0281841  </td><td style=\"text-align: right;\"> 0.0323554</td><td style=\"text-align: right;\">-0.104259 </td><td style=\"text-align: right;\"> 0.0616421</td><td style=\"text-align: right;\">-0.0589114 </td><td style=\"text-align: right;\">-0.0256064  </td><td style=\"text-align: right;\">-0.0732718</td><td style=\"text-align: right;\">-0.0644329</td><td style=\"text-align: right;\"> 0.0692758</td><td style=\"text-align: right;\"> 0.0711496 </td></tr>\n",
       "<tr><td style=\"text-align: right;\">-0.011249 </td><td style=\"text-align: right;\">-0.00520252</td><td style=\"text-align: right;\">-0.0569036 </td><td style=\"text-align: right;\">0.129721 </td><td style=\"text-align: right;\"> 0.101271  </td><td style=\"text-align: right;\">0.0626109</td><td style=\"text-align: right;\"> 0.0346933 </td><td style=\"text-align: right;\">-0.0307081  </td><td style=\"text-align: right;\">-0.136101 </td><td style=\"text-align: right;\">-0.0243767 </td><td style=\"text-align: right;\"> 0.0302653 </td><td style=\"text-align: right;\"> 0.0606342</td><td style=\"text-align: right;\"> 0.0306772 </td><td style=\"text-align: right;\"> 0.098806 </td><td style=\"text-align: right;\"> 0.135205 </td><td style=\"text-align: right;\">0.0415207  </td><td style=\"text-align: right;\"> 0.138951 </td><td style=\"text-align: right;\"> 0.088228  </td><td style=\"text-align: right;\"> 0.155045  </td><td style=\"text-align: right;\"> 0.0484026</td><td style=\"text-align: right;\"> 0.0679307</td><td style=\"text-align: right;\"> 0.0333268  </td><td style=\"text-align: right;\">-0.0586539</td><td style=\"text-align: right;\">-0.0843905</td><td style=\"text-align: right;\">0.0923094</td><td style=\"text-align: right;\">-0.0326366</td><td style=\"text-align: right;\">-0.148456 </td><td style=\"text-align: right;\">-0.0918245</td><td style=\"text-align: right;\">0.180848 </td><td style=\"text-align: right;\">0.116703 </td><td style=\"text-align: right;\"> 0.0534534 </td><td style=\"text-align: right;\">-0.0527037 </td><td style=\"text-align: right;\">-0.129878 </td><td style=\"text-align: right;\"> 0.00259259</td><td style=\"text-align: right;\"> 0.0254898</td><td style=\"text-align: right;\">-0.0668875 </td><td style=\"text-align: right;\">-0.152596   </td><td style=\"text-align: right;\"> 0.112885 </td><td style=\"text-align: right;\">-0.15665  </td><td style=\"text-align: right;\"> 0.119991 </td><td style=\"text-align: right;\"> 0.0178566</td><td style=\"text-align: right;\"> 0.0572744</td><td style=\"text-align: right;\"> 0.00374476</td><td style=\"text-align: right;\">0.0884602</td><td style=\"text-align: right;\">0.219487 </td><td style=\"text-align: right;\">-0.0372453</td><td style=\"text-align: right;\"> 0.0533565</td><td style=\"text-align: right;\">-0.0286582</td><td style=\"text-align: right;\">-0.0273348  </td><td style=\"text-align: right;\">-0.0265776</td><td style=\"text-align: right;\">-0.0731569</td><td style=\"text-align: right;\"> 0.00419206</td><td style=\"text-align: right;\">-0.00316231</td><td style=\"text-align: right;\">-0.0360781</td><td style=\"text-align: right;\">-0.0337677</td><td style=\"text-align: right;\">0.13479  </td><td style=\"text-align: right;\">0.12181  </td><td style=\"text-align: right;\">0.0409666</td><td style=\"text-align: right;\"> 0.0398488</td><td style=\"text-align: right;\">-0.126536   </td><td style=\"text-align: right;\">-0.0442649</td><td style=\"text-align: right;\">-0.0375115</td><td style=\"text-align: right;\">-0.0152845 </td><td style=\"text-align: right;\"> 0.0650841 </td><td style=\"text-align: right;\"> 0.0124967 </td><td style=\"text-align: right;\"> 0.068608 </td><td style=\"text-align: right;\"> 0.0615004</td><td style=\"text-align: right;\"> 0.0558806 </td><td style=\"text-align: right;\"> 0.0277541</td><td style=\"text-align: right;\"> 0.0250959</td><td style=\"text-align: right;\"> 0.00581699</td><td style=\"text-align: right;\"> 0.0142781</td><td style=\"text-align: right;\">-0.129563 </td><td style=\"text-align: right;\">-0.0829793 </td><td style=\"text-align: right;\">0.125185 </td><td style=\"text-align: right;\">-0.0260277</td><td style=\"text-align: right;\">-0.0247877</td><td style=\"text-align: right;\">0.194456</td><td style=\"text-align: right;\">-0.014558   </td><td style=\"text-align: right;\">-0.0391427</td><td style=\"text-align: right;\">-0.0962593 </td><td style=\"text-align: right;\">-0.135582 </td><td style=\"text-align: right;\">-0.0349908 </td><td style=\"text-align: right;\">-0.154476 </td><td style=\"text-align: right;\">-0.00085032</td><td style=\"text-align: right;\">-0.252069</td><td style=\"text-align: right;\">-0.0636796</td><td style=\"text-align: right;\">0.166294 </td><td style=\"text-align: right;\"> 0.0966332 </td><td style=\"text-align: right;\"> 0.0865557</td><td style=\"text-align: right;\"> 0.00835722 </td><td style=\"text-align: right;\"> 0.0583164</td><td style=\"text-align: right;\">-0.086528 </td><td style=\"text-align: right;\"> 0.160651 </td><td style=\"text-align: right;\">-0.020804  </td><td style=\"text-align: right;\"> 0.0296341  </td><td style=\"text-align: right;\">-0.192784 </td><td style=\"text-align: right;\">-0.171531 </td><td style=\"text-align: right;\"> 0.073856 </td><td style=\"text-align: right;\">-0.0111283 </td></tr>\n",
       "<tr><td style=\"text-align: right;\">-0.02259  </td><td style=\"text-align: right;\">-0.0866376 </td><td style=\"text-align: right;\">-0.0181463 </td><td style=\"text-align: right;\">0.175846 </td><td style=\"text-align: right;\"> 0.0201635 </td><td style=\"text-align: right;\">0.108536 </td><td style=\"text-align: right;\"> 0.0601976 </td><td style=\"text-align: right;\"> 0.0240683  </td><td style=\"text-align: right;\"> 0.038924 </td><td style=\"text-align: right;\">-0.0383186 </td><td style=\"text-align: right;\"> 0.0553336 </td><td style=\"text-align: right;\"> 0.0056412</td><td style=\"text-align: right;\"> 0.0538984 </td><td style=\"text-align: right;\">-0.0532585</td><td style=\"text-align: right;\">-0.0159457</td><td style=\"text-align: right;\">0.0275618  </td><td style=\"text-align: right;\"> 0.0025917</td><td style=\"text-align: right;\">-0.0724895 </td><td style=\"text-align: right;\"> 0.150181  </td><td style=\"text-align: right;\"> 0.0470344</td><td style=\"text-align: right;\"> 0.128955 </td><td style=\"text-align: right;\"> 0.106466   </td><td style=\"text-align: right;\">-0.0953291</td><td style=\"text-align: right;\">-0.165188 </td><td style=\"text-align: right;\">0.0108489</td><td style=\"text-align: right;\">-0.0442842</td><td style=\"text-align: right;\">-0.0954604</td><td style=\"text-align: right;\">-0.0158642</td><td style=\"text-align: right;\">0.256884 </td><td style=\"text-align: right;\">0.113147 </td><td style=\"text-align: right;\">-0.100547  </td><td style=\"text-align: right;\">-0.0394128 </td><td style=\"text-align: right;\">-0.167413 </td><td style=\"text-align: right;\">-0.0925221 </td><td style=\"text-align: right;\"> 0.0115618</td><td style=\"text-align: right;\">-0.0152595 </td><td style=\"text-align: right;\">-0.157388   </td><td style=\"text-align: right;\"> 0.264881 </td><td style=\"text-align: right;\">-0.118247 </td><td style=\"text-align: right;\"> 0.0354318</td><td style=\"text-align: right;\"> 0.0719022</td><td style=\"text-align: right;\"> 0.0739551</td><td style=\"text-align: right;\">-0.0144309 </td><td style=\"text-align: right;\">0.08193  </td><td style=\"text-align: right;\">0.246277 </td><td style=\"text-align: right;\"> 0.0456609</td><td style=\"text-align: right;\"> 0.0537823</td><td style=\"text-align: right;\">-0.0106177</td><td style=\"text-align: right;\">-0.00117592 </td><td style=\"text-align: right;\"> 0.0239531</td><td style=\"text-align: right;\">-0.148444 </td><td style=\"text-align: right;\"> 0.0127572 </td><td style=\"text-align: right;\">-0.0364465 </td><td style=\"text-align: right;\"> 0.0211875</td><td style=\"text-align: right;\"> 0.0399594</td><td style=\"text-align: right;\">0.106285 </td><td style=\"text-align: right;\">0.104176 </td><td style=\"text-align: right;\">0.035635 </td><td style=\"text-align: right;\"> 0.0471594</td><td style=\"text-align: right;\">-0.0326238  </td><td style=\"text-align: right;\">-0.0678014</td><td style=\"text-align: right;\"> 0.0768719</td><td style=\"text-align: right;\"> 0.0974942 </td><td style=\"text-align: right;\"> 0.0497253 </td><td style=\"text-align: right;\"> 0.048383  </td><td style=\"text-align: right;\"> 0.0934901</td><td style=\"text-align: right;\"> 0.0353528</td><td style=\"text-align: right;\"> 0.00323909</td><td style=\"text-align: right;\">-0.039602 </td><td style=\"text-align: right;\">-0.0240823</td><td style=\"text-align: right;\"> 0.0443409 </td><td style=\"text-align: right;\">-0.0102066</td><td style=\"text-align: right;\">-0.100141 </td><td style=\"text-align: right;\">-0.0513087 </td><td style=\"text-align: right;\">0.0976939</td><td style=\"text-align: right;\"> 0.0341695</td><td style=\"text-align: right;\">-0.0482951</td><td style=\"text-align: right;\">0.216179</td><td style=\"text-align: right;\"> 0.00479089 </td><td style=\"text-align: right;\">-0.0152336</td><td style=\"text-align: right;\">-0.0445403 </td><td style=\"text-align: right;\">-0.0788859</td><td style=\"text-align: right;\">-0.00463171</td><td style=\"text-align: right;\">-0.0633937</td><td style=\"text-align: right;\">-0.132724  </td><td style=\"text-align: right;\">-0.229789</td><td style=\"text-align: right;\"> 0.0237467</td><td style=\"text-align: right;\">0.212727 </td><td style=\"text-align: right;\"> 0.0811771 </td><td style=\"text-align: right;\"> 0.0263335</td><td style=\"text-align: right;\">-0.000631089</td><td style=\"text-align: right;\"> 0.104222 </td><td style=\"text-align: right;\">-0.247013 </td><td style=\"text-align: right;\"> 0.118036 </td><td style=\"text-align: right;\">-0.123793  </td><td style=\"text-align: right;\"> 0.0695487  </td><td style=\"text-align: right;\">-0.0504787</td><td style=\"text-align: right;\"> 0.0145627</td><td style=\"text-align: right;\"> 0.0926119</td><td style=\"text-align: right;\"> 0.149722  </td></tr>\n",
       "<tr><td style=\"text-align: right;\">-0.183369 </td><td style=\"text-align: right;\"> 0.0738859 </td><td style=\"text-align: right;\"> 0.0798179 </td><td style=\"text-align: right;\">0.309015 </td><td style=\"text-align: right;\">-0.00570471</td><td style=\"text-align: right;\">0.191288 </td><td style=\"text-align: right;\">-0.117873  </td><td style=\"text-align: right;\">-0.0381422  </td><td style=\"text-align: right;\">-0.131575 </td><td style=\"text-align: right;\">-0.133993  </td><td style=\"text-align: right;\">-0.0226916 </td><td style=\"text-align: right;\"> 0.0177559</td><td style=\"text-align: right;\"> 0.071968  </td><td style=\"text-align: right;\"> 0.0363948</td><td style=\"text-align: right;\">-0.0515923</td><td style=\"text-align: right;\">0.0566731  </td><td style=\"text-align: right;\"> 0.0274431</td><td style=\"text-align: right;\"> 0.0473449 </td><td style=\"text-align: right;\">-0.00810379</td><td style=\"text-align: right;\"> 0.0792729</td><td style=\"text-align: right;\"> 0.101587 </td><td style=\"text-align: right;\"> 0.011857   </td><td style=\"text-align: right;\">-0.047223 </td><td style=\"text-align: right;\"> 0.0770157</td><td style=\"text-align: right;\">0.0693153</td><td style=\"text-align: right;\">-0.0232671</td><td style=\"text-align: right;\">-0.043962 </td><td style=\"text-align: right;\">-0.210818 </td><td style=\"text-align: right;\">0.233518 </td><td style=\"text-align: right;\">0.082882 </td><td style=\"text-align: right;\"> 0.0676322 </td><td style=\"text-align: right;\"> 0.0391726 </td><td style=\"text-align: right;\">-0.0965976</td><td style=\"text-align: right;\">-0.0411345 </td><td style=\"text-align: right;\"> 0.0949422</td><td style=\"text-align: right;\">-0.0497094 </td><td style=\"text-align: right;\">-0.0946788  </td><td style=\"text-align: right;\">-0.064115 </td><td style=\"text-align: right;\">-0.198066 </td><td style=\"text-align: right;\">-0.0954781</td><td style=\"text-align: right;\">-0.208148 </td><td style=\"text-align: right;\"> 0.0756342</td><td style=\"text-align: right;\"> 0.131251  </td><td style=\"text-align: right;\">0.0953644</td><td style=\"text-align: right;\">0.234154 </td><td style=\"text-align: right;\"> 0.0419664</td><td style=\"text-align: right;\"> 0.208912 </td><td style=\"text-align: right;\">-0.197934 </td><td style=\"text-align: right;\"> 0.191005   </td><td style=\"text-align: right;\">-0.0384576</td><td style=\"text-align: right;\"> 0.0753307</td><td style=\"text-align: right;\"> 0.112473  </td><td style=\"text-align: right;\">-0.0816135 </td><td style=\"text-align: right;\"> 0.0976994</td><td style=\"text-align: right;\"> 0.0798278</td><td style=\"text-align: right;\">0.134116 </td><td style=\"text-align: right;\">0.149974 </td><td style=\"text-align: right;\">0.0288772</td><td style=\"text-align: right;\"> 0.111132 </td><td style=\"text-align: right;\"> 0.0641739  </td><td style=\"text-align: right;\">-0.123809 </td><td style=\"text-align: right;\"> 0.0123605</td><td style=\"text-align: right;\">-0.0027531 </td><td style=\"text-align: right;\"> 0.0713223 </td><td style=\"text-align: right;\"> 0.09996   </td><td style=\"text-align: right;\">-0.0362833</td><td style=\"text-align: right;\">-0.0213483</td><td style=\"text-align: right;\">-0.0120158 </td><td style=\"text-align: right;\">-0.0022671</td><td style=\"text-align: right;\"> 0.19548  </td><td style=\"text-align: right;\"> 0.0708211 </td><td style=\"text-align: right;\"> 0.131072 </td><td style=\"text-align: right;\"> 0.0185039</td><td style=\"text-align: right;\"> 0.0727344 </td><td style=\"text-align: right;\">0.0263131</td><td style=\"text-align: right;\">-0.0394611</td><td style=\"text-align: right;\">-0.129397 </td><td style=\"text-align: right;\">0.133376</td><td style=\"text-align: right;\">-0.0468456  </td><td style=\"text-align: right;\">-0.0815085</td><td style=\"text-align: right;\">-0.100621  </td><td style=\"text-align: right;\">-0.0913718</td><td style=\"text-align: right;\"> 0.0053089 </td><td style=\"text-align: right;\">-0.171233 </td><td style=\"text-align: right;\">-0.116585  </td><td style=\"text-align: right;\">-0.104128</td><td style=\"text-align: right;\">-0.125963 </td><td style=\"text-align: right;\">0.203431 </td><td style=\"text-align: right;\">-0.095451  </td><td style=\"text-align: right;\">-0.0519179</td><td style=\"text-align: right;\"> 0.0172277  </td><td style=\"text-align: right;\"> 0.164431 </td><td style=\"text-align: right;\">-0.007633 </td><td style=\"text-align: right;\"> 0.0746934</td><td style=\"text-align: right;\">-0.175351  </td><td style=\"text-align: right;\">-0.0148069  </td><td style=\"text-align: right;\">-0.131849 </td><td style=\"text-align: right;\"> 0.0639481</td><td style=\"text-align: right;\">-0.0509825</td><td style=\"text-align: right;\"> 0.0306563 </td></tr>\n",
       "<tr><td style=\"text-align: right;\">-0.147521 </td><td style=\"text-align: right;\">-0.0216879 </td><td style=\"text-align: right;\">-0.0584531 </td><td style=\"text-align: right;\">0.0539039</td><td style=\"text-align: right;\">-0.015309  </td><td style=\"text-align: right;\">0.125309 </td><td style=\"text-align: right;\"> 0.0116078 </td><td style=\"text-align: right;\">-0.198466   </td><td style=\"text-align: right;\"> 0.0497304</td><td style=\"text-align: right;\">-0.132013  </td><td style=\"text-align: right;\"> 0.00388357</td><td style=\"text-align: right;\"> 0.0616983</td><td style=\"text-align: right;\"> 0.0694127 </td><td style=\"text-align: right;\">-0.14162  </td><td style=\"text-align: right;\">-0.0712168</td><td style=\"text-align: right;\">0.0954482  </td><td style=\"text-align: right;\"> 0.0743899</td><td style=\"text-align: right;\"> 0.105727  </td><td style=\"text-align: right;\">-0.0346126 </td><td style=\"text-align: right;\">-0.0301346</td><td style=\"text-align: right;\"> 0.0772289</td><td style=\"text-align: right;\"> 0.0342155  </td><td style=\"text-align: right;\">-0.0557979</td><td style=\"text-align: right;\">-0.0519995</td><td style=\"text-align: right;\">0.0423633</td><td style=\"text-align: right;\">-0.0055762</td><td style=\"text-align: right;\">-0.0796151</td><td style=\"text-align: right;\">-0.161646 </td><td style=\"text-align: right;\">0.0809783</td><td style=\"text-align: right;\">0.0828824</td><td style=\"text-align: right;\">-0.0274395 </td><td style=\"text-align: right;\">-0.0223199 </td><td style=\"text-align: right;\">-0.0755207</td><td style=\"text-align: right;\"> 0.0713156 </td><td style=\"text-align: right;\"> 0.0561497</td><td style=\"text-align: right;\"> 0.0179124 </td><td style=\"text-align: right;\"> 0.112515   </td><td style=\"text-align: right;\"> 0.0678649</td><td style=\"text-align: right;\">-0.0781701</td><td style=\"text-align: right;\"> 0.0428253</td><td style=\"text-align: right;\">-0.0592923</td><td style=\"text-align: right;\">-0.143779 </td><td style=\"text-align: right;\"> 0.0404905 </td><td style=\"text-align: right;\">0.0912399</td><td style=\"text-align: right;\">0.226883 </td><td style=\"text-align: right;\"> 0.06249  </td><td style=\"text-align: right;\">-0.0143126</td><td style=\"text-align: right;\">-0.127271 </td><td style=\"text-align: right;\">-0.000701694</td><td style=\"text-align: right;\">-0.0686732</td><td style=\"text-align: right;\"> 0.033439 </td><td style=\"text-align: right;\">-0.00159508</td><td style=\"text-align: right;\">-0.109708  </td><td style=\"text-align: right;\"> 0.0304696</td><td style=\"text-align: right;\"> 0.0715403</td><td style=\"text-align: right;\">0.0789301</td><td style=\"text-align: right;\">0.0289798</td><td style=\"text-align: right;\">0.0372419</td><td style=\"text-align: right;\"> 0.0797961</td><td style=\"text-align: right;\">-0.03265    </td><td style=\"text-align: right;\">-0.128246 </td><td style=\"text-align: right;\">-0.0449693</td><td style=\"text-align: right;\"> 0.0573615 </td><td style=\"text-align: right;\">-0.0363826 </td><td style=\"text-align: right;\">-0.0822657 </td><td style=\"text-align: right;\"> 0.0716283</td><td style=\"text-align: right;\"> 0.124759 </td><td style=\"text-align: right;\">-0.0901917 </td><td style=\"text-align: right;\">-0.16186  </td><td style=\"text-align: right;\"> 0.103987 </td><td style=\"text-align: right;\"> 0.107015  </td><td style=\"text-align: right;\">-0.0596632</td><td style=\"text-align: right;\">-0.0994051</td><td style=\"text-align: right;\">-0.0302279 </td><td style=\"text-align: right;\">0.149751 </td><td style=\"text-align: right;\">-0.0922215</td><td style=\"text-align: right;\">-0.0174872</td><td style=\"text-align: right;\">0.267557</td><td style=\"text-align: right;\"> 0.00253897 </td><td style=\"text-align: right;\">-0.21436  </td><td style=\"text-align: right;\"> 0.0625777 </td><td style=\"text-align: right;\">-0.0846079</td><td style=\"text-align: right;\"> 0.127992  </td><td style=\"text-align: right;\">-0.0161752</td><td style=\"text-align: right;\"> 0.0907452 </td><td style=\"text-align: right;\">-0.374759</td><td style=\"text-align: right;\">-0.114295 </td><td style=\"text-align: right;\">0.0053133</td><td style=\"text-align: right;\"> 0.147163  </td><td style=\"text-align: right;\"> 0.0163226</td><td style=\"text-align: right;\"> 0.158103   </td><td style=\"text-align: right;\"> 0.183231 </td><td style=\"text-align: right;\">-0.200685 </td><td style=\"text-align: right;\"> 0.0253169</td><td style=\"text-align: right;\">-0.117514  </td><td style=\"text-align: right;\"> 0.0234868  </td><td style=\"text-align: right;\">-0.159549 </td><td style=\"text-align: right;\"> 0.0109822</td><td style=\"text-align: right;\"> 0.0351114</td><td style=\"text-align: right;\">-0.0404325 </td></tr>\n",
       "<tr><td style=\"text-align: right;\">-0.235085 </td><td style=\"text-align: right;\">-0.0499224 </td><td style=\"text-align: right;\">-0.0130762 </td><td style=\"text-align: right;\">0.127012 </td><td style=\"text-align: right;\">-0.0136495 </td><td style=\"text-align: right;\">0.0547698</td><td style=\"text-align: right;\">-0.0707007 </td><td style=\"text-align: right;\">-0.0198268  </td><td style=\"text-align: right;\">-0.0444499</td><td style=\"text-align: right;\">-0.117927  </td><td style=\"text-align: right;\"> 0.0718829 </td><td style=\"text-align: right;\"> 0.0390335</td><td style=\"text-align: right;\"> 0.0165055 </td><td style=\"text-align: right;\"> 0.0226405</td><td style=\"text-align: right;\">-0.0459383</td><td style=\"text-align: right;\">0.000456059</td><td style=\"text-align: right;\"> 0.125682 </td><td style=\"text-align: right;\">-0.0361726 </td><td style=\"text-align: right;\"> 0.0335228 </td><td style=\"text-align: right;\"> 0.078996 </td><td style=\"text-align: right;\"> 0.0913498</td><td style=\"text-align: right;\"> 0.000462507</td><td style=\"text-align: right;\">-0.0968008</td><td style=\"text-align: right;\"> 0.0107416</td><td style=\"text-align: right;\">0.112397 </td><td style=\"text-align: right;\">-0.0769236</td><td style=\"text-align: right;\">-0.0701792</td><td style=\"text-align: right;\">-0.114868 </td><td style=\"text-align: right;\">0.172164 </td><td style=\"text-align: right;\">0.103098 </td><td style=\"text-align: right;\">-0.0488561 </td><td style=\"text-align: right;\">-0.00870156</td><td style=\"text-align: right;\">-0.0543965</td><td style=\"text-align: right;\">-0.00743529</td><td style=\"text-align: right;\"> 0.0048676</td><td style=\"text-align: right;\"> 0.0522103 </td><td style=\"text-align: right;\">-0.0587629  </td><td style=\"text-align: right;\">-0.0178643</td><td style=\"text-align: right;\">-0.197958 </td><td style=\"text-align: right;\"> 0.0629217</td><td style=\"text-align: right;\">-0.0682039</td><td style=\"text-align: right;\">-0.054874 </td><td style=\"text-align: right;\"> 0.0554736 </td><td style=\"text-align: right;\">0.0787906</td><td style=\"text-align: right;\">0.231319 </td><td style=\"text-align: right;\"> 0.0149357</td><td style=\"text-align: right;\"> 0.0703675</td><td style=\"text-align: right;\">-0.167232 </td><td style=\"text-align: right;\"> 0.0627228  </td><td style=\"text-align: right;\">-0.0188835</td><td style=\"text-align: right;\">-0.0166206</td><td style=\"text-align: right;\"> 0.0515775 </td><td style=\"text-align: right;\">-0.139288  </td><td style=\"text-align: right;\"> 0.0719718</td><td style=\"text-align: right;\"> 0.0147799</td><td style=\"text-align: right;\">0.176618 </td><td style=\"text-align: right;\">0.0739849</td><td style=\"text-align: right;\">0.045249 </td><td style=\"text-align: right;\"> 0.024752 </td><td style=\"text-align: right;\">-0.0086558  </td><td style=\"text-align: right;\">-0.119901 </td><td style=\"text-align: right;\"> 0.0790232</td><td style=\"text-align: right;\"> 0.0498712 </td><td style=\"text-align: right;\"> 0.00170575</td><td style=\"text-align: right;\"> 0.0292714 </td><td style=\"text-align: right;\"> 0.0430361</td><td style=\"text-align: right;\"> 0.0372717</td><td style=\"text-align: right;\">-0.0242522 </td><td style=\"text-align: right;\"> 0.0409701</td><td style=\"text-align: right;\"> 0.184394 </td><td style=\"text-align: right;\"> 0.0986488 </td><td style=\"text-align: right;\"> 0.046049 </td><td style=\"text-align: right;\">-0.099211 </td><td style=\"text-align: right;\"> 0.0695679 </td><td style=\"text-align: right;\">0.101404 </td><td style=\"text-align: right;\">-0.0141317</td><td style=\"text-align: right;\">-0.0950062</td><td style=\"text-align: right;\">0.172842</td><td style=\"text-align: right;\">-0.0399293  </td><td style=\"text-align: right;\"> 0.15166  </td><td style=\"text-align: right;\">-0.00104644</td><td style=\"text-align: right;\">-0.215262 </td><td style=\"text-align: right;\">-0.0163742 </td><td style=\"text-align: right;\">-0.0268038</td><td style=\"text-align: right;\">-0.0998788 </td><td style=\"text-align: right;\">-0.148817</td><td style=\"text-align: right;\">-0.212558 </td><td style=\"text-align: right;\">0.150414 </td><td style=\"text-align: right;\">-0.0846053 </td><td style=\"text-align: right;\">-0.0241818</td><td style=\"text-align: right;\"> 0.0511644  </td><td style=\"text-align: right;\"> 0.148474 </td><td style=\"text-align: right;\"> 0.0151402</td><td style=\"text-align: right;\"> 0.0816043</td><td style=\"text-align: right;\">-0.0159013 </td><td style=\"text-align: right;\">-0.000788728</td><td style=\"text-align: right;\">-0.0880551</td><td style=\"text-align: right;\"> 0.0263577</td><td style=\"text-align: right;\">-0.0322504</td><td style=\"text-align: right;\"> 0.0574031 </td></tr>\n",
       "<tr><td style=\"text-align: right;\">-0.131193 </td><td style=\"text-align: right;\"> 0.0692864 </td><td style=\"text-align: right;\">-0.0734226 </td><td style=\"text-align: right;\">0.0881635</td><td style=\"text-align: right;\">-0.130238  </td><td style=\"text-align: right;\">0.158626 </td><td style=\"text-align: right;\"> 0.0297742 </td><td style=\"text-align: right;\">-0.000922128</td><td style=\"text-align: right;\">-0.0292074</td><td style=\"text-align: right;\">-0.157813  </td><td style=\"text-align: right;\"> 0.0493716 </td><td style=\"text-align: right;\"> 0.0824839</td><td style=\"text-align: right;\"> 0.0115053 </td><td style=\"text-align: right;\"> 0.135526 </td><td style=\"text-align: right;\">-0.0268377</td><td style=\"text-align: right;\">0.0433505  </td><td style=\"text-align: right;\"> 0.0395163</td><td style=\"text-align: right;\"> 0.0382291 </td><td style=\"text-align: right;\"> 0.0156107 </td><td style=\"text-align: right;\"> 0.150788 </td><td style=\"text-align: right;\"> 0.219455 </td><td style=\"text-align: right;\"> 0.0802615  </td><td style=\"text-align: right;\">-0.0179261</td><td style=\"text-align: right;\">-0.0541372</td><td style=\"text-align: right;\">0.131017 </td><td style=\"text-align: right;\">-0.0883052</td><td style=\"text-align: right;\">-0.0638642</td><td style=\"text-align: right;\">-0.0404943</td><td style=\"text-align: right;\">0.147822 </td><td style=\"text-align: right;\">0.189893 </td><td style=\"text-align: right;\"> 0.0153027 </td><td style=\"text-align: right;\">-0.00813922</td><td style=\"text-align: right;\">-0.0169691</td><td style=\"text-align: right;\">-0.0699751 </td><td style=\"text-align: right;\"> 0.0323961</td><td style=\"text-align: right;\"> 0.0310724 </td><td style=\"text-align: right;\">-0.151612   </td><td style=\"text-align: right;\"> 0.0629372</td><td style=\"text-align: right;\">-0.153762 </td><td style=\"text-align: right;\">-0.0642224</td><td style=\"text-align: right;\">-0.165112 </td><td style=\"text-align: right;\"> 0.0526764</td><td style=\"text-align: right;\"> 0.0443424 </td><td style=\"text-align: right;\">0.0249169</td><td style=\"text-align: right;\">0.248272 </td><td style=\"text-align: right;\"> 0.0939404</td><td style=\"text-align: right;\"> 0.0405824</td><td style=\"text-align: right;\">-0.104368 </td><td style=\"text-align: right;\"> 0.114435   </td><td style=\"text-align: right;\"> 0.0100802</td><td style=\"text-align: right;\">-0.0211012</td><td style=\"text-align: right;\"> 0.0200454 </td><td style=\"text-align: right;\">-0.0556433 </td><td style=\"text-align: right;\"> 0.078383 </td><td style=\"text-align: right;\"> 0.0130854</td><td style=\"text-align: right;\">0.23315  </td><td style=\"text-align: right;\">0.0501371</td><td style=\"text-align: right;\">0.115863 </td><td style=\"text-align: right;\"> 0.0895762</td><td style=\"text-align: right;\">-0.0928344  </td><td style=\"text-align: right;\">-0.0429236</td><td style=\"text-align: right;\"> 0.0695694</td><td style=\"text-align: right;\">-0.0110647 </td><td style=\"text-align: right;\"> 0.0549252 </td><td style=\"text-align: right;\"> 0.031403  </td><td style=\"text-align: right;\"> 0.0593492</td><td style=\"text-align: right;\">-0.0407495</td><td style=\"text-align: right;\">-0.0517762 </td><td style=\"text-align: right;\"> 0.0327969</td><td style=\"text-align: right;\"> 0.106755 </td><td style=\"text-align: right;\"> 0.109218  </td><td style=\"text-align: right;\"> 0.0900343</td><td style=\"text-align: right;\">-0.0984935</td><td style=\"text-align: right;\"> 0.0443198 </td><td style=\"text-align: right;\">0.122012 </td><td style=\"text-align: right;\">-0.0617912</td><td style=\"text-align: right;\">-0.103313 </td><td style=\"text-align: right;\">0.121865</td><td style=\"text-align: right;\">-0.0299873  </td><td style=\"text-align: right;\"> 0.041272 </td><td style=\"text-align: right;\">-0.0695274 </td><td style=\"text-align: right;\">-0.13951  </td><td style=\"text-align: right;\"> 0.0183783 </td><td style=\"text-align: right;\">-0.0838419</td><td style=\"text-align: right;\">-0.122035  </td><td style=\"text-align: right;\">-0.164505</td><td style=\"text-align: right;\">-0.0775   </td><td style=\"text-align: right;\">0.174772 </td><td style=\"text-align: right;\"> 0.0177603 </td><td style=\"text-align: right;\"> 0.0146984</td><td style=\"text-align: right;\"> 0.0151726  </td><td style=\"text-align: right;\"> 0.0627971</td><td style=\"text-align: right;\">-0.0378845</td><td style=\"text-align: right;\"> 0.0518981</td><td style=\"text-align: right;\"> 0.00462211</td><td style=\"text-align: right;\">-0.0211796  </td><td style=\"text-align: right;\">-0.135125 </td><td style=\"text-align: right;\">-0.0136848</td><td style=\"text-align: right;\"> 0.174624 </td><td style=\"text-align: right;\">-0.0980852 </td></tr>\n",
       "<tr><td style=\"text-align: right;\">-0.390139 </td><td style=\"text-align: right;\">-0.10705   </td><td style=\"text-align: right;\"> 0.0982895 </td><td style=\"text-align: right;\">0.295027 </td><td style=\"text-align: right;\">-0.204038  </td><td style=\"text-align: right;\">0.215851 </td><td style=\"text-align: right;\">-0.0291418 </td><td style=\"text-align: right;\"> 0.249017   </td><td style=\"text-align: right;\">-0.0924704</td><td style=\"text-align: right;\">-0.151165  </td><td style=\"text-align: right;\"> 0.177199  </td><td style=\"text-align: right;\">-0.146574 </td><td style=\"text-align: right;\">-0.0553819 </td><td style=\"text-align: right;\">-0.263358 </td><td style=\"text-align: right;\"> 0.168486 </td><td style=\"text-align: right;\">0.152896   </td><td style=\"text-align: right;\"> 0.0609181</td><td style=\"text-align: right;\"> 0.152072  </td><td style=\"text-align: right;\"> 0.0791395 </td><td style=\"text-align: right;\"> 0.103752 </td><td style=\"text-align: right;\"> 0.20301  </td><td style=\"text-align: right;\">-0.0436624  </td><td style=\"text-align: right;\">-0.0315705</td><td style=\"text-align: right;\"> 0.207676 </td><td style=\"text-align: right;\">0.303854 </td><td style=\"text-align: right;\">-0.144395 </td><td style=\"text-align: right;\">-0.044497 </td><td style=\"text-align: right;\">-0.0567774</td><td style=\"text-align: right;\">0.0798121</td><td style=\"text-align: right;\">0.0222956</td><td style=\"text-align: right;\"> 0.0972893 </td><td style=\"text-align: right;\">-0.0415394 </td><td style=\"text-align: right;\"> 0.0513822</td><td style=\"text-align: right;\">-0.134757  </td><td style=\"text-align: right;\">-0.26694  </td><td style=\"text-align: right;\">-0.359786  </td><td style=\"text-align: right;\">-0.00285144 </td><td style=\"text-align: right;\">-0.149007 </td><td style=\"text-align: right;\">-0.123707 </td><td style=\"text-align: right;\">-0.173237 </td><td style=\"text-align: right;\">-0.297511 </td><td style=\"text-align: right;\"> 0.11512  </td><td style=\"text-align: right;\">-0.0440713 </td><td style=\"text-align: right;\">0.0509281</td><td style=\"text-align: right;\">0.0887801</td><td style=\"text-align: right;\"> 0.279926 </td><td style=\"text-align: right;\"> 0.0277566</td><td style=\"text-align: right;\">-0.0733743</td><td style=\"text-align: right;\"> 0.164455   </td><td style=\"text-align: right;\">-0.0130291</td><td style=\"text-align: right;\"> 0.0778713</td><td style=\"text-align: right;\"> 0.165183  </td><td style=\"text-align: right;\">-0.349337  </td><td style=\"text-align: right;\">-0.0303923</td><td style=\"text-align: right;\">-0.0832367</td><td style=\"text-align: right;\">0.0944753</td><td style=\"text-align: right;\">0.0344741</td><td style=\"text-align: right;\">0.12557  </td><td style=\"text-align: right;\"> 0.127438 </td><td style=\"text-align: right;\">-0.145447   </td><td style=\"text-align: right;\">-0.069542 </td><td style=\"text-align: right;\"> 0.17408  </td><td style=\"text-align: right;\">-0.0184486 </td><td style=\"text-align: right;\"> 0.0010108 </td><td style=\"text-align: right;\">-0.076808  </td><td style=\"text-align: right;\"> 0.1447   </td><td style=\"text-align: right;\"> 0.130462 </td><td style=\"text-align: right;\">-0.301983  </td><td style=\"text-align: right;\"> 0.0677374</td><td style=\"text-align: right;\"> 0.366994 </td><td style=\"text-align: right;\"> 0.236154  </td><td style=\"text-align: right;\"> 0.109735 </td><td style=\"text-align: right;\"> 0.0897815</td><td style=\"text-align: right;\">-0.0843701 </td><td style=\"text-align: right;\">0.143988 </td><td style=\"text-align: right;\">-0.0906428</td><td style=\"text-align: right;\">-0.0436943</td><td style=\"text-align: right;\">0.159679</td><td style=\"text-align: right;\">-0.188597   </td><td style=\"text-align: right;\"> 0.235608 </td><td style=\"text-align: right;\">-0.318643  </td><td style=\"text-align: right;\">-0.309475 </td><td style=\"text-align: right;\">-0.0300364 </td><td style=\"text-align: right;\">-0.212696 </td><td style=\"text-align: right;\"> 0.132925  </td><td style=\"text-align: right;\">-0.129458</td><td style=\"text-align: right;\">-0.0890989</td><td style=\"text-align: right;\">0.209433 </td><td style=\"text-align: right;\"> 0.066511  </td><td style=\"text-align: right;\">-0.241504 </td><td style=\"text-align: right;\">-0.00643795 </td><td style=\"text-align: right;\">-0.220608 </td><td style=\"text-align: right;\">-0.0260377</td><td style=\"text-align: right;\"> 0.177988 </td><td style=\"text-align: right;\"> 0.010242  </td><td style=\"text-align: right;\">-0.132172   </td><td style=\"text-align: right;\">-0.272582 </td><td style=\"text-align: right;\">-0.258512 </td><td style=\"text-align: right;\"> 0.21816  </td><td style=\"text-align: right;\"> 0.00218557</td></tr>\n",
       "</tbody>\n",
       "</table>"
      ]
     },
     "metadata": {},
     "output_type": "display_data"
    },
    {
     "data": {
      "text/plain": []
     },
     "execution_count": 38,
     "metadata": {},
     "output_type": "execute_result"
    }
   ],
   "source": [
    "review_vecs"
   ]
  },
  {
   "cell_type": "code",
   "execution_count": 39,
   "metadata": {
    "collapsed": true
   },
   "outputs": [],
   "source": [
    "# Add aggregated word embeddings \n",
    "ext_reviews = reviews.cbind(review_vecs)"
   ]
  },
  {
   "cell_type": "code",
   "execution_count": 40,
   "metadata": {
    "collapsed": true
   },
   "outputs": [],
   "source": [
    "ext_train = ext_reviews[ext_reviews[\"Train\"] == \"Yes\"]\n",
    "ext_test = ext_reviews[ext_reviews[\"Train\"] == \"No\"]"
   ]
  },
  {
   "cell_type": "code",
   "execution_count": 41,
   "metadata": {
    "collapsed": false
   },
   "outputs": [
    {
     "name": "stdout",
     "output_type": "stream",
     "text": [
      "gbm Model Build progress: |███████████████████████████████████████████████| 100%\n"
     ]
    }
   ],
   "source": [
    "predictors = predictors + review_vecs.names\n",
    "response = 'PositiveReview'\n",
    "\n",
    "gbm_embeddings = H2OGradientBoostingEstimator(stopping_metric = \"AUC\", stopping_tolerance = 0.001,\n",
    "                                              stopping_rounds = 5, score_tree_interval = 10,\n",
    "                                              model_id = \"gbm_embeddings.hex\"\n",
    "                                             )\n",
    "gbm_embeddings.train(x = predictors, y = response, \n",
    "                   training_frame = ext_train, validation_frame = ext_test\n",
    "                  )"
   ]
  },
  {
   "cell_type": "code",
   "execution_count": 42,
   "metadata": {
    "collapsed": false
   },
   "outputs": [
    {
     "name": "stdout",
     "output_type": "stream",
     "text": [
      "Baseline AUC: 0.616\n",
      "With Embeddings AUC: 0.877\n"
     ]
    }
   ],
   "source": [
    "print(\"Baseline AUC: \" + str(round(gbm_baseline.auc(valid = True), 3)))\n",
    "print(\"With Embeddings AUC: \" + str(round(gbm_embeddings.auc(valid = True), 3)))"
   ]
  },
  {
   "cell_type": "code",
   "execution_count": 43,
   "metadata": {
    "collapsed": false
   },
   "outputs": [
    {
     "name": "stdout",
     "output_type": "stream",
     "text": [
      "Confusion Matrix (Act/Pred) for max f1 @ threshold = 0.5881182338625032: \n"
     ]
    },
    {
     "data": {
      "text/html": [
       "<div style=\"overflow:auto\"><table style=\"width:50%\"><tr><td><b></b></td>\n",
       "<td><b>0</b></td>\n",
       "<td><b>1</b></td>\n",
       "<td><b>Error</b></td>\n",
       "<td><b>Rate</b></td></tr>\n",
       "<tr><td>0</td>\n",
       "<td>2191.0</td>\n",
       "<td>2469.0</td>\n",
       "<td>0.5298</td>\n",
       "<td> (2469.0/4660.0)</td></tr>\n",
       "<tr><td>1</td>\n",
       "<td>718.0</td>\n",
       "<td>14630.0</td>\n",
       "<td>0.0468</td>\n",
       "<td> (718.0/15348.0)</td></tr>\n",
       "<tr><td>Total</td>\n",
       "<td>2909.0</td>\n",
       "<td>17099.0</td>\n",
       "<td>0.1593</td>\n",
       "<td> (3187.0/20008.0)</td></tr></table></div>"
      ],
      "text/plain": [
       "       0     1      Error    Rate\n",
       "-----  ----  -----  -------  ----------------\n",
       "0      2191  2469   0.5298   (2469.0/4660.0)\n",
       "1      718   14630  0.0468   (718.0/15348.0)\n",
       "Total  2909  17099  0.1593   (3187.0/20008.0)"
      ]
     },
     "metadata": {},
     "output_type": "display_data"
    },
    {
     "data": {
      "text/plain": []
     },
     "execution_count": 43,
     "metadata": {},
     "output_type": "execute_result"
    }
   ],
   "source": [
    "gbm_embeddings.confusion_matrix(valid = True)"
   ]
  },
  {
   "cell_type": "code",
   "execution_count": 44,
   "metadata": {
    "collapsed": false,
    "scrolled": true
   },
   "outputs": [
    {
     "data": {
      "image/png": "[encoded data removed]",
      "text/plain": [
       "<matplotlib.figure.Figure at 0x1264a1fd0>"
      ]
     },
     "metadata": {},
     "output_type": "display_data"
    }
   ],
   "source": [
    "gbm_embeddings.varimp_plot()"
   ]
  },
  {
   "cell_type": "markdown",
   "metadata": {
    "collapsed": true
   },
   "source": [
    "# Step 8 (of 9).  Run AutoML\n",
    "\n",
    "We will use H2O's AutoML to see if we can improve the performance further by exploring the algorithm and parameter space. "
   ]
  },
  {
   "cell_type": "code",
   "execution_count": 45,
   "metadata": {
    "collapsed": false
   },
   "outputs": [
    {
     "name": "stdout",
     "output_type": "stream",
     "text": [
      "AutoML progress: |████████████████████████████████████████████████████████| 100%\n"
     ]
    }
   ],
   "source": [
    "from h2o.automl import H2OAutoML\n",
    "\n",
    "automl = H2OAutoML(project_name = \"positive_reviews\", max_runtime_secs = 180, \n",
    "                   keep_cross_validation_models = False, keep_cross_validation_predictions = False,\n",
    "                   nfolds = 3, exclude_algos = [\"DRF\"], seed = 1234)\n",
    "automl.train(x = predictors, y = response, training_frame = ext_train, leaderboard_frame = ext_test)"
   ]
  },
  {
   "cell_type": "code",
   "execution_count": 46,
   "metadata": {
    "collapsed": false
   },
   "outputs": [
    {
     "data": {
      "text/html": [
       "<table>\n",
       "<thead>\n",
       "<tr><th>model_id                                             </th><th style=\"text-align: right;\">     auc</th><th style=\"text-align: right;\">  logloss</th><th style=\"text-align: right;\">  mean_per_class_error</th><th style=\"text-align: right;\">    rmse</th><th style=\"text-align: right;\">     mse</th></tr>\n",
       "</thead>\n",
       "<tbody>\n",
       "<tr><td>StackedEnsemble_BestOfFamily_0_AutoML_20180713_011726</td><td style=\"text-align: right;\">0.904343</td><td style=\"text-align: right;\"> 0.333267</td><td style=\"text-align: right;\">              0.246449</td><td style=\"text-align: right;\">0.320137</td><td style=\"text-align: right;\">0.102488</td></tr>\n",
       "<tr><td>StackedEnsemble_AllModels_0_AutoML_20180713_011726   </td><td style=\"text-align: right;\">0.904321</td><td style=\"text-align: right;\"> 0.333237</td><td style=\"text-align: right;\">              0.246417</td><td style=\"text-align: right;\">0.320139</td><td style=\"text-align: right;\">0.102489</td></tr>\n",
       "<tr><td>GLM_grid_0_AutoML_20180713_011726_model_0            </td><td style=\"text-align: right;\">0.900652</td><td style=\"text-align: right;\"> 0.324013</td><td style=\"text-align: right;\">              0.251326</td><td style=\"text-align: right;\">0.317029</td><td style=\"text-align: right;\">0.100507</td></tr>\n",
       "<tr><td>GBM_grid_0_AutoML_20180713_011726_model_0            </td><td style=\"text-align: right;\">0.898376</td><td style=\"text-align: right;\"> 0.329913</td><td style=\"text-align: right;\">              0.261488</td><td style=\"text-align: right;\">0.320845</td><td style=\"text-align: right;\">0.102942</td></tr>\n",
       "<tr><td>GBM_grid_0_AutoML_20180713_011726_model_1            </td><td style=\"text-align: right;\">0.880946</td><td style=\"text-align: right;\"> 0.360456</td><td style=\"text-align: right;\">              0.294004</td><td style=\"text-align: right;\">0.336801</td><td style=\"text-align: right;\">0.113435</td></tr>\n",
       "</tbody>\n",
       "</table>"
      ]
     },
     "metadata": {},
     "output_type": "display_data"
    },
    {
     "data": {
      "text/plain": []
     },
     "execution_count": 46,
     "metadata": {},
     "output_type": "execute_result"
    }
   ],
   "source": [
    "automl.leaderboard"
   ]
  },
  {
   "cell_type": "markdown",
   "metadata": {},
   "source": [
    "# Step 9 (of 9). Watch AutoML progress (in the H2O Flow Web UI)¶\n",
    "\n",
    "* Go to port 54321\n",
    "* In H2O Flow, go to Admin -> Jobs\n",
    "* Click on the \"Auto Model\" job with the \"positive_reviews\" job name and explore it"
   ]
  },
  {
   "cell_type": "code",
   "execution_count": null,
   "metadata": {
    "collapsed": true
   },
   "outputs": [],
   "source": []
  }
 ],
 "metadata": {
  "kernelspec": {
   "display_name": "Python 3",
   "language": "python",
   "name": "python3"
  },
  "language_info": {
   "codemirror_mode": {
    "name": "ipython",
    "version": 3
   },
   "file_extension": ".py",
   "mimetype": "text/x-python",
   "name": "python",
   "nbconvert_exporter": "python",
   "pygments_lexer": "ipython3",
   "version": "3.6.0"
  }
 },
 "nbformat": 4,
 "nbformat_minor": 2
}
