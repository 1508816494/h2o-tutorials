{
 "cells": [
  {
   "cell_type": "code",
   "execution_count": 1,
   "metadata": {
    "collapsed": true
   },
   "outputs": [],
   "source": [
    "# import h2o package and specific estimator \n",
    "import h2o\n",
    "from h2o.estimators.glm import H2OGeneralizedLinearEstimator"
   ]
  },
  {
   "cell_type": "code",
   "execution_count": 2,
   "metadata": {
    "collapsed": false
   },
   "outputs": [
    {
     "name": "stdout",
     "output_type": "stream",
     "text": [
      "Checking whether there is an H2O instance running at http://localhost:54321..... not found.\n",
      "Attempting to start a local H2O server...\n",
      "  Java Version: java version \"1.8.0_112\"; Java(TM) SE Runtime Environment (build 1.8.0_112-b16); Java HotSpot(TM) 64-Bit Server VM (build 25.112-b16, mixed mode)\n",
      "  Starting server from /Users/phall/anaconda/lib/python3.5/site-packages/h2o/backend/bin/h2o.jar\n",
      "  Ice root: /var/folders/tc/0ss1l73113j3wdyjsxmy1j2r0000gn/T/tmpvq6szsev\n",
      "  JVM stdout: /var/folders/tc/0ss1l73113j3wdyjsxmy1j2r0000gn/T/tmpvq6szsev/h2o_phall_started_from_python.out\n",
      "  JVM stderr: /var/folders/tc/0ss1l73113j3wdyjsxmy1j2r0000gn/T/tmpvq6szsev/h2o_phall_started_from_python.err\n",
      "  Server is running at http://127.0.0.1:54321\n",
      "Connecting to H2O server at http://127.0.0.1:54321... successful.\n"
     ]
    },
    {
     "data": {
      "text/html": [
       "<div style=\"overflow:auto\"><table style=\"width:50%\"><tr><td>H2O cluster uptime:</td>\n",
       "<td>03 secs</td></tr>\n",
       "<tr><td>H2O cluster version:</td>\n",
       "<td>3.10.4.6</td></tr>\n",
       "<tr><td>H2O cluster version age:</td>\n",
       "<td>7 days, 11 hours and 36 minutes </td></tr>\n",
       "<tr><td>H2O cluster name:</td>\n",
       "<td>H2O_from_python_phall_5pl1en</td></tr>\n",
       "<tr><td>H2O cluster total nodes:</td>\n",
       "<td>1</td></tr>\n",
       "<tr><td>H2O cluster free memory:</td>\n",
       "<td>3.556 Gb</td></tr>\n",
       "<tr><td>H2O cluster total cores:</td>\n",
       "<td>8</td></tr>\n",
       "<tr><td>H2O cluster allowed cores:</td>\n",
       "<td>8</td></tr>\n",
       "<tr><td>H2O cluster status:</td>\n",
       "<td>accepting new members, healthy</td></tr>\n",
       "<tr><td>H2O connection url:</td>\n",
       "<td>http://127.0.0.1:54321</td></tr>\n",
       "<tr><td>H2O connection proxy:</td>\n",
       "<td>None</td></tr>\n",
       "<tr><td>H2O internal security:</td>\n",
       "<td>False</td></tr>\n",
       "<tr><td>Python version:</td>\n",
       "<td>3.5.2 final</td></tr></table></div>"
      ],
      "text/plain": [
       "--------------------------  -------------------------------\n",
       "H2O cluster uptime:         03 secs\n",
       "H2O cluster version:        3.10.4.6\n",
       "H2O cluster version age:    7 days, 11 hours and 36 minutes\n",
       "H2O cluster name:           H2O_from_python_phall_5pl1en\n",
       "H2O cluster total nodes:    1\n",
       "H2O cluster free memory:    3.556 Gb\n",
       "H2O cluster total cores:    8\n",
       "H2O cluster allowed cores:  8\n",
       "H2O cluster status:         accepting new members, healthy\n",
       "H2O connection url:         http://127.0.0.1:54321\n",
       "H2O connection proxy:\n",
       "H2O internal security:      False\n",
       "Python version:             3.5.2 final\n",
       "--------------------------  -------------------------------"
      ]
     },
     "metadata": {},
     "output_type": "display_data"
    }
   ],
   "source": [
    "h2o.init() # start h2o"
   ]
  },
  {
   "cell_type": "code",
   "execution_count": 5,
   "metadata": {
    "collapsed": true
   },
   "outputs": [],
   "source": [
    "# location of clean data file\n",
    "path = 'https://raw.githubusercontent.com/h2oai/app-consumer-loan/master/data/loan.csv'"
   ]
  },
  {
   "cell_type": "code",
   "execution_count": 6,
   "metadata": {
    "collapsed": true
   },
   "outputs": [],
   "source": [
    "# define input variable measurement levels \n",
    "# strings automatically parsed as enums (nominal)\n",
    "# numbers automatically parsed as numeric\n",
    "col_types = {'bad_loan': 'enum'}"
   ]
  },
  {
   "cell_type": "code",
   "execution_count": 7,
   "metadata": {
    "collapsed": false
   },
   "outputs": [
    {
     "name": "stdout",
     "output_type": "stream",
     "text": [
      "Parse progress: |█████████████████████████████████████████████████████████| 100%\n"
     ]
    }
   ],
   "source": [
    "frame = h2o.import_file(path=path, col_types=col_types) # import from url"
   ]
  },
  {
   "cell_type": "code",
   "execution_count": 9,
   "metadata": {
    "collapsed": false
   },
   "outputs": [
    {
     "name": "stdout",
     "output_type": "stream",
     "text": [
      "Rows:163987\n",
      "Cols:15\n",
      "\n",
      "\n"
     ]
    },
    {
     "data": {
      "text/html": [
       "<table>\n",
       "<thead>\n",
       "<tr><th>       </th><th>loan_amnt         </th><th>term     </th><th>int_rate          </th><th>emp_length       </th><th>home_ownership  </th><th>annual_inc       </th><th>purpose           </th><th>addr_state  </th><th>dti               </th><th>delinq_2yrs        </th><th>revol_util        </th><th>total_acc         </th><th>bad_loan  </th><th>longest_credit_length  </th><th>verification_status  </th></tr>\n",
       "</thead>\n",
       "<tbody>\n",
       "<tr><td>type   </td><td>int               </td><td>enum     </td><td>real              </td><td>int              </td><td>enum            </td><td>real             </td><td>enum              </td><td>enum        </td><td>real              </td><td>int                </td><td>real              </td><td>int               </td><td>enum      </td><td>int                    </td><td>enum                 </td></tr>\n",
       "<tr><td>mins   </td><td>500.0             </td><td>         </td><td>5.42              </td><td>0.0              </td><td>                </td><td>1896.0           </td><td>                  </td><td>            </td><td>0.0               </td><td>0.0                </td><td>0.0               </td><td>1.0               </td><td>          </td><td>0.0                    </td><td>                     </td></tr>\n",
       "<tr><td>mean   </td><td>13074.169141456332</td><td>         </td><td>13.715904065566189</td><td>5.684352932995338</td><td>                </td><td>71915.67051974905</td><td>                  </td><td>            </td><td>15.881530121290167</td><td>0.22735700606252723</td><td>54.07917280242262 </td><td>24.579733834274574</td><td>          </td><td>14.854273655448333     </td><td>                     </td></tr>\n",
       "<tr><td>maxs   </td><td>35000.0           </td><td>         </td><td>26.060000000000002</td><td>10.0             </td><td>                </td><td>7141778.0        </td><td>                  </td><td>            </td><td>39.99             </td><td>29.0               </td><td>150.70000000000002</td><td>118.0             </td><td>          </td><td>65.0                   </td><td>                     </td></tr>\n",
       "<tr><td>sigma  </td><td>7993.556188734672 </td><td>         </td><td>4.391939870545809 </td><td>3.610663731100238</td><td>                </td><td>59070.91565491818</td><td>                  </td><td>            </td><td>7.5876682241925355</td><td>0.6941679229284191 </td><td>25.285366766770498</td><td>11.685190365910666</td><td>          </td><td>6.947732922546689      </td><td>                     </td></tr>\n",
       "<tr><td>zeros  </td><td>0                 </td><td>         </td><td>0                 </td><td>14248            </td><td>                </td><td>0                </td><td>                  </td><td>            </td><td>270               </td><td>139459             </td><td>1562              </td><td>0                 </td><td>          </td><td>11                     </td><td>                     </td></tr>\n",
       "<tr><td>missing</td><td>0                 </td><td>0        </td><td>0                 </td><td>5804             </td><td>0               </td><td>4                </td><td>0                 </td><td>0           </td><td>0                 </td><td>29                 </td><td>193               </td><td>29                </td><td>0         </td><td>29                     </td><td>0                    </td></tr>\n",
       "<tr><td>0      </td><td>5000.0            </td><td>36 months</td><td>10.65             </td><td>10.0             </td><td>RENT            </td><td>24000.0          </td><td>credit_card       </td><td>AZ          </td><td>27.650000000000002</td><td>0.0                </td><td>83.7              </td><td>9.0               </td><td>0         </td><td>26.0                   </td><td>verified             </td></tr>\n",
       "<tr><td>1      </td><td>2500.0            </td><td>60 months</td><td>15.27             </td><td>0.0              </td><td>RENT            </td><td>30000.0          </td><td>car               </td><td>GA          </td><td>1.0               </td><td>0.0                </td><td>9.4               </td><td>4.0               </td><td>1         </td><td>12.0                   </td><td>verified             </td></tr>\n",
       "<tr><td>2      </td><td>2400.0            </td><td>36 months</td><td>15.96             </td><td>10.0             </td><td>RENT            </td><td>12252.0          </td><td>small_business    </td><td>IL          </td><td>8.72              </td><td>0.0                </td><td>98.5              </td><td>10.0              </td><td>0         </td><td>10.0                   </td><td>not verified         </td></tr>\n",
       "<tr><td>3      </td><td>10000.0           </td><td>36 months</td><td>13.49             </td><td>10.0             </td><td>RENT            </td><td>49200.0          </td><td>other             </td><td>CA          </td><td>20.0              </td><td>0.0                </td><td>21.0              </td><td>37.0              </td><td>0         </td><td>15.0                   </td><td>verified             </td></tr>\n",
       "<tr><td>4      </td><td>5000.0            </td><td>36 months</td><td>7.9               </td><td>3.0              </td><td>RENT            </td><td>36000.0          </td><td>wedding           </td><td>AZ          </td><td>11.200000000000001</td><td>0.0                </td><td>28.3              </td><td>12.0              </td><td>0         </td><td>7.0                    </td><td>verified             </td></tr>\n",
       "<tr><td>5      </td><td>3000.0            </td><td>36 months</td><td>18.64             </td><td>9.0              </td><td>RENT            </td><td>48000.0          </td><td>car               </td><td>CA          </td><td>5.3500000000000005</td><td>0.0                </td><td>87.5              </td><td>4.0               </td><td>0         </td><td>4.0                    </td><td>verified             </td></tr>\n",
       "<tr><td>6      </td><td>5600.0            </td><td>60 months</td><td>21.28             </td><td>4.0              </td><td>OWN             </td><td>40000.0          </td><td>small_business    </td><td>CA          </td><td>5.55              </td><td>0.0                </td><td>32.6              </td><td>13.0              </td><td>1         </td><td>7.0                    </td><td>verified             </td></tr>\n",
       "<tr><td>7      </td><td>5375.0            </td><td>60 months</td><td>12.69             </td><td>0.0              </td><td>RENT            </td><td>15000.0          </td><td>other             </td><td>TX          </td><td>18.080000000000002</td><td>0.0                </td><td>36.5              </td><td>3.0               </td><td>1         </td><td>7.0                    </td><td>verified             </td></tr>\n",
       "<tr><td>8      </td><td>6500.0            </td><td>60 months</td><td>14.65             </td><td>5.0              </td><td>OWN             </td><td>72000.0          </td><td>debt_consolidation</td><td>AZ          </td><td>16.12             </td><td>0.0                </td><td>20.6              </td><td>23.0              </td><td>0         </td><td>13.0                   </td><td>not verified         </td></tr>\n",
       "<tr><td>9      </td><td>12000.0           </td><td>36 months</td><td>12.69             </td><td>10.0             </td><td>OWN             </td><td>75000.0          </td><td>debt_consolidation</td><td>CA          </td><td>10.78             </td><td>0.0                </td><td>67.10000000000001 </td><td>34.0              </td><td>0         </td><td>22.0                   </td><td>verified             </td></tr>\n",
       "</tbody>\n",
       "</table>"
      ]
     },
     "metadata": {},
     "output_type": "display_data"
    }
   ],
   "source": [
    "frame.describe() # summarize table"
   ]
  },
  {
   "cell_type": "code",
   "execution_count": 10,
   "metadata": {
    "collapsed": false
   },
   "outputs": [],
   "source": [
    "# split into training and test for cross validation\n",
    "train, test = frame.split_frame([0.7])"
   ]
  },
  {
   "cell_type": "code",
   "execution_count": 11,
   "metadata": {
    "collapsed": false
   },
   "outputs": [
    {
     "name": "stdout",
     "output_type": "stream",
     "text": [
      "bad_loan\n",
      "['loan_amnt', 'term', 'int_rate', 'emp_length', 'home_ownership', 'annual_inc', 'purpose', 'addr_state', 'dti', 'delinq_2yrs', 'revol_util', 'total_acc', 'longest_credit_length', 'verification_status']\n"
     ]
    }
   ],
   "source": [
    "# assign target and inputs for logistic regression\n",
    "y = 'bad_loan'\n",
    "X = [name for name in frame.columns if name != y]\n",
    "print(y)\n",
    "print(X)"
   ]
  },
  {
   "cell_type": "code",
   "execution_count": 12,
   "metadata": {
    "collapsed": false
   },
   "outputs": [
    {
     "name": "stdout",
     "output_type": "stream",
     "text": [
      "['home_ownership', 'verification_status', 'addr_state', 'purpose', 'term']\n",
      "['emp_length', 'revol_util', 'dti', 'longest_credit_length', 'loan_amnt', 'delinq_2yrs', 'annual_inc', 'int_rate', 'total_acc']\n"
     ]
    }
   ],
   "source": [
    "# determine column types\n",
    "reals, enums = [], []\n",
    "for key, val in frame.types.items():\n",
    "    if key in X:\n",
    "        if val == 'enum':\n",
    "            enums.append(key)\n",
    "        else: \n",
    "            reals.append(key)\n",
    "\n",
    "print(enums)\n",
    "print(reals)"
   ]
  },
  {
   "cell_type": "code",
   "execution_count": 13,
   "metadata": {
    "collapsed": false
   },
   "outputs": [
    {
     "data": {
      "text/plain": [
       "[5.684352932995338,\n",
       " 54.07917280242262,\n",
       " 15.881530121290167,\n",
       " 14.854273655448333,\n",
       " 13074.169141456332,\n",
       " 0.22735700606252723,\n",
       " 71915.67051974905,\n",
       " 13.715904065566189,\n",
       " 24.579733834274574]"
      ]
     },
     "execution_count": 13,
     "metadata": {},
     "output_type": "execute_result"
    }
   ],
   "source": [
    "# impute missing values\n",
    "frame[reals].impute(method='mean')"
   ]
  },
  {
   "cell_type": "code",
   "execution_count": 14,
   "metadata": {
    "collapsed": true
   },
   "outputs": [],
   "source": [
    "# set target to factor for logisitic regression\n",
    "# just to be safe ...\n",
    "train[y] = train[y].asfactor()\n",
    "test[y] = test[y].asfactor()"
   ]
  },
  {
   "cell_type": "code",
   "execution_count": 16,
   "metadata": {
    "collapsed": false
   },
   "outputs": [
    {
     "name": "stdout",
     "output_type": "stream",
     "text": [
      "glm Model Build progress: |███████████████████████████████████████████████| 100%\n"
     ]
    }
   ],
   "source": [
    "# elastic net regularized regression\n",
    "#   - binomial family for logistic regression\n",
    "#   - L1 for variable selection\n",
    "#   - L2 for handling multicollinearity\n",
    "#   - IRLS for handling outliers\n",
    "#   - with lamba parameter tuning for variable selection and regularization\n",
    "\n",
    "# initialize\n",
    "loan_glm = H2OGeneralizedLinearEstimator(family='binomial',\n",
    "                                         model_id='loan_glm2',\n",
    "                                         solver='IRLSM',\n",
    "                                         standardize=True,\n",
    "                                         lambda_search=True)\n",
    "\n",
    "# train \n",
    "loan_glm.train(X, y, training_frame=train)\n",
    "\n",
    "# view detailed results at http://ip:port/flow/index.html"
   ]
  },
  {
   "cell_type": "code",
   "execution_count": 17,
   "metadata": {
    "collapsed": false
   },
   "outputs": [
    {
     "data": {
      "text/plain": [
       "{'Intercept': -2.9382813476928247,\n",
       " 'addr_state.AK': 0.0,\n",
       " 'addr_state.AL': 0.09172791087524343,\n",
       " 'addr_state.AR': 0.0,\n",
       " 'addr_state.AZ': -0.000764243913588411,\n",
       " 'addr_state.CA': -0.007349129280579972,\n",
       " 'addr_state.CO': -0.19929818697896334,\n",
       " 'addr_state.CT': 0.0,\n",
       " 'addr_state.DC': -0.013311098229817027,\n",
       " 'addr_state.DE': 0.0,\n",
       " 'addr_state.FL': 0.15423831347619052,\n",
       " 'addr_state.GA': 0.0,\n",
       " 'addr_state.HI': 0.0,\n",
       " 'addr_state.IA': 0.0,\n",
       " 'addr_state.ID': 0.0,\n",
       " 'addr_state.IL': 0.0,\n",
       " 'addr_state.IN': 0.02094946353678339,\n",
       " 'addr_state.KS': 0.0,\n",
       " 'addr_state.KY': 0.0,\n",
       " 'addr_state.LA': 0.0010133131692641809,\n",
       " 'addr_state.MA': 0.0,\n",
       " 'addr_state.MD': 0.0,\n",
       " 'addr_state.ME': 0.0,\n",
       " 'addr_state.MI': 0.09691922042118775,\n",
       " 'addr_state.MN': -0.01838627872498695,\n",
       " 'addr_state.MO': 0.039734809346476226,\n",
       " 'addr_state.MS': 0.0,\n",
       " 'addr_state.MT': -0.017731406591810724,\n",
       " 'addr_state.NC': 0.0,\n",
       " 'addr_state.NE': 0.0,\n",
       " 'addr_state.NH': 0.0,\n",
       " 'addr_state.NJ': 0.16740859779021572,\n",
       " 'addr_state.NM': 0.0,\n",
       " 'addr_state.NV': 0.16877682293419258,\n",
       " 'addr_state.NY': 0.04188559818783521,\n",
       " 'addr_state.OH': 0.007083224999669284,\n",
       " 'addr_state.OK': 0.0,\n",
       " 'addr_state.OR': -0.08820641843969776,\n",
       " 'addr_state.PA': 0.0,\n",
       " 'addr_state.RI': 0.0,\n",
       " 'addr_state.SC': -0.01316361711458914,\n",
       " 'addr_state.SD': 0.0,\n",
       " 'addr_state.TN': 0.13294464869709305,\n",
       " 'addr_state.TX': -0.13177017902272384,\n",
       " 'addr_state.UT': 0.0,\n",
       " 'addr_state.VA': -0.046324198114582514,\n",
       " 'addr_state.VT': 0.0,\n",
       " 'addr_state.WA': 0.0,\n",
       " 'addr_state.WI': 0.0,\n",
       " 'addr_state.WV': -0.019078411680499605,\n",
       " 'addr_state.WY': -0.023868214575470822,\n",
       " 'annual_inc': -6.556969823058631e-06,\n",
       " 'delinq_2yrs': 0.03677259808531781,\n",
       " 'dti': 0.022085762734278876,\n",
       " 'emp_length': -0.0018896914290111291,\n",
       " 'home_ownership.ANY': 0.0,\n",
       " 'home_ownership.MORTGAGE': -0.03961708558330106,\n",
       " 'home_ownership.NONE': 0.0,\n",
       " 'home_ownership.OTHER': 0.0,\n",
       " 'home_ownership.OWN': 0.0,\n",
       " 'home_ownership.RENT': 0.08502905054936669,\n",
       " 'int_rate': 0.10060586052445868,\n",
       " 'loan_amnt': 1.3203353337003159e-05,\n",
       " 'longest_credit_length': 0.0028909187292047818,\n",
       " 'purpose.car': -0.08481065491772685,\n",
       " 'purpose.credit_card': -0.2247543224106885,\n",
       " 'purpose.debt_consolidation': -0.1205862551905976,\n",
       " 'purpose.educational': 0.0,\n",
       " 'purpose.home_improvement': 0.0,\n",
       " 'purpose.house': 0.0,\n",
       " 'purpose.major_purchase': -0.01625517854077624,\n",
       " 'purpose.medical': 0.030129270479229038,\n",
       " 'purpose.moving': 0.0,\n",
       " 'purpose.other': 0.0477851691487197,\n",
       " 'purpose.renewable_energy': 0.0,\n",
       " 'purpose.small_business': 0.6292419727395214,\n",
       " 'purpose.vacation': 0.0,\n",
       " 'purpose.wedding': -0.054227660295848655,\n",
       " 'revol_util': 0.004049277338240875,\n",
       " 'term.36 months': -0.2063505183042449,\n",
       " 'term.60 months': 0.14651236956059832,\n",
       " 'total_acc': -0.008564397806013084,\n",
       " 'verification_status.not verified': 0.0,\n",
       " 'verification_status.verified': 0.0}"
      ]
     },
     "execution_count": 17,
     "metadata": {},
     "output_type": "execute_result"
    }
   ],
   "source": [
    "# print model parameters\n",
    "loan_glm.coef()"
   ]
  },
  {
   "cell_type": "code",
   "execution_count": 18,
   "metadata": {
    "collapsed": false
   },
   "outputs": [
    {
     "name": "stdout",
     "output_type": "stream",
     "text": [
      "0.6985382460203134\n",
      "0.6996015237248728\n"
     ]
    }
   ],
   "source": [
    "# measure train and test AUC\n",
    "print(loan_glm.auc(train=True))\n",
    "print(loan_glm.model_performance(test_data=test).auc())"
   ]
  },
  {
   "cell_type": "code",
   "execution_count": 19,
   "metadata": {
    "collapsed": false
   },
   "outputs": [
    {
     "name": "stdout",
     "output_type": "stream",
     "text": [
      "Model Details\n",
      "=============\n",
      "H2OGeneralizedLinearEstimator :  Generalized Linear Modeling\n",
      "Model Key:  loan_glm2\n",
      "\n",
      "\n",
      "ModelMetricsBinomialGLM: glm\n",
      "** Reported on train data. **\n",
      "\n",
      "MSE: 0.13825361792522667\n",
      "RMSE: 0.37182471397854483\n",
      "LogLoss: 0.4390953656496221\n",
      "Null degrees of freedom: 114847\n",
      "Residual degrees of freedom: 114803\n",
      "Null deviance: 109386.3541113036\n",
      "Residual deviance: 100858.44910825562\n",
      "AIC: 100948.44910825562\n",
      "AUC: 0.6985382460203134\n",
      "Gini: 0.3970764920406269\n",
      "Confusion Matrix (Act/Pred) for max f1 @ threshold = 0.20211828556381106: \n"
     ]
    },
    {
     "data": {
      "text/html": [
       "<div style=\"overflow:auto\"><table style=\"width:50%\"><tr><td><b></b></td>\n",
       "<td><b>0</b></td>\n",
       "<td><b>1</b></td>\n",
       "<td><b>Error</b></td>\n",
       "<td><b>Rate</b></td></tr>\n",
       "<tr><td>0</td>\n",
       "<td>66502.0</td>\n",
       "<td>27305.0</td>\n",
       "<td>0.2911</td>\n",
       "<td> (27305.0/93807.0)</td></tr>\n",
       "<tr><td>1</td>\n",
       "<td>8897.0</td>\n",
       "<td>12144.0</td>\n",
       "<td>0.4228</td>\n",
       "<td> (8897.0/21041.0)</td></tr>\n",
       "<tr><td>Total</td>\n",
       "<td>75399.0</td>\n",
       "<td>39449.0</td>\n",
       "<td>0.3152</td>\n",
       "<td> (36202.0/114848.0)</td></tr></table></div>"
      ],
      "text/plain": [
       "       0      1      Error    Rate\n",
       "-----  -----  -----  -------  ------------------\n",
       "0      66502  27305  0.2911   (27305.0/93807.0)\n",
       "1      8897   12144  0.4228   (8897.0/21041.0)\n",
       "Total  75399  39449  0.3152   (36202.0/114848.0)"
      ]
     },
     "metadata": {},
     "output_type": "display_data"
    },
    {
     "name": "stdout",
     "output_type": "stream",
     "text": [
      "Maximum Metrics: Maximum metrics at their respective thresholds\n",
      "\n"
     ]
    },
    {
     "data": {
      "text/html": [
       "<div style=\"overflow:auto\"><table style=\"width:50%\"><tr><td><b>metric</b></td>\n",
       "<td><b>threshold</b></td>\n",
       "<td><b>value</b></td>\n",
       "<td><b>idx</b></td></tr>\n",
       "<tr><td>max f1</td>\n",
       "<td>0.2021183</td>\n",
       "<td>0.4015209</td>\n",
       "<td>225.0</td></tr>\n",
       "<tr><td>max f2</td>\n",
       "<td>0.1169010</td>\n",
       "<td>0.5612323</td>\n",
       "<td>310.0</td></tr>\n",
       "<tr><td>max f0point5</td>\n",
       "<td>0.2695206</td>\n",
       "<td>0.3641440</td>\n",
       "<td>169.0</td></tr>\n",
       "<tr><td>max accuracy</td>\n",
       "<td>0.5314961</td>\n",
       "<td>0.8171061</td>\n",
       "<td>36.0</td></tr>\n",
       "<tr><td>max precision</td>\n",
       "<td>0.8023883</td>\n",
       "<td>1.0</td>\n",
       "<td>0.0</td></tr>\n",
       "<tr><td>max recall</td>\n",
       "<td>0.0013031</td>\n",
       "<td>1.0</td>\n",
       "<td>399.0</td></tr>\n",
       "<tr><td>max specificity</td>\n",
       "<td>0.8023883</td>\n",
       "<td>1.0</td>\n",
       "<td>0.0</td></tr>\n",
       "<tr><td>max absolute_mcc</td>\n",
       "<td>0.2130758</td>\n",
       "<td>0.2334833</td>\n",
       "<td>215.0</td></tr>\n",
       "<tr><td>max min_per_class_accuracy</td>\n",
       "<td>0.1832035</td>\n",
       "<td>0.6435980</td>\n",
       "<td>243.0</td></tr>\n",
       "<tr><td>max mean_per_class_accuracy</td>\n",
       "<td>0.1725828</td>\n",
       "<td>0.6461711</td>\n",
       "<td>253.0</td></tr></table></div>"
      ],
      "text/plain": [
       "metric                       threshold    value     idx\n",
       "---------------------------  -----------  --------  -----\n",
       "max f1                       0.202118     0.401521  225\n",
       "max f2                       0.116901     0.561232  310\n",
       "max f0point5                 0.269521     0.364144  169\n",
       "max accuracy                 0.531496     0.817106  36\n",
       "max precision                0.802388     1         0\n",
       "max recall                   0.00130309   1         399\n",
       "max specificity              0.802388     1         0\n",
       "max absolute_mcc             0.213076     0.233483  215\n",
       "max min_per_class_accuracy   0.183204     0.643598  243\n",
       "max mean_per_class_accuracy  0.172583     0.646171  253"
      ]
     },
     "metadata": {},
     "output_type": "display_data"
    },
    {
     "name": "stdout",
     "output_type": "stream",
     "text": [
      "Gains/Lift Table: Avg response rate: 18.32 %\n",
      "\n"
     ]
    },
    {
     "data": {
      "text/html": [
       "<div style=\"overflow:auto\"><table style=\"width:50%\"><tr><td><b></b></td>\n",
       "<td><b>group</b></td>\n",
       "<td><b>cumulative_data_fraction</b></td>\n",
       "<td><b>lower_threshold</b></td>\n",
       "<td><b>lift</b></td>\n",
       "<td><b>cumulative_lift</b></td>\n",
       "<td><b>response_rate</b></td>\n",
       "<td><b>cumulative_response_rate</b></td>\n",
       "<td><b>capture_rate</b></td>\n",
       "<td><b>cumulative_capture_rate</b></td>\n",
       "<td><b>gain</b></td>\n",
       "<td><b>cumulative_gain</b></td></tr>\n",
       "<tr><td></td>\n",
       "<td>1</td>\n",
       "<td>0.0100045</td>\n",
       "<td>0.5190750</td>\n",
       "<td>2.7837783</td>\n",
       "<td>2.7837783</td>\n",
       "<td>0.5100087</td>\n",
       "<td>0.5100087</td>\n",
       "<td>0.0278504</td>\n",
       "<td>0.0278504</td>\n",
       "<td>178.3778316</td>\n",
       "<td>178.3778316</td></tr>\n",
       "<tr><td></td>\n",
       "<td>2</td>\n",
       "<td>0.0200003</td>\n",
       "<td>0.4748911</td>\n",
       "<td>2.5342087</td>\n",
       "<td>2.6590478</td>\n",
       "<td>0.4642857</td>\n",
       "<td>0.4871572</td>\n",
       "<td>0.0253315</td>\n",
       "<td>0.0531819</td>\n",
       "<td>153.4208722</td>\n",
       "<td>165.9047844</td></tr>\n",
       "<tr><td></td>\n",
       "<td>3</td>\n",
       "<td>0.0300049</td>\n",
       "<td>0.4448844</td>\n",
       "<td>2.4084908</td>\n",
       "<td>2.5755046</td>\n",
       "<td>0.4412533</td>\n",
       "<td>0.4718514</td>\n",
       "<td>0.0240958</td>\n",
       "<td>0.0772777</td>\n",
       "<td>140.8490796</td>\n",
       "<td>157.5504591</td></tr>\n",
       "<tr><td></td>\n",
       "<td>4</td>\n",
       "<td>0.0400007</td>\n",
       "<td>0.4209040</td>\n",
       "<td>2.2917235</td>\n",
       "<td>2.5045902</td>\n",
       "<td>0.4198606</td>\n",
       "<td>0.4588594</td>\n",
       "<td>0.0229077</td>\n",
       "<td>0.1001854</td>\n",
       "<td>129.1723459</td>\n",
       "<td>150.4590194</td></tr>\n",
       "<tr><td></td>\n",
       "<td>5</td>\n",
       "<td>0.0500052</td>\n",
       "<td>0.3996351</td>\n",
       "<td>2.1947194</td>\n",
       "<td>2.4425945</td>\n",
       "<td>0.4020888</td>\n",
       "<td>0.4475013</td>\n",
       "<td>0.0219571</td>\n",
       "<td>0.1221425</td>\n",
       "<td>119.4719423</td>\n",
       "<td>144.2594458</td></tr>\n",
       "<tr><td></td>\n",
       "<td>6</td>\n",
       "<td>0.1000017</td>\n",
       "<td>0.3313651</td>\n",
       "<td>1.9819830</td>\n",
       "<td>2.2123088</td>\n",
       "<td>0.3631139</td>\n",
       "<td>0.4053113</td>\n",
       "<td>0.0990922</td>\n",
       "<td>0.2212347</td>\n",
       "<td>98.1983029</td>\n",
       "<td>121.2308796</td></tr>\n",
       "<tr><td></td>\n",
       "<td>7</td>\n",
       "<td>0.1500070</td>\n",
       "<td>0.2888389</td>\n",
       "<td>1.7915527</td>\n",
       "<td>2.0720486</td>\n",
       "<td>0.3282257</td>\n",
       "<td>0.3796146</td>\n",
       "<td>0.0895870</td>\n",
       "<td>0.3108217</td>\n",
       "<td>79.1552744</td>\n",
       "<td>107.2048638</td></tr>\n",
       "<tr><td></td>\n",
       "<td>8</td>\n",
       "<td>0.2000035</td>\n",
       "<td>0.2587155</td>\n",
       "<td>1.5627722</td>\n",
       "<td>1.9447406</td>\n",
       "<td>0.2863114</td>\n",
       "<td>0.3562908</td>\n",
       "<td>0.0781332</td>\n",
       "<td>0.3889549</td>\n",
       "<td>56.2772230</td>\n",
       "<td>94.4740622</td></tr>\n",
       "<tr><td></td>\n",
       "<td>9</td>\n",
       "<td>0.3000052</td>\n",
       "<td>0.2162173</td>\n",
       "<td>1.3601778</td>\n",
       "<td>1.7498864</td>\n",
       "<td>0.2491946</td>\n",
       "<td>0.3205921</td>\n",
       "<td>0.1360202</td>\n",
       "<td>0.5249750</td>\n",
       "<td>36.0177825</td>\n",
       "<td>74.9886356</td></tr>\n",
       "<tr><td></td>\n",
       "<td>10</td>\n",
       "<td>0.3999983</td>\n",
       "<td>0.1850733</td>\n",
       "<td>1.1026860</td>\n",
       "<td>1.5880968</td>\n",
       "<td>0.2020202</td>\n",
       "<td>0.2909510</td>\n",
       "<td>0.1102609</td>\n",
       "<td>0.6352360</td>\n",
       "<td>10.2686002</td>\n",
       "<td>58.8096834</td></tr>\n",
       "<tr><td></td>\n",
       "<td>11</td>\n",
       "<td>0.5</td>\n",
       "<td>0.1596810</td>\n",
       "<td>0.9733208</td>\n",
       "<td>1.4651395</td>\n",
       "<td>0.1783195</td>\n",
       "<td>0.2684244</td>\n",
       "<td>0.0973338</td>\n",
       "<td>0.7325697</td>\n",
       "<td>-2.6679181</td>\n",
       "<td>46.5139490</td></tr>\n",
       "<tr><td></td>\n",
       "<td>12</td>\n",
       "<td>0.6000017</td>\n",
       "<td>0.1373987</td>\n",
       "<td>0.7789418</td>\n",
       "<td>1.3507715</td>\n",
       "<td>0.1427079</td>\n",
       "<td>0.2474713</td>\n",
       "<td>0.0778955</td>\n",
       "<td>0.8104653</td>\n",
       "<td>-22.1058192</td>\n",
       "<td>35.0771550</td></tr>\n",
       "<tr><td></td>\n",
       "<td>13</td>\n",
       "<td>0.6999948</td>\n",
       "<td>0.1158318</td>\n",
       "<td>0.6668399</td>\n",
       "<td>1.2530731</td>\n",
       "<td>0.1221700</td>\n",
       "<td>0.2295722</td>\n",
       "<td>0.0666793</td>\n",
       "<td>0.8771446</td>\n",
       "<td>-33.3160146</td>\n",
       "<td>25.3073098</td></tr>\n",
       "<tr><td></td>\n",
       "<td>14</td>\n",
       "<td>0.7999965</td>\n",
       "<td>0.0941001</td>\n",
       "<td>0.5612753</td>\n",
       "<td>1.1665965</td>\n",
       "<td>0.1028298</td>\n",
       "<td>0.2137291</td>\n",
       "<td>0.0561285</td>\n",
       "<td>0.9332731</td>\n",
       "<td>-43.8724664</td>\n",
       "<td>16.6596496</td></tr>\n",
       "<tr><td></td>\n",
       "<td>15</td>\n",
       "<td>0.8999983</td>\n",
       "<td>0.0706188</td>\n",
       "<td>0.4053919</td>\n",
       "<td>1.0820166</td>\n",
       "<td>0.0742708</td>\n",
       "<td>0.1982334</td>\n",
       "<td>0.0405399</td>\n",
       "<td>0.9738130</td>\n",
       "<td>-59.4608077</td>\n",
       "<td>8.2016573</td></tr>\n",
       "<tr><td></td>\n",
       "<td>16</td>\n",
       "<td>1.0</td>\n",
       "<td>0.0000000</td>\n",
       "<td>0.2618651</td>\n",
       "<td>1.0</td>\n",
       "<td>0.0479756</td>\n",
       "<td>0.1832074</td>\n",
       "<td>0.0261870</td>\n",
       "<td>1.0</td>\n",
       "<td>-73.8134877</td>\n",
       "<td>0.0</td></tr></table></div>"
      ],
      "text/plain": [
       "    group    cumulative_data_fraction    lower_threshold    lift      cumulative_lift    response_rate    cumulative_response_rate    capture_rate    cumulative_capture_rate    gain      cumulative_gain\n",
       "--  -------  --------------------------  -----------------  --------  -----------------  ---------------  --------------------------  --------------  -------------------------  --------  -----------------\n",
       "    1        0.0100045                   0.519075           2.78378   2.78378            0.510009         0.510009                    0.0278504       0.0278504                  178.378   178.378\n",
       "    2        0.0200003                   0.474891           2.53421   2.65905            0.464286         0.487157                    0.0253315       0.0531819                  153.421   165.905\n",
       "    3        0.0300049                   0.444884           2.40849   2.5755             0.441253         0.471851                    0.0240958       0.0772777                  140.849   157.55\n",
       "    4        0.0400007                   0.420904           2.29172   2.50459            0.419861         0.458859                    0.0229077       0.100185                   129.172   150.459\n",
       "    5        0.0500052                   0.399635           2.19472   2.44259            0.402089         0.447501                    0.0219571       0.122142                   119.472   144.259\n",
       "    6        0.100002                    0.331365           1.98198   2.21231            0.363114         0.405311                    0.0990922       0.221235                   98.1983   121.231\n",
       "    7        0.150007                    0.288839           1.79155   2.07205            0.328226         0.379615                    0.089587        0.310822                   79.1553   107.205\n",
       "    8        0.200003                    0.258715           1.56277   1.94474            0.286311         0.356291                    0.0781332       0.388955                   56.2772   94.4741\n",
       "    9        0.300005                    0.216217           1.36018   1.74989            0.249195         0.320592                    0.13602         0.524975                   36.0178   74.9886\n",
       "    10       0.399998                    0.185073           1.10269   1.5881             0.20202          0.290951                    0.110261        0.635236                   10.2686   58.8097\n",
       "    11       0.5                         0.159681           0.973321  1.46514            0.17832          0.268424                    0.0973338       0.73257                    -2.66792  46.5139\n",
       "    12       0.600002                    0.137399           0.778942  1.35077            0.142708         0.247471                    0.0778955       0.810465                   -22.1058  35.0772\n",
       "    13       0.699995                    0.115832           0.66684   1.25307            0.12217          0.229572                    0.0666793       0.877145                   -33.316   25.3073\n",
       "    14       0.799997                    0.0941001          0.561275  1.1666             0.10283          0.213729                    0.0561285       0.933273                   -43.8725  16.6596\n",
       "    15       0.899998                    0.0706188          0.405392  1.08202            0.0742708        0.198233                    0.0405399       0.973813                   -59.4608  8.20166\n",
       "    16       1                           8.10737e-22        0.261865  1                  0.0479756        0.183207                    0.026187        1                          -73.8135  0"
      ]
     },
     "metadata": {},
     "output_type": "display_data"
    },
    {
     "name": "stdout",
     "output_type": "stream",
     "text": [
      "\n",
      "Scoring History: \n"
     ]
    },
    {
     "data": {
      "text/html": [
       "<div style=\"overflow:auto\"><table style=\"width:50%\"><tr><td><b></b></td>\n",
       "<td><b>timestamp</b></td>\n",
       "<td><b>duration</b></td>\n",
       "<td><b>iteration</b></td>\n",
       "<td><b>lambda</b></td>\n",
       "<td><b>predictors</b></td>\n",
       "<td><b>deviance_train</b></td>\n",
       "<td><b>deviance_test</b></td></tr>\n",
       "<tr><td></td>\n",
       "<td>2017-05-04 11:13:58</td>\n",
       "<td> 0.000 sec</td>\n",
       "<td>3</td>\n",
       "<td>.16E0</td>\n",
       "<td>2</td>\n",
       "<td>0.9465855</td>\n",
       "<td>nan</td></tr>\n",
       "<tr><td></td>\n",
       "<td>2017-05-04 11:13:58</td>\n",
       "<td> 0.029 sec</td>\n",
       "<td>5</td>\n",
       "<td>.15E0</td>\n",
       "<td>2</td>\n",
       "<td>0.9411677</td>\n",
       "<td>nan</td></tr>\n",
       "<tr><td></td>\n",
       "<td>2017-05-04 11:13:58</td>\n",
       "<td> 0.052 sec</td>\n",
       "<td>7</td>\n",
       "<td>.13E0</td>\n",
       "<td>2</td>\n",
       "<td>0.9362429</td>\n",
       "<td>nan</td></tr>\n",
       "<tr><td></td>\n",
       "<td>2017-05-04 11:13:58</td>\n",
       "<td> 0.076 sec</td>\n",
       "<td>9</td>\n",
       "<td>.12E0</td>\n",
       "<td>2</td>\n",
       "<td>0.9318267</td>\n",
       "<td>nan</td></tr>\n",
       "<tr><td></td>\n",
       "<td>2017-05-04 11:13:58</td>\n",
       "<td> 0.102 sec</td>\n",
       "<td>11</td>\n",
       "<td>.11E0</td>\n",
       "<td>2</td>\n",
       "<td>0.9278581</td>\n",
       "<td>nan</td></tr>\n",
       "<tr><td>---</td>\n",
       "<td>---</td>\n",
       "<td>---</td>\n",
       "<td>---</td>\n",
       "<td>---</td>\n",
       "<td>---</td>\n",
       "<td>---</td>\n",
       "<td>---</td></tr>\n",
       "<tr><td></td>\n",
       "<td>2017-05-04 11:14:00</td>\n",
       "<td> 2.199 sec</td>\n",
       "<td>78</td>\n",
       "<td>.46E-3</td>\n",
       "<td>33</td>\n",
       "<td>0.8784427</td>\n",
       "<td>nan</td></tr>\n",
       "<tr><td></td>\n",
       "<td>2017-05-04 11:14:00</td>\n",
       "<td> 2.239 sec</td>\n",
       "<td>79</td>\n",
       "<td>.42E-3</td>\n",
       "<td>34</td>\n",
       "<td>0.8784032</td>\n",
       "<td>nan</td></tr>\n",
       "<tr><td></td>\n",
       "<td>2017-05-04 11:14:00</td>\n",
       "<td> 2.276 sec</td>\n",
       "<td>80</td>\n",
       "<td>.38E-3</td>\n",
       "<td>37</td>\n",
       "<td>0.8783377</td>\n",
       "<td>nan</td></tr>\n",
       "<tr><td></td>\n",
       "<td>2017-05-04 11:14:00</td>\n",
       "<td> 2.327 sec</td>\n",
       "<td>81</td>\n",
       "<td>.35E-3</td>\n",
       "<td>42</td>\n",
       "<td>0.8782705</td>\n",
       "<td>nan</td></tr>\n",
       "<tr><td></td>\n",
       "<td>2017-05-04 11:14:00</td>\n",
       "<td> 2.374 sec</td>\n",
       "<td>82</td>\n",
       "<td>.32E-3</td>\n",
       "<td>45</td>\n",
       "<td>0.8781907</td>\n",
       "<td>nan</td></tr></table></div>"
      ],
      "text/plain": [
       "     timestamp            duration    iteration    lambda    predictors    deviance_train      deviance_test\n",
       "---  -------------------  ----------  -----------  --------  ------------  ------------------  ---------------\n",
       "     2017-05-04 11:13:58  0.000 sec   3            .16E0     2             0.9465854965488302  nan\n",
       "     2017-05-04 11:13:58  0.029 sec   5            .15E0     2             0.9411677106297399  nan\n",
       "     2017-05-04 11:13:58  0.052 sec   7            .13E0     2             0.9362429250797858  nan\n",
       "     2017-05-04 11:13:58  0.076 sec   9            .12E0     2             0.9318267280449418  nan\n",
       "     2017-05-04 11:13:58  0.102 sec   11           .11E0     2             0.9278581270197452  nan\n",
       "---  ---                  ---         ---          ---       ---           ---                 ---\n",
       "     2017-05-04 11:14:00  2.199 sec   78           .46E-3    33            0.8784427234165265  nan\n",
       "     2017-05-04 11:14:00  2.239 sec   79           .42E-3    34            0.8784032285236449  nan\n",
       "     2017-05-04 11:14:00  2.276 sec   80           .38E-3    37            0.8783377269899564  nan\n",
       "     2017-05-04 11:14:00  2.327 sec   81           .35E-3    42            0.8782704993578235  nan\n",
       "     2017-05-04 11:14:00  2.374 sec   82           .32E-3    45            0.8781907312992446  nan"
      ]
     },
     "metadata": {},
     "output_type": "display_data"
    },
    {
     "name": "stdout",
     "output_type": "stream",
     "text": [
      "\n",
      "See the whole table with table.as_data_frame()\n"
     ]
    },
    {
     "data": {
      "text/plain": []
     },
     "execution_count": 19,
     "metadata": {},
     "output_type": "execute_result"
    }
   ],
   "source": [
    "loan_glm"
   ]
  },
  {
   "cell_type": "code",
   "execution_count": 20,
   "metadata": {
    "collapsed": false
   },
   "outputs": [
    {
     "name": "stdout",
     "output_type": "stream",
     "text": [
      "Are you sure you want to shutdown the H2O instance running at http://127.0.0.1:54321 (Y/N)? y\n",
      "H2O session _sid_87f3 closed.\n"
     ]
    }
   ],
   "source": [
    "# shutdown h2o ... be careful this can erase your work\n",
    "h2o.cluster().shutdown(prompt=True)"
   ]
  },
  {
   "cell_type": "code",
   "execution_count": null,
   "metadata": {
    "collapsed": true
   },
   "outputs": [],
   "source": []
  }
 ],
 "metadata": {
  "anaconda-cloud": {},
  "kernelspec": {
   "display_name": "Python [conda root]",
   "language": "python",
   "name": "conda-root-py"
  },
  "language_info": {
   "codemirror_mode": {
    "name": "ipython",
    "version": 3
   },
   "file_extension": ".py",
   "mimetype": "text/x-python",
   "name": "python",
   "nbconvert_exporter": "python",
   "pygments_lexer": "ipython3",
   "version": "3.5.2"
  }
 },
 "nbformat": 4,
 "nbformat_minor": 2
}
