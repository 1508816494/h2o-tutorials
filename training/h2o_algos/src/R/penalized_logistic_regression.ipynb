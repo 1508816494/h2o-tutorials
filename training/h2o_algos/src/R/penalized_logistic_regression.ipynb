{
 "cells": [
  {
   "cell_type": "code",
   "execution_count": 7,
   "metadata": {
    "collapsed": false
   },
   "outputs": [
    {
     "name": "stdout",
     "output_type": "stream",
     "text": [
      " Connection successful!\n",
      "\n",
      "R is connected to the H2O cluster: \n",
      "    H2O cluster uptime:         2 hours 12 minutes \n",
      "    H2O cluster version:        3.10.4.3 \n",
      "    H2O cluster version age:    10 days  \n",
      "    H2O cluster name:           H2O_from_python_phall_0sd0tm \n",
      "    H2O cluster total nodes:    1 \n",
      "    H2O cluster total memory:   3.23 GB \n",
      "    H2O cluster total cores:    8 \n",
      "    H2O cluster allowed cores:  8 \n",
      "    H2O cluster healthy:        TRUE \n",
      "    H2O Connection ip:          localhost \n",
      "    H2O Connection port:        54321 \n",
      "    H2O Connection proxy:       NA \n",
      "    H2O Internal Security:      FALSE \n",
      "    R Version:                  R version 3.3.2 (2016-10-31) \n",
      "\n"
     ]
    }
   ],
   "source": [
    "# import h2o lib and allow it to use max. threads\n",
    "library(h2o)\n",
    "h2o.init(nthreads = -1)"
   ]
  },
  {
   "cell_type": "code",
   "execution_count": 11,
   "metadata": {
    "collapsed": false
   },
   "outputs": [],
   "source": [
    "# location of clean data file\n",
    "path <- \"/Users/phall/Documents/aetna/share/data/loan.csv\""
   ]
  },
  {
   "cell_type": "code",
   "execution_count": 12,
   "metadata": {
    "collapsed": false
   },
   "outputs": [
    {
     "name": "stdout",
     "output_type": "stream",
     "text": [
      "\r",
      "  |                                                                            \r",
      "  |                                                                      |   0%\r",
      "  |                                                                            \r",
      "  |===============                                                       |  22%\r",
      "  |                                                                            \r",
      "  |======================================================================| 100%\n"
     ]
    }
   ],
   "source": [
    "# import file\n",
    "frame <- h2o.importFile(path)\n",
    "\n",
    "# strings automatically parsed as enums (categorical)\n",
    "# numbers automatically parsed as numeric\n",
    "# bad_loan is numeric, but categorical\n",
    "frame$bad_loan <- as.factor(frame$bad_loan)"
   ]
  },
  {
   "cell_type": "code",
   "execution_count": 13,
   "metadata": {
    "collapsed": false
   },
   "outputs": [],
   "source": [
    "# find missing numeric and impute\n",
    "for (name in names(frame)) {\n",
    "  if (any(is.na(frame[name]))) {\n",
    "      h2o.impute(frame, name, \"median\")\n",
    "  }\n",
    "}"
   ]
  },
  {
   "cell_type": "code",
   "execution_count": 5,
   "metadata": {
    "collapsed": false
   },
   "outputs": [
    {
     "data": {
      "text/html": [
       "<table>\n",
       "<thead><tr><th scope=col>Label</th><th scope=col>Type</th><th scope=col>Missing</th><th scope=col>Zeros</th><th scope=col>PosInf</th><th scope=col>NegInf</th><th scope=col>Min</th><th scope=col>Max</th><th scope=col>Mean</th><th scope=col>Sigma</th><th scope=col>Cardinality</th></tr></thead>\n",
       "<tbody>\n",
       "\t<tr><td>loan_amnt            </td><td>int                  </td><td>0                    </td><td>0                    </td><td>0                    </td><td>0                    </td><td>500                  </td><td>35000                </td><td>13074.1691414563     </td><td>7993.55618873467     </td><td>NA                   </td></tr>\n",
       "\t<tr><td>term                 </td><td>enum                 </td><td>0                    </td><td>129950               </td><td>0                    </td><td>0                    </td><td>0                    </td><td>1                    </td><td>0.207559135785154    </td><td>0.405560530549521    </td><td>2                    </td></tr>\n",
       "\t<tr><td>int_rate             </td><td>real                 </td><td>0                    </td><td>0                    </td><td>0                    </td><td>0                    </td><td>5.42                 </td><td>26.06                </td><td>13.7159040655662     </td><td>4.39193987054581     </td><td>NA                   </td></tr>\n",
       "\t<tr><td>emp_length           </td><td>int                  </td><td>0                    </td><td>14248                </td><td>0                    </td><td>0                    </td><td>0                    </td><td>10                   </td><td>5.69552464524627     </td><td>3.54667110307881     </td><td>NA                   </td></tr>\n",
       "\t<tr><td>home_ownership       </td><td>enum                 </td><td>0                    </td><td>1                    </td><td>0                    </td><td>0                    </td><td>0                    </td><td>5                    </td><td>NA                   </td><td>NA                   </td><td>6                    </td></tr>\n",
       "\t<tr><td>annual_inc           </td><td>real                 </td><td>0                    </td><td>0                    </td><td>0                    </td><td>0                    </td><td>1896                 </td><td>7141778              </td><td>71915.404262777      </td><td>59070.2198125624     </td><td>NA                   </td></tr>\n",
       "\t<tr><td>purpose              </td><td>enum                 </td><td>0                    </td><td>2842                 </td><td>0                    </td><td>0                    </td><td>0                    </td><td>13                   </td><td>NA                   </td><td>NA                   </td><td>14                   </td></tr>\n",
       "\t<tr><td>addr_state           </td><td>enum                 </td><td>0                    </td><td>413                  </td><td>0                    </td><td>0                    </td><td>0                    </td><td>49                   </td><td>NA                   </td><td>NA                   </td><td>50                   </td></tr>\n",
       "\t<tr><td>dti                  </td><td>real                 </td><td>0                    </td><td>270                  </td><td>0                    </td><td>0                    </td><td>0                    </td><td>39.99                </td><td>15.8815301212902     </td><td>7.58766822419254     </td><td>NA                   </td></tr>\n",
       "\t<tr><td>delinq_2yrs          </td><td>int                  </td><td>0                    </td><td>139488               </td><td>0                    </td><td>0                    </td><td>0                    </td><td>29                   </td><td>0.227316799502399    </td><td>0.694113124115403    </td><td>NA                   </td></tr>\n",
       "\t<tr><td>revol_util           </td><td>real                 </td><td>0                    </td><td>1562                 </td><td>0                    </td><td>0                    </td><td>0                    </td><td>150.7                </td><td>54.081198082775      </td><td>25.2705517123563     </td><td>NA                   </td></tr>\n",
       "\t<tr><td>total_acc            </td><td>int                  </td><td>0                    </td><td>0                    </td><td>0                    </td><td>0                    </td><td>1                    </td><td>118                  </td><td>24.5794544689518     </td><td>11.6841759724766     </td><td>NA                   </td></tr>\n",
       "\t<tr><td>bad_loan             </td><td>enum                 </td><td>0                    </td><td>133971               </td><td>0                    </td><td>0                    </td><td>0                    </td><td>1                    </td><td>0.183038899424954    </td><td>0.386699589607887    </td><td>2                    </td></tr>\n",
       "\t<tr><td>longest_credit_length</td><td>int                  </td><td>0                    </td><td>11                   </td><td>0                    </td><td>0                    </td><td>0                    </td><td>65                   </td><td>14.8541225828877     </td><td>6.94712784863357     </td><td>NA                   </td></tr>\n",
       "\t<tr><td>verification_status  </td><td>enum                 </td><td>0                    </td><td>59155                </td><td>0                    </td><td>0                    </td><td>0                    </td><td>1                    </td><td>0.639270186051333    </td><td>0.480213724833117    </td><td>2                    </td></tr>\n",
       "</tbody>\n",
       "</table>\n"
      ],
      "text/latex": [
       "\\begin{tabular}{r|lllllllllll}\n",
       " Label & Type & Missing & Zeros & PosInf & NegInf & Min & Max & Mean & Sigma & Cardinality\\\\\n",
       "\\hline\n",
       "\t loan\\_amnt             & int                     & 0                       & 0                       & 0                       & 0                       & 500                     & 35000                   & 13074.1691414563        & 7993.55618873467        & NA                     \\\\\n",
       "\t term                  & enum                  & 0                     & 129950                & 0                     & 0                     & 0                     & 1                     & 0.207559135785154     & 0.405560530549521     & 2                    \\\\\n",
       "\t int\\_rate              & real                    & 0                       & 0                       & 0                       & 0                       & 5.42                    & 26.06                   & 13.7159040655662        & 4.39193987054581        & NA                     \\\\\n",
       "\t emp\\_length            & int                     & 0                       & 14248                   & 0                       & 0                       & 0                       & 10                      & 5.69552464524627        & 3.54667110307881        & NA                     \\\\\n",
       "\t home\\_ownership        & enum                    & 0                       & 1                       & 0                       & 0                       & 0                       & 5                       & NA                      & NA                      & 6                      \\\\\n",
       "\t annual\\_inc            & real                    & 0                       & 0                       & 0                       & 0                       & 1896                    & 7141778                 & 71915.404262777         & 59070.2198125624        & NA                     \\\\\n",
       "\t purpose               & enum                  & 0                     & 2842                  & 0                     & 0                     & 0                     & 13                    & NA                    & NA                    & 14                   \\\\\n",
       "\t addr\\_state            & enum                    & 0                       & 413                     & 0                       & 0                       & 0                       & 49                      & NA                      & NA                      & 50                     \\\\\n",
       "\t dti                   & real                  & 0                     & 270                   & 0                     & 0                     & 0                     & 39.99                 & 15.8815301212902      & 7.58766822419254      & NA                   \\\\\n",
       "\t delinq\\_2yrs           & int                     & 0                       & 139488                  & 0                       & 0                       & 0                       & 29                      & 0.227316799502399       & 0.694113124115403       & NA                     \\\\\n",
       "\t revol\\_util            & real                    & 0                       & 1562                    & 0                       & 0                       & 0                       & 150.7                   & 54.081198082775         & 25.2705517123563        & NA                     \\\\\n",
       "\t total\\_acc             & int                     & 0                       & 0                       & 0                       & 0                       & 1                       & 118                     & 24.5794544689518        & 11.6841759724766        & NA                     \\\\\n",
       "\t bad\\_loan              & enum                    & 0                       & 133971                  & 0                       & 0                       & 0                       & 1                       & 0.183038899424954       & 0.386699589607887       & 2                      \\\\\n",
       "\t longest\\_credit\\_length & int                       & 0                         & 11                        & 0                         & 0                         & 0                         & 65                        & 14.8541225828877          & 6.94712784863357          & NA                       \\\\\n",
       "\t verification\\_status   & enum                    & 0                       & 59155                   & 0                       & 0                       & 0                       & 1                       & 0.639270186051333       & 0.480213724833117       & 2                      \\\\\n",
       "\\end{tabular}\n"
      ],
      "text/markdown": [
       "\n",
       "Label | Type | Missing | Zeros | PosInf | NegInf | Min | Max | Mean | Sigma | Cardinality | \n",
       "|---|---|---|---|---|---|---|---|---|---|---|---|---|---|---|\n",
       "| loan_amnt             | int                   | 0                     | 0                     | 0                     | 0                     | 500                   | 35000                 | 13074.1691414563      | 7993.55618873467      | NA                    | \n",
       "| term                  | enum                  | 0                     | 129950                | 0                     | 0                     | 0                     | 1                     | 0.207559135785154     | 0.405560530549521     | 2                     | \n",
       "| int_rate              | real                  | 0                     | 0                     | 0                     | 0                     | 5.42                  | 26.06                 | 13.7159040655662      | 4.39193987054581      | NA                    | \n",
       "| emp_length            | int                   | 0                     | 14248                 | 0                     | 0                     | 0                     | 10                    | 5.69552464524627      | 3.54667110307881      | NA                    | \n",
       "| home_ownership        | enum                  | 0                     | 1                     | 0                     | 0                     | 0                     | 5                     | NA                    | NA                    | 6                     | \n",
       "| annual_inc            | real                  | 0                     | 0                     | 0                     | 0                     | 1896                  | 7141778               | 71915.404262777       | 59070.2198125624      | NA                    | \n",
       "| purpose               | enum                  | 0                     | 2842                  | 0                     | 0                     | 0                     | 13                    | NA                    | NA                    | 14                    | \n",
       "| addr_state            | enum                  | 0                     | 413                   | 0                     | 0                     | 0                     | 49                    | NA                    | NA                    | 50                    | \n",
       "| dti                   | real                  | 0                     | 270                   | 0                     | 0                     | 0                     | 39.99                 | 15.8815301212902      | 7.58766822419254      | NA                    | \n",
       "| delinq_2yrs           | int                   | 0                     | 139488                | 0                     | 0                     | 0                     | 29                    | 0.227316799502399     | 0.694113124115403     | NA                    | \n",
       "| revol_util            | real                  | 0                     | 1562                  | 0                     | 0                     | 0                     | 150.7                 | 54.081198082775       | 25.2705517123563      | NA                    | \n",
       "| total_acc             | int                   | 0                     | 0                     | 0                     | 0                     | 1                     | 118                   | 24.5794544689518      | 11.6841759724766      | NA                    | \n",
       "| bad_loan              | enum                  | 0                     | 133971                | 0                     | 0                     | 0                     | 1                     | 0.183038899424954     | 0.386699589607887     | 2                     | \n",
       "| longest_credit_length | int                   | 0                     | 11                    | 0                     | 0                     | 0                     | 65                    | 14.8541225828877      | 6.94712784863357      | NA                    | \n",
       "| verification_status   | enum                  | 0                     | 59155                 | 0                     | 0                     | 0                     | 1                     | 0.639270186051333     | 0.480213724833117     | 2                     | \n",
       "\n",
       "\n"
      ],
      "text/plain": [
       "   Label                 Type Missing Zeros  PosInf NegInf Min  Max    \n",
       "1  loan_amnt             int  0       0      0      0      500  35000  \n",
       "2  term                  enum 0       129950 0      0      0    1      \n",
       "3  int_rate              real 0       0      0      0      5.42 26.06  \n",
       "4  emp_length            int  0       14248  0      0      0    10     \n",
       "5  home_ownership        enum 0       1      0      0      0    5      \n",
       "6  annual_inc            real 0       0      0      0      1896 7141778\n",
       "7  purpose               enum 0       2842   0      0      0    13     \n",
       "8  addr_state            enum 0       413    0      0      0    49     \n",
       "9  dti                   real 0       270    0      0      0    39.99  \n",
       "10 delinq_2yrs           int  0       139488 0      0      0    29     \n",
       "11 revol_util            real 0       1562   0      0      0    150.7  \n",
       "12 total_acc             int  0       0      0      0      1    118    \n",
       "13 bad_loan              enum 0       133971 0      0      0    1      \n",
       "14 longest_credit_length int  0       11     0      0      0    65     \n",
       "15 verification_status   enum 0       59155  0      0      0    1      \n",
       "   Mean              Sigma             Cardinality\n",
       "1  13074.1691414563  7993.55618873467  NA         \n",
       "2  0.207559135785154 0.405560530549521 2          \n",
       "3  13.7159040655662  4.39193987054581  NA         \n",
       "4  5.69552464524627  3.54667110307881  NA         \n",
       "5  NA                NA                6          \n",
       "6  71915.404262777   59070.2198125624  NA         \n",
       "7  NA                NA                14         \n",
       "8  NA                NA                50         \n",
       "9  15.8815301212902  7.58766822419254  NA         \n",
       "10 0.227316799502399 0.694113124115403 NA         \n",
       "11 54.081198082775   25.2705517123563  NA         \n",
       "12 24.5794544689518  11.6841759724766  NA         \n",
       "13 0.183038899424954 0.386699589607887 2          \n",
       "14 14.8541225828877  6.94712784863357  NA         \n",
       "15 0.639270186051333 0.480213724833117 2          "
      ]
     },
     "metadata": {},
     "output_type": "display_data"
    }
   ],
   "source": [
    "h2o.describe(frame) # summarize table, check for missing"
   ]
  },
  {
   "cell_type": "code",
   "execution_count": 14,
   "metadata": {
    "collapsed": false
   },
   "outputs": [
    {
     "name": "stdout",
     "output_type": "stream",
     "text": [
      "[1] \"bad_loan\"\n",
      " [1] \"loan_amnt\"             \"term\"                  \"int_rate\"             \n",
      " [4] \"emp_length\"            \"home_ownership\"        \"annual_inc\"           \n",
      " [7] \"purpose\"               \"addr_state\"            \"dti\"                  \n",
      "[10] \"delinq_2yrs\"           \"revol_util\"            \"total_acc\"            \n",
      "[13] \"longest_credit_length\" \"verification_status\"  \n"
     ]
    }
   ],
   "source": [
    "# assign target and inputs\n",
    "y <- 'bad_loan'\n",
    "X <- names(frame)[names(frame) != y]\n",
    "print(y)\n",
    "print(X)"
   ]
  },
  {
   "cell_type": "code",
   "execution_count": 15,
   "metadata": {
    "collapsed": false
   },
   "outputs": [],
   "source": [
    "# split into training and test for cross validation\n",
    "split <- h2o.splitFrame(frame, ratios = 0.7)\n",
    "train <- split[[1]]\n",
    "test <- split[[2]]"
   ]
  },
  {
   "cell_type": "code",
   "execution_count": 16,
   "metadata": {
    "collapsed": false
   },
   "outputs": [
    {
     "name": "stdout",
     "output_type": "stream",
     "text": [
      "\r",
      "  |                                                                            \r",
      "  |                                                                      |   0%\r",
      "  |                                                                            \r",
      "  |=====================                                                 |  30%\r",
      "  |                                                                            \r",
      "  |=========================================                             |  59%\r",
      "  |                                                                            \r",
      "  |======================================================================| 100%\n"
     ]
    },
    {
     "data": {
      "text/plain": [
       "Model Details:\n",
       "==============\n",
       "\n",
       "H2OBinomialModel: glm\n",
       "Model ID:  loan_glm \n",
       "GLM Model: summary\n",
       "    family  link                               regularization\n",
       "1 binomial logit Elastic Net (alpha = 0.5, lambda = 5.18E-4 )\n",
       "                                                                lambda_search\n",
       "1 nlambda = 100, lambda.max = 0.1819, lambda.min = 5.18E-4, lambda.1se = -1.0\n",
       "  number_of_predictors_total number_of_active_predictors number_of_iterations\n",
       "1                         83                          28                   76\n",
       "   training_frame\n",
       "1 RTMP_sid_8d21_4\n",
       "\n",
       "Coefficients: glm coefficients\n",
       "          names coefficients standardized_coefficients\n",
       "1     Intercept    -3.028624                 -1.492406\n",
       "2 addr_state.AK     0.000000                  0.000000\n",
       "3 addr_state.AL     0.000000                  0.000000\n",
       "4 addr_state.AR     0.000000                  0.000000\n",
       "5 addr_state.AZ     0.000000                  0.000000\n",
       "\n",
       "---\n",
       "                   names coefficients standardized_coefficients\n",
       "79            annual_inc    -0.000006                 -0.330825\n",
       "80                   dti     0.021759                  0.165411\n",
       "81           delinq_2yrs     0.034020                  0.023706\n",
       "82            revol_util     0.003787                  0.095746\n",
       "83             total_acc    -0.009987                 -0.116852\n",
       "84 longest_credit_length     0.002864                  0.019922\n",
       "\n",
       "H2OBinomialMetrics: glm\n",
       "** Reported on training data. **\n",
       "\n",
       "MSE:  0.1381621\n",
       "RMSE:  0.3717016\n",
       "LogLoss:  0.4386691\n",
       "Mean Per-Class Error:  0.3547757\n",
       "AUC:  0.6999431\n",
       "Gini:  0.3998862\n",
       "R^2:  0.07694948\n",
       "Null Deviance:  109246.6\n",
       "Residual Deviance:  100613.1\n",
       "AIC:  100671.1\n",
       "\n",
       "Confusion Matrix (vertical: actual; across: predicted) for F1-optimal threshold:\n",
       "           0     1    Error           Rate\n",
       "0      63427 30236 0.322817   =30236/93663\n",
       "1       8128 12889 0.386735    =8128/21017\n",
       "Totals 71555 43125 0.334531  =38364/114680\n",
       "\n",
       "Maximum Metrics: Maximum metrics at their respective thresholds\n",
       "                        metric threshold    value idx\n",
       "1                       max f1  0.192556 0.401890 233\n",
       "2                       max f2  0.118180 0.562888 311\n",
       "3                 max f0point5  0.285032 0.365059 157\n",
       "4                 max accuracy  0.533399 0.817161  38\n",
       "5                max precision  0.789455 0.666667   0\n",
       "6                   max recall  0.002965 1.000000 398\n",
       "7              max specificity  0.789455 0.999989   0\n",
       "8             max absolute_mcc  0.214231 0.235447 213\n",
       "9   max min_per_class_accuracy  0.183767 0.643432 242\n",
       "10 max mean_per_class_accuracy  0.175780 0.647109 250\n",
       "\n",
       "Gains/Lift Table: Extract with `h2o.gainsLift(<model>, <data>)` or `h2o.gainsLift(<model>, valid=<T/F>, xval=<T/F>)`\n",
       "H2OBinomialMetrics: glm\n",
       "** Reported on validation data. **\n",
       "\n",
       "MSE:  0.1385507\n",
       "RMSE:  0.3722239\n",
       "LogLoss:  0.4400534\n",
       "Mean Per-Class Error:  0.361286\n",
       "AUC:  0.6939211\n",
       "Gini:  0.3878423\n",
       "R^2:  0.07137525\n",
       "Null Deviance:  46859.36\n",
       "Residual Deviance:  43395.43\n",
       "AIC:  43453.43\n",
       "\n",
       "Confusion Matrix (vertical: actual; across: predicted) for F1-optimal threshold:\n",
       "           0     1    Error          Rate\n",
       "0      29041 11267 0.279523  =11267/40308\n",
       "1       3987  5012 0.443049    =3987/8999\n",
       "Totals 33028 16279 0.309368  =15254/49307\n",
       "\n",
       "Maximum Metrics: Maximum metrics at their respective thresholds\n",
       "                        metric threshold    value idx\n",
       "1                       max f1  0.204642 0.396550 221\n",
       "2                       max f2  0.105552 0.559225 321\n",
       "3                 max f0point5  0.291885 0.354705 153\n",
       "4                 max accuracy  0.539951 0.817937  31\n",
       "5                max precision  0.612278 0.606557  12\n",
       "6                   max recall  0.000624 1.000000 399\n",
       "7              max specificity  0.747353 0.999975   0\n",
       "8             max absolute_mcc  0.204642 0.227871 221\n",
       "9   max min_per_class_accuracy  0.181808 0.641405 244\n",
       "10 max mean_per_class_accuracy  0.171263 0.643392 254\n",
       "\n",
       "Gains/Lift Table: Extract with `h2o.gainsLift(<model>, <data>)` or `h2o.gainsLift(<model>, valid=<T/F>, xval=<T/F>)`\n"
      ]
     },
     "metadata": {},
     "output_type": "display_data"
    }
   ],
   "source": [
    "# elastic net regularized regression\n",
    "#   - binomial family for logistic regression\n",
    "#   - L1 for variable selection\n",
    "#   - L2 for handling multicollinearity\n",
    "#   - IRLS for handling outliers\n",
    "#   - standardization very important for penalized regression variable selection\n",
    "#   - with lamba parameter tuning for variable selection and regularization\n",
    "\n",
    "# train\n",
    "loan_glm <- h2o.glm(x = X, \n",
    "                    y = y,\n",
    "                    training_frame = train,\n",
    "                    validation_frame = test,\n",
    "                    family = \"binomial\",\n",
    "                    model_id = \"loan_glm\",\n",
    "                    solver = \"IRLSM\",\n",
    "                    standardize = TRUE, \n",
    "                    lambda_search = TRUE)\n",
    "\n",
    "# print model\n",
    "loan_glm\n",
    "\n",
    "# view detailed results at http://ip:port/flow/index.html"
   ]
  },
  {
   "cell_type": "code",
   "execution_count": 10,
   "metadata": {
    "collapsed": false
   },
   "outputs": [
    {
     "data": {
      "text/html": [
       "<table>\n",
       "<thead><tr><th></th><th scope=col>coef</th></tr></thead>\n",
       "<tbody>\n",
       "\t<tr><th scope=row>purpose.small_business</th><td> 5.957155e-01</td></tr>\n",
       "\t<tr><th scope=row>addr_state.FL</th><td> 1.772415e-01</td></tr>\n",
       "\t<tr><th scope=row>term.60 months</th><td> 1.436663e-01</td></tr>\n",
       "\t<tr><th scope=row>int_rate</th><td> 1.018190e-01</td></tr>\n",
       "\t<tr><th scope=row>addr_state.NJ</th><td> 9.888196e-02</td></tr>\n",
       "\t<tr><th scope=row>purpose.other</th><td> 9.827134e-02</td></tr>\n",
       "\t<tr><th scope=row>addr_state.NV</th><td> 8.906357e-02</td></tr>\n",
       "\t<tr><th scope=row>home_ownership.RENT</th><td> 8.723267e-02</td></tr>\n",
       "\t<tr><th scope=row>addr_state.MI</th><td> 4.060527e-02</td></tr>\n",
       "\t<tr><th scope=row>addr_state.NY</th><td> 2.920880e-02</td></tr>\n",
       "\t<tr><th scope=row>dti</th><td> 2.175175e-02</td></tr>\n",
       "\t<tr><th scope=row>delinq_2yrs</th><td> 2.045751e-02</td></tr>\n",
       "\t<tr><th scope=row>verification_status.verified</th><td> 1.163304e-02</td></tr>\n",
       "\t<tr><th scope=row>addr_state.TN</th><td> 8.757038e-03</td></tr>\n",
       "\t<tr><th scope=row>revol_util</th><td> 4.111230e-03</td></tr>\n",
       "\t<tr><th scope=row>longest_credit_length</th><td> 1.382352e-03</td></tr>\n",
       "\t<tr><th scope=row>loan_amnt</th><td> 1.293239e-05</td></tr>\n",
       "\t<tr><th scope=row>annual_inc</th><td>-6.430285e-06</td></tr>\n",
       "\t<tr><th scope=row>addr_state.AZ</th><td>-1.280883e-03</td></tr>\n",
       "\t<tr><th scope=row>purpose.wedding</th><td>-6.185808e-03</td></tr>\n",
       "\t<tr><th scope=row>purpose.car</th><td>-8.080714e-03</td></tr>\n",
       "\t<tr><th scope=row>total_acc</th><td>-8.933428e-03</td></tr>\n",
       "\t<tr><th scope=row>verification_status.not verified</th><td>-1.229087e-02</td></tr>\n",
       "\t<tr><th scope=row>purpose.major_purchase</th><td>-1.743293e-02</td></tr>\n",
       "\t<tr><th scope=row>home_ownership.MORTGAGE</th><td>-6.430323e-02</td></tr>\n",
       "\t<tr><th scope=row>purpose.debt_consolidation</th><td>-7.911132e-02</td></tr>\n",
       "\t<tr><th scope=row>addr_state.TX</th><td>-1.111754e-01</td></tr>\n",
       "\t<tr><th scope=row>addr_state.CO</th><td>-1.285302e-01</td></tr>\n",
       "\t<tr><th scope=row>purpose.credit_card</th><td>-1.709504e-01</td></tr>\n",
       "\t<tr><th scope=row>term.36 months</th><td>-1.827310e-01</td></tr>\n",
       "\t<tr><th scope=row>Intercept</th><td>-2.981285e+00</td></tr>\n",
       "</tbody>\n",
       "</table>\n"
      ],
      "text/latex": [
       "\\begin{tabular}{r|l}\n",
       "  & coef\\\\\n",
       "\\hline\n",
       "\tpurpose.small\\_business &  5.957155e-01\\\\\n",
       "\taddr\\_state.FL &  1.772415e-01\\\\\n",
       "\tterm.60 months &  1.436663e-01\\\\\n",
       "\tint\\_rate &  1.018190e-01\\\\\n",
       "\taddr\\_state.NJ &  9.888196e-02\\\\\n",
       "\tpurpose.other &  9.827134e-02\\\\\n",
       "\taddr\\_state.NV &  8.906357e-02\\\\\n",
       "\thome\\_ownership.RENT &  8.723267e-02\\\\\n",
       "\taddr\\_state.MI &  4.060527e-02\\\\\n",
       "\taddr\\_state.NY &  2.920880e-02\\\\\n",
       "\tdti &  2.175175e-02\\\\\n",
       "\tdelinq\\_2yrs &  2.045751e-02\\\\\n",
       "\tverification\\_status.verified &  1.163304e-02\\\\\n",
       "\taddr\\_state.TN &  8.757038e-03\\\\\n",
       "\trevol\\_util &  4.111230e-03\\\\\n",
       "\tlongest\\_credit\\_length &  1.382352e-03\\\\\n",
       "\tloan\\_amnt &  1.293239e-05\\\\\n",
       "\tannual\\_inc & -6.430285e-06\\\\\n",
       "\taddr\\_state.AZ & -1.280883e-03\\\\\n",
       "\tpurpose.wedding & -6.185808e-03\\\\\n",
       "\tpurpose.car & -8.080714e-03\\\\\n",
       "\ttotal\\_acc & -8.933428e-03\\\\\n",
       "\tverification\\_status.not verified & -1.229087e-02\\\\\n",
       "\tpurpose.major\\_purchase & -1.743293e-02\\\\\n",
       "\thome\\_ownership.MORTGAGE & -6.430323e-02\\\\\n",
       "\tpurpose.debt\\_consolidation & -7.911132e-02\\\\\n",
       "\taddr\\_state.TX & -1.111754e-01\\\\\n",
       "\taddr\\_state.CO & -1.285302e-01\\\\\n",
       "\tpurpose.credit\\_card & -1.709504e-01\\\\\n",
       "\tterm.36 months & -1.827310e-01\\\\\n",
       "\tIntercept & -2.981285e+00\\\\\n",
       "\\end{tabular}\n"
      ],
      "text/markdown": [
       "\n",
       "| <!--/--> | coef | \n",
       "|---|---|---|---|---|---|---|---|---|---|---|---|---|---|---|---|---|---|---|---|---|---|---|---|---|---|---|---|---|---|---|\n",
       "| purpose.small_business |  5.957155e-01 | \n",
       "| addr_state.FL |  1.772415e-01 | \n",
       "| term.60 months |  1.436663e-01 | \n",
       "| int_rate |  1.018190e-01 | \n",
       "| addr_state.NJ |  9.888196e-02 | \n",
       "| purpose.other |  9.827134e-02 | \n",
       "| addr_state.NV |  8.906357e-02 | \n",
       "| home_ownership.RENT |  8.723267e-02 | \n",
       "| addr_state.MI |  4.060527e-02 | \n",
       "| addr_state.NY |  2.920880e-02 | \n",
       "| dti |  2.175175e-02 | \n",
       "| delinq_2yrs |  2.045751e-02 | \n",
       "| verification_status.verified |  1.163304e-02 | \n",
       "| addr_state.TN |  8.757038e-03 | \n",
       "| revol_util |  4.111230e-03 | \n",
       "| longest_credit_length |  1.382352e-03 | \n",
       "| loan_amnt |  1.293239e-05 | \n",
       "| annual_inc | -6.430285e-06 | \n",
       "| addr_state.AZ | -1.280883e-03 | \n",
       "| purpose.wedding | -6.185808e-03 | \n",
       "| purpose.car | -8.080714e-03 | \n",
       "| total_acc | -8.933428e-03 | \n",
       "| verification_status.not verified | -1.229087e-02 | \n",
       "| purpose.major_purchase | -1.743293e-02 | \n",
       "| home_ownership.MORTGAGE | -6.430323e-02 | \n",
       "| purpose.debt_consolidation | -7.911132e-02 | \n",
       "| addr_state.TX | -1.111754e-01 | \n",
       "| addr_state.CO | -1.285302e-01 | \n",
       "| purpose.credit_card | -1.709504e-01 | \n",
       "| term.36 months | -1.827310e-01 | \n",
       "| Intercept | -2.981285e+00 | \n",
       "\n",
       "\n"
      ],
      "text/plain": [
       "                                 coef         \n",
       "purpose.small_business            5.957155e-01\n",
       "addr_state.FL                     1.772415e-01\n",
       "term.60 months                    1.436663e-01\n",
       "int_rate                          1.018190e-01\n",
       "addr_state.NJ                     9.888196e-02\n",
       "purpose.other                     9.827134e-02\n",
       "addr_state.NV                     8.906357e-02\n",
       "home_ownership.RENT               8.723267e-02\n",
       "addr_state.MI                     4.060527e-02\n",
       "addr_state.NY                     2.920880e-02\n",
       "dti                               2.175175e-02\n",
       "delinq_2yrs                       2.045751e-02\n",
       "verification_status.verified      1.163304e-02\n",
       "addr_state.TN                     8.757038e-03\n",
       "revol_util                        4.111230e-03\n",
       "longest_credit_length             1.382352e-03\n",
       "loan_amnt                         1.293239e-05\n",
       "annual_inc                       -6.430285e-06\n",
       "addr_state.AZ                    -1.280883e-03\n",
       "purpose.wedding                  -6.185808e-03\n",
       "purpose.car                      -8.080714e-03\n",
       "total_acc                        -8.933428e-03\n",
       "verification_status.not verified -1.229087e-02\n",
       "purpose.major_purchase           -1.743293e-02\n",
       "home_ownership.MORTGAGE          -6.430323e-02\n",
       "purpose.debt_consolidation       -7.911132e-02\n",
       "addr_state.TX                    -1.111754e-01\n",
       "addr_state.CO                    -1.285302e-01\n",
       "purpose.credit_card              -1.709504e-01\n",
       "term.36 months                   -1.827310e-01\n",
       "Intercept                        -2.981285e+00"
      ]
     },
     "metadata": {},
     "output_type": "display_data"
    }
   ],
   "source": [
    "# print sorted, non-zero model parameters\n",
    "coef <- as.data.frame(h2o.coef(loan_glm))\n",
    "names(coef) <- \"coef\"\n",
    "coef <- coef[order(-coef$coef), , drop = FALSE]\n",
    "coef <- coef[coef$coef != 0, , drop = FALSE] \n",
    "coef"
   ]
  }
 ],
 "metadata": {
  "anaconda-cloud": {},
  "kernelspec": {
   "display_name": "R",
   "language": "R",
   "name": "ir"
  },
  "language_info": {
   "codemirror_mode": "r",
   "file_extension": ".r",
   "mimetype": "text/x-r-source",
   "name": "R",
   "pygments_lexer": "r",
   "version": "3.3.2"
  }
 },
 "nbformat": 4,
 "nbformat_minor": 2
}
