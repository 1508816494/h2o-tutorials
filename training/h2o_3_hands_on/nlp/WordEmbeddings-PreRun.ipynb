{
 "cells": [
  {
   "cell_type": "markdown",
   "metadata": {},
   "source": [
    "## Predicting Good Amazon Reviews\n",
    "\n",
    "For this demo, we will be using the [Amazon Fine Food Reviews Data](https://www.kaggle.com/snap/amazon-fine-food-reviews).  The Amazon Fine Food Reviews dataset consists of 568,454 food reviews Amazon users left up to October 2012.\n",
    "\n",
    "This script is based off of the [Craigslist Word2Vec Demo](https://github.com/h2oai/h2o-3/blob/master/h2o-py/demos/word2vec_craigslistjobtitles.ipynb).\n",
    "\n",
    "Our Machine Learning Workflow is: \n",
    "\n",
    "1. Import data into H2O\n",
    "2. Exploratory Analysis\n",
    "3. Tokenize Text\n",
    "4. Train Word2Vec Model\n",
    "5. Analyze Word Embeddings\n",
    "6. Train Positive Review Model with Original Data\n",
    "7. Train Positive Review Model with Word Embeddings\n",
    "8. Run AutoML\n",
    "9. View AutoML in Flow\n",
    "10. Shutdown H2O cluster\n",
    "\n",
    "# Step 1 (of 10).  Import data into H2O\n",
    "\n",
    "We will begin by importing our review data into our H2O cluster."
   ]
  },
  {
   "cell_type": "code",
   "execution_count": 1,
   "metadata": {
    "collapsed": true
   },
   "outputs": [],
   "source": [
    "import h2o"
   ]
  },
  {
   "cell_type": "code",
   "execution_count": 2,
   "metadata": {
    "collapsed": false
   },
   "outputs": [
    {
     "name": "stdout",
     "output_type": "stream",
     "text": [
      "Checking whether there is an H2O instance running at http://localhost:54321. connected.\n"
     ]
    },
    {
     "data": {
      "text/html": [
       "<div style=\"overflow:auto\"><table style=\"width:50%\"><tr><td>H2O cluster uptime:</td>\n",
       "<td>59 mins 04 secs</td></tr>\n",
       "<tr><td>H2O cluster timezone:</td>\n",
       "<td>America/Los_Angeles</td></tr>\n",
       "<tr><td>H2O data parsing timezone:</td>\n",
       "<td>UTC</td></tr>\n",
       "<tr><td>H2O cluster version:</td>\n",
       "<td>3.20.0.2</td></tr>\n",
       "<tr><td>H2O cluster version age:</td>\n",
       "<td>1 month and 3 days </td></tr>\n",
       "<tr><td>H2O cluster name:</td>\n",
       "<td>H2O_started_from_R_megankurka_nes986</td></tr>\n",
       "<tr><td>H2O cluster total nodes:</td>\n",
       "<td>1</td></tr>\n",
       "<tr><td>H2O cluster free memory:</td>\n",
       "<td>3.394 Gb</td></tr>\n",
       "<tr><td>H2O cluster total cores:</td>\n",
       "<td>8</td></tr>\n",
       "<tr><td>H2O cluster allowed cores:</td>\n",
       "<td>8</td></tr>\n",
       "<tr><td>H2O cluster status:</td>\n",
       "<td>locked, healthy</td></tr>\n",
       "<tr><td>H2O connection url:</td>\n",
       "<td>http://localhost:54321</td></tr>\n",
       "<tr><td>H2O connection proxy:</td>\n",
       "<td>None</td></tr>\n",
       "<tr><td>H2O internal security:</td>\n",
       "<td>False</td></tr>\n",
       "<tr><td>H2O API Extensions:</td>\n",
       "<td>XGBoost, Algos, AutoML, Core V3, Core V4</td></tr>\n",
       "<tr><td>Python version:</td>\n",
       "<td>3.6.0 final</td></tr></table></div>"
      ],
      "text/plain": [
       "--------------------------  ----------------------------------------\n",
       "H2O cluster uptime:         59 mins 04 secs\n",
       "H2O cluster timezone:       America/Los_Angeles\n",
       "H2O data parsing timezone:  UTC\n",
       "H2O cluster version:        3.20.0.2\n",
       "H2O cluster version age:    1 month and 3 days\n",
       "H2O cluster name:           H2O_started_from_R_megankurka_nes986\n",
       "H2O cluster total nodes:    1\n",
       "H2O cluster free memory:    3.394 Gb\n",
       "H2O cluster total cores:    8\n",
       "H2O cluster allowed cores:  8\n",
       "H2O cluster status:         locked, healthy\n",
       "H2O connection url:         http://localhost:54321\n",
       "H2O connection proxy:\n",
       "H2O internal security:      False\n",
       "H2O API Extensions:         XGBoost, Algos, AutoML, Core V3, Core V4\n",
       "Python version:             3.6.0 final\n",
       "--------------------------  ----------------------------------------"
      ]
     },
     "metadata": {},
     "output_type": "display_data"
    }
   ],
   "source": [
    "h2o.init(max_mem_size=\"4G\")"
   ]
  },
  {
   "cell_type": "code",
   "execution_count": 3,
   "metadata": {
    "collapsed": false
   },
   "outputs": [
    {
     "name": "stdout",
     "output_type": "stream",
     "text": [
      "Parse progress: |█████████████████████████████████████████████████████████| 100%\n"
     ]
    }
   ],
   "source": [
    "# Load data into H2O\n",
    "\n",
    "# https://s3-us-west-2.amazonaws.com/h2o-tutorials/data/topics/nlp/amazon_reviews/AmazonReviews.csv\n",
    "#reviews = h2o.import_file(\"../../data/topics/nlp/amazon_reviews/AmazonReviews.csv\")\n",
    "reviews = h2o.import_file(\"https://s3-us-west-2.amazonaws.com/h2o-tutorials/data/topics/nlp/amazon_reviews/AmazonReviews.csv\")"
   ]
  },
  {
   "cell_type": "markdown",
   "metadata": {},
   "source": [
    "# Step 2 (of 10).  Exploratory Analysis\n",
    "\n",
    "We will start our analysis by exploring the dataset and creating our target column.  In this case, we would like to predict whether or not a reviewer liked the product."
   ]
  },
  {
   "cell_type": "code",
   "execution_count": 4,
   "metadata": {
    "collapsed": false
   },
   "outputs": [
    {
     "name": "stdout",
     "output_type": "stream",
     "text": [
      "[100000, 10]\n"
     ]
    }
   ],
   "source": [
    "print(reviews.dim)"
   ]
  },
  {
   "cell_type": "code",
   "execution_count": 5,
   "metadata": {
    "collapsed": false
   },
   "outputs": [
    {
     "data": {
      "text/html": [
       "<table>\n",
       "<thead>\n",
       "<tr><th>ProductId  </th><th>UserId        </th><th>Summary                               </th><th style=\"text-align: right;\">  Score</th><th style=\"text-align: right;\">  HelpfulnessDenominator</th><th style=\"text-align: right;\">    Id</th><th>ProfileName                                      </th><th style=\"text-align: right;\">  HelpfulnessNumerator</th><th style=\"text-align: right;\">       Time</th><th>Text                                                                                                                                                                                                                                                                                                                                                                                                                                                                                                                                                                                                                                                                                                                                                                                                                                                                                                                                                                                                                                                                                                                                                                                                                                                                                                                                                                                                                                                                                                                                                                                                                                                                                                                                                                                                                                                                                                                                                                                                                                                                                                                                                                                                                                                                                                                                                                                                                                                                                                                                                                                                                                                                                                                                                                                                                                                                                                                                                                                                                                                                                                                                                                                                                                                                </th></tr>\n",
       "</thead>\n",
       "<tbody>\n",
       "<tr><td>B00141QYSQ </td><td>A1YS02UZZGRDCT</td><td>Do Not Buy                            </td><td style=\"text-align: right;\">      1</td><td style=\"text-align: right;\">                       2</td><td style=\"text-align: right;\"> 41471</td><td>Evan Eberhardt                                   </td><td style=\"text-align: right;\">                     2</td><td style=\"text-align: right;\">1.34836e+09</td><td>These are made in China (do not buy ANY pet food from China).  Dogswell has been using propylene glycol to soften their treats (what are they thinkng?).  Do not purchase or support this company in any way until they clean up their act.  And for whatever reason Amazon doesn't allow returns of this item, so I had to toss mine out.  Bad business all around on this one.                                                                                                                                                                                                                                                                                                                                                                                                                                                                                                                                                                                                                                                                                                                                                                                                                                                                                                                                                                                                                                                                                                                                                                                                                                                                                                                                                                                                                                                                                                                                                                                                                                                                                                                                                                                                                                                                                                                                                                                                                                                                                                                                                                                                                                                                                                                                                                                                                                                                                                                                                                                                                                                                                                                                                                                                                                                                                    </td></tr>\n",
       "<tr><td>B0089SPEO2 </td><td>A3JOYNYL458QHP</td><td>Less lemon and less zing              </td><td style=\"text-align: right;\">      3</td><td style=\"text-align: right;\">                       0</td><td style=\"text-align: right;\"> 28582</td><td>coleridge                                        </td><td style=\"text-align: right;\">                     0</td><td style=\"text-align: right;\">1.32391e+09</td><td>Everything is ok, except it just isn't as good as it is in the bags.  Just considerably more bland -- less lemon and less zing.  Boring.                                                                                                                                                                                                                                                                                                                                                                                                                                                                                                                                                                                                                                                                                                                                                                                                                                                                                                                                                                                                                                                                                                                                                                                                                                                                                                                                                                                                                                                                                                                                                                                                                                                                                                                                                                                                                                                                                                                                                                                                                                                                                                                                                                                                                                                                                                                                                                                                                                                                                                                                                                                                                                                                                                                                                                                                                                                                                                                                                                                                                                                                                                                            </td></tr>\n",
       "<tr><td>B001PMCDK2 </td><td>A14TTMM0Z03Y2W</td><td>my cat goes crazy for these!          </td><td style=\"text-align: right;\">      5</td><td style=\"text-align: right;\">                       0</td><td style=\"text-align: right;\">389965</td><td>Lindsay S. Bradford                              </td><td style=\"text-align: right;\">                     0</td><td style=\"text-align: right;\">1.3106e+09 </td><td>Best cat treat ever. There isn't anything comparable to the love my cat has for these treats, he snubs away any other kind now.<br />I know he likes to manipulate me with his cattiness but these treats are my way of manipulating him to come sit on my lap and have some chill time. :)                                                                                                                                                                                                                                                                                                                                                                                                                                                                                                                                                                                                                                                                                                                                                                                                                                                                                                                                                                                                                                                                                                                                                                                                                                                                                                                                                                                                                                                                                                                                                                                                                                                                                                                                                                                                                                                                                                                                                                                                                                                                                                                                                                                                                                                                                                                                                                                                                                                                                                                                                                                                                                                                                                                                                                                                                                                                                                                                                                         </td></tr>\n",
       "<tr><td>B002Q8JOSI </td><td>A17UQD2RSSQH5X</td><td>My dogs tell me these treats are YUMMY</td><td style=\"text-align: right;\">      5</td><td style=\"text-align: right;\">                       1</td><td style=\"text-align: right;\">212536</td><td>in the dark                                      </td><td style=\"text-align: right;\">                     1</td><td style=\"text-align: right;\">1.31613e+09</td><td>My two Corgis were thoroughly spoiled by my late husband (I spent a year and a half dieting them down a combined total of 25 pounds!)<br /><br />They are accustomed to the finest of fare, and they absolutely love the Wellness brand of treats.                                                                                                                                                                                                                                                                                                                                                                                                                                                                                                                                                                                                                                                                                                                                                                                                                                                                                                                                                                                                                                                                                                                                                                                                                                                                                                                                                                                                                                                                                                                                                                                                                                                                                                                                                                                                                                                                                                                                                                                                                                                                                                                                                                                                                                                                                                                                                                                                                                                                                                                                                                                                                                                                                                                                                                                                                                                                                                                                                                                                                  </td></tr>\n",
       "<tr><td>B00176G870 </td><td>A2F2MZW8EOGH5J</td><td>Yummy to the tummy                    </td><td style=\"text-align: right;\">      5</td><td style=\"text-align: right;\">                       0</td><td style=\"text-align: right;\">115971</td><td>daemoncycler \"\"When you arrive at a fork in th...</td><td style=\"text-align: right;\">                     0</td><td style=\"text-align: right;\">1.33479e+09</td><td>We used to have drive down to the specialty pet food store for this product.  So glad we discovered Amazon.  As far as I can tell it is no more expensive & in some cases less - Prime membership is awesome.  Loving Pets treats are some of the best according to my dog.  They do not develop that nasty smell like some dog treats do.                                                                                                                                                                                                                                                                                                                                                                                                                                                                                                                                                                                                                                                                                                                                                                                                                                                                                                                                                                                                                                                                                                                                                                                                                                                                                                                                                                                                                                                                                                                                                                                                                                                                                                                                                                                                                                                                                                                                                                                                                                                                                                                                                                                                                                                                                                                                                                                                                                                                                                                                                                                                                                                                                                                                                                                                                                                                                                                          </td></tr>\n",
       "<tr><td>B001CHFUGY </td><td>A2M8VROSDPU4JT</td><td>Very good coffee                      </td><td style=\"text-align: right;\">      5</td><td style=\"text-align: right;\">                       1</td><td style=\"text-align: right;\">434484</td><td>Officefan \"\"Officefankt\"\"                        </td><td style=\"text-align: right;\">                     1</td><td style=\"text-align: right;\">1.27725e+09</td><td>I really liked this coffee, it was just as good as everyone claimed it was.  Strong, bold and flavorful!  I would recommend!                                                                                                                                                                                                                                                                                                                                                                                                                                                                                                                                                                                                                                                                                                                                                                                                                                                                                                                                                                                                                                                                                                                                                                                                                                                                                                                                                                                                                                                                                                                                                                                                                                                                                                                                                                                                                                                                                                                                                                                                                                                                                                                                                                                                                                                                                                                                                                                                                                                                                                                                                                                                                                                                                                                                                                                                                                                                                                                                                                                                                                                                                                                                        </td></tr>\n",
       "<tr><td>B0041CIR62 </td><td>A16I6WJUEBJ1C3</td><td>okay but not as healthy as it appears </td><td style=\"text-align: right;\">      2</td><td style=\"text-align: right;\">                       1</td><td style=\"text-align: right;\">138997</td><td>doctorsirena \"\"doctorsirena\"\"                    </td><td style=\"text-align: right;\">                     1</td><td style=\"text-align: right;\">1.34369e+09</td><td>I am always looking for healthier, whole grain versions of foods I enjoy.  Unfortunately, these Peacock brand noodles are yet another food masquerading as healthy.  The product title in big letters on the front says \"\"Brown Rice Vermicelli\"\", making the consumer think \"\"this is made with brown rice, so it should be a healthy choice\"\".  But the first indication that it is not is when looking at the fiber content on the nutrition facts - only 0.6g per 2oz serving.  Then onto the ingredients list to see why so low... contains brown rice, sago starch and water.  The sago starch comes from palms and must not have much (if any) fiber.<br /><br />The Annie Chun's Maifun Brown Rice Noodles (sold on Amazon and in my local healthy grocer) has become one of my staples and is my frame of reference when comparing to the Peacock brand.  The Annie Chun's product is made with 100% whole grain, with ingredients brown rice flour and water.  Per 2oz serving, it has 4g fiber and pretty much the same calories and other nutrients as the Peacock brand.<br /><br />If you do try this Peacock brand noodles and have not used rice noodles before, you will need to seek guidance elsewhere on preparation.  As others have pointed out, the Peacock package gives almost no directions on how to prepare the product, aside from a brief mention in the recipes (in the header text it does say that they are \"\"easy-to-cook\"\" but does not say how).  It also contains a very strange recipe for rice noodles: Aglio Olio style - this is an Italian recipe for noodles with olive oil/garlic/sprinkled with grated cheese that I think would not be very tasty.  The second recipe appears to be for a soup with veggie strips.  Neither recipe gives amounts or much direction.  In comparison, the Annie Chun's package gives clear, specific directions on rice noodle preparation and two recipes.<br /><br />I use rice noodles = maifun = rice sticks = sometimes called vermicelli for making the Vietnamese salad \"\"bun tofu\"\", to serve with stir-fried veggies or in lettuce rolls.  They can also be used in spring rolls/egg rolls.  When cooking with thin rice noodles, be careful not to oversoak/overcook/overmix or they tend to disintegrate.  Asian rice noodle vermicelli (maifun) are not the same as Italian vermicelli and are not readily interchangeable.  If making an Italian recipe, the best results would be expected from Italian pasta and not maifun.<br /><br />A few final notes...  Both Peacock and Annie Chun's brown rice noodles are gluten free.  The Peacock is made in Singapore and the Annie Chun's in Thailand.  The Peacock noodles do taste fine (kind of bland), but so do the Annie Chun's.  At this time, they are both approximately the same price.  Peacock come in an plastic bag with some noodle crushage upon shipping; Annie Chun's are perfect upon removal from their cellophane bag in a box.  Overall, I highly recommend the Annie Chun's Maifun as a healthier option over the Peacock brand.  On a related note, the Annie Chun's soba and brown rice pad thai noodles are also excellent.<br /><br />Rating for this product: 2.5 stars rounded down to 2 stars.</td></tr>\n",
       "<tr><td>B001R3BQFW </td><td>AM50E42AFUVNL </td><td>Taste great.                          </td><td style=\"text-align: right;\">      5</td><td style=\"text-align: right;\">                       0</td><td style=\"text-align: right;\">126555</td><td>T. Higley \"\"Tina\"\"                               </td><td style=\"text-align: right;\">                     0</td><td style=\"text-align: right;\">1.32356e+09</td><td>I have tried many different drink mix, this is the best tasting by far. It does not have the after taste of the sweetener and I really like it, it is pretty strong, so I use a big water bottle (20 oz) for one tube, it still a little stronger than I like, but it is just my taste.                                                                                                                                                                                                                                                                                                                                                                                                                                                                                                                                                                                                                                                                                                                                                                                                                                                                                                                                                                                                                                                                                                                                                                                                                                                                                                                                                                                                                                                                                                                                                                                                                                                                                                                                                                                                                                                                                                                                                                                                                                                                                                                                                                                                                                                                                                                                                                                                                                                                                                                                                                                                                                                                                                                                                                                                                                                                                                                                                                             </td></tr>\n",
       "<tr><td>B005HGAV8I </td><td>A2I5KDNOESGJ1H</td><td>variety galore                        </td><td style=\"text-align: right;\">      5</td><td style=\"text-align: right;\">                       1</td><td style=\"text-align: right;\">438837</td><td>TJ                                               </td><td style=\"text-align: right;\">                     1</td><td style=\"text-align: right;\">1.33402e+09</td><td>This is my favorite item to order for my Keurig. There are so many flavors, my finicky palate never gets bored!  The only downside is there are probably 5-6 decaf varieties.  I don't drink decaf (I REQUIRE copious amounts of caffeine), so they sit on the shelf...                                                                                                                                                                                                                                                                                                                                                                                                                                                                                                                                                                                                                                                                                                                                                                                                                                                                                                                                                                                                                                                                                                                                                                                                                                                                                                                                                                                                                                                                                                                                                                                                                                                                                                                                                                                                                                                                                                                                                                                                                                                                                                                                                                                                                                                                                                                                                                                                                                                                                                                                                                                                                                                                                                                                                                                                                                                                                                                                                                                             </td></tr>\n",
       "<tr><td>B000GFYRHQ </td><td>A3A7YUR6FS6ZCI</td><td>Bigelow Earl Grey Green Tea           </td><td style=\"text-align: right;\">      5</td><td style=\"text-align: right;\">                       0</td><td style=\"text-align: right;\">245379</td><td>Tea Lover                                        </td><td style=\"text-align: right;\">                     0</td><td style=\"text-align: right;\">1.17841e+09</td><td>Tastes like Earl Grey, but it's green tea so it's healthier.                                                                                                                                                                                                                                                                                                                                                                                                                                                                                                                                                                                                                                                                                                                                                                                                                                                                                                                                                                                                                                                                                                                                                                                                                                                                                                                                                                                                                                                                                                                                                                                                                                                                                                                                                                                                                                                                                                                                                                                                                                                                                                                                                                                                                                                                                                                                                                                                                                                                                                                                                                                                                                                                                                                                                                                                                                                                                                                                                                                                                                                                                                                                                                                                        </td></tr>\n",
       "</tbody>\n",
       "</table>"
      ]
     },
     "metadata": {},
     "output_type": "display_data"
    },
    {
     "data": {
      "text/plain": []
     },
     "execution_count": 5,
     "metadata": {},
     "output_type": "execute_result"
    }
   ],
   "source": [
    "reviews.head()"
   ]
  },
  {
   "cell_type": "code",
   "execution_count": 6,
   "metadata": {
    "collapsed": false
   },
   "outputs": [
    {
     "data": {
      "image/png": "[encoded data removed]",
      "text/plain": [
       "<matplotlib.figure.Figure at 0x108f4add8>"
      ]
     },
     "metadata": {},
     "output_type": "display_data"
    }
   ],
   "source": [
    "%matplotlib inline\n",
    "reviews[\"Score\"].hist()"
   ]
  },
  {
   "cell_type": "code",
   "execution_count": 7,
   "metadata": {
    "collapsed": false
   },
   "outputs": [
    {
     "data": {
      "text/html": [
       "<table>\n",
       "<thead>\n",
       "<tr><th>Summary      </th><th style=\"text-align: right;\">  Count</th></tr>\n",
       "</thead>\n",
       "<tbody>\n",
       "<tr><td>Delicious    </td><td style=\"text-align: right;\">    426</td></tr>\n",
       "<tr><td>Delicious!   </td><td style=\"text-align: right;\">    417</td></tr>\n",
       "<tr><td>Yummy!       </td><td style=\"text-align: right;\">    284</td></tr>\n",
       "<tr><td>Yummy        </td><td style=\"text-align: right;\">    222</td></tr>\n",
       "<tr><td>Great product</td><td style=\"text-align: right;\">    204</td></tr>\n",
       "<tr><td>Yum!         </td><td style=\"text-align: right;\">    193</td></tr>\n",
       "<tr><td>Excellent    </td><td style=\"text-align: right;\">    183</td></tr>\n",
       "<tr><td>Great Product</td><td style=\"text-align: right;\">    155</td></tr>\n",
       "<tr><td>Love it!     </td><td style=\"text-align: right;\">    154</td></tr>\n",
       "<tr><td>Great        </td><td style=\"text-align: right;\">    138</td></tr>\n",
       "</tbody>\n",
       "</table>"
      ]
     },
     "metadata": {},
     "output_type": "display_data"
    },
    {
     "data": {
      "text/plain": []
     },
     "execution_count": 7,
     "metadata": {},
     "output_type": "execute_result"
    }
   ],
   "source": [
    "summary_freq = reviews[\"Summary\"].table()\n",
    "summary_freq = summary_freq.sort(\"Count\", ascending = [False])\n",
    "summary_freq.head()"
   ]
  },
  {
   "cell_type": "code",
   "execution_count": 8,
   "metadata": {
    "collapsed": true
   },
   "outputs": [],
   "source": [
    "#' Add Target Column: \"PositiveReview\"\n",
    "reviews[\"PositiveReview\"] = (reviews[\"Score\"] >= 4).ifelse(\"1\", \"0\")"
   ]
  },
  {
   "cell_type": "code",
   "execution_count": 9,
   "metadata": {
    "collapsed": false
   },
   "outputs": [
    {
     "data": {
      "text/html": [
       "<table>\n",
       "<thead>\n",
       "<tr><th style=\"text-align: right;\">  PositiveReview</th><th style=\"text-align: right;\">  Count</th></tr>\n",
       "</thead>\n",
       "<tbody>\n",
       "<tr><td style=\"text-align: right;\">               0</td><td style=\"text-align: right;\">  21791</td></tr>\n",
       "<tr><td style=\"text-align: right;\">               1</td><td style=\"text-align: right;\">  78209</td></tr>\n",
       "</tbody>\n",
       "</table>"
      ]
     },
     "metadata": {},
     "output_type": "display_data"
    },
    {
     "data": {
      "text/plain": []
     },
     "execution_count": 9,
     "metadata": {},
     "output_type": "execute_result"
    }
   ],
   "source": [
    "reviews[\"PositiveReview\"].table()"
   ]
  },
  {
   "cell_type": "markdown",
   "metadata": {},
   "source": [
    "# Step 3 (of 10).  Tokenize Words\n",
    "\n",
    "\n",
    "We will tokenize the words in the review column. We will do this by creating a function called `tokenize`.  This will split the reviews into words and remove any stop words, small words, or words with numbers in them."
   ]
  },
  {
   "cell_type": "code",
   "execution_count": 10,
   "metadata": {
    "collapsed": false
   },
   "outputs": [
    {
     "data": {
      "text/plain": [
       "['all',\n",
       " 'just',\n",
       " 'being',\n",
       " 'over',\n",
       " 'both',\n",
       " 'through',\n",
       " 'yourselves',\n",
       " 'its',\n",
       " 'before',\n",
       " 'o',\n",
       " 'hadn',\n",
       " 'herself',\n",
       " 'll',\n",
       " 'had',\n",
       " 'should',\n",
       " 'to',\n",
       " 'only',\n",
       " 'won',\n",
       " 'under',\n",
       " 'ours',\n",
       " 'has',\n",
       " 'do',\n",
       " 'them',\n",
       " 'his',\n",
       " 'very',\n",
       " 'they',\n",
       " 'not',\n",
       " 'during',\n",
       " 'now',\n",
       " 'him',\n",
       " 'nor',\n",
       " 'd',\n",
       " 'did',\n",
       " 'didn',\n",
       " 'this',\n",
       " 'she',\n",
       " 'each',\n",
       " 'further',\n",
       " 'where',\n",
       " 'few',\n",
       " 'because',\n",
       " 'doing',\n",
       " 'some',\n",
       " 'hasn',\n",
       " 'are',\n",
       " 'our',\n",
       " 'ourselves',\n",
       " 'out',\n",
       " 'what',\n",
       " 'for',\n",
       " 'while',\n",
       " 're',\n",
       " 'does',\n",
       " 'above',\n",
       " 'between',\n",
       " 'mustn',\n",
       " 't',\n",
       " 'be',\n",
       " 'we',\n",
       " 'who',\n",
       " 'were',\n",
       " 'here',\n",
       " 'shouldn',\n",
       " 'hers',\n",
       " 'by',\n",
       " 'on',\n",
       " 'about',\n",
       " 'couldn',\n",
       " 'of',\n",
       " 'against',\n",
       " 's',\n",
       " 'isn',\n",
       " 'or',\n",
       " 'own',\n",
       " 'into',\n",
       " 'yourself',\n",
       " 'down',\n",
       " 'mightn',\n",
       " 'wasn',\n",
       " 'your',\n",
       " 'from',\n",
       " 'her',\n",
       " 'their',\n",
       " 'aren',\n",
       " 'there',\n",
       " 'been',\n",
       " 'whom',\n",
       " 'too',\n",
       " 'wouldn',\n",
       " 'themselves',\n",
       " 'weren',\n",
       " 'was',\n",
       " 'until',\n",
       " 'more',\n",
       " 'himself',\n",
       " 'that',\n",
       " 'but',\n",
       " 'don',\n",
       " 'with',\n",
       " 'than',\n",
       " 'those',\n",
       " 'he',\n",
       " 'me',\n",
       " 'myself',\n",
       " 'ma',\n",
       " 'these',\n",
       " 'up',\n",
       " 'will',\n",
       " 'below',\n",
       " 'ain',\n",
       " 'can',\n",
       " 'theirs',\n",
       " 'my',\n",
       " 'and',\n",
       " 've',\n",
       " 'then',\n",
       " 'is',\n",
       " 'am',\n",
       " 'it',\n",
       " 'doesn',\n",
       " 'an',\n",
       " 'as',\n",
       " 'itself',\n",
       " 'at',\n",
       " 'have',\n",
       " 'in',\n",
       " 'any',\n",
       " 'if',\n",
       " 'again',\n",
       " 'no',\n",
       " 'when',\n",
       " 'same',\n",
       " 'how',\n",
       " 'other',\n",
       " 'which',\n",
       " 'you',\n",
       " 'shan',\n",
       " 'needn',\n",
       " 'haven',\n",
       " 'after',\n",
       " 'most',\n",
       " 'such',\n",
       " 'why',\n",
       " 'a',\n",
       " 'off',\n",
       " 'i',\n",
       " 'm',\n",
       " 'yours',\n",
       " 'so',\n",
       " 'y',\n",
       " 'the',\n",
       " 'having',\n",
       " 'once']"
      ]
     },
     "execution_count": 10,
     "metadata": {},
     "output_type": "execute_result"
    }
   ],
   "source": [
    "# Set Stop Words\n",
    "# The STOP WORDS we are importing are from the nltk package\n",
    "import pandas as pd\n",
    "\n",
    "# https://s3-us-west-2.amazonaws.com/h2o-tutorials/data/topics/nlp/amazon_reviews/stopwords.csv\n",
    "#STOP_WORDS = pd.read_csv(\"../../data/topics/nlp/amazon_reviews/stopwords.csv\", header=0)\n",
    "STOP_WORDS = pd.read_csv(\"https://s3-us-west-2.amazonaws.com/h2o-tutorials/data/topics/nlp/amazon_reviews/stopwords.csv\", header = 0)\n",
    "STOP_WORDS = list(STOP_WORDS['STOP_WORD'])\n",
    "\n",
    "STOP_WORDS"
   ]
  },
  {
   "cell_type": "code",
   "execution_count": 11,
   "metadata": {
    "collapsed": true
   },
   "outputs": [],
   "source": [
    "def tokenize(sentences, stop_word = STOP_WORDS):\n",
    "    tokenized = sentences.tokenize(\"\\\\W+\")\n",
    "    tokenized_lower = tokenized.tolower()\n",
    "    tokenized_filtered = tokenized_lower[(tokenized_lower.nchar() >= 2) | (tokenized_lower.isna()),:]\n",
    "    tokenized_words = tokenized_filtered[tokenized_filtered.grep(\"[0-9]\",invert=True,output_logical=True),:]\n",
    "    tokenized_words = tokenized_words[(tokenized_words.isna()) | (~ tokenized_words.isin(STOP_WORDS)),:]\n",
    "    return tokenized_words"
   ]
  },
  {
   "cell_type": "code",
   "execution_count": 12,
   "metadata": {
    "collapsed": true
   },
   "outputs": [],
   "source": [
    "# Break reviews into sequence of words\n",
    "words = tokenize(reviews[\"Text\"])"
   ]
  },
  {
   "cell_type": "code",
   "execution_count": 13,
   "metadata": {
    "collapsed": false
   },
   "outputs": [
    {
     "data": {
      "text/html": [
       "<table>\n",
       "<thead>\n",
       "<tr><th>C1       </th></tr>\n",
       "</thead>\n",
       "<tbody>\n",
       "<tr><td>made     </td></tr>\n",
       "<tr><td>china    </td></tr>\n",
       "<tr><td>buy      </td></tr>\n",
       "<tr><td>pet      </td></tr>\n",
       "<tr><td>food     </td></tr>\n",
       "<tr><td>china    </td></tr>\n",
       "<tr><td>dogswell </td></tr>\n",
       "<tr><td>using    </td></tr>\n",
       "<tr><td>propylene</td></tr>\n",
       "<tr><td>glycol   </td></tr>\n",
       "</tbody>\n",
       "</table>"
      ]
     },
     "metadata": {},
     "output_type": "display_data"
    },
    {
     "data": {
      "text/plain": []
     },
     "execution_count": 13,
     "metadata": {},
     "output_type": "execute_result"
    }
   ],
   "source": [
    "words.head()"
   ]
  },
  {
   "cell_type": "markdown",
   "metadata": {},
   "source": [
    "# Step 4 (of 10).  Train Word2Vec Model\n",
    "\n",
    "Now that we've tokenized our words, we can train a word2vec model. We will start by creating word embeddings of length 2.  We will use these to understand the word embedding since they can be easily visualized. "
   ]
  },
  {
   "cell_type": "code",
   "execution_count": 14,
   "metadata": {
    "collapsed": false
   },
   "outputs": [
    {
     "name": "stdout",
     "output_type": "stream",
     "text": [
      "word2vec Model Build progress: |██████████████████████████████████████████| 100%\n"
     ]
    }
   ],
   "source": [
    "# Train Word2Vec Model for vec size = 2\n",
    "from h2o.estimators.word2vec import H2OWord2vecEstimator\n",
    "\n",
    "w2v_len2_model = H2OWord2vecEstimator(vec_size = 2, model_id = \"w2v_len2.hex\")\n",
    "w2v_len2_model.train(training_frame=words)"
   ]
  },
  {
   "cell_type": "markdown",
   "metadata": {},
   "source": [
    "# Step 5 (of 10).  Analyze Word Embeddings\n",
    "\n",
    "We have created word embeddings for each word in our corpus, now we want to understand what they mean and how to interpret them.  The word embeddings for the first few words are shown below."
   ]
  },
  {
   "cell_type": "code",
   "execution_count": 15,
   "metadata": {
    "collapsed": false
   },
   "outputs": [
    {
     "data": {
      "text/html": [
       "<table>\n",
       "<thead>\n",
       "<tr><th>Word     </th><th style=\"text-align: right;\">        C1</th><th style=\"text-align: right;\">       C2</th></tr>\n",
       "</thead>\n",
       "<tbody>\n",
       "<tr><td>made     </td><td style=\"text-align: right;\"> 0.0386164</td><td style=\"text-align: right;\">-0.569377</td></tr>\n",
       "<tr><td>china    </td><td style=\"text-align: right;\"> 0.603742 </td><td style=\"text-align: right;\">-0.653189</td></tr>\n",
       "<tr><td>buy      </td><td style=\"text-align: right;\"> 0.352259 </td><td style=\"text-align: right;\">-0.695828</td></tr>\n",
       "<tr><td>pet      </td><td style=\"text-align: right;\"> 1.19981  </td><td style=\"text-align: right;\">-0.601537</td></tr>\n",
       "<tr><td>food     </td><td style=\"text-align: right;\"> 0.792802 </td><td style=\"text-align: right;\">-0.627025</td></tr>\n",
       "<tr><td>china    </td><td style=\"text-align: right;\"> 0.603742 </td><td style=\"text-align: right;\">-0.653189</td></tr>\n",
       "<tr><td>dogswell </td><td style=\"text-align: right;\"> 1.06972  </td><td style=\"text-align: right;\">-0.66251 </td></tr>\n",
       "<tr><td>using    </td><td style=\"text-align: right;\"> 0.0272979</td><td style=\"text-align: right;\">-0.620254</td></tr>\n",
       "<tr><td>propylene</td><td style=\"text-align: right;\">-0.94721  </td><td style=\"text-align: right;\">-0.407763</td></tr>\n",
       "<tr><td>glycol   </td><td style=\"text-align: right;\">-0.831053 </td><td style=\"text-align: right;\">-0.32726 </td></tr>\n",
       "</tbody>\n",
       "</table>"
      ]
     },
     "metadata": {},
     "output_type": "display_data"
    },
    {
     "data": {
      "text/plain": []
     },
     "execution_count": 15,
     "metadata": {},
     "output_type": "execute_result"
    }
   ],
   "source": [
    "sample_embeddings = words.head()\n",
    "sample_embeddings.col_names = [\"Word\"]\n",
    "sample_embeddings = sample_embeddings.cbind(w2v_len2_model.transform(sample_embeddings, aggregate_method=\"None\"))\n",
    "\n",
    "sample_embeddings"
   ]
  },
  {
   "cell_type": "markdown",
   "metadata": {},
   "source": [
    "We will plot the word embeddings to see which words are related to one another."
   ]
  },
  {
   "cell_type": "code",
   "execution_count": 16,
   "metadata": {
    "collapsed": false
   },
   "outputs": [
    {
     "data": {
      "text/html": [
       "<table>\n",
       "<thead>\n",
       "<tr><th>Word   </th><th style=\"text-align: right;\">  Count</th><th style=\"text-align: right;\">         C1</th><th style=\"text-align: right;\">       C2</th></tr>\n",
       "</thead>\n",
       "<tbody>\n",
       "<tr><td>aa     </td><td style=\"text-align: right;\">     26</td><td style=\"text-align: right;\">-0.60388   </td><td style=\"text-align: right;\">-0.734334</td></tr>\n",
       "<tr><td>aaa    </td><td style=\"text-align: right;\">      9</td><td style=\"text-align: right;\"> 0.08618   </td><td style=\"text-align: right;\">-0.607984</td></tr>\n",
       "<tr><td>aaaaa  </td><td style=\"text-align: right;\">      5</td><td style=\"text-align: right;\"> 0.20269   </td><td style=\"text-align: right;\">-0.665408</td></tr>\n",
       "<tr><td>aaah   </td><td style=\"text-align: right;\">      6</td><td style=\"text-align: right;\">-0.265003  </td><td style=\"text-align: right;\">-0.75482 </td></tr>\n",
       "<tr><td>aacute </td><td style=\"text-align: right;\">     12</td><td style=\"text-align: right;\">-0.38642   </td><td style=\"text-align: right;\">-0.305584</td></tr>\n",
       "<tr><td>aafco  </td><td style=\"text-align: right;\">      8</td><td style=\"text-align: right;\"> 0.417725  </td><td style=\"text-align: right;\">-0.644009</td></tr>\n",
       "<tr><td>aah    </td><td style=\"text-align: right;\">      5</td><td style=\"text-align: right;\">-0.179227  </td><td style=\"text-align: right;\">-0.69528 </td></tr>\n",
       "<tr><td>ab     </td><td style=\"text-align: right;\">     11</td><td style=\"text-align: right;\">-0.661528  </td><td style=\"text-align: right;\">-0.646897</td></tr>\n",
       "<tr><td>aback  </td><td style=\"text-align: right;\">     16</td><td style=\"text-align: right;\">-0.095538  </td><td style=\"text-align: right;\">-0.670205</td></tr>\n",
       "<tr><td>abandon</td><td style=\"text-align: right;\">     11</td><td style=\"text-align: right;\"> 0.00514093</td><td style=\"text-align: right;\">-0.798723</td></tr>\n",
       "</tbody>\n",
       "</table>"
      ]
     },
     "metadata": {},
     "output_type": "display_data"
    },
    {
     "data": {
      "text/plain": []
     },
     "execution_count": 16,
     "metadata": {},
     "output_type": "execute_result"
    }
   ],
   "source": [
    "unique_words = words.asfactor().table()\n",
    "unique_words.col_names = [\"Word\", \"Count\"]\n",
    "\n",
    "word_embeddings = w2v_len2_model.transform(unique_words[\"Word\"].ascharacter(), aggregate_method=\"None\")\n",
    "word_embeddings = unique_words.cbind(word_embeddings)\n",
    "word_embeddings = word_embeddings[~word_embeddings[\"C1\"].isna()]\n",
    "word_embeddings.head()"
   ]
  },
  {
   "cell_type": "code",
   "execution_count": 17,
   "metadata": {
    "collapsed": false
   },
   "outputs": [],
   "source": [
    "# Filter Word Embeddings to selected words\n",
    "\n",
    "selected_words = [\"coffee\", \"espresso\", \"starbucks\", \"sweet\", \"salty\", \"savory\", \"email\", \"support\", \"answered\", \n",
    "                  \"unhappy\", \"waited\", \"returned\", \"tasty\", \"yummy\", \"moldy\", \"expired\", \"salmonella\", \"best\", \n",
    "                  \"amazing\", \"abdominal\", \"folic\", \"zinc\"]\n",
    "\n",
    "filtered_embeddings = word_embeddings[word_embeddings[\"Word\"].isin(selected_words)]\n",
    "plot_data = filtered_embeddings.as_data_frame(use_pandas = True)"
   ]
  },
  {
   "cell_type": "code",
   "execution_count": 18,
   "metadata": {
    "collapsed": false
   },
   "outputs": [
    {
     "data": {
      "image/png": "[encoded data removed]",
      "text/plain": [
       "<matplotlib.figure.Figure at 0x1147528d0>"
      ]
     },
     "metadata": {},
     "output_type": "display_data"
    }
   ],
   "source": [
    "# Plot Word Embeddings\n",
    "import matplotlib.pyplot as plt\n",
    "\n",
    "fig, ax = plt.subplots(figsize=(20, 10))\n",
    "ax.scatter(plot_data[\"C1\"], plot_data[\"C2\"])\n",
    "\n",
    "for i, txt in enumerate(plot_data[\"Word\"]):\n",
    "    ax.annotate(txt, (plot_data[\"C1\"].iloc[i], plot_data[\"C2\"].iloc[i]))"
   ]
  },
  {
   "cell_type": "markdown",
   "metadata": {},
   "source": [
    "We will train a more complex word2vec model with length 100 - this will be able to catch further nuances in the text."
   ]
  },
  {
   "cell_type": "code",
   "execution_count": 19,
   "metadata": {
    "collapsed": false
   },
   "outputs": [
    {
     "name": "stdout",
     "output_type": "stream",
     "text": [
      "word2vec Model Build progress: |██████████████████████████████████████████| 100%\n"
     ]
    }
   ],
   "source": [
    "# Train Word2Vec Model for vec size = 100\n",
    "w2v_model = H2OWord2vecEstimator(vec_size = 100, model_id = \"w2v.hex\")\n",
    "w2v_model.train(training_frame=words)"
   ]
  },
  {
   "cell_type": "markdown",
   "metadata": {},
   "source": [
    "One way to interpret the word embeddings is to use them to find synonyms. The `find_synonyms` function finds the words that have the smallest cosine distance in word embeddings.  We assume that if the word embeddings are similar, the two words are synonyms."
   ]
  },
  {
   "cell_type": "code",
   "execution_count": 20,
   "metadata": {
    "collapsed": false
   },
   "outputs": [
    {
     "data": {
      "text/plain": [
       "OrderedDict([('coffe', 0.8157048225402832),\n",
       "             ('coffees', 0.7709532380104065),\n",
       "             ('espresso', 0.7536569237709045),\n",
       "             ('starbucks', 0.7502086758613586),\n",
       "             ('expresso', 0.7363466620445251)])"
      ]
     },
     "execution_count": 20,
     "metadata": {},
     "output_type": "execute_result"
    }
   ],
   "source": [
    "# Sanity check - find synonyms for the word 'coffee'\n",
    "w2v_model.find_synonyms(\"coffee\", count = 5)"
   ]
  },
  {
   "cell_type": "code",
   "execution_count": 21,
   "metadata": {
    "collapsed": false
   },
   "outputs": [
    {
     "data": {
      "text/plain": [
       "OrderedDict([('moldy', 0.730546236038208),\n",
       "             ('rancid', 0.6854576468467712),\n",
       "             ('inedible', 0.6416618824005127),\n",
       "             ('expired', 0.6299403309822083),\n",
       "             ('staleness', 0.6241065263748169)])"
      ]
     },
     "execution_count": 21,
     "metadata": {},
     "output_type": "execute_result"
    }
   ],
   "source": [
    "# Sanity check - find synonyms for the word 'stale'\n",
    "w2v_model.find_synonyms(\"stale\", count = 5)"
   ]
  },
  {
   "cell_type": "markdown",
   "metadata": {},
   "source": [
    "We will cluster the word embeddings to identify segments of similar words. "
   ]
  },
  {
   "cell_type": "code",
   "execution_count": 22,
   "metadata": {
    "collapsed": false
   },
   "outputs": [],
   "source": [
    "word_embeddings = w2v_model.transform(unique_words[\"Word\"].ascharacter(), aggregate_method=\"None\")\n",
    "word_embeddings = unique_words.cbind(word_embeddings)\n",
    "word_embeddings = word_embeddings[~word_embeddings[\"C1\"].isna()]"
   ]
  },
  {
   "cell_type": "code",
   "execution_count": 23,
   "metadata": {
    "collapsed": false
   },
   "outputs": [
    {
     "name": "stdout",
     "output_type": "stream",
     "text": [
      "kmeans Model Build progress: |████████████████████████████████████████████| 100%\n"
     ]
    }
   ],
   "source": [
    "from h2o.estimators import H2OKMeansEstimator\n",
    "\n",
    "kmeans = H2OKMeansEstimator(model_id = \"word_segments.hex\",\n",
    "                            estimate_k = True, k = 100, # Max number of clusters\n",
    "                            seed = 1234)\n",
    "\n",
    "x = list(set(word_embeddings.col_names) - set([\"Word\", \"Count\"]))\n",
    "kmeans.train(x = x, training_frame = word_embeddings)"
   ]
  },
  {
   "cell_type": "code",
   "execution_count": 24,
   "metadata": {
    "collapsed": false
   },
   "outputs": [
    {
     "name": "stdout",
     "output_type": "stream",
     "text": [
      "Centroid Statistics: \n"
     ]
    },
    {
     "data": {
      "text/html": [
       "<div style=\"overflow:auto\"><table style=\"width:50%\"><tr><td><b></b></td>\n",
       "<td><b>centroid</b></td>\n",
       "<td><b>size</b></td>\n",
       "<td><b>within_cluster_sum_of_squares</b></td></tr>\n",
       "<tr><td></td>\n",
       "<td>1.0</td>\n",
       "<td>9616.0</td>\n",
       "<td>899095.7406247</td></tr>\n",
       "<tr><td></td>\n",
       "<td>2.0</td>\n",
       "<td>9463.0</td>\n",
       "<td>950936.7685528</td></tr></table></div>"
      ],
      "text/plain": [
       "    centroid    size    within_cluster_sum_of_squares\n",
       "--  ----------  ------  -------------------------------\n",
       "    1           9616    899096\n",
       "    2           9463    950937"
      ]
     },
     "metadata": {},
     "output_type": "display_data"
    },
    {
     "data": {
      "text/plain": []
     },
     "execution_count": 24,
     "metadata": {},
     "output_type": "execute_result"
    }
   ],
   "source": [
    "# Clusters\n",
    "kmeans.centroid_stats()"
   ]
  },
  {
   "cell_type": "code",
   "execution_count": 25,
   "metadata": {
    "collapsed": false
   },
   "outputs": [
    {
     "name": "stdout",
     "output_type": "stream",
     "text": [
      "kmeans prediction progress: |█████████████████████████████████████████████| 100%\n"
     ]
    },
    {
     "data": {
      "text/html": [
       "<table>\n",
       "<thead>\n",
       "<tr><th>Word   </th><th style=\"text-align: right;\">  predict</th></tr>\n",
       "</thead>\n",
       "<tbody>\n",
       "<tr><td>aa     </td><td style=\"text-align: right;\">        1</td></tr>\n",
       "<tr><td>aaa    </td><td style=\"text-align: right;\">        1</td></tr>\n",
       "<tr><td>aaaaa  </td><td style=\"text-align: right;\">        0</td></tr>\n",
       "<tr><td>aaah   </td><td style=\"text-align: right;\">        1</td></tr>\n",
       "<tr><td>aacute </td><td style=\"text-align: right;\">        1</td></tr>\n",
       "<tr><td>aafco  </td><td style=\"text-align: right;\">        0</td></tr>\n",
       "<tr><td>aah    </td><td style=\"text-align: right;\">        1</td></tr>\n",
       "<tr><td>ab     </td><td style=\"text-align: right;\">        1</td></tr>\n",
       "<tr><td>aback  </td><td style=\"text-align: right;\">        0</td></tr>\n",
       "<tr><td>abandon</td><td style=\"text-align: right;\">        1</td></tr>\n",
       "</tbody>\n",
       "</table>"
      ]
     },
     "metadata": {},
     "output_type": "display_data"
    },
    {
     "data": {
      "text/plain": []
     },
     "execution_count": 25,
     "metadata": {},
     "output_type": "execute_result"
    }
   ],
   "source": [
    "word_clusters = word_embeddings.cbind(kmeans.predict(word_embeddings))\n",
    "word_clusters[[\"Word\", \"predict\"]].head()"
   ]
  },
  {
   "cell_type": "code",
   "execution_count": 26,
   "metadata": {
    "collapsed": false
   },
   "outputs": [],
   "source": [
    "selected_clusters = word_clusters[word_clusters[\"Word\"].isin(selected_words)]"
   ]
  },
  {
   "cell_type": "code",
   "execution_count": 27,
   "metadata": {
    "collapsed": false
   },
   "outputs": [
    {
     "name": "stdout",
     "output_type": "stream",
     "text": [
      "Cluster 0\n"
     ]
    },
    {
     "data": {
      "text/html": [
       "<table>\n",
       "<thead>\n",
       "<tr><th>Word      </th></tr>\n",
       "</thead>\n",
       "<tbody>\n",
       "<tr><td>abdominal </td></tr>\n",
       "<tr><td>answered  </td></tr>\n",
       "<tr><td>email     </td></tr>\n",
       "<tr><td>expired   </td></tr>\n",
       "<tr><td>folic     </td></tr>\n",
       "<tr><td>moldy     </td></tr>\n",
       "<tr><td>returned  </td></tr>\n",
       "<tr><td>salmonella</td></tr>\n",
       "<tr><td>support   </td></tr>\n",
       "<tr><td>unhappy   </td></tr>\n",
       "</tbody>\n",
       "</table>"
      ]
     },
     "metadata": {},
     "output_type": "display_data"
    },
    {
     "name": "stdout",
     "output_type": "stream",
     "text": [
      "\n"
     ]
    }
   ],
   "source": [
    "print(\"Cluster 0\")\n",
    "print(selected_clusters[selected_clusters[\"predict\"] == 0, \"Word\"])"
   ]
  },
  {
   "cell_type": "code",
   "execution_count": 28,
   "metadata": {
    "collapsed": false
   },
   "outputs": [
    {
     "name": "stdout",
     "output_type": "stream",
     "text": [
      "Cluster 1\n"
     ]
    },
    {
     "data": {
      "text/html": [
       "<table>\n",
       "<thead>\n",
       "<tr><th>Word     </th></tr>\n",
       "</thead>\n",
       "<tbody>\n",
       "<tr><td>amazing  </td></tr>\n",
       "<tr><td>best     </td></tr>\n",
       "<tr><td>coffee   </td></tr>\n",
       "<tr><td>espresso </td></tr>\n",
       "<tr><td>salty    </td></tr>\n",
       "<tr><td>savory   </td></tr>\n",
       "<tr><td>starbucks</td></tr>\n",
       "<tr><td>sweet    </td></tr>\n",
       "<tr><td>tasty    </td></tr>\n",
       "<tr><td>yummy    </td></tr>\n",
       "</tbody>\n",
       "</table>"
      ]
     },
     "metadata": {},
     "output_type": "display_data"
    },
    {
     "name": "stdout",
     "output_type": "stream",
     "text": [
      "\n"
     ]
    }
   ],
   "source": [
    "print(\"Cluster 1\")\n",
    "print(selected_clusters[selected_clusters[\"predict\"] == 1, \"Word\"])"
   ]
  },
  {
   "cell_type": "markdown",
   "metadata": {},
   "source": [
    "# Step 6 (of 10).  Train Model with Original Data\n",
    "\n",
    "Now that we have analyzed our word embeddings, we will turn to our supervised learning task to predict whether someone liked the review.  We will first train a model on our original data - not our word embeddings to see what our accuracy is. We will use this model as a baseline model."
   ]
  },
  {
   "cell_type": "code",
   "execution_count": 29,
   "metadata": {
    "collapsed": true
   },
   "outputs": [],
   "source": [
    "# Find the 80th quantile of time in the dataset\n",
    "time_split = reviews[\"Time\"].quantile(prob = [0.8])[1]\n",
    "reviews[\"Train\"] = (reviews[\"Time\"] < time_split).ifelse(\"Yes\", \"No\")"
   ]
  },
  {
   "cell_type": "code",
   "execution_count": 30,
   "metadata": {
    "collapsed": true
   },
   "outputs": [],
   "source": [
    "train = reviews[reviews[\"Train\"] == \"Yes\"]\n",
    "test = reviews[reviews[\"Train\"] == \"No\"]"
   ]
  },
  {
   "cell_type": "code",
   "execution_count": 31,
   "metadata": {
    "collapsed": false
   },
   "outputs": [
    {
     "name": "stdout",
     "output_type": "stream",
     "text": [
      "gbm Model Build progress: |███████████████████████████████████████████████| 100%\n"
     ]
    }
   ],
   "source": [
    "from h2o.estimators import H2OGradientBoostingEstimator\n",
    "\n",
    "predictors = ['ProductId', 'UserId', 'HelpfulnessNumerator', 'HelpfulnessDenominator', 'Time']\n",
    "response = 'PositiveReview'\n",
    "\n",
    "gbm_baseline = H2OGradientBoostingEstimator(stopping_metric = \"AUC\", stopping_tolerance = 0.001,\n",
    "                                            stopping_rounds = 5, score_tree_interval = 10,\n",
    "                                            model_id = \"gbm_baseline.hex\"\n",
    "                                           )\n",
    "gbm_baseline.train(x = predictors, y = response, \n",
    "                   training_frame = train, validation_frame = test\n",
    "                  )"
   ]
  },
  {
   "cell_type": "code",
   "execution_count": 32,
   "metadata": {
    "collapsed": false
   },
   "outputs": [
    {
     "name": "stdout",
     "output_type": "stream",
     "text": [
      "AUC on Validation Data: 0.616\n"
     ]
    }
   ],
   "source": [
    "print(\"AUC on Validation Data: \" + str(round(gbm_baseline.auc(valid = True), 3)))"
   ]
  },
  {
   "cell_type": "markdown",
   "metadata": {},
   "source": [
    "We can see that there is a big room for improvement.  Our error is 22%.  To improve our model, we will train word embeddings for the review."
   ]
  },
  {
   "cell_type": "code",
   "execution_count": 33,
   "metadata": {
    "collapsed": false
   },
   "outputs": [
    {
     "name": "stdout",
     "output_type": "stream",
     "text": [
      "Confusion Matrix (Act/Pred) for max f1 @ threshold = 0.45931625811239496: \n"
     ]
    },
    {
     "data": {
      "text/html": [
       "<div style=\"overflow:auto\"><table style=\"width:50%\"><tr><td><b></b></td>\n",
       "<td><b>0</b></td>\n",
       "<td><b>1</b></td>\n",
       "<td><b>Error</b></td>\n",
       "<td><b>Rate</b></td></tr>\n",
       "<tr><td>0</td>\n",
       "<td>384.0</td>\n",
       "<td>4276.0</td>\n",
       "<td>0.9176</td>\n",
       "<td> (4276.0/4660.0)</td></tr>\n",
       "<tr><td>1</td>\n",
       "<td>128.0</td>\n",
       "<td>15220.0</td>\n",
       "<td>0.0083</td>\n",
       "<td> (128.0/15348.0)</td></tr>\n",
       "<tr><td>Total</td>\n",
       "<td>512.0</td>\n",
       "<td>19496.0</td>\n",
       "<td>0.2201</td>\n",
       "<td> (4404.0/20008.0)</td></tr></table></div>"
      ],
      "text/plain": [
       "       0    1      Error    Rate\n",
       "-----  ---  -----  -------  ----------------\n",
       "0      384  4276   0.9176   (4276.0/4660.0)\n",
       "1      128  15220  0.0083   (128.0/15348.0)\n",
       "Total  512  19496  0.2201   (4404.0/20008.0)"
      ]
     },
     "metadata": {},
     "output_type": "display_data"
    },
    {
     "data": {
      "text/plain": []
     },
     "execution_count": 33,
     "metadata": {},
     "output_type": "execute_result"
    }
   ],
   "source": [
    "gbm_baseline.confusion_matrix(valid = True)"
   ]
  },
  {
   "cell_type": "markdown",
   "metadata": {},
   "source": [
    "The variable importance plot below shows us that the most important variable is `HelpfulnessNumerator`.  Looking at the partial dependency plot for that variable, we see that the more people who find the review helpful, the more likely it is a good review."
   ]
  },
  {
   "cell_type": "code",
   "execution_count": 34,
   "metadata": {
    "collapsed": false
   },
   "outputs": [
    {
     "data": {
      "image/png": "[encoded data removed]",
      "text/plain": [
       "<matplotlib.figure.Figure at 0x1155f0b38>"
      ]
     },
     "metadata": {},
     "output_type": "display_data"
    }
   ],
   "source": [
    "gbm_baseline.varimp_plot()"
   ]
  },
  {
   "cell_type": "code",
   "execution_count": 35,
   "metadata": {
    "collapsed": false,
    "scrolled": false
   },
   "outputs": [
    {
     "name": "stdout",
     "output_type": "stream",
     "text": [
      "PartialDependencePlot progress: |█████████████████████████████████████████| 100%\n"
     ]
    },
    {
     "data": {
      "image/png": "[encoded data removed]",
      "text/plain": [
       "<matplotlib.figure.Figure at 0x109018198>"
      ]
     },
     "metadata": {},
     "output_type": "display_data"
    }
   ],
   "source": [
    "%matplotlib inline  \n",
    "pdp_helpfulness = gbm_baseline.partial_plot(train, cols = [\"HelpfulnessNumerator\"])"
   ]
  },
  {
   "cell_type": "markdown",
   "metadata": {},
   "source": [
    "# Step 7 (of 10).  Train Model with Word Embeddings\n",
    "\n",
    "We will train a GBM model with the same parameters as our baseline gbm.  This time, however, we will add the aggregated word embeddings as predictors. "
   ]
  },
  {
   "cell_type": "code",
   "execution_count": 36,
   "metadata": {
    "collapsed": true
   },
   "outputs": [],
   "source": [
    "# Calculate a vector for each review\n",
    "review_vecs = w2v_model.transform(words, aggregate_method = \"AVERAGE\")"
   ]
  },
  {
   "cell_type": "code",
   "execution_count": 37,
   "metadata": {
    "collapsed": false,
    "scrolled": true
   },
   "outputs": [
    {
     "data": {
      "text/html": [
       "<table>\n",
       "<thead>\n",
       "<tr><th style=\"text-align: right;\">        C1</th><th style=\"text-align: right;\">         C2</th><th style=\"text-align: right;\">         C3</th><th style=\"text-align: right;\">         C4</th><th style=\"text-align: right;\">         C5</th><th style=\"text-align: right;\">        C6</th><th style=\"text-align: right;\">        C7</th><th style=\"text-align: right;\">        C8</th><th style=\"text-align: right;\">          C9</th><th style=\"text-align: right;\">      C10</th><th style=\"text-align: right;\">      C11</th><th style=\"text-align: right;\">         C12</th><th style=\"text-align: right;\">        C13</th><th style=\"text-align: right;\">       C14</th><th style=\"text-align: right;\">       C15</th><th style=\"text-align: right;\">       C16</th><th style=\"text-align: right;\">        C17</th><th style=\"text-align: right;\">       C18</th><th style=\"text-align: right;\">      C19</th><th style=\"text-align: right;\">        C20</th><th style=\"text-align: right;\">      C21</th><th style=\"text-align: right;\">         C22</th><th style=\"text-align: right;\">       C23</th><th style=\"text-align: right;\">       C24</th><th style=\"text-align: right;\">      C25</th><th style=\"text-align: right;\">        C26</th><th style=\"text-align: right;\">       C27</th><th style=\"text-align: right;\">       C28</th><th style=\"text-align: right;\">       C29</th><th style=\"text-align: right;\">        C30</th><th style=\"text-align: right;\">        C31</th><th style=\"text-align: right;\">       C32</th><th style=\"text-align: right;\">       C33</th><th style=\"text-align: right;\">        C34</th><th style=\"text-align: right;\">        C35</th><th style=\"text-align: right;\">        C36</th><th style=\"text-align: right;\">      C37</th><th style=\"text-align: right;\">         C38</th><th style=\"text-align: right;\">       C39</th><th style=\"text-align: right;\">        C40</th><th style=\"text-align: right;\">      C41</th><th style=\"text-align: right;\">       C42</th><th style=\"text-align: right;\">       C43</th><th style=\"text-align: right;\">        C44</th><th style=\"text-align: right;\">        C45</th><th style=\"text-align: right;\">         C46</th><th style=\"text-align: right;\">        C47</th><th style=\"text-align: right;\">        C48</th><th style=\"text-align: right;\">       C49</th><th style=\"text-align: right;\">       C50</th><th style=\"text-align: right;\">       C51</th><th style=\"text-align: right;\">      C52</th><th style=\"text-align: right;\">        C53</th><th style=\"text-align: right;\">       C54</th><th style=\"text-align: right;\">       C55</th><th style=\"text-align: right;\">        C56</th><th style=\"text-align: right;\">       C57</th><th style=\"text-align: right;\">      C58</th><th style=\"text-align: right;\">        C59</th><th style=\"text-align: right;\">       C60</th><th style=\"text-align: right;\">       C61</th><th style=\"text-align: right;\">       C62</th><th style=\"text-align: right;\">        C63</th><th style=\"text-align: right;\">        C64</th><th style=\"text-align: right;\">        C65</th><th style=\"text-align: right;\">         C66</th><th style=\"text-align: right;\">       C67</th><th style=\"text-align: right;\">        C68</th><th style=\"text-align: right;\">        C69</th><th style=\"text-align: right;\">       C70</th><th style=\"text-align: right;\">        C71</th><th style=\"text-align: right;\">        C72</th><th style=\"text-align: right;\">        C73</th><th style=\"text-align: right;\">       C74</th><th style=\"text-align: right;\">        C75</th><th style=\"text-align: right;\">         C76</th><th style=\"text-align: right;\">       C77</th><th style=\"text-align: right;\">       C78</th><th style=\"text-align: right;\">       C79</th><th style=\"text-align: right;\">       C80</th><th style=\"text-align: right;\">        C81</th><th style=\"text-align: right;\">        C82</th><th style=\"text-align: right;\">       C83</th><th style=\"text-align: right;\">        C84</th><th style=\"text-align: right;\">        C85</th><th style=\"text-align: right;\">        C86</th><th style=\"text-align: right;\">        C87</th><th style=\"text-align: right;\">       C88</th><th style=\"text-align: right;\">        C89</th><th style=\"text-align: right;\">         C90</th><th style=\"text-align: right;\">        C91</th><th style=\"text-align: right;\">       C92</th><th style=\"text-align: right;\">        C93</th><th style=\"text-align: right;\">       C94</th><th style=\"text-align: right;\">        C95</th><th style=\"text-align: right;\">       C96</th><th style=\"text-align: right;\">        C97</th><th style=\"text-align: right;\">       C98</th><th style=\"text-align: right;\">       C99</th><th style=\"text-align: right;\">      C100</th></tr>\n",
       "</thead>\n",
       "<tbody>\n",
       "<tr><td style=\"text-align: right;\">-0.0919155</td><td style=\"text-align: right;\"> 0.00444741</td><td style=\"text-align: right;\">-0.0239196 </td><td style=\"text-align: right;\"> 0.0243934 </td><td style=\"text-align: right;\"> 0.0459587 </td><td style=\"text-align: right;\"> 0.134585 </td><td style=\"text-align: right;\"> 0.0240909</td><td style=\"text-align: right;\">-0.0642175</td><td style=\"text-align: right;\">-0.108564   </td><td style=\"text-align: right;\">0.155196 </td><td style=\"text-align: right;\">-0.114174</td><td style=\"text-align: right;\"> 0.0891905  </td><td style=\"text-align: right;\">-0.0527578 </td><td style=\"text-align: right;\">-0.0442464</td><td style=\"text-align: right;\">-0.105056 </td><td style=\"text-align: right;\">-0.0664146</td><td style=\"text-align: right;\"> 0.0590604 </td><td style=\"text-align: right;\"> 0.0365749</td><td style=\"text-align: right;\">0.12829  </td><td style=\"text-align: right;\">-0.0468148 </td><td style=\"text-align: right;\">0.0672957</td><td style=\"text-align: right;\"> 0.020111   </td><td style=\"text-align: right;\"> 0.0663236</td><td style=\"text-align: right;\">-0.0869365</td><td style=\"text-align: right;\">0.121113 </td><td style=\"text-align: right;\"> 0.0186769 </td><td style=\"text-align: right;\">-0.0722422</td><td style=\"text-align: right;\">-0.133545 </td><td style=\"text-align: right;\"> 0.146078 </td><td style=\"text-align: right;\"> 0.0146903 </td><td style=\"text-align: right;\">-0.134601  </td><td style=\"text-align: right;\">-0.0586893</td><td style=\"text-align: right;\">-0.146839 </td><td style=\"text-align: right;\">-0.0590026 </td><td style=\"text-align: right;\"> 0.0137862 </td><td style=\"text-align: right;\"> 0.013118  </td><td style=\"text-align: right;\">0.157774 </td><td style=\"text-align: right;\"> 0.12505    </td><td style=\"text-align: right;\">-0.0440023</td><td style=\"text-align: right;\"> 0.0897803 </td><td style=\"text-align: right;\">0.0381113</td><td style=\"text-align: right;\">-0.15127  </td><td style=\"text-align: right;\">-0.102297 </td><td style=\"text-align: right;\">-0.0234596 </td><td style=\"text-align: right;\">-0.0284361 </td><td style=\"text-align: right;\">-0.0130317  </td><td style=\"text-align: right;\">-0.00221346</td><td style=\"text-align: right;\">-0.00914663</td><td style=\"text-align: right;\">-0.132715 </td><td style=\"text-align: right;\"> 0.106608 </td><td style=\"text-align: right;\">-0.110963 </td><td style=\"text-align: right;\">0.209761 </td><td style=\"text-align: right;\"> 0.117797  </td><td style=\"text-align: right;\">-0.057873 </td><td style=\"text-align: right;\">-0.0604727</td><td style=\"text-align: right;\">-0.0627757 </td><td style=\"text-align: right;\"> 0.0792005</td><td style=\"text-align: right;\">0.0973706</td><td style=\"text-align: right;\">-0.00248326</td><td style=\"text-align: right;\">-0.21545  </td><td style=\"text-align: right;\"> 0.0134903</td><td style=\"text-align: right;\"> 0.173618 </td><td style=\"text-align: right;\">-0.0322505 </td><td style=\"text-align: right;\">-0.0997687 </td><td style=\"text-align: right;\"> 0.106164  </td><td style=\"text-align: right;\"> 0.000993603</td><td style=\"text-align: right;\">-0.189857 </td><td style=\"text-align: right;\"> 0.123027  </td><td style=\"text-align: right;\">-0.0962973 </td><td style=\"text-align: right;\"> 0.133054 </td><td style=\"text-align: right;\"> 0.033149  </td><td style=\"text-align: right;\"> 0.11155   </td><td style=\"text-align: right;\"> 0.0359005 </td><td style=\"text-align: right;\">-0.0871958</td><td style=\"text-align: right;\">-0.131325  </td><td style=\"text-align: right;\"> 0.0274602  </td><td style=\"text-align: right;\"> 0.0934787</td><td style=\"text-align: right;\"> 0.105776 </td><td style=\"text-align: right;\"> 0.298144 </td><td style=\"text-align: right;\">-0.159194 </td><td style=\"text-align: right;\"> 0.184097  </td><td style=\"text-align: right;\"> 0.0310715 </td><td style=\"text-align: right;\">-0.072562 </td><td style=\"text-align: right;\"> 0.0602842 </td><td style=\"text-align: right;\"> 0.273096  </td><td style=\"text-align: right;\">-0.0127411 </td><td style=\"text-align: right;\"> 0.0550753 </td><td style=\"text-align: right;\">-0.0195733</td><td style=\"text-align: right;\">-0.0979519 </td><td style=\"text-align: right;\"> 0.0486181  </td><td style=\"text-align: right;\">-0.107888  </td><td style=\"text-align: right;\">-0.0450177</td><td style=\"text-align: right;\">-0.0137556 </td><td style=\"text-align: right;\">-0.0284717</td><td style=\"text-align: right;\">-0.20208   </td><td style=\"text-align: right;\">-0.0421361</td><td style=\"text-align: right;\"> 0.170534  </td><td style=\"text-align: right;\">-0.0506511</td><td style=\"text-align: right;\">-0.118092 </td><td style=\"text-align: right;\"> 0.11654  </td></tr>\n",
       "<tr><td style=\"text-align: right;\">-0.0493964</td><td style=\"text-align: right;\">-0.203068  </td><td style=\"text-align: right;\">-0.259389  </td><td style=\"text-align: right;\">-0.00196105</td><td style=\"text-align: right;\">-0.0494329 </td><td style=\"text-align: right;\">-0.0732352</td><td style=\"text-align: right;\">-0.0338978</td><td style=\"text-align: right;\">-0.14057  </td><td style=\"text-align: right;\">-0.0201735  </td><td style=\"text-align: right;\">0.194533 </td><td style=\"text-align: right;\">-0.29183 </td><td style=\"text-align: right;\">-0.0877396  </td><td style=\"text-align: right;\"> 0.0242119 </td><td style=\"text-align: right;\">-0.208849 </td><td style=\"text-align: right;\">-0.251981 </td><td style=\"text-align: right;\"> 0.0456352</td><td style=\"text-align: right;\"> 0.0235739 </td><td style=\"text-align: right;\"> 0.0717068</td><td style=\"text-align: right;\">0.0358983</td><td style=\"text-align: right;\"> 0.201898  </td><td style=\"text-align: right;\">0.257541 </td><td style=\"text-align: right;\">-0.0720143  </td><td style=\"text-align: right;\"> 0.0359559</td><td style=\"text-align: right;\"> 0.0446628</td><td style=\"text-align: right;\">0.0441392</td><td style=\"text-align: right;\">-0.0217474 </td><td style=\"text-align: right;\">-0.10651  </td><td style=\"text-align: right;\">-0.0741844</td><td style=\"text-align: right;\"> 0.0628156</td><td style=\"text-align: right;\">-0.0390313 </td><td style=\"text-align: right;\">-0.00878568</td><td style=\"text-align: right;\"> 0.0315166</td><td style=\"text-align: right;\">-0.14541  </td><td style=\"text-align: right;\">-0.00369978</td><td style=\"text-align: right;\"> 0.0859842 </td><td style=\"text-align: right;\"> 0.0219515 </td><td style=\"text-align: right;\">0.13679  </td><td style=\"text-align: right;\"> 0.145932   </td><td style=\"text-align: right;\">-0.0432453</td><td style=\"text-align: right;\">-0.109844  </td><td style=\"text-align: right;\">0.14267  </td><td style=\"text-align: right;\">-0.0949443</td><td style=\"text-align: right;\">-0.0769289</td><td style=\"text-align: right;\"> 0.108802  </td><td style=\"text-align: right;\">-0.0234453 </td><td style=\"text-align: right;\"> 0.00586419 </td><td style=\"text-align: right;\"> 0.0808588 </td><td style=\"text-align: right;\">-0.0354731 </td><td style=\"text-align: right;\">-0.050751 </td><td style=\"text-align: right;\">-0.120167 </td><td style=\"text-align: right;\"> 0.0532151</td><td style=\"text-align: right;\">0.0285906</td><td style=\"text-align: right;\"> 0.0473963 </td><td style=\"text-align: right;\">-0.0687436</td><td style=\"text-align: right;\">-0.22063  </td><td style=\"text-align: right;\"> 0.0635505 </td><td style=\"text-align: right;\"> 0.0195771</td><td style=\"text-align: right;\">0.0176916</td><td style=\"text-align: right;\">-0.00875545</td><td style=\"text-align: right;\">-0.0546709</td><td style=\"text-align: right;\"> 0.11557  </td><td style=\"text-align: right;\">-0.027573 </td><td style=\"text-align: right;\">-0.029423  </td><td style=\"text-align: right;\">-0.0558801 </td><td style=\"text-align: right;\"> 0.0679784 </td><td style=\"text-align: right;\"> 0.134612   </td><td style=\"text-align: right;\">-0.174886 </td><td style=\"text-align: right;\"> 0.0512199 </td><td style=\"text-align: right;\">-0.111346  </td><td style=\"text-align: right;\"> 0.0170343</td><td style=\"text-align: right;\">-0.0770631 </td><td style=\"text-align: right;\"> 0.085504  </td><td style=\"text-align: right;\">-0.033371  </td><td style=\"text-align: right;\">-0.0102316</td><td style=\"text-align: right;\"> 0.00677549</td><td style=\"text-align: right;\"> 0.0833421  </td><td style=\"text-align: right;\"> 0.0441588</td><td style=\"text-align: right;\">-0.0116278</td><td style=\"text-align: right;\"> 0.112667 </td><td style=\"text-align: right;\">-0.0526114</td><td style=\"text-align: right;\">-0.00389645</td><td style=\"text-align: right;\">-0.04798   </td><td style=\"text-align: right;\">-0.0573779</td><td style=\"text-align: right;\"> 0.0911498 </td><td style=\"text-align: right;\"> 0.00595679</td><td style=\"text-align: right;\">-0.102925  </td><td style=\"text-align: right;\"> 0.0432166 </td><td style=\"text-align: right;\"> 0.0181013</td><td style=\"text-align: right;\">-0.0322178 </td><td style=\"text-align: right;\">-0.0794756  </td><td style=\"text-align: right;\">-0.182941  </td><td style=\"text-align: right;\">-0.0429337</td><td style=\"text-align: right;\"> 0.0330472 </td><td style=\"text-align: right;\">-0.0267636</td><td style=\"text-align: right;\">-0.0493581 </td><td style=\"text-align: right;\">-0.088573 </td><td style=\"text-align: right;\">-0.0592869 </td><td style=\"text-align: right;\">-0.113818 </td><td style=\"text-align: right;\">-0.0532707</td><td style=\"text-align: right;\">-0.0633546</td></tr>\n",
       "<tr><td style=\"text-align: right;\">-0.0754722</td><td style=\"text-align: right;\">-0.182694  </td><td style=\"text-align: right;\"> 0.00167574</td><td style=\"text-align: right;\"> 0.080289  </td><td style=\"text-align: right;\">-0.00457611</td><td style=\"text-align: right;\"> 0.161647 </td><td style=\"text-align: right;\"> 0.053752 </td><td style=\"text-align: right;\">-0.197125 </td><td style=\"text-align: right;\">-0.0613053  </td><td style=\"text-align: right;\">0.154954 </td><td style=\"text-align: right;\">-0.127927</td><td style=\"text-align: right;\"> 0.110989   </td><td style=\"text-align: right;\"> 0.0138342 </td><td style=\"text-align: right;\">-0.0485785</td><td style=\"text-align: right;\">-0.0702076</td><td style=\"text-align: right;\">-0.0476245</td><td style=\"text-align: right;\">-0.0117541 </td><td style=\"text-align: right;\">-0.046843 </td><td style=\"text-align: right;\">0.143901 </td><td style=\"text-align: right;\"> 0.133468  </td><td style=\"text-align: right;\">0.140243 </td><td style=\"text-align: right;\">-0.0268421  </td><td style=\"text-align: right;\"> 0.0667216</td><td style=\"text-align: right;\">-0.0775251</td><td style=\"text-align: right;\">0.0800561</td><td style=\"text-align: right;\"> 0.013623  </td><td style=\"text-align: right;\">-0.0287547</td><td style=\"text-align: right;\">-0.0976781</td><td style=\"text-align: right;\">-0.108261 </td><td style=\"text-align: right;\">-0.0504857 </td><td style=\"text-align: right;\"> 0.0110858 </td><td style=\"text-align: right;\">-0.113192 </td><td style=\"text-align: right;\">-0.185316 </td><td style=\"text-align: right;\"> 0.00319189</td><td style=\"text-align: right;\"> 0.0227494 </td><td style=\"text-align: right;\"> 0.0269429 </td><td style=\"text-align: right;\">0.176231 </td><td style=\"text-align: right;\"> 0.0244251  </td><td style=\"text-align: right;\">-0.0774346</td><td style=\"text-align: right;\">-0.0540154 </td><td style=\"text-align: right;\">0.0593296</td><td style=\"text-align: right;\">-0.0283641</td><td style=\"text-align: right;\">-0.096559 </td><td style=\"text-align: right;\"> 0.134392  </td><td style=\"text-align: right;\"> 0.0745837 </td><td style=\"text-align: right;\">-0.0640949  </td><td style=\"text-align: right;\"> 0.00134801</td><td style=\"text-align: right;\"> 0.0426362 </td><td style=\"text-align: right;\">-0.149351 </td><td style=\"text-align: right;\"> 0.0584144</td><td style=\"text-align: right;\">-0.168877 </td><td style=\"text-align: right;\">0.0306147</td><td style=\"text-align: right;\"> 0.0407291 </td><td style=\"text-align: right;\">-0.0354807</td><td style=\"text-align: right;\">-0.0771885</td><td style=\"text-align: right;\"> 0.0846486 </td><td style=\"text-align: right;\">-0.0455644</td><td style=\"text-align: right;\">0.215527 </td><td style=\"text-align: right;\"> 0.0509272 </td><td style=\"text-align: right;\">-0.109179 </td><td style=\"text-align: right;\"> 0.06088  </td><td style=\"text-align: right;\"> 0.0979375</td><td style=\"text-align: right;\"> 0.0300699 </td><td style=\"text-align: right;\">-0.117135  </td><td style=\"text-align: right;\"> 0.00796935</td><td style=\"text-align: right;\">-0.0299224  </td><td style=\"text-align: right;\">-0.239513 </td><td style=\"text-align: right;\"> 0.067197  </td><td style=\"text-align: right;\">-0.124895  </td><td style=\"text-align: right;\"> 0.0814777</td><td style=\"text-align: right;\"> 0.0192515 </td><td style=\"text-align: right;\"> 0.120548  </td><td style=\"text-align: right;\"> 0.102664  </td><td style=\"text-align: right;\">-0.0180948</td><td style=\"text-align: right;\">-0.00338291</td><td style=\"text-align: right;\"> 0.0621971  </td><td style=\"text-align: right;\">-0.0586793</td><td style=\"text-align: right;\"> 0.221462 </td><td style=\"text-align: right;\"> 0.109571 </td><td style=\"text-align: right;\">-0.0758464</td><td style=\"text-align: right;\"> 0.140471  </td><td style=\"text-align: right;\">-0.0273279 </td><td style=\"text-align: right;\">-0.21102  </td><td style=\"text-align: right;\">-0.00233836</td><td style=\"text-align: right;\"> 0.0160922 </td><td style=\"text-align: right;\">-0.135344  </td><td style=\"text-align: right;\">-0.0299795 </td><td style=\"text-align: right;\"> 0.0697792</td><td style=\"text-align: right;\"> 0.0457822 </td><td style=\"text-align: right;\">-0.014541   </td><td style=\"text-align: right;\">-0.147231  </td><td style=\"text-align: right;\">-0.191487 </td><td style=\"text-align: right;\"> 0.0106228 </td><td style=\"text-align: right;\">-0.0244975</td><td style=\"text-align: right;\">-0.020687  </td><td style=\"text-align: right;\">-0.0275915</td><td style=\"text-align: right;\"> 0.0478685 </td><td style=\"text-align: right;\">-0.0437458</td><td style=\"text-align: right;\">-0.081577 </td><td style=\"text-align: right;\"> 0.0162247</td></tr>\n",
       "<tr><td style=\"text-align: right;\">-0.0282389</td><td style=\"text-align: right;\">-0.163892  </td><td style=\"text-align: right;\"> 0.00160653</td><td style=\"text-align: right;\">-0.0472283 </td><td style=\"text-align: right;\"> 0.0726455 </td><td style=\"text-align: right;\"> 0.0047585</td><td style=\"text-align: right;\"> 0.0341726</td><td style=\"text-align: right;\">-0.141162 </td><td style=\"text-align: right;\">-0.112464   </td><td style=\"text-align: right;\">0.0894619</td><td style=\"text-align: right;\">-0.125608</td><td style=\"text-align: right;\"> 0.156187   </td><td style=\"text-align: right;\">-0.00651866</td><td style=\"text-align: right;\">-0.0710692</td><td style=\"text-align: right;\">-0.0786774</td><td style=\"text-align: right;\"> 0.0151243</td><td style=\"text-align: right;\">-0.00717132</td><td style=\"text-align: right;\"> 0.0249579</td><td style=\"text-align: right;\">0.116613 </td><td style=\"text-align: right;\"> 0.104818  </td><td style=\"text-align: right;\">0.21763  </td><td style=\"text-align: right;\">-0.0877653  </td><td style=\"text-align: right;\"> 0.0510694</td><td style=\"text-align: right;\">-0.0941268</td><td style=\"text-align: right;\">0.0942837</td><td style=\"text-align: right;\"> 0.0116805 </td><td style=\"text-align: right;\">-0.110771 </td><td style=\"text-align: right;\">-0.150064 </td><td style=\"text-align: right;\">-0.0865948</td><td style=\"text-align: right;\">-0.00708194</td><td style=\"text-align: right;\"> 0.0683187 </td><td style=\"text-align: right;\">-0.0679097</td><td style=\"text-align: right;\">-0.11477  </td><td style=\"text-align: right;\"> 0.00120458</td><td style=\"text-align: right;\"> 0.08313   </td><td style=\"text-align: right;\">-0.0164684 </td><td style=\"text-align: right;\">0.287841 </td><td style=\"text-align: right;\"> 0.170785   </td><td style=\"text-align: right;\">-0.104234 </td><td style=\"text-align: right;\">-0.0239374 </td><td style=\"text-align: right;\">0.0642043</td><td style=\"text-align: right;\"> 0.0163072</td><td style=\"text-align: right;\">-0.0888684</td><td style=\"text-align: right;\"> 0.060656  </td><td style=\"text-align: right;\">-0.00776211</td><td style=\"text-align: right;\">-0.0134034  </td><td style=\"text-align: right;\"> 0.0104867 </td><td style=\"text-align: right;\">-0.0595709 </td><td style=\"text-align: right;\">-0.140812 </td><td style=\"text-align: right;\"> 0.0294846</td><td style=\"text-align: right;\">-0.0792805</td><td style=\"text-align: right;\">0.0165015</td><td style=\"text-align: right;\"> 0.0721187 </td><td style=\"text-align: right;\"> 0.012572 </td><td style=\"text-align: right;\">-0.104608 </td><td style=\"text-align: right;\"> 0.120447  </td><td style=\"text-align: right;\"> 0.159598 </td><td style=\"text-align: right;\">0.0421112</td><td style=\"text-align: right;\"> 0.0557072 </td><td style=\"text-align: right;\">-0.191897 </td><td style=\"text-align: right;\"> 0.0618264</td><td style=\"text-align: right;\"> 0.0940271</td><td style=\"text-align: right;\">-0.0194306 </td><td style=\"text-align: right;\">-0.0820081 </td><td style=\"text-align: right;\"> 0.0872768 </td><td style=\"text-align: right;\">-0.0548268  </td><td style=\"text-align: right;\">-0.115779 </td><td style=\"text-align: right;\"> 0.0171714 </td><td style=\"text-align: right;\"> 0.0388865 </td><td style=\"text-align: right;\"> 0.121423 </td><td style=\"text-align: right;\"> 0.00122111</td><td style=\"text-align: right;\">-5.4765e-05</td><td style=\"text-align: right;\"> 0.160765  </td><td style=\"text-align: right;\">-0.0746152</td><td style=\"text-align: right;\"> 0.0309146 </td><td style=\"text-align: right;\">-0.00557152 </td><td style=\"text-align: right;\">-0.0388625</td><td style=\"text-align: right;\"> 0.121935 </td><td style=\"text-align: right;\"> 0.117881 </td><td style=\"text-align: right;\">-0.114186 </td><td style=\"text-align: right;\"> 0.00625768</td><td style=\"text-align: right;\">-0.0462251 </td><td style=\"text-align: right;\">-0.166401 </td><td style=\"text-align: right;\"> 0.0503628 </td><td style=\"text-align: right;\"> 0.119972  </td><td style=\"text-align: right;\">-0.0397085 </td><td style=\"text-align: right;\"> 0.00782402</td><td style=\"text-align: right;\"> 0.124032 </td><td style=\"text-align: right;\">-0.00611105</td><td style=\"text-align: right;\">-0.13275    </td><td style=\"text-align: right;\">-0.0517541 </td><td style=\"text-align: right;\">-0.176443 </td><td style=\"text-align: right;\"> 0.0736494 </td><td style=\"text-align: right;\"> 0.0494843</td><td style=\"text-align: right;\"> 0.0120985 </td><td style=\"text-align: right;\">-0.0852298</td><td style=\"text-align: right;\">-0.0276799 </td><td style=\"text-align: right;\">-0.0423465</td><td style=\"text-align: right;\">-0.0750686</td><td style=\"text-align: right;\"> 0.0340611</td></tr>\n",
       "<tr><td style=\"text-align: right;\">-0.0646263</td><td style=\"text-align: right;\">-0.135116  </td><td style=\"text-align: right;\"> 0.0109166 </td><td style=\"text-align: right;\">-0.0145286 </td><td style=\"text-align: right;\"> 0.027381  </td><td style=\"text-align: right;\"> 0.103568 </td><td style=\"text-align: right;\"> 0.132137 </td><td style=\"text-align: right;\">-0.176783 </td><td style=\"text-align: right;\">-0.0258922  </td><td style=\"text-align: right;\">0.16537  </td><td style=\"text-align: right;\">-0.124706</td><td style=\"text-align: right;\"> 0.119578   </td><td style=\"text-align: right;\">-0.0467682 </td><td style=\"text-align: right;\">-0.140002 </td><td style=\"text-align: right;\">-0.0832738</td><td style=\"text-align: right;\">-0.0461026</td><td style=\"text-align: right;\">-0.045241  </td><td style=\"text-align: right;\">-0.0331956</td><td style=\"text-align: right;\">0.183995 </td><td style=\"text-align: right;\"> 0.00731666</td><td style=\"text-align: right;\">0.17444  </td><td style=\"text-align: right;\">-0.0533395  </td><td style=\"text-align: right;\">-0.0334479</td><td style=\"text-align: right;\">-0.0320044</td><td style=\"text-align: right;\">0.0852494</td><td style=\"text-align: right;\">-0.0504349 </td><td style=\"text-align: right;\">-0.155429 </td><td style=\"text-align: right;\">-0.112518 </td><td style=\"text-align: right;\">-0.0258348</td><td style=\"text-align: right;\">-0.0638488 </td><td style=\"text-align: right;\">-0.0245503 </td><td style=\"text-align: right;\">-0.108516 </td><td style=\"text-align: right;\">-0.269958 </td><td style=\"text-align: right;\">-0.0289902 </td><td style=\"text-align: right;\">-0.00292225</td><td style=\"text-align: right;\">-0.00811047</td><td style=\"text-align: right;\">0.160079 </td><td style=\"text-align: right;\"> 0.0821044  </td><td style=\"text-align: right;\">-0.0457555</td><td style=\"text-align: right;\"> 0.0308031 </td><td style=\"text-align: right;\">0.0594029</td><td style=\"text-align: right;\">-0.0686267</td><td style=\"text-align: right;\">-0.118701 </td><td style=\"text-align: right;\">-0.0308915 </td><td style=\"text-align: right;\"> 0.0161748 </td><td style=\"text-align: right;\"> 0.000950491</td><td style=\"text-align: right;\">-0.0141412 </td><td style=\"text-align: right;\"> 0.0287133 </td><td style=\"text-align: right;\">-0.0869509</td><td style=\"text-align: right;\"> 0.0619579</td><td style=\"text-align: right;\">-0.0862517</td><td style=\"text-align: right;\">0.144978 </td><td style=\"text-align: right;\"> 0.0478344 </td><td style=\"text-align: right;\"> 0.0175574</td><td style=\"text-align: right;\">-0.0301727</td><td style=\"text-align: right;\">-0.0594688 </td><td style=\"text-align: right;\"> 0.099738 </td><td style=\"text-align: right;\">0.0480811</td><td style=\"text-align: right;\"> 0.00765179</td><td style=\"text-align: right;\">-0.0894158</td><td style=\"text-align: right;\"> 0.0596311</td><td style=\"text-align: right;\"> 0.0670471</td><td style=\"text-align: right;\"> 0.00947626</td><td style=\"text-align: right;\">-0.0625904 </td><td style=\"text-align: right;\"> 0.0998704 </td><td style=\"text-align: right;\"> 0.0601237  </td><td style=\"text-align: right;\">-0.229817 </td><td style=\"text-align: right;\"> 0.166463  </td><td style=\"text-align: right;\">-0.00510502</td><td style=\"text-align: right;\"> 0.0876146</td><td style=\"text-align: right;\"> 0.0148721 </td><td style=\"text-align: right;\"> 0.0173782 </td><td style=\"text-align: right;\"> 0.0619622 </td><td style=\"text-align: right;\"> 0.0366977</td><td style=\"text-align: right;\">-0.0404929 </td><td style=\"text-align: right;\"> 0.0594352  </td><td style=\"text-align: right;\">-0.0736412</td><td style=\"text-align: right;\"> 0.142715 </td><td style=\"text-align: right;\"> 0.232123 </td><td style=\"text-align: right;\">-0.13202  </td><td style=\"text-align: right;\"> 0.113566  </td><td style=\"text-align: right;\"> 0.0543568 </td><td style=\"text-align: right;\">-0.240873 </td><td style=\"text-align: right;\"> 0.209602  </td><td style=\"text-align: right;\"> 0.10637   </td><td style=\"text-align: right;\"> 0.0159577 </td><td style=\"text-align: right;\"> 0.0472309 </td><td style=\"text-align: right;\"> 0.0378983</td><td style=\"text-align: right;\">-0.0808834 </td><td style=\"text-align: right;\">-0.0241241  </td><td style=\"text-align: right;\">-0.0909987 </td><td style=\"text-align: right;\">-0.125737 </td><td style=\"text-align: right;\">-0.0336993 </td><td style=\"text-align: right;\">-0.0638053</td><td style=\"text-align: right;\">-0.0516051 </td><td style=\"text-align: right;\">-0.0460677</td><td style=\"text-align: right;\"> 0.115169  </td><td style=\"text-align: right;\">-0.0444931</td><td style=\"text-align: right;\">-0.07558  </td><td style=\"text-align: right;\"> 0.0944529</td></tr>\n",
       "<tr><td style=\"text-align: right;\">-0.133927 </td><td style=\"text-align: right;\">-0.246408  </td><td style=\"text-align: right;\">-0.404773  </td><td style=\"text-align: right;\"> 0.00912039</td><td style=\"text-align: right;\"> 0.0322794 </td><td style=\"text-align: right;\"> 0.0280011</td><td style=\"text-align: right;\"> 0.153183 </td><td style=\"text-align: right;\">-0.0977823</td><td style=\"text-align: right;\"> 0.000259952</td><td style=\"text-align: right;\">0.0866886</td><td style=\"text-align: right;\">-0.192529</td><td style=\"text-align: right;\"> 0.0734393  </td><td style=\"text-align: right;\"> 0.0807459 </td><td style=\"text-align: right;\">-0.0618627</td><td style=\"text-align: right;\">-0.150609 </td><td style=\"text-align: right;\">-0.0657826</td><td style=\"text-align: right;\"> 0.0702829 </td><td style=\"text-align: right;\"> 0.049138 </td><td style=\"text-align: right;\">0.0770136</td><td style=\"text-align: right;\"> 0.167797  </td><td style=\"text-align: right;\">0.187298 </td><td style=\"text-align: right;\"> 0.10216    </td><td style=\"text-align: right;\">-0.0790073</td><td style=\"text-align: right;\">-0.0306889</td><td style=\"text-align: right;\">0.0458179</td><td style=\"text-align: right;\">-0.113709  </td><td style=\"text-align: right;\">-0.161538 </td><td style=\"text-align: right;\">-0.146934 </td><td style=\"text-align: right;\"> 0.0350003</td><td style=\"text-align: right;\">-0.00521853</td><td style=\"text-align: right;\">-0.00315557</td><td style=\"text-align: right;\">-0.0987346</td><td style=\"text-align: right;\">-0.277187 </td><td style=\"text-align: right;\">-0.0565237 </td><td style=\"text-align: right;\"> 0.0620161 </td><td style=\"text-align: right;\">-0.133876  </td><td style=\"text-align: right;\">0.185849 </td><td style=\"text-align: right;\"> 0.0790827  </td><td style=\"text-align: right;\">-0.0364155</td><td style=\"text-align: right;\">-0.167566  </td><td style=\"text-align: right;\">0.0939308</td><td style=\"text-align: right;\">-0.0440126</td><td style=\"text-align: right;\">-0.0836452</td><td style=\"text-align: right;\">-0.0956186 </td><td style=\"text-align: right;\">-0.018346  </td><td style=\"text-align: right;\"> 0.0359186  </td><td style=\"text-align: right;\"> 0.0442077 </td><td style=\"text-align: right;\"> 0.0335404 </td><td style=\"text-align: right;\">-0.122763 </td><td style=\"text-align: right;\">-0.142825 </td><td style=\"text-align: right;\">-0.129281 </td><td style=\"text-align: right;\">0.10199  </td><td style=\"text-align: right;\">-0.00737363</td><td style=\"text-align: right;\"> 0.0184398</td><td style=\"text-align: right;\">-0.032858 </td><td style=\"text-align: right;\"> 0.0368959 </td><td style=\"text-align: right;\"> 0.0156709</td><td style=\"text-align: right;\">0.103192 </td><td style=\"text-align: right;\"> 0.0840346 </td><td style=\"text-align: right;\"> 0.0596452</td><td style=\"text-align: right;\"> 0.0963547</td><td style=\"text-align: right;\">-0.205653 </td><td style=\"text-align: right;\">-0.0253571 </td><td style=\"text-align: right;\">-0.115139  </td><td style=\"text-align: right;\">-0.0466336 </td><td style=\"text-align: right;\"> 0.00463465 </td><td style=\"text-align: right;\">-0.0878982</td><td style=\"text-align: right;\"> 0.121563  </td><td style=\"text-align: right;\">-0.0819886 </td><td style=\"text-align: right;\"> 0.165276 </td><td style=\"text-align: right;\"> 0.119074  </td><td style=\"text-align: right;\"> 0.115479  </td><td style=\"text-align: right;\"> 0.129063  </td><td style=\"text-align: right;\">-0.0415777</td><td style=\"text-align: right;\">-0.00017953</td><td style=\"text-align: right;\"> 0.066113   </td><td style=\"text-align: right;\"> 0.0373413</td><td style=\"text-align: right;\"> 0.12684  </td><td style=\"text-align: right;\">-0.100467 </td><td style=\"text-align: right;\">-0.117744 </td><td style=\"text-align: right;\"> 0.0153986 </td><td style=\"text-align: right;\">-0.00600035</td><td style=\"text-align: right;\">-0.0120201</td><td style=\"text-align: right;\">-0.0551062 </td><td style=\"text-align: right;\">-0.0738828 </td><td style=\"text-align: right;\">-0.00108658</td><td style=\"text-align: right;\">-0.146018  </td><td style=\"text-align: right;\"> 0.173382 </td><td style=\"text-align: right;\"> 0.0653135 </td><td style=\"text-align: right;\">-0.14171    </td><td style=\"text-align: right;\">-0.00353812</td><td style=\"text-align: right;\">-0.0138517</td><td style=\"text-align: right;\"> 0.0724463 </td><td style=\"text-align: right;\"> 0.0767969</td><td style=\"text-align: right;\">-0.110131  </td><td style=\"text-align: right;\">-0.198862 </td><td style=\"text-align: right;\"> 0.120406  </td><td style=\"text-align: right;\">-0.0972876</td><td style=\"text-align: right;\">-0.0586397</td><td style=\"text-align: right;\"> 0.0406654</td></tr>\n",
       "<tr><td style=\"text-align: right;\">-0.11033  </td><td style=\"text-align: right;\">-0.0736761 </td><td style=\"text-align: right;\">-0.0295152 </td><td style=\"text-align: right;\"> 0.0142428 </td><td style=\"text-align: right;\"> 0.110036  </td><td style=\"text-align: right;\">-0.135992 </td><td style=\"text-align: right;\">-0.104787 </td><td style=\"text-align: right;\">-0.101319 </td><td style=\"text-align: right;\">-0.115953   </td><td style=\"text-align: right;\">0.155079 </td><td style=\"text-align: right;\">-0.207408</td><td style=\"text-align: right;\"> 0.0694014  </td><td style=\"text-align: right;\">-0.0652281 </td><td style=\"text-align: right;\">-0.123813 </td><td style=\"text-align: right;\">-0.267707 </td><td style=\"text-align: right;\">-0.0729534</td><td style=\"text-align: right;\"> 0.186303  </td><td style=\"text-align: right;\">-0.0519477</td><td style=\"text-align: right;\">0.102276 </td><td style=\"text-align: right;\"> 0.272893  </td><td style=\"text-align: right;\">0.0826628</td><td style=\"text-align: right;\">-0.098227   </td><td style=\"text-align: right;\">-0.0176501</td><td style=\"text-align: right;\">-0.0925131</td><td style=\"text-align: right;\">0.0976818</td><td style=\"text-align: right;\"> 0.0103259 </td><td style=\"text-align: right;\">-0.0331607</td><td style=\"text-align: right;\">-0.0832637</td><td style=\"text-align: right;\"> 0.208575 </td><td style=\"text-align: right;\">-0.0853805 </td><td style=\"text-align: right;\">-0.111357  </td><td style=\"text-align: right;\">-0.0309038</td><td style=\"text-align: right;\">-0.0624765</td><td style=\"text-align: right;\">-0.0300711 </td><td style=\"text-align: right;\"> 0.151601  </td><td style=\"text-align: right;\">-0.0873808 </td><td style=\"text-align: right;\">0.175027 </td><td style=\"text-align: right;\"> 0.0629373  </td><td style=\"text-align: right;\">-0.0315875</td><td style=\"text-align: right;\">-0.00913242</td><td style=\"text-align: right;\">0.120872 </td><td style=\"text-align: right;\">-0.0278167</td><td style=\"text-align: right;\">-0.0924753</td><td style=\"text-align: right;\"> 0.110588  </td><td style=\"text-align: right;\"> 0.00362451</td><td style=\"text-align: right;\">-0.0782143  </td><td style=\"text-align: right;\"> 0.0222902 </td><td style=\"text-align: right;\"> 0.00372643</td><td style=\"text-align: right;\">-0.0797248</td><td style=\"text-align: right;\"> 0.0611098</td><td style=\"text-align: right;\"> 0.0390694</td><td style=\"text-align: right;\">0.20164  </td><td style=\"text-align: right;\"> 0.0299545 </td><td style=\"text-align: right;\">-0.0708846</td><td style=\"text-align: right;\">-0.0737938</td><td style=\"text-align: right;\">-0.00279352</td><td style=\"text-align: right;\"> 0.060917 </td><td style=\"text-align: right;\">0.147175 </td><td style=\"text-align: right;\"> 0.042188  </td><td style=\"text-align: right;\">-0.136995 </td><td style=\"text-align: right;\">-0.052391 </td><td style=\"text-align: right;\">-0.0696597</td><td style=\"text-align: right;\"> 0.0352353 </td><td style=\"text-align: right;\"> 0.00446058</td><td style=\"text-align: right;\">-0.0244887 </td><td style=\"text-align: right;\">-0.0468197  </td><td style=\"text-align: right;\">-0.0927663</td><td style=\"text-align: right;\"> 0.00689769</td><td style=\"text-align: right;\"> 0.0690128 </td><td style=\"text-align: right;\"> 0.0915361</td><td style=\"text-align: right;\"> 0.149049  </td><td style=\"text-align: right;\"> 0.0569194 </td><td style=\"text-align: right;\"> 0.0651336 </td><td style=\"text-align: right;\">-0.043956 </td><td style=\"text-align: right;\">-0.111315  </td><td style=\"text-align: right;\">-0.0656001  </td><td style=\"text-align: right;\">-0.0080513</td><td style=\"text-align: right;\"> 0.0696782</td><td style=\"text-align: right;\"> 0.0785348</td><td style=\"text-align: right;\">-0.145608 </td><td style=\"text-align: right;\"> 0.187074  </td><td style=\"text-align: right;\"> 0.0711299 </td><td style=\"text-align: right;\">-0.0745281</td><td style=\"text-align: right;\"> 0.0462016 </td><td style=\"text-align: right;\"> 0.0264005 </td><td style=\"text-align: right;\">-0.142515  </td><td style=\"text-align: right;\"> 0.0202159 </td><td style=\"text-align: right;\"> 0.140473 </td><td style=\"text-align: right;\">-0.0743068 </td><td style=\"text-align: right;\">-0.0203139  </td><td style=\"text-align: right;\">-0.128626  </td><td style=\"text-align: right;\"> 0.0250363</td><td style=\"text-align: right;\"> 0.0425619 </td><td style=\"text-align: right;\">-0.152897 </td><td style=\"text-align: right;\">-0.0670057 </td><td style=\"text-align: right;\">-0.115361 </td><td style=\"text-align: right;\"> 0.00400088</td><td style=\"text-align: right;\">-0.0997777</td><td style=\"text-align: right;\">-0.0235808</td><td style=\"text-align: right;\"> 0.0135939</td></tr>\n",
       "<tr><td style=\"text-align: right;\">-0.0594635</td><td style=\"text-align: right;\">-0.245418  </td><td style=\"text-align: right;\">-0.291104  </td><td style=\"text-align: right;\"> 0.0100591 </td><td style=\"text-align: right;\">-0.0361235 </td><td style=\"text-align: right;\"> 0.0372156</td><td style=\"text-align: right;\">-0.0488363</td><td style=\"text-align: right;\">-0.143514 </td><td style=\"text-align: right;\"> 0.0148307  </td><td style=\"text-align: right;\">0.082433 </td><td style=\"text-align: right;\">-0.248668</td><td style=\"text-align: right;\"> 0.000403864</td><td style=\"text-align: right;\">-0.00055551</td><td style=\"text-align: right;\">-0.0929963</td><td style=\"text-align: right;\">-0.200715 </td><td style=\"text-align: right;\">-0.0542965</td><td style=\"text-align: right;\"> 0.0218522 </td><td style=\"text-align: right;\">-0.0156843</td><td style=\"text-align: right;\">0.065528 </td><td style=\"text-align: right;\"> 0.193296  </td><td style=\"text-align: right;\">0.16952  </td><td style=\"text-align: right;\">-0.0364823  </td><td style=\"text-align: right;\">-0.0145672</td><td style=\"text-align: right;\">-0.0364544</td><td style=\"text-align: right;\">0.128922 </td><td style=\"text-align: right;\">-0.0666024 </td><td style=\"text-align: right;\">-0.133894 </td><td style=\"text-align: right;\">-0.239446 </td><td style=\"text-align: right;\"> 0.0649559</td><td style=\"text-align: right;\">-0.00523107</td><td style=\"text-align: right;\"> 0.00778728</td><td style=\"text-align: right;\"> 0.0147103</td><td style=\"text-align: right;\">-0.126772 </td><td style=\"text-align: right;\"> 0.00694771</td><td style=\"text-align: right;\"> 0.0972537 </td><td style=\"text-align: right;\"> 0.065675  </td><td style=\"text-align: right;\">0.0697344</td><td style=\"text-align: right;\"> 0.0314999  </td><td style=\"text-align: right;\"> 0.0254739</td><td style=\"text-align: right;\">-0.141275  </td><td style=\"text-align: right;\">0.0764283</td><td style=\"text-align: right;\">-0.0363923</td><td style=\"text-align: right;\">-0.0967915</td><td style=\"text-align: right;\"> 0.0298913 </td><td style=\"text-align: right;\">-0.00644111</td><td style=\"text-align: right;\"> 0.0742596  </td><td style=\"text-align: right;\"> 0.0805156 </td><td style=\"text-align: right;\"> 0.0235588 </td><td style=\"text-align: right;\">-0.0852967</td><td style=\"text-align: right;\">-0.0802478</td><td style=\"text-align: right;\">-0.0229309</td><td style=\"text-align: right;\">0.0567987</td><td style=\"text-align: right;\"> 0.0659221 </td><td style=\"text-align: right;\">-0.0648008</td><td style=\"text-align: right;\">-0.100615 </td><td style=\"text-align: right;\"> 0.106561  </td><td style=\"text-align: right;\">-0.0158426</td><td style=\"text-align: right;\">0.0628955</td><td style=\"text-align: right;\"> 0.0334566 </td><td style=\"text-align: right;\">-0.0424281</td><td style=\"text-align: right;\"> 0.0176987</td><td style=\"text-align: right;\">-0.0156101</td><td style=\"text-align: right;\">-0.0618311 </td><td style=\"text-align: right;\">-0.0679789 </td><td style=\"text-align: right;\">-0.0203017 </td><td style=\"text-align: right;\"> 0.0207618  </td><td style=\"text-align: right;\">-0.180073 </td><td style=\"text-align: right;\"> 0.00544168</td><td style=\"text-align: right;\">-0.0780406 </td><td style=\"text-align: right;\"> 0.127166 </td><td style=\"text-align: right;\"> 0.0750292 </td><td style=\"text-align: right;\"> 0.0796747 </td><td style=\"text-align: right;\">-0.00185874</td><td style=\"text-align: right;\">-0.0683827</td><td style=\"text-align: right;\"> 0.0295951 </td><td style=\"text-align: right;\"> 0.0172606  </td><td style=\"text-align: right;\">-0.0630776</td><td style=\"text-align: right;\"> 0.0762003</td><td style=\"text-align: right;\"> 0.0464042</td><td style=\"text-align: right;\">-0.0673602</td><td style=\"text-align: right;\"> 0.0685827 </td><td style=\"text-align: right;\">-0.0305217 </td><td style=\"text-align: right;\">-0.0567302</td><td style=\"text-align: right;\"> 0.0416449 </td><td style=\"text-align: right;\">-0.0199796 </td><td style=\"text-align: right;\">-0.140646  </td><td style=\"text-align: right;\">-0.00727141</td><td style=\"text-align: right;\"> 0.0283383</td><td style=\"text-align: right;\"> 0.0497738 </td><td style=\"text-align: right;\">-0.138897   </td><td style=\"text-align: right;\"> 0.0334122 </td><td style=\"text-align: right;\">-0.0998271</td><td style=\"text-align: right;\">-0.00459316</td><td style=\"text-align: right;\">-0.027744 </td><td style=\"text-align: right;\">-0.0244296 </td><td style=\"text-align: right;\">-0.15021  </td><td style=\"text-align: right;\"> 0.0995024 </td><td style=\"text-align: right;\">-0.0791577</td><td style=\"text-align: right;\">-0.0745188</td><td style=\"text-align: right;\"> 0.0343882</td></tr>\n",
       "<tr><td style=\"text-align: right;\">-0.0356787</td><td style=\"text-align: right;\">-0.342157  </td><td style=\"text-align: right;\">-0.227912  </td><td style=\"text-align: right;\"> 0.0313304 </td><td style=\"text-align: right;\"> 0.114935  </td><td style=\"text-align: right;\"> 0.0505776</td><td style=\"text-align: right;\"> 0.0540493</td><td style=\"text-align: right;\">-0.102425 </td><td style=\"text-align: right;\"> 0.0201335  </td><td style=\"text-align: right;\">0.0465769</td><td style=\"text-align: right;\">-0.131969</td><td style=\"text-align: right;\"> 0.0847177  </td><td style=\"text-align: right;\">-0.0371301 </td><td style=\"text-align: right;\">-0.0632048</td><td style=\"text-align: right;\">-0.0447991</td><td style=\"text-align: right;\">-0.0887162</td><td style=\"text-align: right;\">-0.0903426 </td><td style=\"text-align: right;\"> 0.0401818</td><td style=\"text-align: right;\">0.109893 </td><td style=\"text-align: right;\"> 0.176023  </td><td style=\"text-align: right;\">0.141091 </td><td style=\"text-align: right;\"> 3.70116e-05</td><td style=\"text-align: right;\"> 0.0956972</td><td style=\"text-align: right;\">-0.0654736</td><td style=\"text-align: right;\">0.116633 </td><td style=\"text-align: right;\">-0.00764443</td><td style=\"text-align: right;\">-0.126037 </td><td style=\"text-align: right;\">-0.206535 </td><td style=\"text-align: right;\">-0.0322114</td><td style=\"text-align: right;\"> 0.0333168 </td><td style=\"text-align: right;\">-0.0431311 </td><td style=\"text-align: right;\">-0.141634 </td><td style=\"text-align: right;\">-0.138711 </td><td style=\"text-align: right;\">-0.0374217 </td><td style=\"text-align: right;\"> 0.093349  </td><td style=\"text-align: right;\">-0.0239877 </td><td style=\"text-align: right;\">0.149038 </td><td style=\"text-align: right;\"> 0.000190112</td><td style=\"text-align: right;\"> 0.0900578</td><td style=\"text-align: right;\">-0.112727  </td><td style=\"text-align: right;\">0.0140164</td><td style=\"text-align: right;\">-0.0315973</td><td style=\"text-align: right;\"> 0.0105181</td><td style=\"text-align: right;\">-0.0148601 </td><td style=\"text-align: right;\">-0.0405738 </td><td style=\"text-align: right;\"> 0.00610464 </td><td style=\"text-align: right;\">-0.0123038 </td><td style=\"text-align: right;\">-0.0386668 </td><td style=\"text-align: right;\">-0.0621893</td><td style=\"text-align: right;\"> 0.018436 </td><td style=\"text-align: right;\">-0.132365 </td><td style=\"text-align: right;\">0.0556167</td><td style=\"text-align: right;\"> 0.0551065 </td><td style=\"text-align: right;\"> 0.0145937</td><td style=\"text-align: right;\">-0.040254 </td><td style=\"text-align: right;\"> 0.0602268 </td><td style=\"text-align: right;\"> 0.0357944</td><td style=\"text-align: right;\">0.220827 </td><td style=\"text-align: right;\"> 0.0555158 </td><td style=\"text-align: right;\">-0.0889062</td><td style=\"text-align: right;\"> 0.0593729</td><td style=\"text-align: right;\">-0.0724626</td><td style=\"text-align: right;\">-0.0339362 </td><td style=\"text-align: right;\">-0.0754171 </td><td style=\"text-align: right;\"> 0.128357  </td><td style=\"text-align: right;\"> 0.00712937 </td><td style=\"text-align: right;\">-0.166763 </td><td style=\"text-align: right;\"> 0.0231363 </td><td style=\"text-align: right;\">-0.0834645 </td><td style=\"text-align: right;\"> 0.0508694</td><td style=\"text-align: right;\">-0.0355123 </td><td style=\"text-align: right;\"> 0.141027  </td><td style=\"text-align: right;\"> 0.0896317 </td><td style=\"text-align: right;\">-0.123573 </td><td style=\"text-align: right;\"> 0.0705401 </td><td style=\"text-align: right;\">-0.000782214</td><td style=\"text-align: right;\">-0.0907171</td><td style=\"text-align: right;\"> 0.0971499</td><td style=\"text-align: right;\"> 0.0844521</td><td style=\"text-align: right;\">-0.133374 </td><td style=\"text-align: right;\"> 0.113496  </td><td style=\"text-align: right;\">-0.046641  </td><td style=\"text-align: right;\">-0.0503475</td><td style=\"text-align: right;\"> 0.0940336 </td><td style=\"text-align: right;\"> 0.0277894 </td><td style=\"text-align: right;\">-0.0369655 </td><td style=\"text-align: right;\"> 0.0473598 </td><td style=\"text-align: right;\"> 0.162735 </td><td style=\"text-align: right;\"> 0.00966283</td><td style=\"text-align: right;\">-0.000608802</td><td style=\"text-align: right;\">-0.071114  </td><td style=\"text-align: right;\">-0.0871354</td><td style=\"text-align: right;\"> 0.0138969 </td><td style=\"text-align: right;\"> 0.0465203</td><td style=\"text-align: right;\">-0.0233123 </td><td style=\"text-align: right;\">-0.175907 </td><td style=\"text-align: right;\"> 0.0579398 </td><td style=\"text-align: right;\">-0.110858 </td><td style=\"text-align: right;\"> 0.0100219</td><td style=\"text-align: right;\"> 0.0252927</td></tr>\n",
       "<tr><td style=\"text-align: right;\"> 0.001611 </td><td style=\"text-align: right;\">-0.271692  </td><td style=\"text-align: right;\">-0.500272  </td><td style=\"text-align: right;\"> 0.249656  </td><td style=\"text-align: right;\"> 0.136966  </td><td style=\"text-align: right;\">-0.0509321</td><td style=\"text-align: right;\">-0.165822 </td><td style=\"text-align: right;\">-0.273234 </td><td style=\"text-align: right;\"> 0.0458705  </td><td style=\"text-align: right;\">0.197222 </td><td style=\"text-align: right;\">-0.146184</td><td style=\"text-align: right;\">-0.426988   </td><td style=\"text-align: right;\"> 0.0753255 </td><td style=\"text-align: right;\">-0.0902393</td><td style=\"text-align: right;\"> 0.014823 </td><td style=\"text-align: right;\">-0.110606 </td><td style=\"text-align: right;\">-0.0177337 </td><td style=\"text-align: right;\"> 0.0653557</td><td style=\"text-align: right;\">0.130681 </td><td style=\"text-align: right;\"> 0.252744  </td><td style=\"text-align: right;\">0.320113 </td><td style=\"text-align: right;\">-0.102859   </td><td style=\"text-align: right;\"> 0.021716 </td><td style=\"text-align: right;\"> 0.268988 </td><td style=\"text-align: right;\">0.152983 </td><td style=\"text-align: right;\"> 0.0115415 </td><td style=\"text-align: right;\">-0.0481119</td><td style=\"text-align: right;\">-0.466784 </td><td style=\"text-align: right;\">-0.0764429</td><td style=\"text-align: right;\"> 0.172178  </td><td style=\"text-align: right;\">-0.00840132</td><td style=\"text-align: right;\">-0.0419218</td><td style=\"text-align: right;\">-0.134848 </td><td style=\"text-align: right;\">-0.0877399 </td><td style=\"text-align: right;\"> 0.0251755 </td><td style=\"text-align: right;\">-0.129147  </td><td style=\"text-align: right;\">0.22403  </td><td style=\"text-align: right;\">-0.23018    </td><td style=\"text-align: right;\">-0.112544 </td><td style=\"text-align: right;\">-0.528852  </td><td style=\"text-align: right;\">0.0470736</td><td style=\"text-align: right;\">-0.119519 </td><td style=\"text-align: right;\"> 0.0561294</td><td style=\"text-align: right;\">-0.00424378</td><td style=\"text-align: right;\">-0.150679  </td><td style=\"text-align: right;\">-0.0261479  </td><td style=\"text-align: right;\"> 0.10512   </td><td style=\"text-align: right;\"> 0.0558182 </td><td style=\"text-align: right;\">-0.0886727</td><td style=\"text-align: right;\">-0.0475079</td><td style=\"text-align: right;\">-0.251863 </td><td style=\"text-align: right;\">0.0357803</td><td style=\"text-align: right;\"> 0.101249  </td><td style=\"text-align: right;\">-0.153049 </td><td style=\"text-align: right;\"> 0.101152 </td><td style=\"text-align: right;\"> 0.0566288 </td><td style=\"text-align: right;\"> 0.164185 </td><td style=\"text-align: right;\">0.0456996</td><td style=\"text-align: right;\">-0.0827229 </td><td style=\"text-align: right;\">-0.027279 </td><td style=\"text-align: right;\"> 0.218041 </td><td style=\"text-align: right;\">-0.058483 </td><td style=\"text-align: right;\">-0.0963581 </td><td style=\"text-align: right;\">-0.0690088 </td><td style=\"text-align: right;\"> 0.0308315 </td><td style=\"text-align: right;\"> 0.234725   </td><td style=\"text-align: right;\"> 0.148961 </td><td style=\"text-align: right;\">-0.0737278 </td><td style=\"text-align: right;\">-0.114204  </td><td style=\"text-align: right;\">-0.0518858</td><td style=\"text-align: right;\"> 0.0838589 </td><td style=\"text-align: right;\">-0.14195   </td><td style=\"text-align: right;\"> 0.122238  </td><td style=\"text-align: right;\">-0.187243 </td><td style=\"text-align: right;\">-0.19976   </td><td style=\"text-align: right;\">-0.0822936  </td><td style=\"text-align: right;\">-0.0644251</td><td style=\"text-align: right;\"> 0.0582677</td><td style=\"text-align: right;\"> 0.278458 </td><td style=\"text-align: right;\">-0.238689 </td><td style=\"text-align: right;\"> 0.114229  </td><td style=\"text-align: right;\">-0.091986  </td><td style=\"text-align: right;\"> 0.173979 </td><td style=\"text-align: right;\">-0.0461223 </td><td style=\"text-align: right;\">-0.0202992 </td><td style=\"text-align: right;\"> 0.237839  </td><td style=\"text-align: right;\">-0.0219541 </td><td style=\"text-align: right;\"> 0.162061 </td><td style=\"text-align: right;\"> 0.0334104 </td><td style=\"text-align: right;\">-0.392028   </td><td style=\"text-align: right;\">-0.164515  </td><td style=\"text-align: right;\">-0.0359711</td><td style=\"text-align: right;\"> 0.179475  </td><td style=\"text-align: right;\"> 0.0801565</td><td style=\"text-align: right;\">-0.00280719</td><td style=\"text-align: right;\">-0.0334845</td><td style=\"text-align: right;\"> 0.0274343 </td><td style=\"text-align: right;\">-0.0218506</td><td style=\"text-align: right;\"> 0.265246 </td><td style=\"text-align: right;\">-0.0814252</td></tr>\n",
       "</tbody>\n",
       "</table>"
      ]
     },
     "metadata": {},
     "output_type": "display_data"
    },
    {
     "data": {
      "text/plain": []
     },
     "execution_count": 37,
     "metadata": {},
     "output_type": "execute_result"
    }
   ],
   "source": [
    "review_vecs"
   ]
  },
  {
   "cell_type": "code",
   "execution_count": 38,
   "metadata": {
    "collapsed": true
   },
   "outputs": [],
   "source": [
    "# Add aggregated word embeddings \n",
    "ext_reviews = reviews.cbind(review_vecs)"
   ]
  },
  {
   "cell_type": "code",
   "execution_count": 39,
   "metadata": {
    "collapsed": true
   },
   "outputs": [],
   "source": [
    "ext_train = ext_reviews[ext_reviews[\"Train\"] == \"Yes\"]\n",
    "ext_test = ext_reviews[ext_reviews[\"Train\"] == \"No\"]"
   ]
  },
  {
   "cell_type": "code",
   "execution_count": 40,
   "metadata": {
    "collapsed": false
   },
   "outputs": [
    {
     "name": "stdout",
     "output_type": "stream",
     "text": [
      "gbm Model Build progress: |███████████████████████████████████████████████| 100%\n"
     ]
    }
   ],
   "source": [
    "predictors = predictors + review_vecs.names\n",
    "response = 'PositiveReview'\n",
    "\n",
    "gbm_embeddings = H2OGradientBoostingEstimator(stopping_metric = \"AUC\", stopping_tolerance = 0.001,\n",
    "                                              stopping_rounds = 5, score_tree_interval = 10,\n",
    "                                              model_id = \"gbm_embeddings.hex\"\n",
    "                                             )\n",
    "gbm_embeddings.train(x = predictors, y = response, \n",
    "                   training_frame = ext_train, validation_frame = ext_test\n",
    "                  )"
   ]
  },
  {
   "cell_type": "code",
   "execution_count": 41,
   "metadata": {
    "collapsed": false
   },
   "outputs": [
    {
     "name": "stdout",
     "output_type": "stream",
     "text": [
      "Baseline AUC: 0.616\n",
      "With Embeddings AUC: 0.87\n"
     ]
    }
   ],
   "source": [
    "print(\"Baseline AUC: \" + str(round(gbm_baseline.auc(valid = True), 3)))\n",
    "print(\"With Embeddings AUC: \" + str(round(gbm_embeddings.auc(valid = True), 3)))"
   ]
  },
  {
   "cell_type": "code",
   "execution_count": 42,
   "metadata": {
    "collapsed": false
   },
   "outputs": [
    {
     "name": "stdout",
     "output_type": "stream",
     "text": [
      "Confusion Matrix (Act/Pred) for max f1 @ threshold = 0.575044736094041: \n"
     ]
    },
    {
     "data": {
      "text/html": [
       "<div style=\"overflow:auto\"><table style=\"width:50%\"><tr><td><b></b></td>\n",
       "<td><b>0</b></td>\n",
       "<td><b>1</b></td>\n",
       "<td><b>Error</b></td>\n",
       "<td><b>Rate</b></td></tr>\n",
       "<tr><td>0</td>\n",
       "<td>2047.0</td>\n",
       "<td>2613.0</td>\n",
       "<td>0.5607</td>\n",
       "<td> (2613.0/4660.0)</td></tr>\n",
       "<tr><td>1</td>\n",
       "<td>646.0</td>\n",
       "<td>14702.0</td>\n",
       "<td>0.0421</td>\n",
       "<td> (646.0/15348.0)</td></tr>\n",
       "<tr><td>Total</td>\n",
       "<td>2693.0</td>\n",
       "<td>17315.0</td>\n",
       "<td>0.1629</td>\n",
       "<td> (3259.0/20008.0)</td></tr></table></div>"
      ],
      "text/plain": [
       "       0     1      Error    Rate\n",
       "-----  ----  -----  -------  ----------------\n",
       "0      2047  2613   0.5607   (2613.0/4660.0)\n",
       "1      646   14702  0.0421   (646.0/15348.0)\n",
       "Total  2693  17315  0.1629   (3259.0/20008.0)"
      ]
     },
     "metadata": {},
     "output_type": "display_data"
    },
    {
     "data": {
      "text/plain": []
     },
     "execution_count": 42,
     "metadata": {},
     "output_type": "execute_result"
    }
   ],
   "source": [
    "gbm_embeddings.confusion_matrix(valid = True)"
   ]
  },
  {
   "cell_type": "code",
   "execution_count": null,
   "metadata": {
    "collapsed": false,
    "scrolled": true
   },
   "outputs": [
    {
     "data": {
      "image/png": "[encoded data removed]",
      "text/plain": [
       "<matplotlib.figure.Figure at 0x1167f1da0>"
      ]
     },
     "metadata": {},
     "output_type": "display_data"
    }
   ],
   "source": [
    "gbm_embeddings.varimp_plot()"
   ]
  },
  {
   "cell_type": "markdown",
   "metadata": {
    "collapsed": true
   },
   "source": [
    "# Step 8 (of 10).  Run AutoML\n",
    "\n",
    "We will use H2O's AutoML to see if we can improve the performance further by exploring the algorithm and parameter space. "
   ]
  },
  {
   "cell_type": "code",
   "execution_count": null,
   "metadata": {
    "collapsed": false
   },
   "outputs": [
    {
     "name": "stdout",
     "output_type": "stream",
     "text": [
      "AutoML progress: |██████████████"
     ]
    }
   ],
   "source": [
    "from h2o.automl import H2OAutoML\n",
    "\n",
    "automl = H2OAutoML(project_name = \"positive_reviews\", max_runtime_secs = 180, \n",
    "                   keep_cross_validation_models = False, keep_cross_validation_predictions = False,\n",
    "                   nfolds = 3, exclude_algos = [\"DRF\"], seed = 1234)\n",
    "automl.train(x = predictors, y = response, training_frame = ext_train, leaderboard_frame = ext_test)"
   ]
  },
  {
   "cell_type": "code",
   "execution_count": null,
   "metadata": {
    "collapsed": false
   },
   "outputs": [],
   "source": [
    "automl.leaderboard"
   ]
  },
  {
   "cell_type": "markdown",
   "metadata": {},
   "source": [
    "# Step 9 (of 10). Watch AutoML progress (in the H2O Flow Web UI)¶\n",
    "\n",
    "* Go to port 54321\n",
    "* In H2O Flow, go to Admin -> Jobs\n",
    "* Click on the \"Auto Model\" job with the \"positive_reviews\" job name and explore it"
   ]
  },
  {
   "cell_type": "markdown",
   "metadata": {
    "collapsed": true
   },
   "source": [
    "# Step 10 (of 10).  Shutdown the H2O Cluster"
   ]
  },
  {
   "cell_type": "code",
   "execution_count": null,
   "metadata": {
    "collapsed": true
   },
   "outputs": [],
   "source": [
    "h2o.cluster().shutdown()"
   ]
  },
  {
   "cell_type": "markdown",
   "metadata": {},
   "source": [
    "# Bonus: Github location for this tutorial\n",
    "\n",
    "* https://github.com/h2oai/h2o-tutorials/tree/master/training/h2o_3_hands_on/nlp"
   ]
  },
  {
   "cell_type": "code",
   "execution_count": null,
   "metadata": {
    "collapsed": true
   },
   "outputs": [],
   "source": []
  }
 ],
 "metadata": {
  "kernelspec": {
   "display_name": "Python 3",
   "language": "python",
   "name": "python3"
  },
  "language_info": {
   "codemirror_mode": {
    "name": "ipython",
    "version": 3
   },
   "file_extension": ".py",
   "mimetype": "text/x-python",
   "name": "python",
   "nbconvert_exporter": "python",
   "pygments_lexer": "ipython3",
   "version": "3.6.0"
  }
 },
 "nbformat": 4,
 "nbformat_minor": 2
}
