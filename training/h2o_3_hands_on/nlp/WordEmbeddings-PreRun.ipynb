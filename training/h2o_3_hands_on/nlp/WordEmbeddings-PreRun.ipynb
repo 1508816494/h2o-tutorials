{
 "cells": [
  {
   "cell_type": "markdown",
   "metadata": {},
   "source": [
    "## Predicting Good Amazon Reviews\n",
    "\n",
    "For this demo, we will be using the [Amazon Fine Food Reviews Data](https://www.kaggle.com/snap/amazon-fine-food-reviews).  The Amazon Fine Food Reviews dataset consists of 568,454 food reviews Amazon users left up to October 2012.\n",
    "\n",
    "This script is based off of the [Craigslist Word2Vec Demo](https://github.com/h2oai/h2o-3/blob/master/h2o-py/demos/word2vec_craigslistjobtitles.ipynb).\n",
    "\n",
    "Our Machine Learning Workflow is: \n",
    "\n",
    "1. Import data into H2O\n",
    "2. Exploratory Analysis\n",
    "3. Tokenize Text\n",
    "4. Train Word2Vec Model\n",
    "5. Analyze Word Embeddings\n",
    "6. Train Positive Review Model with Original Data\n",
    "7. Train Positive Review Model with Word Embeddings\n",
    "8. Run AutoML\n",
    "9. View AutoML in Flow\n",
    "\n",
    "# Step 1 (of 9).  Import data into H2O\n",
    "\n",
    "We will begin by importing our review data into our H2O cluster."
   ]
  },
  {
   "cell_type": "code",
   "execution_count": 1,
   "metadata": {
    "collapsed": true
   },
   "outputs": [],
   "source": [
    "import h2o"
   ]
  },
  {
   "cell_type": "code",
   "execution_count": 2,
   "metadata": {
    "collapsed": false
   },
   "outputs": [
    {
     "name": "stdout",
     "output_type": "stream",
     "text": [
      "Checking whether there is an H2O instance running at http://localhost:54321..... not found.\n",
      "Attempting to start a local H2O server...\n",
      "  Java Version: java version \"1.8.0_91\"; Java(TM) SE Runtime Environment (build 1.8.0_91-b14); Java HotSpot(TM) 64-Bit Server VM (build 25.91-b14, mixed mode)\n",
      "  Starting server from /Users/megankurka/anaconda3/lib/python3.6/site-packages/h2o/backend/bin/h2o.jar\n",
      "  Ice root: /var/folders/gv/w2f3zs_d33l3dt5j67k9nhhr0000gn/T/tmpurh8ris4\n",
      "  JVM stdout: /var/folders/gv/w2f3zs_d33l3dt5j67k9nhhr0000gn/T/tmpurh8ris4/h2o_megankurka_started_from_python.out\n",
      "  JVM stderr: /var/folders/gv/w2f3zs_d33l3dt5j67k9nhhr0000gn/T/tmpurh8ris4/h2o_megankurka_started_from_python.err\n",
      "  Server is running at http://127.0.0.1:54321\n",
      "Connecting to H2O server at http://127.0.0.1:54321... successful.\n"
     ]
    },
    {
     "data": {
      "text/html": [
       "<div style=\"overflow:auto\"><table style=\"width:50%\"><tr><td>H2O cluster uptime:</td>\n",
       "<td>03 secs</td></tr>\n",
       "<tr><td>H2O cluster timezone:</td>\n",
       "<td>America/Los_Angeles</td></tr>\n",
       "<tr><td>H2O data parsing timezone:</td>\n",
       "<td>UTC</td></tr>\n",
       "<tr><td>H2O cluster version:</td>\n",
       "<td>3.20.0.2</td></tr>\n",
       "<tr><td>H2O cluster version age:</td>\n",
       "<td>1 month and 3 days </td></tr>\n",
       "<tr><td>H2O cluster name:</td>\n",
       "<td>H2O_from_python_megankurka_zzgcho</td></tr>\n",
       "<tr><td>H2O cluster total nodes:</td>\n",
       "<td>1</td></tr>\n",
       "<tr><td>H2O cluster free memory:</td>\n",
       "<td>3.556 Gb</td></tr>\n",
       "<tr><td>H2O cluster total cores:</td>\n",
       "<td>8</td></tr>\n",
       "<tr><td>H2O cluster allowed cores:</td>\n",
       "<td>8</td></tr>\n",
       "<tr><td>H2O cluster status:</td>\n",
       "<td>accepting new members, healthy</td></tr>\n",
       "<tr><td>H2O connection url:</td>\n",
       "<td>http://127.0.0.1:54321</td></tr>\n",
       "<tr><td>H2O connection proxy:</td>\n",
       "<td>None</td></tr>\n",
       "<tr><td>H2O internal security:</td>\n",
       "<td>False</td></tr>\n",
       "<tr><td>H2O API Extensions:</td>\n",
       "<td>XGBoost, Algos, AutoML, Core V3, Core V4</td></tr>\n",
       "<tr><td>Python version:</td>\n",
       "<td>3.6.0 final</td></tr></table></div>"
      ],
      "text/plain": [
       "--------------------------  ----------------------------------------\n",
       "H2O cluster uptime:         03 secs\n",
       "H2O cluster timezone:       America/Los_Angeles\n",
       "H2O data parsing timezone:  UTC\n",
       "H2O cluster version:        3.20.0.2\n",
       "H2O cluster version age:    1 month and 3 days\n",
       "H2O cluster name:           H2O_from_python_megankurka_zzgcho\n",
       "H2O cluster total nodes:    1\n",
       "H2O cluster free memory:    3.556 Gb\n",
       "H2O cluster total cores:    8\n",
       "H2O cluster allowed cores:  8\n",
       "H2O cluster status:         accepting new members, healthy\n",
       "H2O connection url:         http://127.0.0.1:54321\n",
       "H2O connection proxy:\n",
       "H2O internal security:      False\n",
       "H2O API Extensions:         XGBoost, Algos, AutoML, Core V3, Core V4\n",
       "Python version:             3.6.0 final\n",
       "--------------------------  ----------------------------------------"
      ]
     },
     "metadata": {},
     "output_type": "display_data"
    }
   ],
   "source": [
    "h2o.init(max_mem_size=\"4G\")"
   ]
  },
  {
   "cell_type": "code",
   "execution_count": 3,
   "metadata": {
    "collapsed": false
   },
   "outputs": [
    {
     "name": "stdout",
     "output_type": "stream",
     "text": [
      "Parse progress: |█████████████████████████████████████████████████████████| 100%\n"
     ]
    }
   ],
   "source": [
    "# Load data into H2O\n",
    "\n",
    "# https://s3-us-west-2.amazonaws.com/h2o-tutorials/data/topics/nlp/amazon_reviews/AmazonReviews.csv\n",
    "reviews = h2o.import_file(\"../../data/topics/nlp/amazon_reviews/AmazonReviews.csv\")"
   ]
  },
  {
   "cell_type": "markdown",
   "metadata": {},
   "source": [
    "# Step 2 (of 9).  Exploratory Analysis\n",
    "\n",
    "We will start our analysis by exploring the dataset and creating our target column.  In this case, we would like to predict whether or not a reviewer liked the product."
   ]
  },
  {
   "cell_type": "code",
   "execution_count": 4,
   "metadata": {
    "collapsed": false
   },
   "outputs": [
    {
     "name": "stdout",
     "output_type": "stream",
     "text": [
      "[100000, 10]\n"
     ]
    }
   ],
   "source": [
    "print(reviews.dim)"
   ]
  },
  {
   "cell_type": "code",
   "execution_count": 5,
   "metadata": {
    "collapsed": false
   },
   "outputs": [
    {
     "data": {
      "text/html": [
       "<table>\n",
       "<thead>\n",
       "<tr><th>ProductId  </th><th>UserId        </th><th>Summary                               </th><th style=\"text-align: right;\">  Score</th><th style=\"text-align: right;\">  HelpfulnessDenominator</th><th style=\"text-align: right;\">    Id</th><th>ProfileName                                      </th><th style=\"text-align: right;\">  HelpfulnessNumerator</th><th style=\"text-align: right;\">       Time</th><th>Text                                                                                                                                                                                                                                                                                                                                                                                                                                                                                                                                                                                                                                                                                                                                                                                                                                                                                                                                                                                                                                                                                                                                                                                                                                                                                                                                                                                                                                                                                                                                                                                                                                                                                                                                                                                                                                                                                                                                                                                                                                                                                                                                                                                                                                                                                                                                                                                                                                                                                                                                                                                                                                                                                                                                                                                                                                                                                                                                                                                                                                                                                                                                                                                                                                                                </th></tr>\n",
       "</thead>\n",
       "<tbody>\n",
       "<tr><td>B00141QYSQ </td><td>A1YS02UZZGRDCT</td><td>Do Not Buy                            </td><td style=\"text-align: right;\">      1</td><td style=\"text-align: right;\">                       2</td><td style=\"text-align: right;\"> 41471</td><td>Evan Eberhardt                                   </td><td style=\"text-align: right;\">                     2</td><td style=\"text-align: right;\">1.34836e+09</td><td>These are made in China (do not buy ANY pet food from China).  Dogswell has been using propylene glycol to soften their treats (what are they thinkng?).  Do not purchase or support this company in any way until they clean up their act.  And for whatever reason Amazon doesn't allow returns of this item, so I had to toss mine out.  Bad business all around on this one.                                                                                                                                                                                                                                                                                                                                                                                                                                                                                                                                                                                                                                                                                                                                                                                                                                                                                                                                                                                                                                                                                                                                                                                                                                                                                                                                                                                                                                                                                                                                                                                                                                                                                                                                                                                                                                                                                                                                                                                                                                                                                                                                                                                                                                                                                                                                                                                                                                                                                                                                                                                                                                                                                                                                                                                                                                                                                    </td></tr>\n",
       "<tr><td>B0089SPEO2 </td><td>A3JOYNYL458QHP</td><td>Less lemon and less zing              </td><td style=\"text-align: right;\">      3</td><td style=\"text-align: right;\">                       0</td><td style=\"text-align: right;\"> 28582</td><td>coleridge                                        </td><td style=\"text-align: right;\">                     0</td><td style=\"text-align: right;\">1.32391e+09</td><td>Everything is ok, except it just isn't as good as it is in the bags.  Just considerably more bland -- less lemon and less zing.  Boring.                                                                                                                                                                                                                                                                                                                                                                                                                                                                                                                                                                                                                                                                                                                                                                                                                                                                                                                                                                                                                                                                                                                                                                                                                                                                                                                                                                                                                                                                                                                                                                                                                                                                                                                                                                                                                                                                                                                                                                                                                                                                                                                                                                                                                                                                                                                                                                                                                                                                                                                                                                                                                                                                                                                                                                                                                                                                                                                                                                                                                                                                                                                            </td></tr>\n",
       "<tr><td>B001PMCDK2 </td><td>A14TTMM0Z03Y2W</td><td>my cat goes crazy for these!          </td><td style=\"text-align: right;\">      5</td><td style=\"text-align: right;\">                       0</td><td style=\"text-align: right;\">389965</td><td>Lindsay S. Bradford                              </td><td style=\"text-align: right;\">                     0</td><td style=\"text-align: right;\">1.3106e+09 </td><td>Best cat treat ever. There isn't anything comparable to the love my cat has for these treats, he snubs away any other kind now.<br />I know he likes to manipulate me with his cattiness but these treats are my way of manipulating him to come sit on my lap and have some chill time. :)                                                                                                                                                                                                                                                                                                                                                                                                                                                                                                                                                                                                                                                                                                                                                                                                                                                                                                                                                                                                                                                                                                                                                                                                                                                                                                                                                                                                                                                                                                                                                                                                                                                                                                                                                                                                                                                                                                                                                                                                                                                                                                                                                                                                                                                                                                                                                                                                                                                                                                                                                                                                                                                                                                                                                                                                                                                                                                                                                                         </td></tr>\n",
       "<tr><td>B002Q8JOSI </td><td>A17UQD2RSSQH5X</td><td>My dogs tell me these treats are YUMMY</td><td style=\"text-align: right;\">      5</td><td style=\"text-align: right;\">                       1</td><td style=\"text-align: right;\">212536</td><td>in the dark                                      </td><td style=\"text-align: right;\">                     1</td><td style=\"text-align: right;\">1.31613e+09</td><td>My two Corgis were thoroughly spoiled by my late husband (I spent a year and a half dieting them down a combined total of 25 pounds!)<br /><br />They are accustomed to the finest of fare, and they absolutely love the Wellness brand of treats.                                                                                                                                                                                                                                                                                                                                                                                                                                                                                                                                                                                                                                                                                                                                                                                                                                                                                                                                                                                                                                                                                                                                                                                                                                                                                                                                                                                                                                                                                                                                                                                                                                                                                                                                                                                                                                                                                                                                                                                                                                                                                                                                                                                                                                                                                                                                                                                                                                                                                                                                                                                                                                                                                                                                                                                                                                                                                                                                                                                                                  </td></tr>\n",
       "<tr><td>B00176G870 </td><td>A2F2MZW8EOGH5J</td><td>Yummy to the tummy                    </td><td style=\"text-align: right;\">      5</td><td style=\"text-align: right;\">                       0</td><td style=\"text-align: right;\">115971</td><td>daemoncycler \"\"When you arrive at a fork in th...</td><td style=\"text-align: right;\">                     0</td><td style=\"text-align: right;\">1.33479e+09</td><td>We used to have drive down to the specialty pet food store for this product.  So glad we discovered Amazon.  As far as I can tell it is no more expensive & in some cases less - Prime membership is awesome.  Loving Pets treats are some of the best according to my dog.  They do not develop that nasty smell like some dog treats do.                                                                                                                                                                                                                                                                                                                                                                                                                                                                                                                                                                                                                                                                                                                                                                                                                                                                                                                                                                                                                                                                                                                                                                                                                                                                                                                                                                                                                                                                                                                                                                                                                                                                                                                                                                                                                                                                                                                                                                                                                                                                                                                                                                                                                                                                                                                                                                                                                                                                                                                                                                                                                                                                                                                                                                                                                                                                                                                          </td></tr>\n",
       "<tr><td>B001CHFUGY </td><td>A2M8VROSDPU4JT</td><td>Very good coffee                      </td><td style=\"text-align: right;\">      5</td><td style=\"text-align: right;\">                       1</td><td style=\"text-align: right;\">434484</td><td>Officefan \"\"Officefankt\"\"                        </td><td style=\"text-align: right;\">                     1</td><td style=\"text-align: right;\">1.27725e+09</td><td>I really liked this coffee, it was just as good as everyone claimed it was.  Strong, bold and flavorful!  I would recommend!                                                                                                                                                                                                                                                                                                                                                                                                                                                                                                                                                                                                                                                                                                                                                                                                                                                                                                                                                                                                                                                                                                                                                                                                                                                                                                                                                                                                                                                                                                                                                                                                                                                                                                                                                                                                                                                                                                                                                                                                                                                                                                                                                                                                                                                                                                                                                                                                                                                                                                                                                                                                                                                                                                                                                                                                                                                                                                                                                                                                                                                                                                                                        </td></tr>\n",
       "<tr><td>B0041CIR62 </td><td>A16I6WJUEBJ1C3</td><td>okay but not as healthy as it appears </td><td style=\"text-align: right;\">      2</td><td style=\"text-align: right;\">                       1</td><td style=\"text-align: right;\">138997</td><td>doctorsirena \"\"doctorsirena\"\"                    </td><td style=\"text-align: right;\">                     1</td><td style=\"text-align: right;\">1.34369e+09</td><td>I am always looking for healthier, whole grain versions of foods I enjoy.  Unfortunately, these Peacock brand noodles are yet another food masquerading as healthy.  The product title in big letters on the front says \"\"Brown Rice Vermicelli\"\", making the consumer think \"\"this is made with brown rice, so it should be a healthy choice\"\".  But the first indication that it is not is when looking at the fiber content on the nutrition facts - only 0.6g per 2oz serving.  Then onto the ingredients list to see why so low... contains brown rice, sago starch and water.  The sago starch comes from palms and must not have much (if any) fiber.<br /><br />The Annie Chun's Maifun Brown Rice Noodles (sold on Amazon and in my local healthy grocer) has become one of my staples and is my frame of reference when comparing to the Peacock brand.  The Annie Chun's product is made with 100% whole grain, with ingredients brown rice flour and water.  Per 2oz serving, it has 4g fiber and pretty much the same calories and other nutrients as the Peacock brand.<br /><br />If you do try this Peacock brand noodles and have not used rice noodles before, you will need to seek guidance elsewhere on preparation.  As others have pointed out, the Peacock package gives almost no directions on how to prepare the product, aside from a brief mention in the recipes (in the header text it does say that they are \"\"easy-to-cook\"\" but does not say how).  It also contains a very strange recipe for rice noodles: Aglio Olio style - this is an Italian recipe for noodles with olive oil/garlic/sprinkled with grated cheese that I think would not be very tasty.  The second recipe appears to be for a soup with veggie strips.  Neither recipe gives amounts or much direction.  In comparison, the Annie Chun's package gives clear, specific directions on rice noodle preparation and two recipes.<br /><br />I use rice noodles = maifun = rice sticks = sometimes called vermicelli for making the Vietnamese salad \"\"bun tofu\"\", to serve with stir-fried veggies or in lettuce rolls.  They can also be used in spring rolls/egg rolls.  When cooking with thin rice noodles, be careful not to oversoak/overcook/overmix or they tend to disintegrate.  Asian rice noodle vermicelli (maifun) are not the same as Italian vermicelli and are not readily interchangeable.  If making an Italian recipe, the best results would be expected from Italian pasta and not maifun.<br /><br />A few final notes...  Both Peacock and Annie Chun's brown rice noodles are gluten free.  The Peacock is made in Singapore and the Annie Chun's in Thailand.  The Peacock noodles do taste fine (kind of bland), but so do the Annie Chun's.  At this time, they are both approximately the same price.  Peacock come in an plastic bag with some noodle crushage upon shipping; Annie Chun's are perfect upon removal from their cellophane bag in a box.  Overall, I highly recommend the Annie Chun's Maifun as a healthier option over the Peacock brand.  On a related note, the Annie Chun's soba and brown rice pad thai noodles are also excellent.<br /><br />Rating for this product: 2.5 stars rounded down to 2 stars.</td></tr>\n",
       "<tr><td>B001R3BQFW </td><td>AM50E42AFUVNL </td><td>Taste great.                          </td><td style=\"text-align: right;\">      5</td><td style=\"text-align: right;\">                       0</td><td style=\"text-align: right;\">126555</td><td>T. Higley \"\"Tina\"\"                               </td><td style=\"text-align: right;\">                     0</td><td style=\"text-align: right;\">1.32356e+09</td><td>I have tried many different drink mix, this is the best tasting by far. It does not have the after taste of the sweetener and I really like it, it is pretty strong, so I use a big water bottle (20 oz) for one tube, it still a little stronger than I like, but it is just my taste.                                                                                                                                                                                                                                                                                                                                                                                                                                                                                                                                                                                                                                                                                                                                                                                                                                                                                                                                                                                                                                                                                                                                                                                                                                                                                                                                                                                                                                                                                                                                                                                                                                                                                                                                                                                                                                                                                                                                                                                                                                                                                                                                                                                                                                                                                                                                                                                                                                                                                                                                                                                                                                                                                                                                                                                                                                                                                                                                                                             </td></tr>\n",
       "<tr><td>B005HGAV8I </td><td>A2I5KDNOESGJ1H</td><td>variety galore                        </td><td style=\"text-align: right;\">      5</td><td style=\"text-align: right;\">                       1</td><td style=\"text-align: right;\">438837</td><td>TJ                                               </td><td style=\"text-align: right;\">                     1</td><td style=\"text-align: right;\">1.33402e+09</td><td>This is my favorite item to order for my Keurig. There are so many flavors, my finicky palate never gets bored!  The only downside is there are probably 5-6 decaf varieties.  I don't drink decaf (I REQUIRE copious amounts of caffeine), so they sit on the shelf...                                                                                                                                                                                                                                                                                                                                                                                                                                                                                                                                                                                                                                                                                                                                                                                                                                                                                                                                                                                                                                                                                                                                                                                                                                                                                                                                                                                                                                                                                                                                                                                                                                                                                                                                                                                                                                                                                                                                                                                                                                                                                                                                                                                                                                                                                                                                                                                                                                                                                                                                                                                                                                                                                                                                                                                                                                                                                                                                                                                             </td></tr>\n",
       "<tr><td>B000GFYRHQ </td><td>A3A7YUR6FS6ZCI</td><td>Bigelow Earl Grey Green Tea           </td><td style=\"text-align: right;\">      5</td><td style=\"text-align: right;\">                       0</td><td style=\"text-align: right;\">245379</td><td>Tea Lover                                        </td><td style=\"text-align: right;\">                     0</td><td style=\"text-align: right;\">1.17841e+09</td><td>Tastes like Earl Grey, but it's green tea so it's healthier.                                                                                                                                                                                                                                                                                                                                                                                                                                                                                                                                                                                                                                                                                                                                                                                                                                                                                                                                                                                                                                                                                                                                                                                                                                                                                                                                                                                                                                                                                                                                                                                                                                                                                                                                                                                                                                                                                                                                                                                                                                                                                                                                                                                                                                                                                                                                                                                                                                                                                                                                                                                                                                                                                                                                                                                                                                                                                                                                                                                                                                                                                                                                                                                                        </td></tr>\n",
       "</tbody>\n",
       "</table>"
      ]
     },
     "metadata": {},
     "output_type": "display_data"
    },
    {
     "data": {
      "text/plain": []
     },
     "execution_count": 5,
     "metadata": {},
     "output_type": "execute_result"
    }
   ],
   "source": [
    "reviews.head()"
   ]
  },
  {
   "cell_type": "code",
   "execution_count": 6,
   "metadata": {
    "collapsed": false
   },
   "outputs": [
    {
     "data": {
      "image/png": "[encoded data removed]",
      "text/plain": [
       "<matplotlib.figure.Figure at 0x116254b38>"
      ]
     },
     "metadata": {},
     "output_type": "display_data"
    }
   ],
   "source": [
    "%matplotlib inline\n",
    "reviews[\"Score\"].hist()"
   ]
  },
  {
   "cell_type": "code",
   "execution_count": 7,
   "metadata": {
    "collapsed": false
   },
   "outputs": [
    {
     "data": {
      "text/html": [
       "<table>\n",
       "<thead>\n",
       "<tr><th>Summary      </th><th style=\"text-align: right;\">  Count</th></tr>\n",
       "</thead>\n",
       "<tbody>\n",
       "<tr><td>Delicious    </td><td style=\"text-align: right;\">    426</td></tr>\n",
       "<tr><td>Delicious!   </td><td style=\"text-align: right;\">    417</td></tr>\n",
       "<tr><td>Yummy!       </td><td style=\"text-align: right;\">    284</td></tr>\n",
       "<tr><td>Yummy        </td><td style=\"text-align: right;\">    222</td></tr>\n",
       "<tr><td>Great product</td><td style=\"text-align: right;\">    204</td></tr>\n",
       "<tr><td>Yum!         </td><td style=\"text-align: right;\">    193</td></tr>\n",
       "<tr><td>Excellent    </td><td style=\"text-align: right;\">    183</td></tr>\n",
       "<tr><td>Great Product</td><td style=\"text-align: right;\">    155</td></tr>\n",
       "<tr><td>Love it!     </td><td style=\"text-align: right;\">    154</td></tr>\n",
       "<tr><td>Great        </td><td style=\"text-align: right;\">    138</td></tr>\n",
       "</tbody>\n",
       "</table>"
      ]
     },
     "metadata": {},
     "output_type": "display_data"
    },
    {
     "data": {
      "text/plain": []
     },
     "execution_count": 7,
     "metadata": {},
     "output_type": "execute_result"
    }
   ],
   "source": [
    "summary_freq = reviews[\"Summary\"].table()\n",
    "summary_freq = summary_freq.sort(\"Count\", ascending = [False])\n",
    "summary_freq.head()"
   ]
  },
  {
   "cell_type": "code",
   "execution_count": 8,
   "metadata": {
    "collapsed": true
   },
   "outputs": [],
   "source": [
    "#' Add Target Column: \"PositiveReview\"\n",
    "reviews[\"PositiveReview\"] = (reviews[\"Score\"] >= 4).ifelse(\"1\", \"0\")"
   ]
  },
  {
   "cell_type": "code",
   "execution_count": 9,
   "metadata": {
    "collapsed": false
   },
   "outputs": [
    {
     "data": {
      "text/html": [
       "<table>\n",
       "<thead>\n",
       "<tr><th style=\"text-align: right;\">  PositiveReview</th><th style=\"text-align: right;\">  Count</th></tr>\n",
       "</thead>\n",
       "<tbody>\n",
       "<tr><td style=\"text-align: right;\">               0</td><td style=\"text-align: right;\">  21791</td></tr>\n",
       "<tr><td style=\"text-align: right;\">               1</td><td style=\"text-align: right;\">  78209</td></tr>\n",
       "</tbody>\n",
       "</table>"
      ]
     },
     "metadata": {},
     "output_type": "display_data"
    },
    {
     "data": {
      "text/plain": []
     },
     "execution_count": 9,
     "metadata": {},
     "output_type": "execute_result"
    }
   ],
   "source": [
    "reviews[\"PositiveReview\"].table()"
   ]
  },
  {
   "cell_type": "markdown",
   "metadata": {},
   "source": [
    "# Step 3 (of 9).  Tokenize Words\n",
    "\n",
    "\n",
    "We will tokenize the words in the review column. We will do this by creating a function called `tokenize`.  This will split the reviews into words and remove any stop words, small words, or words with numbers in them."
   ]
  },
  {
   "cell_type": "code",
   "execution_count": 10,
   "metadata": {
    "collapsed": false
   },
   "outputs": [
    {
     "data": {
      "text/plain": [
       "['all',\n",
       " 'just',\n",
       " 'being',\n",
       " 'over',\n",
       " 'both',\n",
       " 'through',\n",
       " 'yourselves',\n",
       " 'its',\n",
       " 'before',\n",
       " 'o',\n",
       " 'hadn',\n",
       " 'herself',\n",
       " 'll',\n",
       " 'had',\n",
       " 'should',\n",
       " 'to',\n",
       " 'only',\n",
       " 'won',\n",
       " 'under',\n",
       " 'ours',\n",
       " 'has',\n",
       " 'do',\n",
       " 'them',\n",
       " 'his',\n",
       " 'very',\n",
       " 'they',\n",
       " 'not',\n",
       " 'during',\n",
       " 'now',\n",
       " 'him',\n",
       " 'nor',\n",
       " 'd',\n",
       " 'did',\n",
       " 'didn',\n",
       " 'this',\n",
       " 'she',\n",
       " 'each',\n",
       " 'further',\n",
       " 'where',\n",
       " 'few',\n",
       " 'because',\n",
       " 'doing',\n",
       " 'some',\n",
       " 'hasn',\n",
       " 'are',\n",
       " 'our',\n",
       " 'ourselves',\n",
       " 'out',\n",
       " 'what',\n",
       " 'for',\n",
       " 'while',\n",
       " 're',\n",
       " 'does',\n",
       " 'above',\n",
       " 'between',\n",
       " 'mustn',\n",
       " 't',\n",
       " 'be',\n",
       " 'we',\n",
       " 'who',\n",
       " 'were',\n",
       " 'here',\n",
       " 'shouldn',\n",
       " 'hers',\n",
       " 'by',\n",
       " 'on',\n",
       " 'about',\n",
       " 'couldn',\n",
       " 'of',\n",
       " 'against',\n",
       " 's',\n",
       " 'isn',\n",
       " 'or',\n",
       " 'own',\n",
       " 'into',\n",
       " 'yourself',\n",
       " 'down',\n",
       " 'mightn',\n",
       " 'wasn',\n",
       " 'your',\n",
       " 'from',\n",
       " 'her',\n",
       " 'their',\n",
       " 'aren',\n",
       " 'there',\n",
       " 'been',\n",
       " 'whom',\n",
       " 'too',\n",
       " 'wouldn',\n",
       " 'themselves',\n",
       " 'weren',\n",
       " 'was',\n",
       " 'until',\n",
       " 'more',\n",
       " 'himself',\n",
       " 'that',\n",
       " 'but',\n",
       " 'don',\n",
       " 'with',\n",
       " 'than',\n",
       " 'those',\n",
       " 'he',\n",
       " 'me',\n",
       " 'myself',\n",
       " 'ma',\n",
       " 'these',\n",
       " 'up',\n",
       " 'will',\n",
       " 'below',\n",
       " 'ain',\n",
       " 'can',\n",
       " 'theirs',\n",
       " 'my',\n",
       " 'and',\n",
       " 've',\n",
       " 'then',\n",
       " 'is',\n",
       " 'am',\n",
       " 'it',\n",
       " 'doesn',\n",
       " 'an',\n",
       " 'as',\n",
       " 'itself',\n",
       " 'at',\n",
       " 'have',\n",
       " 'in',\n",
       " 'any',\n",
       " 'if',\n",
       " 'again',\n",
       " 'no',\n",
       " 'when',\n",
       " 'same',\n",
       " 'how',\n",
       " 'other',\n",
       " 'which',\n",
       " 'you',\n",
       " 'shan',\n",
       " 'needn',\n",
       " 'haven',\n",
       " 'after',\n",
       " 'most',\n",
       " 'such',\n",
       " 'why',\n",
       " 'a',\n",
       " 'off',\n",
       " 'i',\n",
       " 'm',\n",
       " 'yours',\n",
       " 'so',\n",
       " 'y',\n",
       " 'the',\n",
       " 'having',\n",
       " 'once']"
      ]
     },
     "execution_count": 10,
     "metadata": {},
     "output_type": "execute_result"
    }
   ],
   "source": [
    "# Set Stop Words\n",
    "# The STOP WORDS we are importing are from the nltk package\n",
    "import pandas as pd\n",
    "\n",
    "# https://s3-us-west-2.amazonaws.com/h2o-tutorials/data/topics/nlp/amazon_reviews/stopwords.csv\n",
    "STOP_WORDS = pd.read_csv(\"../../data/topics/nlp/amazon_reviews/stopwords.csv\", header=0)\n",
    "STOP_WORDS = list(STOP_WORDS['STOP_WORD'])\n",
    "\n",
    "STOP_WORDS"
   ]
  },
  {
   "cell_type": "code",
   "execution_count": 11,
   "metadata": {
    "collapsed": true
   },
   "outputs": [],
   "source": [
    "def tokenize(sentences, stop_word = STOP_WORDS):\n",
    "    tokenized = sentences.tokenize(\"\\\\W+\")\n",
    "    tokenized_lower = tokenized.tolower()\n",
    "    tokenized_filtered = tokenized_lower[(tokenized_lower.nchar() >= 2) | (tokenized_lower.isna()),:]\n",
    "    tokenized_words = tokenized_filtered[tokenized_filtered.grep(\"[0-9]\",invert=True,output_logical=True),:]\n",
    "    tokenized_words = tokenized_words[(tokenized_words.isna()) | (~ tokenized_words.isin(STOP_WORDS)),:]\n",
    "    return tokenized_words"
   ]
  },
  {
   "cell_type": "code",
   "execution_count": 12,
   "metadata": {
    "collapsed": true
   },
   "outputs": [],
   "source": [
    "# Break reviews into sequence of words\n",
    "words = tokenize(reviews[\"Text\"])"
   ]
  },
  {
   "cell_type": "code",
   "execution_count": 13,
   "metadata": {
    "collapsed": false
   },
   "outputs": [
    {
     "data": {
      "text/html": [
       "<table>\n",
       "<thead>\n",
       "<tr><th>C1       </th></tr>\n",
       "</thead>\n",
       "<tbody>\n",
       "<tr><td>made     </td></tr>\n",
       "<tr><td>china    </td></tr>\n",
       "<tr><td>buy      </td></tr>\n",
       "<tr><td>pet      </td></tr>\n",
       "<tr><td>food     </td></tr>\n",
       "<tr><td>china    </td></tr>\n",
       "<tr><td>dogswell </td></tr>\n",
       "<tr><td>using    </td></tr>\n",
       "<tr><td>propylene</td></tr>\n",
       "<tr><td>glycol   </td></tr>\n",
       "</tbody>\n",
       "</table>"
      ]
     },
     "metadata": {},
     "output_type": "display_data"
    },
    {
     "data": {
      "text/plain": []
     },
     "execution_count": 13,
     "metadata": {},
     "output_type": "execute_result"
    }
   ],
   "source": [
    "words.head()"
   ]
  },
  {
   "cell_type": "markdown",
   "metadata": {},
   "source": [
    "# Step 4 (of 9).  Train Word2Vec Model\n",
    "\n",
    "Now that we've tokenized our words, we can train a word2vec model. We will start by creating word embeddings of length 2.  We will use these to understand the word embedding since they can be easily visualized. "
   ]
  },
  {
   "cell_type": "code",
   "execution_count": 14,
   "metadata": {
    "collapsed": false
   },
   "outputs": [
    {
     "name": "stdout",
     "output_type": "stream",
     "text": [
      "word2vec Model Build progress: |██████████████████████████████████████████| 100%\n"
     ]
    }
   ],
   "source": [
    "# Train Word2Vec Model for vec size = 2\n",
    "from h2o.estimators.word2vec import H2OWord2vecEstimator\n",
    "\n",
    "w2v_len2_model = H2OWord2vecEstimator(vec_size = 2, model_id = \"w2v_len2.hex\")\n",
    "w2v_len2_model.train(training_frame=words)"
   ]
  },
  {
   "cell_type": "markdown",
   "metadata": {},
   "source": [
    "# Step 5 (of 9).  Analyze Word Embeddings\n",
    "\n",
    "We have created word embeddings for each word in our corpus, now we want to understand what they mean and how to interpret them.  The word embeddings for the first few words are shown below."
   ]
  },
  {
   "cell_type": "code",
   "execution_count": 15,
   "metadata": {
    "collapsed": false
   },
   "outputs": [
    {
     "data": {
      "text/html": [
       "<table>\n",
       "<thead>\n",
       "<tr><th>Word     </th><th style=\"text-align: right;\">        C1</th><th style=\"text-align: right;\">       C2</th></tr>\n",
       "</thead>\n",
       "<tbody>\n",
       "<tr><td>made     </td><td style=\"text-align: right;\"> 0.544466 </td><td style=\"text-align: right;\">-0.302284</td></tr>\n",
       "<tr><td>china    </td><td style=\"text-align: right;\"> 0.292201 </td><td style=\"text-align: right;\">-0.723364</td></tr>\n",
       "<tr><td>buy      </td><td style=\"text-align: right;\"> 0.354794 </td><td style=\"text-align: right;\">-0.726502</td></tr>\n",
       "<tr><td>pet      </td><td style=\"text-align: right;\">-0.142663 </td><td style=\"text-align: right;\">-1.2627  </td></tr>\n",
       "<tr><td>food     </td><td style=\"text-align: right;\"> 0.162717 </td><td style=\"text-align: right;\">-0.905718</td></tr>\n",
       "<tr><td>china    </td><td style=\"text-align: right;\"> 0.292201 </td><td style=\"text-align: right;\">-0.723364</td></tr>\n",
       "<tr><td>dogswell </td><td style=\"text-align: right;\">-0.0426356</td><td style=\"text-align: right;\">-1.25052 </td></tr>\n",
       "<tr><td>using    </td><td style=\"text-align: right;\"> 0.573758 </td><td style=\"text-align: right;\">-0.294149</td></tr>\n",
       "<tr><td>propylene</td><td style=\"text-align: right;\"> 0.860608 </td><td style=\"text-align: right;\"> 0.602691</td></tr>\n",
       "<tr><td>glycol   </td><td style=\"text-align: right;\"> 0.739708 </td><td style=\"text-align: right;\"> 0.504028</td></tr>\n",
       "</tbody>\n",
       "</table>"
      ]
     },
     "metadata": {},
     "output_type": "display_data"
    },
    {
     "data": {
      "text/plain": []
     },
     "execution_count": 15,
     "metadata": {},
     "output_type": "execute_result"
    }
   ],
   "source": [
    "sample_embeddings = words.head()\n",
    "sample_embeddings.col_names = [\"Word\"]\n",
    "sample_embeddings = sample_embeddings.cbind(w2v_len2_model.transform(sample_embeddings, aggregate_method=\"None\"))\n",
    "\n",
    "sample_embeddings"
   ]
  },
  {
   "cell_type": "markdown",
   "metadata": {},
   "source": [
    "We will plot the word embeddings to see which words are related to one another."
   ]
  },
  {
   "cell_type": "code",
   "execution_count": 16,
   "metadata": {
    "collapsed": false
   },
   "outputs": [
    {
     "data": {
      "text/html": [
       "<table>\n",
       "<thead>\n",
       "<tr><th>Word   </th><th style=\"text-align: right;\">  Count</th><th style=\"text-align: right;\">      C1</th><th style=\"text-align: right;\">        C2</th></tr>\n",
       "</thead>\n",
       "<tbody>\n",
       "<tr><td>aa     </td><td style=\"text-align: right;\">     26</td><td style=\"text-align: right;\">0.904902</td><td style=\"text-align: right;\"> 0.135617 </td></tr>\n",
       "<tr><td>aaa    </td><td style=\"text-align: right;\">      9</td><td style=\"text-align: right;\">0.524242</td><td style=\"text-align: right;\">-0.457822 </td></tr>\n",
       "<tr><td>aaaaa  </td><td style=\"text-align: right;\">      5</td><td style=\"text-align: right;\">0.480751</td><td style=\"text-align: right;\">-0.654189 </td></tr>\n",
       "<tr><td>aaah   </td><td style=\"text-align: right;\">      6</td><td style=\"text-align: right;\">0.986246</td><td style=\"text-align: right;\"> 0.0210774</td></tr>\n",
       "<tr><td>aacute </td><td style=\"text-align: right;\">     12</td><td style=\"text-align: right;\">0.405535</td><td style=\"text-align: right;\"> 0.173983 </td></tr>\n",
       "<tr><td>aafco  </td><td style=\"text-align: right;\">      8</td><td style=\"text-align: right;\">0.360749</td><td style=\"text-align: right;\">-0.573154 </td></tr>\n",
       "<tr><td>aah    </td><td style=\"text-align: right;\">      5</td><td style=\"text-align: right;\">0.721474</td><td style=\"text-align: right;\">-0.157158 </td></tr>\n",
       "<tr><td>ab     </td><td style=\"text-align: right;\">     11</td><td style=\"text-align: right;\">0.82439 </td><td style=\"text-align: right;\"> 0.270482 </td></tr>\n",
       "<tr><td>aback  </td><td style=\"text-align: right;\">     16</td><td style=\"text-align: right;\">0.624489</td><td style=\"text-align: right;\">-0.324292 </td></tr>\n",
       "<tr><td>abandon</td><td style=\"text-align: right;\">     11</td><td style=\"text-align: right;\">0.710758</td><td style=\"text-align: right;\">-0.375189 </td></tr>\n",
       "</tbody>\n",
       "</table>"
      ]
     },
     "metadata": {},
     "output_type": "display_data"
    },
    {
     "data": {
      "text/plain": []
     },
     "execution_count": 16,
     "metadata": {},
     "output_type": "execute_result"
    }
   ],
   "source": [
    "unique_words = words.asfactor().table()\n",
    "unique_words.col_names = [\"Word\", \"Count\"]\n",
    "\n",
    "word_embeddings = w2v_len2_model.transform(unique_words[\"Word\"].ascharacter(), aggregate_method=\"None\")\n",
    "word_embeddings = unique_words.cbind(word_embeddings)\n",
    "word_embeddings = word_embeddings[~word_embeddings[\"C1\"].isna()]\n",
    "word_embeddings.head()"
   ]
  },
  {
   "cell_type": "code",
   "execution_count": 17,
   "metadata": {
    "collapsed": false
   },
   "outputs": [],
   "source": [
    "# Filter Word Embeddings to selected words\n",
    "\n",
    "selected_words = [\"coffee\", \"espresso\", \"starbucks\", \"sweet\", \"salty\", \"savory\", \"email\", \"support\", \"answered\", \n",
    "                  \"unhappy\", \"waited\", \"returned\", \"tasty\", \"yummy\", \"moldy\", \"expired\", \"salmonella\", \"best\", \n",
    "                  \"amazing\", \"abdominal\", \"folic\", \"zinc\"]\n",
    "\n",
    "filtered_embeddings = word_embeddings[word_embeddings[\"Word\"].isin(selected_words)]\n",
    "plot_data = filtered_embeddings.as_data_frame(use_pandas = True)"
   ]
  },
  {
   "cell_type": "code",
   "execution_count": 18,
   "metadata": {
    "collapsed": false
   },
   "outputs": [
    {
     "data": {
      "image/png": "[encoded data removed]",
      "text/plain": [
       "<matplotlib.figure.Figure at 0x121969c50>"
      ]
     },
     "metadata": {},
     "output_type": "display_data"
    }
   ],
   "source": [
    "# Plot Word Embeddings\n",
    "import matplotlib.pyplot as plt\n",
    "\n",
    "fig, ax = plt.subplots(figsize=(20, 10))\n",
    "ax.scatter(plot_data[\"C1\"], plot_data[\"C2\"])\n",
    "\n",
    "for i, txt in enumerate(plot_data[\"Word\"]):\n",
    "    ax.annotate(txt, (plot_data[\"C1\"].iloc[i], plot_data[\"C2\"].iloc[i]))"
   ]
  },
  {
   "cell_type": "markdown",
   "metadata": {},
   "source": [
    "We will train a more complex word2vec model with length 100 - this will be able to catch further nuances in the text."
   ]
  },
  {
   "cell_type": "code",
   "execution_count": 19,
   "metadata": {
    "collapsed": false
   },
   "outputs": [
    {
     "name": "stdout",
     "output_type": "stream",
     "text": [
      "word2vec Model Build progress: |██████████████████████████████████████████| 100%\n"
     ]
    }
   ],
   "source": [
    "# Train Word2Vec Model for vec size = 100\n",
    "w2v_model = H2OWord2vecEstimator(vec_size = 100, model_id = \"w2v.hex\")\n",
    "w2v_model.train(training_frame=words)"
   ]
  },
  {
   "cell_type": "markdown",
   "metadata": {},
   "source": [
    "One way to interpret the word embeddings is to use them to find synonyms. The `find_synonyms` function finds the words that have the smallest cosine distance in word embeddings.  We assume that if the word embeddings are similar, the two words are synonyms."
   ]
  },
  {
   "cell_type": "code",
   "execution_count": 20,
   "metadata": {
    "collapsed": false
   },
   "outputs": [
    {
     "data": {
      "text/plain": [
       "OrderedDict([('coffees', 0.8121076822280884),\n",
       "             ('coffe', 0.7861980199813843),\n",
       "             ('expresso', 0.7714205384254456),\n",
       "             ('espresso', 0.7541805505752563),\n",
       "             ('starbucks', 0.7536745071411133)])"
      ]
     },
     "execution_count": 20,
     "metadata": {},
     "output_type": "execute_result"
    }
   ],
   "source": [
    "# Sanity check - find synonyms for the word 'coffee'\n",
    "w2v_model.find_synonyms(\"coffee\", count = 5)"
   ]
  },
  {
   "cell_type": "code",
   "execution_count": 21,
   "metadata": {
    "collapsed": false
   },
   "outputs": [
    {
     "data": {
      "text/plain": [
       "OrderedDict([('rancid', 0.7069587111473083),\n",
       "             ('moldy', 0.6795448064804077),\n",
       "             ('expired', 0.6259981989860535),\n",
       "             ('experation', 0.6208109259605408),\n",
       "             ('unedible', 0.6175134778022766)])"
      ]
     },
     "execution_count": 21,
     "metadata": {},
     "output_type": "execute_result"
    }
   ],
   "source": [
    "# Sanity check - find synonyms for the word 'stale'\n",
    "w2v_model.find_synonyms(\"stale\", count = 5)"
   ]
  },
  {
   "cell_type": "markdown",
   "metadata": {},
   "source": [
    "We will cluster the word embeddings to identify segments of similar words. "
   ]
  },
  {
   "cell_type": "code",
   "execution_count": 22,
   "metadata": {
    "collapsed": false
   },
   "outputs": [],
   "source": [
    "word_embeddings = w2v_model.transform(unique_words[\"Word\"].ascharacter(), aggregate_method=\"None\")\n",
    "word_embeddings = unique_words.cbind(word_embeddings)\n",
    "word_embeddings = word_embeddings[~word_embeddings[\"C1\"].isna()]"
   ]
  },
  {
   "cell_type": "code",
   "execution_count": 23,
   "metadata": {
    "collapsed": false
   },
   "outputs": [
    {
     "name": "stdout",
     "output_type": "stream",
     "text": [
      "kmeans Model Build progress: |████████████████████████████████████████████| 100%\n"
     ]
    }
   ],
   "source": [
    "from h2o.estimators import H2OKMeansEstimator\n",
    "\n",
    "kmeans = H2OKMeansEstimator(model_id = \"word_segments.hex\",\n",
    "                            estimate_k = True, k = 100, # Max number of clusters\n",
    "                            seed = 1234)\n",
    "\n",
    "x = list(set(word_embeddings.col_names) - set([\"Word\", \"Count\"]))\n",
    "kmeans.train(x = x, training_frame = word_embeddings)"
   ]
  },
  {
   "cell_type": "code",
   "execution_count": 24,
   "metadata": {
    "collapsed": false
   },
   "outputs": [
    {
     "name": "stdout",
     "output_type": "stream",
     "text": [
      "Centroid Statistics: \n"
     ]
    },
    {
     "data": {
      "text/html": [
       "<div style=\"overflow:auto\"><table style=\"width:50%\"><tr><td><b></b></td>\n",
       "<td><b>centroid</b></td>\n",
       "<td><b>size</b></td>\n",
       "<td><b>within_cluster_sum_of_squares</b></td></tr>\n",
       "<tr><td></td>\n",
       "<td>1.0</td>\n",
       "<td>4062.0</td>\n",
       "<td>359255.5119154</td></tr>\n",
       "<tr><td></td>\n",
       "<td>2.0</td>\n",
       "<td>8184.0</td>\n",
       "<td>742867.6254168</td></tr>\n",
       "<tr><td></td>\n",
       "<td>3.0</td>\n",
       "<td>6833.0</td>\n",
       "<td>713803.6494950</td></tr></table></div>"
      ],
      "text/plain": [
       "    centroid    size    within_cluster_sum_of_squares\n",
       "--  ----------  ------  -------------------------------\n",
       "    1           4062    359256\n",
       "    2           8184    742868\n",
       "    3           6833    713804"
      ]
     },
     "metadata": {},
     "output_type": "display_data"
    },
    {
     "data": {
      "text/plain": []
     },
     "execution_count": 24,
     "metadata": {},
     "output_type": "execute_result"
    }
   ],
   "source": [
    "# Clusters\n",
    "kmeans.centroid_stats()"
   ]
  },
  {
   "cell_type": "code",
   "execution_count": 25,
   "metadata": {
    "collapsed": false
   },
   "outputs": [
    {
     "name": "stdout",
     "output_type": "stream",
     "text": [
      "kmeans prediction progress: |█████████████████████████████████████████████| 100%\n"
     ]
    },
    {
     "data": {
      "text/html": [
       "<table>\n",
       "<thead>\n",
       "<tr><th>Word   </th><th style=\"text-align: right;\">  predict</th></tr>\n",
       "</thead>\n",
       "<tbody>\n",
       "<tr><td>aa     </td><td style=\"text-align: right;\">        2</td></tr>\n",
       "<tr><td>aaa    </td><td style=\"text-align: right;\">        2</td></tr>\n",
       "<tr><td>aaaaa  </td><td style=\"text-align: right;\">        1</td></tr>\n",
       "<tr><td>aaah   </td><td style=\"text-align: right;\">        2</td></tr>\n",
       "<tr><td>aacute </td><td style=\"text-align: right;\">        2</td></tr>\n",
       "<tr><td>aafco  </td><td style=\"text-align: right;\">        1</td></tr>\n",
       "<tr><td>aah    </td><td style=\"text-align: right;\">        2</td></tr>\n",
       "<tr><td>ab     </td><td style=\"text-align: right;\">        2</td></tr>\n",
       "<tr><td>aback  </td><td style=\"text-align: right;\">        2</td></tr>\n",
       "<tr><td>abandon</td><td style=\"text-align: right;\">        1</td></tr>\n",
       "</tbody>\n",
       "</table>"
      ]
     },
     "metadata": {},
     "output_type": "display_data"
    },
    {
     "data": {
      "text/plain": []
     },
     "execution_count": 25,
     "metadata": {},
     "output_type": "execute_result"
    }
   ],
   "source": [
    "word_clusters = word_embeddings.cbind(kmeans.predict(word_embeddings))\n",
    "word_clusters[[\"Word\", \"predict\"]].head()"
   ]
  },
  {
   "cell_type": "code",
   "execution_count": 26,
   "metadata": {
    "collapsed": false
   },
   "outputs": [],
   "source": [
    "selected_clusters = word_clusters[word_clusters[\"Word\"].isin(selected_words)]"
   ]
  },
  {
   "cell_type": "code",
   "execution_count": 27,
   "metadata": {
    "collapsed": false
   },
   "outputs": [
    {
     "name": "stdout",
     "output_type": "stream",
     "text": [
      "Cluster 0\n"
     ]
    },
    {
     "data": {
      "text/html": [
       "<table>\n",
       "<thead>\n",
       "<tr><th>Word  </th></tr>\n",
       "</thead>\n",
       "<tbody>\n",
       "<tr><td>moldy </td></tr>\n",
       "<tr><td>waited</td></tr>\n",
       "</tbody>\n",
       "</table>"
      ]
     },
     "metadata": {},
     "output_type": "display_data"
    },
    {
     "name": "stdout",
     "output_type": "stream",
     "text": [
      "\n"
     ]
    }
   ],
   "source": [
    "print(\"Cluster 0\")\n",
    "print(selected_clusters[selected_clusters[\"predict\"] == 0, \"Word\"])"
   ]
  },
  {
   "cell_type": "code",
   "execution_count": 28,
   "metadata": {
    "collapsed": false
   },
   "outputs": [
    {
     "name": "stdout",
     "output_type": "stream",
     "text": [
      "Cluster 1\n"
     ]
    },
    {
     "data": {
      "text/html": [
       "<table>\n",
       "<thead>\n",
       "<tr><th>Word      </th></tr>\n",
       "</thead>\n",
       "<tbody>\n",
       "<tr><td>abdominal </td></tr>\n",
       "<tr><td>answered  </td></tr>\n",
       "<tr><td>email     </td></tr>\n",
       "<tr><td>expired   </td></tr>\n",
       "<tr><td>returned  </td></tr>\n",
       "<tr><td>salmonella</td></tr>\n",
       "<tr><td>support   </td></tr>\n",
       "<tr><td>unhappy   </td></tr>\n",
       "</tbody>\n",
       "</table>"
      ]
     },
     "metadata": {},
     "output_type": "display_data"
    },
    {
     "name": "stdout",
     "output_type": "stream",
     "text": [
      "\n"
     ]
    }
   ],
   "source": [
    "print(\"Cluster 1\")\n",
    "print(selected_clusters[selected_clusters[\"predict\"] == 1, \"Word\"])"
   ]
  },
  {
   "cell_type": "markdown",
   "metadata": {},
   "source": [
    "# Step 6 (of 9).  Train Model with Original Data\n",
    "\n",
    "Now that we have analyzed our word embeddings, we will turn to our supervised learning task to predict whether someone liked the review.  We will first train a model on our original data - not our word embeddings to see what our accuracy is. We will use this model as a baseline model."
   ]
  },
  {
   "cell_type": "code",
   "execution_count": 29,
   "metadata": {
    "collapsed": true
   },
   "outputs": [],
   "source": [
    "# Find the 80th quantile of time in the dataset\n",
    "time_split = reviews[\"Time\"].quantile(prob = [0.8])[1]\n",
    "reviews[\"Train\"] = (reviews[\"Time\"] < time_split).ifelse(\"Yes\", \"No\")"
   ]
  },
  {
   "cell_type": "code",
   "execution_count": 30,
   "metadata": {
    "collapsed": true
   },
   "outputs": [],
   "source": [
    "train = reviews[reviews[\"Train\"] == \"Yes\"]\n",
    "test = reviews[reviews[\"Train\"] == \"No\"]"
   ]
  },
  {
   "cell_type": "code",
   "execution_count": 31,
   "metadata": {
    "collapsed": false
   },
   "outputs": [
    {
     "name": "stdout",
     "output_type": "stream",
     "text": [
      "gbm Model Build progress: |███████████████████████████████████████████████| 100%\n"
     ]
    }
   ],
   "source": [
    "from h2o.estimators import H2OGradientBoostingEstimator\n",
    "\n",
    "predictors = ['ProductId', 'UserId', 'HelpfulnessNumerator', 'HelpfulnessDenominator', 'Time']\n",
    "response = 'PositiveReview'\n",
    "\n",
    "gbm_baseline = H2OGradientBoostingEstimator(stopping_metric = \"AUC\", stopping_tolerance = 0.001,\n",
    "                                            stopping_rounds = 5, score_tree_interval = 10,\n",
    "                                            model_id = \"gbm_baseline.hex\"\n",
    "                                           )\n",
    "gbm_baseline.train(x = predictors, y = response, \n",
    "                   training_frame = train, validation_frame = test\n",
    "                  )"
   ]
  },
  {
   "cell_type": "code",
   "execution_count": 32,
   "metadata": {
    "collapsed": false
   },
   "outputs": [
    {
     "name": "stdout",
     "output_type": "stream",
     "text": [
      "AUC on Validation Data: 0.616\n"
     ]
    }
   ],
   "source": [
    "print(\"AUC on Validation Data: \" + str(round(gbm_baseline.auc(valid = True), 3)))"
   ]
  },
  {
   "cell_type": "markdown",
   "metadata": {},
   "source": [
    "We can see that there is a big room for improvement.  Our error is 22%.  To improve our model, we will train word embeddings for the review."
   ]
  },
  {
   "cell_type": "code",
   "execution_count": 33,
   "metadata": {
    "collapsed": false
   },
   "outputs": [
    {
     "name": "stdout",
     "output_type": "stream",
     "text": [
      "Confusion Matrix (Act/Pred) for max f1 @ threshold = 0.45931625811239496: \n"
     ]
    },
    {
     "data": {
      "text/html": [
       "<div style=\"overflow:auto\"><table style=\"width:50%\"><tr><td><b></b></td>\n",
       "<td><b>0</b></td>\n",
       "<td><b>1</b></td>\n",
       "<td><b>Error</b></td>\n",
       "<td><b>Rate</b></td></tr>\n",
       "<tr><td>0</td>\n",
       "<td>384.0</td>\n",
       "<td>4276.0</td>\n",
       "<td>0.9176</td>\n",
       "<td> (4276.0/4660.0)</td></tr>\n",
       "<tr><td>1</td>\n",
       "<td>128.0</td>\n",
       "<td>15220.0</td>\n",
       "<td>0.0083</td>\n",
       "<td> (128.0/15348.0)</td></tr>\n",
       "<tr><td>Total</td>\n",
       "<td>512.0</td>\n",
       "<td>19496.0</td>\n",
       "<td>0.2201</td>\n",
       "<td> (4404.0/20008.0)</td></tr></table></div>"
      ],
      "text/plain": [
       "       0    1      Error    Rate\n",
       "-----  ---  -----  -------  ----------------\n",
       "0      384  4276   0.9176   (4276.0/4660.0)\n",
       "1      128  15220  0.0083   (128.0/15348.0)\n",
       "Total  512  19496  0.2201   (4404.0/20008.0)"
      ]
     },
     "metadata": {},
     "output_type": "display_data"
    },
    {
     "data": {
      "text/plain": []
     },
     "execution_count": 33,
     "metadata": {},
     "output_type": "execute_result"
    }
   ],
   "source": [
    "gbm_baseline.confusion_matrix(valid = True)"
   ]
  },
  {
   "cell_type": "markdown",
   "metadata": {},
   "source": [
    "The variable importance plot below shows us that the most important variable is `HelpfulnessNumerator`.  Looking at the partial dependency plot for that variable, we see that the more people who find the review helpful, the more likely it is a good review."
   ]
  },
  {
   "cell_type": "code",
   "execution_count": 34,
   "metadata": {
    "collapsed": false
   },
   "outputs": [
    {
     "data": {
      "image/png": "[encoded data removed]",
      "text/plain": [
       "<matplotlib.figure.Figure at 0x121a9d438>"
      ]
     },
     "metadata": {},
     "output_type": "display_data"
    }
   ],
   "source": [
    "gbm_baseline.varimp_plot()"
   ]
  },
  {
   "cell_type": "code",
   "execution_count": 35,
   "metadata": {
    "collapsed": false,
    "scrolled": false
   },
   "outputs": [
    {
     "name": "stdout",
     "output_type": "stream",
     "text": [
      "PartialDependencePlot progress: |█████████████████████████████████████████| 100%\n"
     ]
    },
    {
     "data": {
      "image/png": "[encoded data removed]",
      "text/plain": [
       "<matplotlib.figure.Figure at 0x121b4fe80>"
      ]
     },
     "metadata": {},
     "output_type": "display_data"
    }
   ],
   "source": [
    "%matplotlib inline  \n",
    "pdp_helpfulness = gbm_baseline.partial_plot(train, cols = [\"HelpfulnessNumerator\"])"
   ]
  },
  {
   "cell_type": "markdown",
   "metadata": {},
   "source": [
    "# Step 7 (of 9).  Train Model with Word Embeddings\n",
    "\n",
    "We will train a GBM model with the same parameters as our baseline gbm.  This time, however, we will add the aggregated word embeddings as predictors. "
   ]
  },
  {
   "cell_type": "code",
   "execution_count": 36,
   "metadata": {
    "collapsed": true
   },
   "outputs": [],
   "source": [
    "# Calculate a vector for each review\n",
    "review_vecs = w2v_model.transform(words, aggregate_method = \"AVERAGE\")"
   ]
  },
  {
   "cell_type": "code",
   "execution_count": 37,
   "metadata": {
    "collapsed": false,
    "scrolled": true
   },
   "outputs": [
    {
     "data": {
      "text/html": [
       "<table>\n",
       "<thead>\n",
       "<tr><th style=\"text-align: right;\">       C1</th><th style=\"text-align: right;\">         C2</th><th style=\"text-align: right;\">          C3</th><th style=\"text-align: right;\">         C4</th><th style=\"text-align: right;\">        C5</th><th style=\"text-align: right;\">        C6</th><th style=\"text-align: right;\">         C7</th><th style=\"text-align: right;\">         C8</th><th style=\"text-align: right;\">        C9</th><th style=\"text-align: right;\">       C10</th><th style=\"text-align: right;\">       C11</th><th style=\"text-align: right;\">       C12</th><th style=\"text-align: right;\">       C13</th><th style=\"text-align: right;\">       C14</th><th style=\"text-align: right;\">       C15</th><th style=\"text-align: right;\">       C16</th><th style=\"text-align: right;\">        C17</th><th style=\"text-align: right;\">        C18</th><th style=\"text-align: right;\">      C19</th><th style=\"text-align: right;\">        C20</th><th style=\"text-align: right;\">       C21</th><th style=\"text-align: right;\">        C22</th><th style=\"text-align: right;\">       C23</th><th style=\"text-align: right;\">       C24</th><th style=\"text-align: right;\">       C25</th><th style=\"text-align: right;\">        C26</th><th style=\"text-align: right;\">        C27</th><th style=\"text-align: right;\">       C28</th><th style=\"text-align: right;\">      C29</th><th style=\"text-align: right;\">       C30</th><th style=\"text-align: right;\">        C31</th><th style=\"text-align: right;\">        C32</th><th style=\"text-align: right;\">        C33</th><th style=\"text-align: right;\">       C34</th><th style=\"text-align: right;\">      C35</th><th style=\"text-align: right;\">        C36</th><th style=\"text-align: right;\">         C37</th><th style=\"text-align: right;\">        C38</th><th style=\"text-align: right;\">       C39</th><th style=\"text-align: right;\">        C40</th><th style=\"text-align: right;\">        C41</th><th style=\"text-align: right;\">        C42</th><th style=\"text-align: right;\">        C43</th><th style=\"text-align: right;\">        C44</th><th style=\"text-align: right;\">         C45</th><th style=\"text-align: right;\">       C46</th><th style=\"text-align: right;\">        C47</th><th style=\"text-align: right;\">         C48</th><th style=\"text-align: right;\">       C49</th><th style=\"text-align: right;\">       C50</th><th style=\"text-align: right;\">        C51</th><th style=\"text-align: right;\">       C52</th><th style=\"text-align: right;\">        C53</th><th style=\"text-align: right;\">        C54</th><th style=\"text-align: right;\">       C55</th><th style=\"text-align: right;\">       C56</th><th style=\"text-align: right;\">        C57</th><th style=\"text-align: right;\">       C58</th><th style=\"text-align: right;\">         C59</th><th style=\"text-align: right;\">       C60</th><th style=\"text-align: right;\">       C61</th><th style=\"text-align: right;\">       C62</th><th style=\"text-align: right;\">        C63</th><th style=\"text-align: right;\">       C64</th><th style=\"text-align: right;\">        C65</th><th style=\"text-align: right;\">       C66</th><th style=\"text-align: right;\">        C67</th><th style=\"text-align: right;\">      C68</th><th style=\"text-align: right;\">      C69</th><th style=\"text-align: right;\">     C70</th><th style=\"text-align: right;\">         C71</th><th style=\"text-align: right;\">        C72</th><th style=\"text-align: right;\">       C73</th><th style=\"text-align: right;\">        C74</th><th style=\"text-align: right;\">       C75</th><th style=\"text-align: right;\">        C76</th><th style=\"text-align: right;\">       C77</th><th style=\"text-align: right;\">     C78</th><th style=\"text-align: right;\">      C79</th><th style=\"text-align: right;\">       C80</th><th style=\"text-align: right;\">        C81</th><th style=\"text-align: right;\">        C82</th><th style=\"text-align: right;\">        C83</th><th style=\"text-align: right;\">        C84</th><th style=\"text-align: right;\">        C85</th><th style=\"text-align: right;\">       C86</th><th style=\"text-align: right;\">       C87</th><th style=\"text-align: right;\">      C88</th><th style=\"text-align: right;\">       C89</th><th style=\"text-align: right;\">       C90</th><th style=\"text-align: right;\">       C91</th><th style=\"text-align: right;\">       C92</th><th style=\"text-align: right;\">       C93</th><th style=\"text-align: right;\">        C94</th><th style=\"text-align: right;\">       C95</th><th style=\"text-align: right;\">        C96</th><th style=\"text-align: right;\">         C97</th><th style=\"text-align: right;\">       C98</th><th style=\"text-align: right;\">       C99</th><th style=\"text-align: right;\">      C100</th></tr>\n",
       "</thead>\n",
       "<tbody>\n",
       "<tr><td style=\"text-align: right;\">-0.208688</td><td style=\"text-align: right;\">-0.0404291 </td><td style=\"text-align: right;\"> 0.111109   </td><td style=\"text-align: right;\"> 0.110172  </td><td style=\"text-align: right;\"> 0.0190178</td><td style=\"text-align: right;\"> 0.096272 </td><td style=\"text-align: right;\">-0.0872408 </td><td style=\"text-align: right;\"> 0.0124437 </td><td style=\"text-align: right;\">-0.0488356</td><td style=\"text-align: right;\"> 0.0188513</td><td style=\"text-align: right;\">-0.0415465</td><td style=\"text-align: right;\"> 0.11257  </td><td style=\"text-align: right;\">-0.0154769</td><td style=\"text-align: right;\">-0.0142243</td><td style=\"text-align: right;\"> 0.108813 </td><td style=\"text-align: right;\">-0.0594305</td><td style=\"text-align: right;\"> 0.0363275 </td><td style=\"text-align: right;\"> 0.106143  </td><td style=\"text-align: right;\">0.122349 </td><td style=\"text-align: right;\">-0.00205101</td><td style=\"text-align: right;\">-0.0367096</td><td style=\"text-align: right;\"> 0.0767533 </td><td style=\"text-align: right;\"> 0.0847762</td><td style=\"text-align: right;\">-0.190068 </td><td style=\"text-align: right;\"> 0.168519 </td><td style=\"text-align: right;\"> 0.0548582 </td><td style=\"text-align: right;\"> 0.0582332 </td><td style=\"text-align: right;\">-0.050661 </td><td style=\"text-align: right;\">0.0431473</td><td style=\"text-align: right;\"> 0.0221731</td><td style=\"text-align: right;\">-0.0640504 </td><td style=\"text-align: right;\"> 0.143778  </td><td style=\"text-align: right;\">-0.0174425 </td><td style=\"text-align: right;\">-0.0813549</td><td style=\"text-align: right;\">0.107386 </td><td style=\"text-align: right;\">-0.0371684 </td><td style=\"text-align: right;\">-0.000460997</td><td style=\"text-align: right;\">-0.00393475</td><td style=\"text-align: right;\">-0.132072 </td><td style=\"text-align: right;\"> 0.0211563 </td><td style=\"text-align: right;\">-0.00572934</td><td style=\"text-align: right;\">-0.111973  </td><td style=\"text-align: right;\">-0.0341182 </td><td style=\"text-align: right;\"> 0.0602104 </td><td style=\"text-align: right;\">-0.000248673</td><td style=\"text-align: right;\">-0.0857197</td><td style=\"text-align: right;\">-0.0137635 </td><td style=\"text-align: right;\"> 0.000735307</td><td style=\"text-align: right;\">-0.183971 </td><td style=\"text-align: right;\"> 0.155029 </td><td style=\"text-align: right;\">-0.214046  </td><td style=\"text-align: right;\"> 0.127233 </td><td style=\"text-align: right;\">-0.150032  </td><td style=\"text-align: right;\">-0.175633  </td><td style=\"text-align: right;\"> 0.0301262</td><td style=\"text-align: right;\">-0.0355335</td><td style=\"text-align: right;\">-0.0620539 </td><td style=\"text-align: right;\">0.169993  </td><td style=\"text-align: right;\"> 0.0128111  </td><td style=\"text-align: right;\">-0.187908 </td><td style=\"text-align: right;\"> 0.0468665</td><td style=\"text-align: right;\"> 0.0399999</td><td style=\"text-align: right;\"> 0.0156952 </td><td style=\"text-align: right;\"> 0.0416922</td><td style=\"text-align: right;\">-0.00975522</td><td style=\"text-align: right;\"> 0.0921525</td><td style=\"text-align: right;\">-0.0752905 </td><td style=\"text-align: right;\">0.180783 </td><td style=\"text-align: right;\">-0.159196</td><td style=\"text-align: right;\">0.130993</td><td style=\"text-align: right;\">-0.0298054  </td><td style=\"text-align: right;\"> 0.119479  </td><td style=\"text-align: right;\"> 0.0277446</td><td style=\"text-align: right;\">-0.0113101 </td><td style=\"text-align: right;\">-0.0893415</td><td style=\"text-align: right;\">-0.00473246</td><td style=\"text-align: right;\"> 0.147937 </td><td style=\"text-align: right;\">0.111972</td><td style=\"text-align: right;\">0.359281 </td><td style=\"text-align: right;\">-0.0628101</td><td style=\"text-align: right;\"> 0.0771898 </td><td style=\"text-align: right;\"> 0.0249288 </td><td style=\"text-align: right;\">-0.00313871</td><td style=\"text-align: right;\"> 0.0300952 </td><td style=\"text-align: right;\"> 0.190319  </td><td style=\"text-align: right;\"> 0.0357456</td><td style=\"text-align: right;\"> 0.151876 </td><td style=\"text-align: right;\">0.182391 </td><td style=\"text-align: right;\">-0.0380599</td><td style=\"text-align: right;\"> 0.110312 </td><td style=\"text-align: right;\">-0.0801439</td><td style=\"text-align: right;\">-0.0607791</td><td style=\"text-align: right;\"> 0.0208947</td><td style=\"text-align: right;\"> 0.106165  </td><td style=\"text-align: right;\">-0.198662 </td><td style=\"text-align: right;\"> 0.00655667</td><td style=\"text-align: right;\">-0.0788349  </td><td style=\"text-align: right;\"> 0.0703804</td><td style=\"text-align: right;\">-0.117984 </td><td style=\"text-align: right;\"> 0.114256 </td></tr>\n",
       "<tr><td style=\"text-align: right;\">-0.232997</td><td style=\"text-align: right;\">-0.0338388 </td><td style=\"text-align: right;\"> 0.173665   </td><td style=\"text-align: right;\">-0.0161939 </td><td style=\"text-align: right;\"> 0.114356 </td><td style=\"text-align: right;\">-0.149864 </td><td style=\"text-align: right;\">-0.17116   </td><td style=\"text-align: right;\">-0.081963  </td><td style=\"text-align: right;\"> 0.0458953</td><td style=\"text-align: right;\"> 0.0639771</td><td style=\"text-align: right;\">-0.196013 </td><td style=\"text-align: right;\">-0.0658889</td><td style=\"text-align: right;\">-0.247556 </td><td style=\"text-align: right;\">-0.158248 </td><td style=\"text-align: right;\">-0.0060528</td><td style=\"text-align: right;\">-0.125522 </td><td style=\"text-align: right;\"> 0.00851688</td><td style=\"text-align: right;\"> 0.00458658</td><td style=\"text-align: right;\">0.0530958</td><td style=\"text-align: right;\"> 0.0792186 </td><td style=\"text-align: right;\"> 0.13946  </td><td style=\"text-align: right;\"> 0.0743886 </td><td style=\"text-align: right;\">-0.184215 </td><td style=\"text-align: right;\"> 0.0941283</td><td style=\"text-align: right;\"> 0.162106 </td><td style=\"text-align: right;\"> 0.0709069 </td><td style=\"text-align: right;\">-0.13594   </td><td style=\"text-align: right;\">-0.124962 </td><td style=\"text-align: right;\">0.192387 </td><td style=\"text-align: right;\">-0.0809501</td><td style=\"text-align: right;\">-0.00951064</td><td style=\"text-align: right;\">-0.0540781 </td><td style=\"text-align: right;\">-0.00422806</td><td style=\"text-align: right;\"> 0.0294527</td><td style=\"text-align: right;\">0.0565093</td><td style=\"text-align: right;\"> 0.103797  </td><td style=\"text-align: right;\">-0.00979271 </td><td style=\"text-align: right;\">-0.0274421 </td><td style=\"text-align: right;\">-0.14347  </td><td style=\"text-align: right;\">-0.12785   </td><td style=\"text-align: right;\"> 0.0354262 </td><td style=\"text-align: right;\">-0.072675  </td><td style=\"text-align: right;\">-0.0160529 </td><td style=\"text-align: right;\"> 0.0470565 </td><td style=\"text-align: right;\">-0.0720021  </td><td style=\"text-align: right;\">-0.0367625</td><td style=\"text-align: right;\"> 0.0177608 </td><td style=\"text-align: right;\"> 0.0428037  </td><td style=\"text-align: right;\">-0.122228 </td><td style=\"text-align: right;\">-0.0711986</td><td style=\"text-align: right;\">-0.0514592 </td><td style=\"text-align: right;\"> 0.0221148</td><td style=\"text-align: right;\">-0.0555796 </td><td style=\"text-align: right;\">-0.00410518</td><td style=\"text-align: right;\">-0.0693714</td><td style=\"text-align: right;\"> 0.0918227</td><td style=\"text-align: right;\">-0.074159  </td><td style=\"text-align: right;\">0.02456   </td><td style=\"text-align: right;\">-0.000361537</td><td style=\"text-align: right;\">-0.0526059</td><td style=\"text-align: right;\"> 0.0637884</td><td style=\"text-align: right;\">-0.0754277</td><td style=\"text-align: right;\">-0.0136877 </td><td style=\"text-align: right;\">-0.0057525</td><td style=\"text-align: right;\"> 0.0313611 </td><td style=\"text-align: right;\"> 0.141881 </td><td style=\"text-align: right;\">-0.0576565 </td><td style=\"text-align: right;\">0.19292  </td><td style=\"text-align: right;\">-0.103839</td><td style=\"text-align: right;\">0.199179</td><td style=\"text-align: right;\"> 0.0384713  </td><td style=\"text-align: right;\">-0.0401046 </td><td style=\"text-align: right;\">-0.0344447</td><td style=\"text-align: right;\"> 0.082792  </td><td style=\"text-align: right;\"> 0.157924 </td><td style=\"text-align: right;\"> 0.0393331 </td><td style=\"text-align: right;\"> 0.0952597</td><td style=\"text-align: right;\">0.12811 </td><td style=\"text-align: right;\">0.217319 </td><td style=\"text-align: right;\"> 0.0960573</td><td style=\"text-align: right;\"> 0.0173101 </td><td style=\"text-align: right;\">-0.00202155</td><td style=\"text-align: right;\">-0.0913502 </td><td style=\"text-align: right;\"> 0.00644754</td><td style=\"text-align: right;\">-0.00816015</td><td style=\"text-align: right;\">-0.0202725</td><td style=\"text-align: right;\"> 0.045687 </td><td style=\"text-align: right;\">0.0459054</td><td style=\"text-align: right;\">-0.148301 </td><td style=\"text-align: right;\">-0.17757  </td><td style=\"text-align: right;\">-0.0400433</td><td style=\"text-align: right;\">-0.105334 </td><td style=\"text-align: right;\"> 0.0107181</td><td style=\"text-align: right;\">-0.00741473</td><td style=\"text-align: right;\">-0.237777 </td><td style=\"text-align: right;\"> 0.137755  </td><td style=\"text-align: right;\"> 0.0556942  </td><td style=\"text-align: right;\">-0.0367062</td><td style=\"text-align: right;\">-0.0370358</td><td style=\"text-align: right;\"> 0.02945  </td></tr>\n",
       "<tr><td style=\"text-align: right;\">-0.160927</td><td style=\"text-align: right;\">-0.140351  </td><td style=\"text-align: right;\"> 0.0855669  </td><td style=\"text-align: right;\">-0.00689313</td><td style=\"text-align: right;\">-0.0400388</td><td style=\"text-align: right;\"> 0.105316 </td><td style=\"text-align: right;\">-0.0705528 </td><td style=\"text-align: right;\">-0.119699  </td><td style=\"text-align: right;\">-0.0116128</td><td style=\"text-align: right;\"> 0.0106764</td><td style=\"text-align: right;\">-0.142213 </td><td style=\"text-align: right;\"> 0.0664809</td><td style=\"text-align: right;\">-0.123927 </td><td style=\"text-align: right;\"> 0.0410207</td><td style=\"text-align: right;\"> 0.0751499</td><td style=\"text-align: right;\">-0.0422186</td><td style=\"text-align: right;\"> 0.079531  </td><td style=\"text-align: right;\"> 0.0130758 </td><td style=\"text-align: right;\">0.18321  </td><td style=\"text-align: right;\"> 0.0508976 </td><td style=\"text-align: right;\"> 0.0509246</td><td style=\"text-align: right;\"> 0.0200271 </td><td style=\"text-align: right;\"> 0.0144195</td><td style=\"text-align: right;\">-0.169323 </td><td style=\"text-align: right;\">-0.0127773</td><td style=\"text-align: right;\">-0.00267941</td><td style=\"text-align: right;\">-0.00115944</td><td style=\"text-align: right;\">-0.0807711</td><td style=\"text-align: right;\">0.0905816</td><td style=\"text-align: right;\">-0.0403292</td><td style=\"text-align: right;\"> 0.0315963 </td><td style=\"text-align: right;\">-0.00201437</td><td style=\"text-align: right;\">-0.0814418 </td><td style=\"text-align: right;\">-0.0605898</td><td style=\"text-align: right;\">0.0631162</td><td style=\"text-align: right;\"> 0.00747778</td><td style=\"text-align: right;\">-0.0909701  </td><td style=\"text-align: right;\"> 0.0267967 </td><td style=\"text-align: right;\">-0.0763859</td><td style=\"text-align: right;\">-0.0331542 </td><td style=\"text-align: right;\">-0.00326846</td><td style=\"text-align: right;\">-0.0511654 </td><td style=\"text-align: right;\">-0.0479847 </td><td style=\"text-align: right;\"> 0.169739  </td><td style=\"text-align: right;\"> 0.106797   </td><td style=\"text-align: right;\">-0.124116 </td><td style=\"text-align: right;\">-0.0217468 </td><td style=\"text-align: right;\"> 0.141422   </td><td style=\"text-align: right;\">-0.071591 </td><td style=\"text-align: right;\"> 0.161584 </td><td style=\"text-align: right;\">-0.0634366 </td><td style=\"text-align: right;\"> 0.0246266</td><td style=\"text-align: right;\">-0.0461397 </td><td style=\"text-align: right;\">-0.06018   </td><td style=\"text-align: right;\"> 0.0126557</td><td style=\"text-align: right;\"> 0.0181608</td><td style=\"text-align: right;\">-0.164331  </td><td style=\"text-align: right;\">0.225862  </td><td style=\"text-align: right;\"> 0.0425888  </td><td style=\"text-align: right;\">-0.100585 </td><td style=\"text-align: right;\">-0.0278447</td><td style=\"text-align: right;\"> 0.0837395</td><td style=\"text-align: right;\"> 0.0258862 </td><td style=\"text-align: right;\"> 0.0747021</td><td style=\"text-align: right;\">-0.0355616 </td><td style=\"text-align: right;\"> 0.103837 </td><td style=\"text-align: right;\"> 0.0159819 </td><td style=\"text-align: right;\">0.0276258</td><td style=\"text-align: right;\">-0.195936</td><td style=\"text-align: right;\">0.164534</td><td style=\"text-align: right;\">-0.0902722  </td><td style=\"text-align: right;\">-0.00580181</td><td style=\"text-align: right;\">-0.079433 </td><td style=\"text-align: right;\"> 0.0455423 </td><td style=\"text-align: right;\"> 0.182521 </td><td style=\"text-align: right;\"> 0.144814  </td><td style=\"text-align: right;\"> 0.0250227</td><td style=\"text-align: right;\">0.243264</td><td style=\"text-align: right;\">0.241744 </td><td style=\"text-align: right;\"> 0.0204475</td><td style=\"text-align: right;\">-0.00583595</td><td style=\"text-align: right;\"> 0.0641819 </td><td style=\"text-align: right;\">-0.128309  </td><td style=\"text-align: right;\">-0.00572254</td><td style=\"text-align: right;\"> 0.0695733 </td><td style=\"text-align: right;\">-0.117506 </td><td style=\"text-align: right;\"> 0.0925867</td><td style=\"text-align: right;\">0.14085  </td><td style=\"text-align: right;\">-0.0442237</td><td style=\"text-align: right;\"> 0.0193448</td><td style=\"text-align: right;\">-0.129606 </td><td style=\"text-align: right;\">-0.161275 </td><td style=\"text-align: right;\">-0.0119871</td><td style=\"text-align: right;\"> 0.0575055 </td><td style=\"text-align: right;\">-0.0912453</td><td style=\"text-align: right;\"> 0.0518156 </td><td style=\"text-align: right;\"> 0.0629825  </td><td style=\"text-align: right;\">-0.022854 </td><td style=\"text-align: right;\">-0.115637 </td><td style=\"text-align: right;\"> 0.0613274</td></tr>\n",
       "<tr><td style=\"text-align: right;\">-0.133053</td><td style=\"text-align: right;\">-0.164094  </td><td style=\"text-align: right;\"> 0.13372    </td><td style=\"text-align: right;\">-0.00550569</td><td style=\"text-align: right;\">-0.0176304</td><td style=\"text-align: right;\"> 0.0465208</td><td style=\"text-align: right;\">-0.0386543 </td><td style=\"text-align: right;\"> 0.00925244</td><td style=\"text-align: right;\">-0.0839459</td><td style=\"text-align: right;\"> 0.0358861</td><td style=\"text-align: right;\">-0.0153423</td><td style=\"text-align: right;\"> 0.0816526</td><td style=\"text-align: right;\">-0.120808 </td><td style=\"text-align: right;\"> 0.0593551</td><td style=\"text-align: right;\"> 0.0944927</td><td style=\"text-align: right;\">-0.0637651</td><td style=\"text-align: right;\"> 0.0398163 </td><td style=\"text-align: right;\"> 0.0286942 </td><td style=\"text-align: right;\">0.0989994</td><td style=\"text-align: right;\"> 0.0599414 </td><td style=\"text-align: right;\"> 0.0659183</td><td style=\"text-align: right;\">-0.0040134 </td><td style=\"text-align: right;\">-0.0924212</td><td style=\"text-align: right;\">-0.120467 </td><td style=\"text-align: right;\">-0.0370544</td><td style=\"text-align: right;\"> 0.0599853 </td><td style=\"text-align: right;\">-0.0738981 </td><td style=\"text-align: right;\">-0.0996451</td><td style=\"text-align: right;\">0.107521 </td><td style=\"text-align: right;\">-0.0948345</td><td style=\"text-align: right;\"> 0.0414782 </td><td style=\"text-align: right;\">-0.00260283</td><td style=\"text-align: right;\">-0.0909576 </td><td style=\"text-align: right;\">-0.101761 </td><td style=\"text-align: right;\">0.124664 </td><td style=\"text-align: right;\">-0.0184426 </td><td style=\"text-align: right;\">-0.0185393  </td><td style=\"text-align: right;\"> 0.0121908 </td><td style=\"text-align: right;\">-0.0194354</td><td style=\"text-align: right;\"> 0.0226924 </td><td style=\"text-align: right;\"> 0.0734358 </td><td style=\"text-align: right;\">-0.00332592</td><td style=\"text-align: right;\"> 0.0175513 </td><td style=\"text-align: right;\"> 0.00931318</td><td style=\"text-align: right;\">-0.0116832  </td><td style=\"text-align: right;\">-0.0281796</td><td style=\"text-align: right;\">-0.0743016 </td><td style=\"text-align: right;\"> 0.0577744  </td><td style=\"text-align: right;\">-0.0757178</td><td style=\"text-align: right;\"> 0.15965  </td><td style=\"text-align: right;\"> 0.0584635 </td><td style=\"text-align: right;\">-0.0646983</td><td style=\"text-align: right;\">-0.167724  </td><td style=\"text-align: right;\">-0.0119301 </td><td style=\"text-align: right;\"> 0.0286405</td><td style=\"text-align: right;\"> 0.113263 </td><td style=\"text-align: right;\">-0.0326419 </td><td style=\"text-align: right;\">0.151771  </td><td style=\"text-align: right;\"> 0.0181474  </td><td style=\"text-align: right;\">-0.0891161</td><td style=\"text-align: right;\"> 0.0205954</td><td style=\"text-align: right;\"> 0.0995537</td><td style=\"text-align: right;\">-0.0790042 </td><td style=\"text-align: right;\"> 0.144018 </td><td style=\"text-align: right;\">-0.0170066 </td><td style=\"text-align: right;\"> 0.0654914</td><td style=\"text-align: right;\">-0.00865268</td><td style=\"text-align: right;\">0.148757 </td><td style=\"text-align: right;\">-0.127382</td><td style=\"text-align: right;\">0.210464</td><td style=\"text-align: right;\">-0.0244562  </td><td style=\"text-align: right;\">-0.0410272 </td><td style=\"text-align: right;\">-0.0537463</td><td style=\"text-align: right;\"> 0.0189118 </td><td style=\"text-align: right;\"> 0.146907 </td><td style=\"text-align: right;\"> 0.11978   </td><td style=\"text-align: right;\"> 0.150504 </td><td style=\"text-align: right;\">0.185602</td><td style=\"text-align: right;\">0.280557 </td><td style=\"text-align: right;\"> 0.0224175</td><td style=\"text-align: right;\"> 0.0100482 </td><td style=\"text-align: right;\">-0.0337751 </td><td style=\"text-align: right;\">-0.0653536 </td><td style=\"text-align: right;\"> 0.0357487 </td><td style=\"text-align: right;\"> 0.0634623 </td><td style=\"text-align: right;\"> 0.0873389</td><td style=\"text-align: right;\"> 0.126643 </td><td style=\"text-align: right;\">0.20421  </td><td style=\"text-align: right;\">-0.0335642</td><td style=\"text-align: right;\">-0.0745464</td><td style=\"text-align: right;\">-0.0989269</td><td style=\"text-align: right;\">-0.182704 </td><td style=\"text-align: right;\">-0.0799977</td><td style=\"text-align: right;\"> 0.0346494 </td><td style=\"text-align: right;\">-0.0981322</td><td style=\"text-align: right;\"> 0.0387928 </td><td style=\"text-align: right;\">-0.0302099  </td><td style=\"text-align: right;\"> 0.0421659</td><td style=\"text-align: right;\">-0.0286211</td><td style=\"text-align: right;\">-0.0129597</td></tr>\n",
       "<tr><td style=\"text-align: right;\">-0.222405</td><td style=\"text-align: right;\">-0.0967859 </td><td style=\"text-align: right;\"> 0.152092   </td><td style=\"text-align: right;\"> 0.0262293 </td><td style=\"text-align: right;\"> 0.0577496</td><td style=\"text-align: right;\"> 0.0978514</td><td style=\"text-align: right;\">-0.00263169</td><td style=\"text-align: right;\"> 0.104795  </td><td style=\"text-align: right;\"> 0.0034369</td><td style=\"text-align: right;\">-0.0528591</td><td style=\"text-align: right;\">-0.122389 </td><td style=\"text-align: right;\"> 0.0291963</td><td style=\"text-align: right;\">-0.0218296</td><td style=\"text-align: right;\"> 0.0042545</td><td style=\"text-align: right;\"> 0.214737 </td><td style=\"text-align: right;\">-0.0910929</td><td style=\"text-align: right;\"> 0.0471296 </td><td style=\"text-align: right;\"> 0.100389  </td><td style=\"text-align: right;\">0.116598 </td><td style=\"text-align: right;\"> 0.0023525 </td><td style=\"text-align: right;\"> 0.117212 </td><td style=\"text-align: right;\"> 0.127304  </td><td style=\"text-align: right;\">-0.0339383</td><td style=\"text-align: right;\">-0.132126 </td><td style=\"text-align: right;\"> 0.0188781</td><td style=\"text-align: right;\"> 0.0136771 </td><td style=\"text-align: right;\">-0.0784923 </td><td style=\"text-align: right;\">-0.0453893</td><td style=\"text-align: right;\">0.0379209</td><td style=\"text-align: right;\">-0.0105081</td><td style=\"text-align: right;\">-0.0314683 </td><td style=\"text-align: right;\">-0.0122376 </td><td style=\"text-align: right;\">-0.138563  </td><td style=\"text-align: right;\">-0.074196 </td><td style=\"text-align: right;\">0.056858 </td><td style=\"text-align: right;\">-0.0554369 </td><td style=\"text-align: right;\">-0.0356546  </td><td style=\"text-align: right;\">-0.0333693 </td><td style=\"text-align: right;\">-0.0644417</td><td style=\"text-align: right;\">-0.0147485 </td><td style=\"text-align: right;\"> 0.0477519 </td><td style=\"text-align: right;\">-0.102409  </td><td style=\"text-align: right;\">-0.0934038 </td><td style=\"text-align: right;\"> 0.0669027 </td><td style=\"text-align: right;\"> 0.0432638  </td><td style=\"text-align: right;\">-0.0523085</td><td style=\"text-align: right;\">-0.0352782 </td><td style=\"text-align: right;\"> 0.0881144  </td><td style=\"text-align: right;\">-0.124993 </td><td style=\"text-align: right;\"> 0.10698  </td><td style=\"text-align: right;\">-0.10776   </td><td style=\"text-align: right;\"> 0.120828 </td><td style=\"text-align: right;\">-0.164252  </td><td style=\"text-align: right;\">-0.0204008 </td><td style=\"text-align: right;\"> 0.0196431</td><td style=\"text-align: right;\">-0.0172847</td><td style=\"text-align: right;\">-0.0788757 </td><td style=\"text-align: right;\">0.173744  </td><td style=\"text-align: right;\"> 0.00574487 </td><td style=\"text-align: right;\">-0.016861 </td><td style=\"text-align: right;\"> 0.0472892</td><td style=\"text-align: right;\"> 0.105263 </td><td style=\"text-align: right;\">-0.0167795 </td><td style=\"text-align: right;\"> 0.0351766</td><td style=\"text-align: right;\"> 0.0485378 </td><td style=\"text-align: right;\"> 0.0861952</td><td style=\"text-align: right;\">-0.0302039 </td><td style=\"text-align: right;\">0.150242 </td><td style=\"text-align: right;\">-0.106866</td><td style=\"text-align: right;\">0.138909</td><td style=\"text-align: right;\">-0.0497275  </td><td style=\"text-align: right;\"> 0.0466011 </td><td style=\"text-align: right;\">-0.0572219</td><td style=\"text-align: right;\"> 0.0360513 </td><td style=\"text-align: right;\"> 0.0797969</td><td style=\"text-align: right;\"> 0.0592248 </td><td style=\"text-align: right;\"> 0.122469 </td><td style=\"text-align: right;\">0.239161</td><td style=\"text-align: right;\">0.284666 </td><td style=\"text-align: right;\">-0.0100903</td><td style=\"text-align: right;\"> 0.0570279 </td><td style=\"text-align: right;\"> 0.0996812 </td><td style=\"text-align: right;\">-0.00914602</td><td style=\"text-align: right;\"> 0.0125344 </td><td style=\"text-align: right;\"> 0.1278    </td><td style=\"text-align: right;\"> 0.0438412</td><td style=\"text-align: right;\"> 0.112387 </td><td style=\"text-align: right;\">0.124892 </td><td style=\"text-align: right;\">-0.0523641</td><td style=\"text-align: right;\"> 0.0500496</td><td style=\"text-align: right;\">-0.0552901</td><td style=\"text-align: right;\">-0.224417 </td><td style=\"text-align: right;\">-0.108238 </td><td style=\"text-align: right;\">-0.0326649 </td><td style=\"text-align: right;\">-0.145326 </td><td style=\"text-align: right;\"> 0.103939  </td><td style=\"text-align: right;\"> 0.105306   </td><td style=\"text-align: right;\"> 0.0975912</td><td style=\"text-align: right;\">-0.0980264</td><td style=\"text-align: right;\"> 0.140493 </td></tr>\n",
       "<tr><td style=\"text-align: right;\">-0.173587</td><td style=\"text-align: right;\"> 0.0028389 </td><td style=\"text-align: right;\"> 0.102576   </td><td style=\"text-align: right;\">-0.0413503 </td><td style=\"text-align: right;\"> 0.0192182</td><td style=\"text-align: right;\">-0.0598499</td><td style=\"text-align: right;\">-0.0727816 </td><td style=\"text-align: right;\">-0.0837291 </td><td style=\"text-align: right;\"> 0.0441272</td><td style=\"text-align: right;\"> 0.164424 </td><td style=\"text-align: right;\">-0.190765 </td><td style=\"text-align: right;\"> 0.111501 </td><td style=\"text-align: right;\">-0.219854 </td><td style=\"text-align: right;\">-0.113606 </td><td style=\"text-align: right;\">-0.127935 </td><td style=\"text-align: right;\">-0.0984452</td><td style=\"text-align: right;\"> 0.10779   </td><td style=\"text-align: right;\"> 0.0667976 </td><td style=\"text-align: right;\">0.185187 </td><td style=\"text-align: right;\"> 0.119656  </td><td style=\"text-align: right;\"> 0.106806 </td><td style=\"text-align: right;\"> 0.00230865</td><td style=\"text-align: right;\">-0.0399539</td><td style=\"text-align: right;\"> 0.0302874</td><td style=\"text-align: right;\"> 0.0560471</td><td style=\"text-align: right;\">-0.0979424 </td><td style=\"text-align: right;\">-0.157591  </td><td style=\"text-align: right;\">-0.0648456</td><td style=\"text-align: right;\">0.0814136</td><td style=\"text-align: right;\">-0.114786 </td><td style=\"text-align: right;\"> 0.0478424 </td><td style=\"text-align: right;\"> 0.0071145 </td><td style=\"text-align: right;\">-0.101356  </td><td style=\"text-align: right;\">-0.0323456</td><td style=\"text-align: right;\">0.12446  </td><td style=\"text-align: right;\">-0.0512096 </td><td style=\"text-align: right;\">-0.0060151  </td><td style=\"text-align: right;\">-0.0466079 </td><td style=\"text-align: right;\">-0.0491513</td><td style=\"text-align: right;\">-0.00526345</td><td style=\"text-align: right;\">-0.129253  </td><td style=\"text-align: right;\"> 0.0448265 </td><td style=\"text-align: right;\"> 0.056038  </td><td style=\"text-align: right;\">-0.123959  </td><td style=\"text-align: right;\"> 0.0487025  </td><td style=\"text-align: right;\">-0.065726 </td><td style=\"text-align: right;\"> 0.00854693</td><td style=\"text-align: right;\"> 0.0683007  </td><td style=\"text-align: right;\"> 0.0227628</td><td style=\"text-align: right;\"> 0.0796417</td><td style=\"text-align: right;\">-0.0633335 </td><td style=\"text-align: right;\"> 0.0634727</td><td style=\"text-align: right;\">-0.0611133 </td><td style=\"text-align: right;\"> 0.0538665 </td><td style=\"text-align: right;\"> 0.148858 </td><td style=\"text-align: right;\">-0.0282261</td><td style=\"text-align: right;\">-0.00593027</td><td style=\"text-align: right;\">0.0670126 </td><td style=\"text-align: right;\"> 0.00529885 </td><td style=\"text-align: right;\">-0.0220722</td><td style=\"text-align: right;\">-0.0630302</td><td style=\"text-align: right;\">-0.0841505</td><td style=\"text-align: right;\">-0.133986  </td><td style=\"text-align: right;\"> 0.0718393</td><td style=\"text-align: right;\"> 0.0366812 </td><td style=\"text-align: right;\"> 0.174788 </td><td style=\"text-align: right;\">-0.0217297 </td><td style=\"text-align: right;\">0.0628127</td><td style=\"text-align: right;\">-0.131585</td><td style=\"text-align: right;\">0.149373</td><td style=\"text-align: right;\"> 0.100084   </td><td style=\"text-align: right;\"> 0.0253709 </td><td style=\"text-align: right;\">-0.248486 </td><td style=\"text-align: right;\"> 0.117942  </td><td style=\"text-align: right;\"> 0.0657123</td><td style=\"text-align: right;\"> 0.0841852 </td><td style=\"text-align: right;\"> 0.242863 </td><td style=\"text-align: right;\">0.268263</td><td style=\"text-align: right;\">0.12419  </td><td style=\"text-align: right;\"> 0.0555437</td><td style=\"text-align: right;\"> 0.041718  </td><td style=\"text-align: right;\"> 0.0123613 </td><td style=\"text-align: right;\"> 0.0583042 </td><td style=\"text-align: right;\">-0.139602  </td><td style=\"text-align: right;\"> 0.0728455 </td><td style=\"text-align: right;\"> 0.0681533</td><td style=\"text-align: right;\">-0.177399 </td><td style=\"text-align: right;\">0.042815 </td><td style=\"text-align: right;\">-0.206076 </td><td style=\"text-align: right;\"> 0.0199532</td><td style=\"text-align: right;\">-0.218062 </td><td style=\"text-align: right;\">-0.211437 </td><td style=\"text-align: right;\">-0.100679 </td><td style=\"text-align: right;\">-0.0458511 </td><td style=\"text-align: right;\">-0.241099 </td><td style=\"text-align: right;\"> 0.0320507 </td><td style=\"text-align: right;\">-0.000985292</td><td style=\"text-align: right;\">-0.1586   </td><td style=\"text-align: right;\">-0.0733168</td><td style=\"text-align: right;\"> 0.0676524</td></tr>\n",
       "<tr><td style=\"text-align: right;\">-0.208811</td><td style=\"text-align: right;\">-0.00844842</td><td style=\"text-align: right;\"> 0.0980189  </td><td style=\"text-align: right;\"> 0.0690333 </td><td style=\"text-align: right;\"> 0.175753 </td><td style=\"text-align: right;\">-0.067679 </td><td style=\"text-align: right;\">-0.0697829 </td><td style=\"text-align: right;\">-0.1256    </td><td style=\"text-align: right;\">-0.0126819</td><td style=\"text-align: right;\"> 0.050251 </td><td style=\"text-align: right;\">-0.144719 </td><td style=\"text-align: right;\"> 0.0667424</td><td style=\"text-align: right;\">-0.189772 </td><td style=\"text-align: right;\">-0.169284 </td><td style=\"text-align: right;\"> 0.0855714</td><td style=\"text-align: right;\">-0.0829403</td><td style=\"text-align: right;\"> 0.121006  </td><td style=\"text-align: right;\"> 0.0661756 </td><td style=\"text-align: right;\">0.167853 </td><td style=\"text-align: right;\"> 0.170754  </td><td style=\"text-align: right;\"> 0.0353626</td><td style=\"text-align: right;\">-0.0173487 </td><td style=\"text-align: right;\">-0.162193 </td><td style=\"text-align: right;\">-0.0161153</td><td style=\"text-align: right;\"> 0.0651911</td><td style=\"text-align: right;\">-0.00498636</td><td style=\"text-align: right;\">-0.0590107 </td><td style=\"text-align: right;\">-0.0296348</td><td style=\"text-align: right;\">0.108749 </td><td style=\"text-align: right;\">-0.152044 </td><td style=\"text-align: right;\">-0.0821387 </td><td style=\"text-align: right;\">-0.0629303 </td><td style=\"text-align: right;\"> 0.109422  </td><td style=\"text-align: right;\"> 0.0113802</td><td style=\"text-align: right;\">0.144638 </td><td style=\"text-align: right;\">-0.0570455 </td><td style=\"text-align: right;\"> 0.00259783 </td><td style=\"text-align: right;\">-0.13062   </td><td style=\"text-align: right;\"> 0.0285687</td><td style=\"text-align: right;\"> 0.0139309 </td><td style=\"text-align: right;\"> 0.109542  </td><td style=\"text-align: right;\">-0.0442825 </td><td style=\"text-align: right;\">-0.0166643 </td><td style=\"text-align: right;\"> 0.0445793 </td><td style=\"text-align: right;\"> 0.0426267  </td><td style=\"text-align: right;\">-0.124624 </td><td style=\"text-align: right;\">-0.0932658 </td><td style=\"text-align: right;\">-0.07637    </td><td style=\"text-align: right;\">-0.175265 </td><td style=\"text-align: right;\"> 0.133172 </td><td style=\"text-align: right;\">-0.0247647 </td><td style=\"text-align: right;\"> 0.136254 </td><td style=\"text-align: right;\">-0.143569  </td><td style=\"text-align: right;\">-0.0388313 </td><td style=\"text-align: right;\"> 0.020258 </td><td style=\"text-align: right;\"> 0.074898 </td><td style=\"text-align: right;\">-0.106718  </td><td style=\"text-align: right;\">0.0941211 </td><td style=\"text-align: right;\"> 0.0509632  </td><td style=\"text-align: right;\">-0.0643055</td><td style=\"text-align: right;\"> 0.0576363</td><td style=\"text-align: right;\">-0.0884155</td><td style=\"text-align: right;\"> 0.017341  </td><td style=\"text-align: right;\"> 0.0462464</td><td style=\"text-align: right;\">-0.0187486 </td><td style=\"text-align: right;\">-0.0256906</td><td style=\"text-align: right;\"> 0.00135734</td><td style=\"text-align: right;\">0.0840673</td><td style=\"text-align: right;\">-0.142297</td><td style=\"text-align: right;\">0.102445</td><td style=\"text-align: right;\"> 0.0629767  </td><td style=\"text-align: right;\">-0.0104948 </td><td style=\"text-align: right;\"> 0.0370979</td><td style=\"text-align: right;\">-0.113043  </td><td style=\"text-align: right;\"> 0.0450073</td><td style=\"text-align: right;\">-0.0739205 </td><td style=\"text-align: right;\"> 0.0333171</td><td style=\"text-align: right;\">0.175329</td><td style=\"text-align: right;\">0.167975 </td><td style=\"text-align: right;\">-0.168728 </td><td style=\"text-align: right;\"> 0.232384  </td><td style=\"text-align: right;\"> 0.0877207 </td><td style=\"text-align: right;\">-0.0438999 </td><td style=\"text-align: right;\">-0.0168834 </td><td style=\"text-align: right;\"> 0.129286  </td><td style=\"text-align: right;\"> 0.0389298</td><td style=\"text-align: right;\"> 0.150837 </td><td style=\"text-align: right;\">0.148616 </td><td style=\"text-align: right;\">-0.0540902</td><td style=\"text-align: right;\"> 0.0208219</td><td style=\"text-align: right;\">-0.0392014</td><td style=\"text-align: right;\">-0.121972 </td><td style=\"text-align: right;\"> 0.177741 </td><td style=\"text-align: right;\">-0.0847384 </td><td style=\"text-align: right;\">-0.173488 </td><td style=\"text-align: right;\"> 0.0178973 </td><td style=\"text-align: right;\">-0.0371227  </td><td style=\"text-align: right;\">-0.166742 </td><td style=\"text-align: right;\">-0.024381 </td><td style=\"text-align: right;\"> 0.0360264</td></tr>\n",
       "<tr><td style=\"text-align: right;\">-0.226164</td><td style=\"text-align: right;\">-0.00512665</td><td style=\"text-align: right;\">-0.000646055</td><td style=\"text-align: right;\">-0.0277471 </td><td style=\"text-align: right;\"> 0.0852097</td><td style=\"text-align: right;\"> 0.0322576</td><td style=\"text-align: right;\">-0.11754   </td><td style=\"text-align: right;\"> 0.0215034 </td><td style=\"text-align: right;\"> 0.165148 </td><td style=\"text-align: right;\"> 0.125948 </td><td style=\"text-align: right;\">-0.173115 </td><td style=\"text-align: right;\"> 0.0488727</td><td style=\"text-align: right;\">-0.17818  </td><td style=\"text-align: right;\">-0.0765975</td><td style=\"text-align: right;\">-0.0546315</td><td style=\"text-align: right;\">-0.159921 </td><td style=\"text-align: right;\"> 0.0269079 </td><td style=\"text-align: right;\">-0.00238583</td><td style=\"text-align: right;\">0.101299 </td><td style=\"text-align: right;\"> 0.0922896 </td><td style=\"text-align: right;\"> 0.136997 </td><td style=\"text-align: right;\">-0.00333991</td><td style=\"text-align: right;\">-0.140285 </td><td style=\"text-align: right;\">-0.0699168</td><td style=\"text-align: right;\"> 0.0681738</td><td style=\"text-align: right;\">-0.0136504 </td><td style=\"text-align: right;\">-0.148817  </td><td style=\"text-align: right;\">-0.106151 </td><td style=\"text-align: right;\">0.133061 </td><td style=\"text-align: right;\">-0.0474743</td><td style=\"text-align: right;\"> 0.0203446 </td><td style=\"text-align: right;\"> 0.0884975 </td><td style=\"text-align: right;\"> 0.019707  </td><td style=\"text-align: right;\">-0.0474653</td><td style=\"text-align: right;\">0.094161 </td><td style=\"text-align: right;\">-0.0156306 </td><td style=\"text-align: right;\">-0.109765   </td><td style=\"text-align: right;\">-0.0349335 </td><td style=\"text-align: right;\">-0.0821326</td><td style=\"text-align: right;\">-0.0659122 </td><td style=\"text-align: right;\">-0.0552617 </td><td style=\"text-align: right;\">-0.0542949 </td><td style=\"text-align: right;\"> 0.00901885</td><td style=\"text-align: right;\">-0.0191592 </td><td style=\"text-align: right;\"> 0.011301   </td><td style=\"text-align: right;\">-0.0369469</td><td style=\"text-align: right;\"> 0.018596  </td><td style=\"text-align: right;\"> 0.0689056  </td><td style=\"text-align: right;\">-0.0772853</td><td style=\"text-align: right;\">-0.0403434</td><td style=\"text-align: right;\">-0.00591981</td><td style=\"text-align: right;\">-0.0124362</td><td style=\"text-align: right;\">-0.00653061</td><td style=\"text-align: right;\">-0.0382223 </td><td style=\"text-align: right;\"> 0.0481134</td><td style=\"text-align: right;\"> 0.0862243</td><td style=\"text-align: right;\">-0.0525046 </td><td style=\"text-align: right;\">0.00466235</td><td style=\"text-align: right;\">-0.00986908 </td><td style=\"text-align: right;\">-0.0616066</td><td style=\"text-align: right;\">-0.0832409</td><td style=\"text-align: right;\">-0.0264473</td><td style=\"text-align: right;\">-0.00420331</td><td style=\"text-align: right;\"> 0.0821471</td><td style=\"text-align: right;\"> 0.023022  </td><td style=\"text-align: right;\"> 0.1122   </td><td style=\"text-align: right;\"> 0.0189204 </td><td style=\"text-align: right;\">0.0926503</td><td style=\"text-align: right;\">-0.16242 </td><td style=\"text-align: right;\">0.170859</td><td style=\"text-align: right;\">-0.000955444</td><td style=\"text-align: right;\">-0.0851045 </td><td style=\"text-align: right;\">-0.118764 </td><td style=\"text-align: right;\"> 0.0438294 </td><td style=\"text-align: right;\"> 0.0593803</td><td style=\"text-align: right;\"> 0.0257144 </td><td style=\"text-align: right;\"> 0.13187  </td><td style=\"text-align: right;\">0.279373</td><td style=\"text-align: right;\">0.196636 </td><td style=\"text-align: right;\"> 0.0575719</td><td style=\"text-align: right;\"> 0.0221729 </td><td style=\"text-align: right;\">-0.0378448 </td><td style=\"text-align: right;\">-0.0309772 </td><td style=\"text-align: right;\">-0.0272932 </td><td style=\"text-align: right;\"> 0.0564398 </td><td style=\"text-align: right;\"> 0.0051715</td><td style=\"text-align: right;\"> 0.0382155</td><td style=\"text-align: right;\">0.0159744</td><td style=\"text-align: right;\">-0.0897731</td><td style=\"text-align: right;\">-0.0926674</td><td style=\"text-align: right;\">-0.0864195</td><td style=\"text-align: right;\">-0.125975 </td><td style=\"text-align: right;\"> 0.0163511</td><td style=\"text-align: right;\">-0.0190708 </td><td style=\"text-align: right;\">-0.203875 </td><td style=\"text-align: right;\">-0.00640112</td><td style=\"text-align: right;\"> 0.0823187  </td><td style=\"text-align: right;\">-0.135162 </td><td style=\"text-align: right;\">-0.0818543</td><td style=\"text-align: right;\"> 0.137513 </td></tr>\n",
       "<tr><td style=\"text-align: right;\">-0.228031</td><td style=\"text-align: right;\">-0.0876452 </td><td style=\"text-align: right;\"> 0.0381591  </td><td style=\"text-align: right;\">-0.0607595 </td><td style=\"text-align: right;\">-0.0332835</td><td style=\"text-align: right;\"> 0.0685893</td><td style=\"text-align: right;\">-0.107302  </td><td style=\"text-align: right;\">-0.0225816 </td><td style=\"text-align: right;\"> 0.0830336</td><td style=\"text-align: right;\"> 0.10497  </td><td style=\"text-align: right;\">-0.208515 </td><td style=\"text-align: right;\"> 0.0544536</td><td style=\"text-align: right;\">-0.195894 </td><td style=\"text-align: right;\"> 0.0624211</td><td style=\"text-align: right;\">-0.0974164</td><td style=\"text-align: right;\">-0.0681051</td><td style=\"text-align: right;\">-0.00684664</td><td style=\"text-align: right;\"> 0.0440456 </td><td style=\"text-align: right;\">0.14677  </td><td style=\"text-align: right;\"> 0.00800749</td><td style=\"text-align: right;\"> 0.0769768</td><td style=\"text-align: right;\"> 0.00161927</td><td style=\"text-align: right;\">-0.0376698</td><td style=\"text-align: right;\">-0.173129 </td><td style=\"text-align: right;\"> 0.109392 </td><td style=\"text-align: right;\"> 0.0255991 </td><td style=\"text-align: right;\">-0.154014  </td><td style=\"text-align: right;\">-0.0569983</td><td style=\"text-align: right;\">0.0860696</td><td style=\"text-align: right;\">-0.069524 </td><td style=\"text-align: right;\"> 0.019456  </td><td style=\"text-align: right;\"> 0.0300848 </td><td style=\"text-align: right;\">-0.0171561 </td><td style=\"text-align: right;\">-0.144095 </td><td style=\"text-align: right;\">0.0558418</td><td style=\"text-align: right;\">-0.0641395 </td><td style=\"text-align: right;\">-0.0314175  </td><td style=\"text-align: right;\">-0.103763  </td><td style=\"text-align: right;\"> 0.0586561</td><td style=\"text-align: right;\">-0.0245815 </td><td style=\"text-align: right;\">-0.0924536 </td><td style=\"text-align: right;\">-0.00704109</td><td style=\"text-align: right;\">-0.079948  </td><td style=\"text-align: right;\">-0.0451811 </td><td style=\"text-align: right;\">-0.0682763  </td><td style=\"text-align: right;\">-0.0653416</td><td style=\"text-align: right;\">-0.0269207 </td><td style=\"text-align: right;\"> 0.0661967  </td><td style=\"text-align: right;\">-0.0619708</td><td style=\"text-align: right;\"> 0.0255188</td><td style=\"text-align: right;\">-0.0707109 </td><td style=\"text-align: right;\"> 0.0737021</td><td style=\"text-align: right;\">-0.0209616 </td><td style=\"text-align: right;\">-0.0584398 </td><td style=\"text-align: right;\"> 0.0662464</td><td style=\"text-align: right;\"> 0.0833969</td><td style=\"text-align: right;\">-0.0220668 </td><td style=\"text-align: right;\">0.245834  </td><td style=\"text-align: right;\"> 0.098061   </td><td style=\"text-align: right;\">-0.0472048</td><td style=\"text-align: right;\">-0.0441697</td><td style=\"text-align: right;\">-0.0821626</td><td style=\"text-align: right;\">-0.0387344 </td><td style=\"text-align: right;\"> 0.132597 </td><td style=\"text-align: right;\"> 0.0203508 </td><td style=\"text-align: right;\"> 0.0735883</td><td style=\"text-align: right;\">-0.0551476 </td><td style=\"text-align: right;\">0.11034  </td><td style=\"text-align: right;\">-0.126044</td><td style=\"text-align: right;\">0.108787</td><td style=\"text-align: right;\"> 0.0591406  </td><td style=\"text-align: right;\">-0.0375948 </td><td style=\"text-align: right;\">-0.124723 </td><td style=\"text-align: right;\"> 0.00998008</td><td style=\"text-align: right;\"> 0.186701 </td><td style=\"text-align: right;\"> 0.10755   </td><td style=\"text-align: right;\"> 0.125193 </td><td style=\"text-align: right;\">0.238494</td><td style=\"text-align: right;\">0.155716 </td><td style=\"text-align: right;\"> 0.0770185</td><td style=\"text-align: right;\">-0.0246574 </td><td style=\"text-align: right;\"> 0.0179797 </td><td style=\"text-align: right;\">-0.05298   </td><td style=\"text-align: right;\">-0.0525346 </td><td style=\"text-align: right;\">-0.0107451 </td><td style=\"text-align: right;\"> 0.0560718</td><td style=\"text-align: right;\"> 0.0928867</td><td style=\"text-align: right;\">0.189333 </td><td style=\"text-align: right;\">-0.125198 </td><td style=\"text-align: right;\"> 0.0482622</td><td style=\"text-align: right;\">-0.121036 </td><td style=\"text-align: right;\">-0.0660474</td><td style=\"text-align: right;\">-0.0714645</td><td style=\"text-align: right;\"> 0.0373876 </td><td style=\"text-align: right;\">-0.108397 </td><td style=\"text-align: right;\"> 0.003121  </td><td style=\"text-align: right;\"> 0.102522   </td><td style=\"text-align: right;\">-0.0927984</td><td style=\"text-align: right;\">-0.0468833</td><td style=\"text-align: right;\"> 0.0824151</td></tr>\n",
       "<tr><td style=\"text-align: right;\">-0.158036</td><td style=\"text-align: right;\">-0.149813  </td><td style=\"text-align: right;\"> 0.0518182  </td><td style=\"text-align: right;\"> 0.0916246 </td><td style=\"text-align: right;\"> 0.0292829</td><td style=\"text-align: right;\">-0.451117 </td><td style=\"text-align: right;\">-0.289922  </td><td style=\"text-align: right;\">-0.00230624</td><td style=\"text-align: right;\">-0.0509771</td><td style=\"text-align: right;\"> 0.374315 </td><td style=\"text-align: right;\">-0.19364  </td><td style=\"text-align: right;\"> 0.188288 </td><td style=\"text-align: right;\">-0.300703 </td><td style=\"text-align: right;\">-0.0222476</td><td style=\"text-align: right;\">-0.251223 </td><td style=\"text-align: right;\">-0.0172744</td><td style=\"text-align: right;\"> 0.0386139 </td><td style=\"text-align: right;\"> 0.113433  </td><td style=\"text-align: right;\">0.264564 </td><td style=\"text-align: right;\">-0.323396  </td><td style=\"text-align: right;\"> 0.239159 </td><td style=\"text-align: right;\"> 0.162768  </td><td style=\"text-align: right;\">-0.355828 </td><td style=\"text-align: right;\"> 0.0423623</td><td style=\"text-align: right;\"> 0.0048929</td><td style=\"text-align: right;\">-0.182454  </td><td style=\"text-align: right;\">-0.0724948 </td><td style=\"text-align: right;\">-0.430191 </td><td style=\"text-align: right;\">0.136941 </td><td style=\"text-align: right;\"> 0.0359066</td><td style=\"text-align: right;\"> 0.0375761 </td><td style=\"text-align: right;\"> 0.22227   </td><td style=\"text-align: right;\">-0.114811  </td><td style=\"text-align: right;\">-0.0261045</td><td style=\"text-align: right;\">0.0416546</td><td style=\"text-align: right;\">-0.101627  </td><td style=\"text-align: right;\"> 0.0257707  </td><td style=\"text-align: right;\">-0.240096  </td><td style=\"text-align: right;\">-0.0202792</td><td style=\"text-align: right;\">-0.245704  </td><td style=\"text-align: right;\">-0.21813   </td><td style=\"text-align: right;\"> 0.13183   </td><td style=\"text-align: right;\"> 0.150178  </td><td style=\"text-align: right;\">-0.00812346</td><td style=\"text-align: right;\">-0.193016   </td><td style=\"text-align: right;\"> 0.136822 </td><td style=\"text-align: right;\"> 0.164817  </td><td style=\"text-align: right;\"> 0.229088   </td><td style=\"text-align: right;\"> 0.237445 </td><td style=\"text-align: right;\">-0.154155 </td><td style=\"text-align: right;\">-0.141591  </td><td style=\"text-align: right;\">-0.173627 </td><td style=\"text-align: right;\">-0.0593155 </td><td style=\"text-align: right;\">-0.0366271 </td><td style=\"text-align: right;\"> 0.179974 </td><td style=\"text-align: right;\"> 0.125948 </td><td style=\"text-align: right;\"> 0.0204475 </td><td style=\"text-align: right;\">0.215042  </td><td style=\"text-align: right;\">-0.0830816  </td><td style=\"text-align: right;\">-0.0592562</td><td style=\"text-align: right;\">-0.0342067</td><td style=\"text-align: right;\">-0.0571485</td><td style=\"text-align: right;\">-0.129803  </td><td style=\"text-align: right;\"> 0.272933 </td><td style=\"text-align: right;\"> 0.17534   </td><td style=\"text-align: right;\">-0.073011 </td><td style=\"text-align: right;\">-0.252994  </td><td style=\"text-align: right;\">0.0441229</td><td style=\"text-align: right;\">-0.103448</td><td style=\"text-align: right;\">0.169237</td><td style=\"text-align: right;\"> 0.22024    </td><td style=\"text-align: right;\">-0.198252  </td><td style=\"text-align: right;\">-0.232809 </td><td style=\"text-align: right;\">-0.178669  </td><td style=\"text-align: right;\"> 0.11215  </td><td style=\"text-align: right;\"> 0.151612  </td><td style=\"text-align: right;\">-0.0563096</td><td style=\"text-align: right;\">0.438181</td><td style=\"text-align: right;\">0.0872956</td><td style=\"text-align: right;\">-0.0529145</td><td style=\"text-align: right;\"> 0.12982   </td><td style=\"text-align: right;\"> 0.0328472 </td><td style=\"text-align: right;\"> 0.00295643</td><td style=\"text-align: right;\"> 0.251226  </td><td style=\"text-align: right;\"> 0.0321706 </td><td style=\"text-align: right;\"> 0.227551 </td><td style=\"text-align: right;\"> 0.0398269</td><td style=\"text-align: right;\">0.0467449</td><td style=\"text-align: right;\">-0.149864 </td><td style=\"text-align: right;\">-0.0641409</td><td style=\"text-align: right;\">-0.0850355</td><td style=\"text-align: right;\">-0.0180069</td><td style=\"text-align: right;\">-0.100536 </td><td style=\"text-align: right;\"> 0.111701  </td><td style=\"text-align: right;\">-0.084027 </td><td style=\"text-align: right;\"> 0.193529  </td><td style=\"text-align: right;\"> 0.144951   </td><td style=\"text-align: right;\"> 0.129681 </td><td style=\"text-align: right;\">-0.0602264</td><td style=\"text-align: right;\"> 0.101246 </td></tr>\n",
       "</tbody>\n",
       "</table>"
      ]
     },
     "metadata": {},
     "output_type": "display_data"
    },
    {
     "data": {
      "text/plain": []
     },
     "execution_count": 37,
     "metadata": {},
     "output_type": "execute_result"
    }
   ],
   "source": [
    "review_vecs"
   ]
  },
  {
   "cell_type": "code",
   "execution_count": 38,
   "metadata": {
    "collapsed": true
   },
   "outputs": [],
   "source": [
    "# Add aggregated word embeddings \n",
    "ext_reviews = reviews.cbind(review_vecs)"
   ]
  },
  {
   "cell_type": "code",
   "execution_count": 39,
   "metadata": {
    "collapsed": true
   },
   "outputs": [],
   "source": [
    "ext_train = ext_reviews[ext_reviews[\"Train\"] == \"Yes\"]\n",
    "ext_test = ext_reviews[ext_reviews[\"Train\"] == \"No\"]"
   ]
  },
  {
   "cell_type": "code",
   "execution_count": 40,
   "metadata": {
    "collapsed": false
   },
   "outputs": [
    {
     "name": "stdout",
     "output_type": "stream",
     "text": [
      "gbm Model Build progress: |███████████████████████████████████████████████| 100%\n"
     ]
    }
   ],
   "source": [
    "predictors = predictors + review_vecs.names\n",
    "response = 'PositiveReview'\n",
    "\n",
    "gbm_embeddings = H2OGradientBoostingEstimator(stopping_metric = \"AUC\", stopping_tolerance = 0.001,\n",
    "                                              stopping_rounds = 5, score_tree_interval = 10,\n",
    "                                              model_id = \"gbm_embeddings.hex\"\n",
    "                                             )\n",
    "gbm_embeddings.train(x = predictors, y = response, \n",
    "                   training_frame = ext_train, validation_frame = ext_test\n",
    "                  )"
   ]
  },
  {
   "cell_type": "code",
   "execution_count": 41,
   "metadata": {
    "collapsed": false
   },
   "outputs": [
    {
     "name": "stdout",
     "output_type": "stream",
     "text": [
      "Baseline AUC: 0.616\n",
      "With Embeddings AUC: 0.875\n"
     ]
    }
   ],
   "source": [
    "print(\"Baseline AUC: \" + str(round(gbm_baseline.auc(valid = True), 3)))\n",
    "print(\"With Embeddings AUC: \" + str(round(gbm_embeddings.auc(valid = True), 3)))"
   ]
  },
  {
   "cell_type": "code",
   "execution_count": 42,
   "metadata": {
    "collapsed": false
   },
   "outputs": [
    {
     "name": "stdout",
     "output_type": "stream",
     "text": [
      "Confusion Matrix (Act/Pred) for max f1 @ threshold = 0.5543908018934037: \n"
     ]
    },
    {
     "data": {
      "text/html": [
       "<div style=\"overflow:auto\"><table style=\"width:50%\"><tr><td><b></b></td>\n",
       "<td><b>0</b></td>\n",
       "<td><b>1</b></td>\n",
       "<td><b>Error</b></td>\n",
       "<td><b>Rate</b></td></tr>\n",
       "<tr><td>0</td>\n",
       "<td>1987.0</td>\n",
       "<td>2673.0</td>\n",
       "<td>0.5736</td>\n",
       "<td> (2673.0/4660.0)</td></tr>\n",
       "<tr><td>1</td>\n",
       "<td>621.0</td>\n",
       "<td>14727.0</td>\n",
       "<td>0.0405</td>\n",
       "<td> (621.0/15348.0)</td></tr>\n",
       "<tr><td>Total</td>\n",
       "<td>2608.0</td>\n",
       "<td>17400.0</td>\n",
       "<td>0.1646</td>\n",
       "<td> (3294.0/20008.0)</td></tr></table></div>"
      ],
      "text/plain": [
       "       0     1      Error    Rate\n",
       "-----  ----  -----  -------  ----------------\n",
       "0      1987  2673   0.5736   (2673.0/4660.0)\n",
       "1      621   14727  0.0405   (621.0/15348.0)\n",
       "Total  2608  17400  0.1646   (3294.0/20008.0)"
      ]
     },
     "metadata": {},
     "output_type": "display_data"
    },
    {
     "data": {
      "text/plain": []
     },
     "execution_count": 42,
     "metadata": {},
     "output_type": "execute_result"
    }
   ],
   "source": [
    "gbm_embeddings.confusion_matrix(valid = True)"
   ]
  },
  {
   "cell_type": "code",
   "execution_count": 43,
   "metadata": {
    "collapsed": false,
    "scrolled": true
   },
   "outputs": [
    {
     "data": {
      "image/png": "[encoded data removed]",
      "text/plain": [
       "<matplotlib.figure.Figure at 0x123d60f60>"
      ]
     },
     "metadata": {},
     "output_type": "display_data"
    }
   ],
   "source": [
    "gbm_embeddings.varimp_plot()"
   ]
  },
  {
   "cell_type": "markdown",
   "metadata": {
    "collapsed": true
   },
   "source": [
    "# Step 8 (of 9).  Run AutoML\n",
    "\n",
    "We will use H2O's AutoML to see if we can improve the performance further by exploring the algorithm and parameter space. "
   ]
  },
  {
   "cell_type": "code",
   "execution_count": 44,
   "metadata": {
    "collapsed": false
   },
   "outputs": [
    {
     "name": "stdout",
     "output_type": "stream",
     "text": [
      "AutoML progress: |████████████████████████████████████████████████████████| 100%\n"
     ]
    }
   ],
   "source": [
    "from h2o.automl import H2OAutoML\n",
    "\n",
    "automl = H2OAutoML(project_name = \"positive_reviews\", max_runtime_secs = 180, \n",
    "                   keep_cross_validation_models = False, keep_cross_validation_predictions = False,\n",
    "                   nfolds = 3, exclude_algos = [\"DRF\"], seed = 1234)\n",
    "automl.train(x = predictors, y = response, training_frame = ext_train, leaderboard_frame = ext_test)"
   ]
  },
  {
   "cell_type": "code",
   "execution_count": 45,
   "metadata": {
    "collapsed": false
   },
   "outputs": [
    {
     "data": {
      "text/html": [
       "<table>\n",
       "<thead>\n",
       "<tr><th>model_id                                             </th><th style=\"text-align: right;\">     auc</th><th style=\"text-align: right;\">  logloss</th><th style=\"text-align: right;\">  mean_per_class_error</th><th style=\"text-align: right;\">    rmse</th><th style=\"text-align: right;\">     mse</th></tr>\n",
       "</thead>\n",
       "<tbody>\n",
       "<tr><td>StackedEnsemble_BestOfFamily_0_AutoML_20180719_162806</td><td style=\"text-align: right;\">0.902713</td><td style=\"text-align: right;\"> 0.336732</td><td style=\"text-align: right;\">              0.261179</td><td style=\"text-align: right;\">0.321969</td><td style=\"text-align: right;\">0.103664</td></tr>\n",
       "<tr><td>StackedEnsemble_AllModels_0_AutoML_20180719_162806   </td><td style=\"text-align: right;\">0.902564</td><td style=\"text-align: right;\"> 0.337106</td><td style=\"text-align: right;\">              0.259727</td><td style=\"text-align: right;\">0.322237</td><td style=\"text-align: right;\">0.103836</td></tr>\n",
       "<tr><td>GLM_grid_0_AutoML_20180719_162806_model_0            </td><td style=\"text-align: right;\">0.899477</td><td style=\"text-align: right;\"> 0.326017</td><td style=\"text-align: right;\">              0.249259</td><td style=\"text-align: right;\">0.317999</td><td style=\"text-align: right;\">0.101123</td></tr>\n",
       "<tr><td>GBM_grid_0_AutoML_20180719_162806_model_0            </td><td style=\"text-align: right;\">0.896799</td><td style=\"text-align: right;\"> 0.33353 </td><td style=\"text-align: right;\">              0.263159</td><td style=\"text-align: right;\">0.32328 </td><td style=\"text-align: right;\">0.10451 </td></tr>\n",
       "<tr><td>GBM_grid_0_AutoML_20180719_162806_model_1            </td><td style=\"text-align: right;\">0.884111</td><td style=\"text-align: right;\"> 0.35371 </td><td style=\"text-align: right;\">              0.269535</td><td style=\"text-align: right;\">0.334694</td><td style=\"text-align: right;\">0.11202 </td></tr>\n",
       "</tbody>\n",
       "</table>"
      ]
     },
     "metadata": {},
     "output_type": "display_data"
    },
    {
     "data": {
      "text/plain": []
     },
     "execution_count": 45,
     "metadata": {},
     "output_type": "execute_result"
    }
   ],
   "source": [
    "automl.leaderboard"
   ]
  },
  {
   "cell_type": "markdown",
   "metadata": {},
   "source": [
    "# Step 9 (of 9). Watch AutoML progress (in the H2O Flow Web UI)¶\n",
    "\n",
    "* Go to port 54321\n",
    "* In H2O Flow, go to Admin -> Jobs\n",
    "* Click on the \"Auto Model\" job with the \"positive_reviews\" job name and explore it"
   ]
  },
  {
   "cell_type": "code",
   "execution_count": null,
   "metadata": {
    "collapsed": true
   },
   "outputs": [],
   "source": []
  }
 ],
 "metadata": {
  "kernelspec": {
   "display_name": "Python 3",
   "language": "python",
   "name": "python3"
  },
  "language_info": {
   "codemirror_mode": {
    "name": "ipython",
    "version": 3
   },
   "file_extension": ".py",
   "mimetype": "text/x-python",
   "name": "python",
   "nbconvert_exporter": "python",
   "pygments_lexer": "ipython3",
   "version": "3.6.0"
  }
 },
 "nbformat": 4,
 "nbformat_minor": 2
}
